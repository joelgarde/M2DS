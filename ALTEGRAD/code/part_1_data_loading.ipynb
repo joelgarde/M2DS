{
 "cells": [
  {
   "cell_type": "code",
   "execution_count": 1,
   "metadata": {},
   "outputs": [
    {
     "name": "stderr",
     "output_type": "stream",
     "text": [
      "/home/remjo/.local/lib/python3.7/site-packages/tqdm/autonotebook.py:17: TqdmExperimentalWarning: Using `tqdm.autonotebook.tqdm` in notebook mode. Use `tqdm.tqdm` instead to force console mode (e.g. in jupyter console)\n",
      "  \" (e.g. in jupyter console)\", TqdmExperimentalWarning)\n"
     ]
    }
   ],
   "source": [
    "import pandas as pd\n",
    "import numpy as np\n",
    "import matplotlib.pyplot as plt\n",
    "plt.style.use(\"classic\")\n",
    "import operator\n",
    "import functools\n",
    "import itertools\n",
    "import dataclasses\n",
    "import json\n",
    "import re\n",
    "import collections\n",
    "import pickle\n",
    "import scipy.sparse as sp\n",
    "from tqdm.autonotebook import tqdm"
   ]
  },
  {
   "cell_type": "code",
   "execution_count": 3,
   "metadata": {},
   "outputs": [],
   "source": [
    "@dataclasses.dataclass\n",
    "class ScriptParams():\n",
    "    abstracts_p = \"abstracts.txt\"\n",
    "    stop_words_p = \"stopwords.txt\"\n",
    "    first_pass_p = \"abstracts_p1.txt\"\n",
    "    second_pass_p = \"abstracts_p2.txt\"\n",
    "    author_paper_p = \"author_papers.txt\"\n",
    "    author_paper_pkl = \"author_papers.pkl\"\n",
    "    author_index_pkl = \"author_index.pkl\"\n",
    "    edgelist_p = \"collaboration_network.edgelist.zip\"\n",
    "    adjacency_p = \"adj.txt\"\n",
    "    authors_p = \"authors.txt\""
   ]
  },
  {
   "cell_type": "markdown",
   "metadata": {},
   "source": [
    "# Part 1: Preping data"
   ]
  },
  {
   "cell_type": "markdown",
   "metadata": {},
   "source": [
    "## A: abstracts.txt"
   ]
  },
  {
   "cell_type": "code",
   "execution_count": 3,
   "metadata": {},
   "outputs": [],
   "source": [
    "# I use a manually compiled list of stop words.\n",
    "# Built by observing to most frequent words.\n",
    "stopwords = set(map(str.strip, open(ScriptParams().stop_words_p).readlines()))\n",
    "stem_re = re.compile(\"s$\") #really simple stemming, just removing Ses.\n",
    "def preprocess_wordlist(l):\n",
    "    \"\"\" pre-processing pipeline for each abstract:\n",
    "    - remove duplicates\n",
    "    - lower the words.\n",
    "    - remove stopwords.\n",
    "    - applies a light stemming by removing the last \"s\" if present. (to equate plurals / verbs...)\n",
    "    \"\"\"\n",
    "    remove_final_s = lambda w: w[:-1] if w[-1] == \"s\" else w\n",
    "    return list(set(filter(lambda w: w not in stopwords, map(remove_final_s, map(str.lower, l)))))"
   ]
  },
  {
   "cell_type": "code",
   "execution_count": 4,
   "metadata": {},
   "outputs": [],
   "source": [
    "def read_abstracts():\n",
    "    \"\"\" read trought all abstracts. encode enverything to numpy array to be fast.\n",
    "    returns:\n",
    "    ------\n",
    "    authors: array of all authors\n",
    "    abstracts: array of all words index.\n",
    "    offsets: array of offsets into indexes. indexes[offsets[i], offsets[i+1]] is the ith abstract.\n",
    "    vocabulary: index to word mapping.\n",
    "    frequencies: index to frequency mapping.\n",
    "    \"\"\"\n",
    "\n",
    "    # use all words with more than 3 chars.\n",
    "    # no digits.\n",
    "    # only ascii. (non ascii words are too infrequent to provide usable information.)\n",
    "    # case insensitive.\n",
    "    word_plit_re = re.compile(r\"\\b[a-z]{3,}\\b\", flags = re.A | re.I)\n",
    "\n",
    "    # use a counter to keep track of words frequencies.\n",
    "    frequencies = collections.Counter()\n",
    "    # use a defaultdict to map word -> index.\n",
    "    vocabulary = collections.defaultdict(lambda: len(vocabulary))\n",
    "    offsets = [0]\n",
    "    authors = list()\n",
    "    abstracts = list()\n",
    "    \n",
    "    with open(ScriptParams().abstracts_p) as f:\n",
    "        for i, line in tqdm(enumerate(f)):\n",
    "            author, json_str = line.split(\"----\", 1)\n",
    "            word = preprocess_wordlist(word_plit_re.findall(json_str))\n",
    "            #g.write(str.join(\" \", word)+\"\\n\")\n",
    "            frequencies.update(word)\n",
    "            abstracts.append(np.fromiter((vocabulary[w] for w in set(word)), dtype=np.uint16, count=len(word)))\n",
    "            authors.append(int(author))\n",
    "            offsets.append(len(word))\n",
    "\n",
    "    authors = np.asarray(authors, dtype=np.uint32)\n",
    "    offsets = np.cumsum(np.asarray(offsets, dtype=np.uint32))\n",
    "    vocabulary = np.asarray(list(vocabulary.keys())) # insertion order is preserved so the mapping is still valid.\n",
    "    frequencies = np.asarray(list(frequencies.values())) # same.\n",
    "    abstracts = np.concatenate(abstracts)\n",
    "    out = (authors, abstracts, offsets, vocabulary, frequencies)\n",
    "\n",
    "    np.savez(ScriptParams().first_pass_p, \n",
    "             authors=authors,\n",
    "             abstracts=abstracts,\n",
    "             offsets=offsets,\n",
    "             vocabulary=vocabulary,\n",
    "             frequencies=frequencies)\n",
    "    return out"
   ]
  },
  {
   "cell_type": "code",
   "execution_count": 5,
   "metadata": {},
   "outputs": [],
   "source": [
    "@dataclasses.dataclass\n",
    "class TextData():\n",
    "    \"\"\" a simple class to hold onto the data from the abstracts.\n",
    "    \"\"\"\n",
    "    authors: np.ndarray\n",
    "    abstracts: np.ndarray\n",
    "    offsets: np.ndarray\n",
    "    vocabulary: np.ndarray\n",
    "    frequencies: np.ndarray"
   ]
  },
  {
   "cell_type": "code",
   "execution_count": 30,
   "metadata": {},
   "outputs": [
    {
     "data": {
      "application/vnd.jupyter.widget-view+json": {
       "model_id": "582adc86cb1c4ff396a76a07fd323482",
       "version_major": 2,
       "version_minor": 0
      },
      "text/plain": [
       "HBox(children=(IntProgress(value=1, bar_style='info', max=1), HTML(value='')))"
      ]
     },
     "metadata": {},
     "output_type": "display_data"
    },
    {
     "name": "stdout",
     "output_type": "stream",
     "text": [
      "\n"
     ]
    },
    {
     "data": {
      "text/plain": [
       "(array([      1957,       2468,       3603, ..., 2908511069, 2908517302,\n",
       "        2908518491], dtype=uint32),\n",
       " array([   0,    1,    2, ..., 5782, 2622,   44], dtype=uint16),\n",
       " array([       0,       45,       63, ..., 57497892, 57497970, 57498017],\n",
       "       dtype=uint64),\n",
       " array(['proprietary', 'developing', 'level', ..., 'imau', 'epgd',\n",
       "        'dcrypp'], dtype='<U134'),\n",
       " array([ 27824,   2347, 133359, ...,      1,      1,      1]))"
      ]
     },
     "execution_count": 30,
     "metadata": {},
     "output_type": "execute_result"
    }
   ],
   "source": [
    "# load and save the data computed from abstracts.txt\n",
    "# takes two minute and less than 1G of memory.\n",
    "read_abstracts()"
   ]
  },
  {
   "cell_type": "code",
   "execution_count": 6,
   "metadata": {},
   "outputs": [],
   "source": [
    "#load the previouly computed text data\n",
    "with np.load(ScriptParams().first_pass_p+\".npz\", allow_pickle=True) as data:\n",
    "    abstracts_data = TextData(**data)"
   ]
  },
  {
   "cell_type": "code",
   "execution_count": 7,
   "metadata": {},
   "outputs": [],
   "source": [
    "def decode(i: int, data: TextData):\n",
    "    \"\"\" returns the ith abstracts word array.\n",
    "    \"\"\"\n",
    "    ab, of, vo = data.abstracts, data.offsets, data.vocabulary\n",
    "    sentence = ab[of[i]:of[i+1]]\n",
    "    return vo[sentence]"
   ]
  },
  {
   "cell_type": "code",
   "execution_count": 8,
   "metadata": {},
   "outputs": [
    {
     "data": {
      "text/plain": [
       "array(['apparatuse', 'receiving', 'message', 'position', 'update',\n",
       "       'switched', 'select', 'network', 'communication', 'terminal',\n",
       "       'mobile', 'csfb', 'accesse', 'acces', 'circuit', 'support', 'cell',\n",
       "       'fallback'], dtype='<U134')"
      ]
     },
     "execution_count": 8,
     "metadata": {},
     "output_type": "execute_result"
    }
   ],
   "source": [
    "# check if we can decode correctly the ith abstract.\n",
    "decode(1, abstracts_data)"
   ]
  },
  {
   "cell_type": "code",
   "execution_count": 9,
   "metadata": {},
   "outputs": [
    {
     "data": {
      "image/png": "[encoded data removed]",
      "text/plain": [
       "<Figure size 640x480 with 1 Axes>"
      ]
     },
     "metadata": {},
     "output_type": "display_data"
    }
   ],
   "source": [
    "plt.semilogy(np.sort(abstracts_data.frequencies)[::-1]);\n",
    "plt.title(\"frequency-rank graph. note that most common words are already filtered\");"
   ]
  },
  {
   "cell_type": "markdown",
   "metadata": {},
   "source": [
    "Since we have a lot of low frequency words, we will cut them off to oreduce the vocabulary size and improve future computations."
   ]
  },
  {
   "cell_type": "code",
   "execution_count": 35,
   "metadata": {},
   "outputs": [
    {
     "data": {
      "text/plain": [
       "array(['model', 'compiled', 'application', 'information', 'network',\n",
       "       'performance', 'user', 'algorithm', 'analysi', 'technique', 'set',\n",
       "       'high', 'normal', 'executed', 'number', 'level', 'work', 'order',\n",
       "       'proces', 'circuit'], dtype='<U134')"
      ]
     },
     "execution_count": 35,
     "metadata": {},
     "output_type": "execute_result"
    }
   ],
   "source": [
    "# getting a look a the most frequent words to build a custom blacklist\n",
    "abstracts_data.vocabulary[np.argsort(abstracts_data.frequencies)[::-1][0:20]]"
   ]
  },
  {
   "cell_type": "code",
   "execution_count": 49,
   "metadata": {},
   "outputs": [],
   "source": [
    "def cut_frequencies(data: TextData, cutoff=10):\n",
    "    \"\"\" removes all words where frequencies are lesser or equal to cutoff.\n",
    "    \"\"\"\n",
    "    ab, of, vo, fe = data.abstracts, data.offsets, data.vocabulary, data.frequencies\n",
    "    \n",
    "    # boolean masking.\n",
    "    to_cut = fe<=cutoff\n",
    "    print(f\"cutting {to_cut.sum()} words.\")\n",
    "    \n",
    "    # remove unecessary words.\n",
    "    new_vo = vo[~to_cut]\n",
    "    new_fe = fe[~to_cut]\n",
    "    \n",
    "    # mask over words that should be deleted\n",
    "    ab_mask = to_cut[ab]\n",
    "    # mapping to the new vocabulary indices\n",
    "    new_voc_map = np.cumsum(~to_cut) - 1\n",
    "    \n",
    "    # remove unecessary words and map to new index.\n",
    "    new_ab = new_voc_map[ab[~ab_mask]]\n",
    "    \n",
    "    # mapping to the new offests\n",
    "    lens = np.cumsum(~ab_mask) - 1\n",
    "    # first 0 offest is zero, ith is the number of valid word befor the previous offset\n",
    "    # last is the lenght of the new abstracts.\n",
    "    new_of = np.zeros_like(of)\n",
    "    new_of[0:-1] = lens[of[0:-1]]\n",
    "    new_data = TextData(vocabulary=new_vo,\n",
    "                        frequencies=new_fe,\n",
    "                        abstracts=new_ab,\n",
    "                        offsets=new_of,\n",
    "                        authors=data.authors)\n",
    "    new_of[-1] = len(new_ab)\n",
    "    \n",
    "    \n",
    "    \n",
    "    np.savez(ScriptParams().second_pass_p, **dataclasses.asdict(new_data))\n",
    "    return new_data"
   ]
  },
  {
   "cell_type": "code",
   "execution_count": 50,
   "metadata": {},
   "outputs": [
    {
     "name": "stdout",
     "output_type": "stream",
     "text": [
      "cutting 481157 words.\n"
     ]
    }
   ],
   "source": [
    "abstracts_data_2 = cut_frequencies(abstracts_data, 10)"
   ]
  },
  {
   "cell_type": "code",
   "execution_count": 65,
   "metadata": {},
   "outputs": [
    {
     "ename": "NameError",
     "evalue": "name 'abstracts_data' is not defined",
     "output_type": "error",
     "traceback": [
      "\u001b[0;31m---------------------------------------------------------------------------\u001b[0m",
      "\u001b[0;31mNameError\u001b[0m                                 Traceback (most recent call last)",
      "\u001b[0;32m<ipython-input-65-af1e59bf762d>\u001b[0m in \u001b[0;36m<module>\u001b[0;34m\u001b[0m\n\u001b[1;32m      1\u001b[0m \u001b[0;31m# conserve RAM\u001b[0m\u001b[0;34m\u001b[0m\u001b[0;34m\u001b[0m\u001b[0;34m\u001b[0m\u001b[0m\n\u001b[0;32m----> 2\u001b[0;31m \u001b[0;32mdel\u001b[0m \u001b[0mabstracts_data\u001b[0m\u001b[0;34m\u001b[0m\u001b[0;34m\u001b[0m\u001b[0m\n\u001b[0m",
      "\u001b[0;31mNameError\u001b[0m: name 'abstracts_data' is not defined"
     ]
    }
   ],
   "source": [
    "# conserve RAM\n",
    "del abstracts_data"
   ]
  },
  {
   "cell_type": "code",
   "execution_count": 66,
   "metadata": {},
   "outputs": [
    {
     "data": {
      "image/png": "[encoded data removed]",
      "text/plain": [
       "<Figure size 1440x480 with 2 Axes>"
      ]
     },
     "metadata": {},
     "output_type": "display_data"
    }
   ],
   "source": [
    "fig, (ax1, ax2) = plt.subplots(1, 2, figsize=(18, 6))\n",
    "ax1.semilogy(np.sort(abstracts_data_2.frequencies)[::-1],);\n",
    "ax1.set_title(\"frequency-rank graph.\");\n",
    "ax2.hist(np.diff(abstracts_data_2.offsets), bins=100);\n",
    "ax2.set_title(\"abstract lenghts\");"
   ]
  },
  {
   "cell_type": "markdown",
   "metadata": {},
   "source": [
    "## B: author_papers.txt"
   ]
  },
  {
   "cell_type": "code",
   "execution_count": 4,
   "metadata": {},
   "outputs": [],
   "source": [
    "def read_author_paper():\n",
    "    \"\"\" load the author to papers mapping\n",
    "    \"\"\"\n",
    "    number_split_re = re.compile(r\"\\d+\")\n",
    "    author_paper = dict()\n",
    "    with open(ScriptParams().author_paper_p) as f:\n",
    "        for line in f:\n",
    "            numbers = list(map(int, number_split_re.findall(line)))\n",
    "            author_paper[numbers[0]] = np.asarray(numbers[1:])\n",
    "    with open(ScriptParams().author_paper_pkl, 'wb') as f:\n",
    "        pickle.dump(author_paper, f)\n",
    "    return author_paper"
   ]
  },
  {
   "cell_type": "code",
   "execution_count": 5,
   "metadata": {},
   "outputs": [],
   "source": [
    "author_paper = read_author_paper()"
   ]
  },
  {
   "cell_type": "code",
   "execution_count": 183,
   "metadata": {},
   "outputs": [
    {
     "data": {
      "text/plain": [
       "(1743871, 1056539)"
      ]
     },
     "execution_count": 183,
     "metadata": {},
     "output_type": "execute_result"
    }
   ],
   "source": [
    "# nota: there quite a few papers listed in author_papers\n",
    "# that are not in abstracts.txt.\n",
    "sum(map(len, author_paper.values())), len(abstracts_data_2.authors)"
   ]
  },
  {
   "cell_type": "markdown",
   "metadata": {},
   "source": [
    "##  C: collaborationnetwork.edgelist"
   ]
  },
  {
   "cell_type": "code",
   "execution_count": 5,
   "metadata": {},
   "outputs": [],
   "source": [
    "@dataclasses.dataclass\n",
    "class GraphData():\n",
    "    \"\"\" a simple class to hold onto the data from the edgelist.\n",
    "    \"\"\"\n",
    "    authors: np.ndarray\n",
    "    A: np.ndarray"
   ]
  },
  {
   "cell_type": "code",
   "execution_count": 246,
   "metadata": {},
   "outputs": [],
   "source": [
    "def read_edgelist():\n",
    "    \"\"\" read the edge list.\n",
    "    returns:\n",
    "    -----\n",
    "    A: adjacency matrix\n",
    "    authors: index -> author mapping. It is the authors in sorted order.\n",
    "    \"\"\"\n",
    "    print(\"reading edgelist..\")\n",
    "    edges = pd.read_csv(ScriptParams().edgelist_p,  sep=\" \", header=None, dtype=np.uint32).to_numpy()\n",
    "    \n",
    "    print(\"building adjacency..\")\n",
    "    authors, E = np.unique(edges, return_inverse=True)\n",
    "    # built the matrix symetric.\n",
    "    E = E.reshape((-1, 2))\n",
    "    filler = np.ones(2 * len(edges), dtype=np.bool)\n",
    "    row = np.r_[E[:,0], E[:,1]]# A-> B edges\n",
    "    col = np.r_[E[:,1], E[:,0]] # B -> A edges\n",
    "    A = sp.csr_matrix((filler, (row, col)), shape=(len(authors), len(authors)))\n",
    "    \n",
    "    data = GraphData(authors=authors, A=A)\n",
    "    sp.save_npz(ScriptParams().adjacency_p, A)\n",
    "    np.savez(ScriptParams().authors_p, authors)\n",
    "    \n",
    "    author_index = dict(zip(authors, range(len(authors))))\n",
    "    with open(ScriptParams().author_index_pkl, 'wb') as f:\n",
    "        pickle.dump(author_paper, f)\n",
    "        \n",
    "    return A, authors,"
   ]
  },
  {
   "cell_type": "code",
   "execution_count": 247,
   "metadata": {},
   "outputs": [
    {
     "name": "stdout",
     "output_type": "stream",
     "text": [
      "reading edgelist..\n",
      "building adjacency..\n"
     ]
    }
   ],
   "source": [
    "read_edgelist();"
   ]
  },
  {
   "cell_type": "code",
   "execution_count": 6,
   "metadata": {},
   "outputs": [],
   "source": [
    "#load the previouly computed graph data\n",
    "A = sp.load_npz(ScriptParams().adjacency_p + \".npz\")\n",
    "authors = np.load(ScriptParams().authors_p + \".npz\")[\"arr_0\"]\n",
    "graph_data = GraphData(A=A, authors = authors)\n",
    "with open(ScriptParams().author_index_pkl, \"rb\") as f:\n",
    "    author_index = pickle.load(f)"
   ]
  },
  {
   "cell_type": "code",
   "execution_count": 251,
   "metadata": {},
   "outputs": [
    {
     "data": {
      "text/plain": [
       "True"
      ]
     },
     "execution_count": 251,
     "metadata": {},
     "output_type": "execute_result"
    }
   ],
   "source": [
    "# check: we do have all the authors in author_paper also in our graph.\n",
    "# and both are sorted by the author value, making it easy to map between the two.\n",
    "all(graph_data.authors == np.asarray(list(author_paper.keys())))"
   ]
  }
 ],
 "metadata": {
  "kernelspec": {
   "display_name": "Python 3",
   "language": "python",
   "name": "python3"
  },
  "language_info": {
   "codemirror_mode": {
    "name": "ipython",
    "version": 3
   },
   "file_extension": ".py",
   "mimetype": "text/x-python",
   "name": "python",
   "nbconvert_exporter": "python",
   "pygments_lexer": "ipython3",
   "version": "3.7.3"
  }
 },
 "nbformat": 4,
 "nbformat_minor": 4
}
