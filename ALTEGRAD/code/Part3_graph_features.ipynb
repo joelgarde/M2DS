{
 "cells": [
  {
   "cell_type": "markdown",
   "metadata": {},
   "source": [
    "# Part3: graph features. \n",
    "\n",
    "In this part we exploit the abstract embeddings to build features for the graph."
   ]
  },
  {
   "cell_type": "code",
   "execution_count": 1,
   "metadata": {},
   "outputs": [
    {
     "name": "stderr",
     "output_type": "stream",
     "text": [
      "/home/remjo/.local/lib/python3.7/site-packages/tqdm/autonotebook.py:17: TqdmExperimentalWarning: Using `tqdm.autonotebook.tqdm` in notebook mode. Use `tqdm.tqdm` instead to force console mode (e.g. in jupyter console)\n",
      "  \" (e.g. in jupyter console)\", TqdmExperimentalWarning)\n"
     ]
    }
   ],
   "source": [
    "import pandas as pd\n",
    "import numpy as np\n",
    "import matplotlib.pyplot as plt\n",
    "plt.style.use(\"classic\")\n",
    "import operator\n",
    "import functools\n",
    "import itertools\n",
    "import dataclasses\n",
    "import collections\n",
    "import pickle\n",
    "import scipy.sparse as sp\n",
    "from tqdm.autonotebook import tqdm"
   ]
  },
  {
   "cell_type": "code",
   "execution_count": 9,
   "metadata": {},
   "outputs": [],
   "source": [
    "@dataclasses.dataclass\n",
    "class ScriptParams():\n",
    "    embed_p = \"abstract_embeddings.npy\" #saved abstract embedding path.\n",
    "    stop_words_p = \"stopwords.txt\"\n",
    "    first_pass_p = \"abstracts_p1.txt\"\n",
    "    second_pass_p = \"abstracts_p2.txt\"\n",
    "    author_paper_pkl = \"author_papers.pkl\"\n",
    "    author_index_pkl = \"author_index.pkl\"\n",
    "    second_pass_p = \"abstracts_p2.txt\"\n",
    "    adjacency_p = \"adj.txt\"\n",
    "    authors_p = \"authors.txt\"\n",
    "    author_emb_p = \"authors_emb.txt\""
   ]
  },
  {
   "cell_type": "code",
   "execution_count": 58,
   "metadata": {},
   "outputs": [],
   "source": [
    "def abstract_to_author():\n",
    "  \"\"\" \n",
    "  build author features from abstracts freatures.\n",
    "  simply by summing them.\n",
    "  returns:\n",
    "  -----\n",
    "  abstract features: array: author_idx to its embedding obtained by summing its paper embeddings.\n",
    "  n_papers: array: author_idx to its number of published papers.\n",
    "  \"\"\"\n",
    "  with open(ScriptParams().author_paper_pkl, \"rb\") as f:\n",
    "    author_papers = pickle.load(f)\n",
    "  print(\"author_paper loaded.\")\n",
    "  \n",
    "  abstracts_embeddings = np.load(ScriptParams().embed_p)\n",
    "  n_h = abstracts_embeddings.shape[1]\n",
    "  abstracts_embeddings = np.concatenate([abstracts_embeddings,np.zeros((1,n_h))], axis=0) # adding zeros at the end: trick to handle missing values.\n",
    "  print(\"abstract_embedding loaded.\")  \n",
    "  \n",
    "  # load the previouly computed text data\n",
    "  with np.load(ScriptParams().second_pass_p+\".npz\", allow_pickle=True) as data:\n",
    "    index_paper = data[\"authors\"]\n",
    "  print(\"index_author loaded.\")\n",
    "  \n",
    "  # map abstract_id to indices, and missing values to -1; -1 will be the column of zeros\n",
    "  mapping = collections.defaultdict(lambda :-1, zip(index_paper, range(len(index_paper))))\n",
    "  to_idx = np.vectorize(mapping.__getitem__)\n",
    "  offsets = np.cumsum(list(map(len, author_papers.values()))) #\n",
    "  idxs = to_idx(np.concatenate(list(author_papers.values()))) # compute the mapping on all papers\n",
    "  new_vals = np.array(list(map(functools.partial(np.sum, axis=0), np.split(abstracts_embeddings[idxs], offsets[:-1])))) # split back to each author and sums its papers embeddings.\n",
    "  return new_vals, np.diff(offsets, prepend=0)"
   ]
  },
  {
   "cell_type": "code",
   "execution_count": 59,
   "metadata": {},
   "outputs": [
    {
     "name": "stdout",
     "output_type": "stream",
     "text": [
      "author_paper loaded.\n",
      "abstract_embedding loaded.\n",
      "index_author loaded.\n",
      "(231239,)\n",
      "231239\n",
      "231239\n"
     ]
    }
   ],
   "source": [
    "author_embs, authors_npapers = abstract_to_author()"
   ]
  },
  {
   "cell_type": "code",
   "execution_count": 66,
   "metadata": {},
   "outputs": [],
   "source": [
    "np.savez(ScriptParams().author_emb_p, author_embs = author_embs, author_npaper = authors_npapers)"
   ]
  }
 ],
 "metadata": {
  "kernelspec": {
   "display_name": "Python 3",
   "language": "python",
   "name": "python3"
  },
  "language_info": {
   "codemirror_mode": {
    "name": "ipython",
    "version": 3
   },
   "file_extension": ".py",
   "mimetype": "text/x-python",
   "name": "python",
   "nbconvert_exporter": "python",
   "pygments_lexer": "ipython3",
   "version": "3.7.3"
  }
 },
 "nbformat": 4,
 "nbformat_minor": 4
}
