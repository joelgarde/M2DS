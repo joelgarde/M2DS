{
 "cells": [
  {
   "cell_type": "code",
   "execution_count": 1,
   "metadata": {
    "_cell_guid": "b1076dfc-b9ad-4769-8c92-a6c4dae69d19",
    "_uuid": "8f2839f25d086af736a60e9eeb907d3b93b6e0e5"
   },
   "outputs": [],
   "source": [
    "import pandas as pd\n",
    "import numpy as np\n",
    "import torch\n",
    "from torch import nn\n",
    "import operator\n",
    "import functools\n",
    "import scipy.sparse as sp\n",
    "import itertools\n",
    "import tqdm.autonotebook as tqdm\n",
    "import matplotlib.pyplot as plt\n",
    "plt.style.use(\"classic\")\n",
    "device = torch.device(\"cuda\" if torch.cuda.is_available() else \"cpu\")"
   ]
  },
  {
   "cell_type": "code",
   "execution_count": 317,
   "metadata": {},
   "outputs": [],
   "source": [
    "class ScriptParams():\n",
    "    authors_p = \"../input/graph-data/authors.txt.npz\"\n",
    "    train_p = \"../input/graph-data/train.csv\"\n",
    "    test_p = '../input/graph-data/test.csv/test.csv'\n",
    "    adj_p = \"../input/graph-data/adj.txt.npz\"\n",
    "    author_emb_p = \"../input/graph-data/authors_emb.txt.npz\""
   ]
  },
  {
   "cell_type": "code",
   "execution_count": 2,
   "metadata": {},
   "outputs": [],
   "source": [
    "def make_df():\n",
    "    \"\"\"\n",
    "    builds the training and testing dataframes.\n",
    "    \"\"\"\n",
    "    authors = np.load(ScriptParams.authors_p)[\"arr_0\"]\n",
    "    df_train = pd.read_csv(ScriptParams.train_p, dtype={'authorID': np.int64, 'h_index': np.int32})\n",
    "    df_test = pd.read_csv(ScriptParams.test_p dtype={'authorID': np.int64})\n",
    "    author_to_index = dict(zip(authors, range(len(authors))))\n",
    "    \n",
    "    for df in (df_train, df_test):\n",
    "        df[\"idx\"] = df[\"authorID\"].map(author_to_index)\n",
    "    h_index = np.zeros_like(authors, dtype=np.int32)\n",
    "    h_index[df_train[\"idx\"]] = df_train[\"h_index\"]\n",
    "    return df_train, df_test, h_index\n",
    "\n",
    "def normalize(A: sp.csr_matrix, use_self_loops=True, L=1.0):\n",
    "    \"\"\" normalize the adjacency matrix.\n",
    "    params:\n",
    "    ------\n",
    "    use_self_loops:\n",
    "        add self-loops to the value of lambda (L).\n",
    "        L can be tuned as a regularization hyper-parameter.\n",
    "    L: self-loop value. Unused if use_self_loops is False.\n",
    "    \"\"\"\n",
    "    \n",
    "    if use_self_loops:\n",
    "        A.setdiag(L)\n",
    "    \n",
    "    D = A.sum(axis=0).A1\n",
    "    D = np.power(D, -0.5)\n",
    "    D = sp.diags((D),0, format=\"csr\")\n",
    "    return D.dot(A).dot(D)\n",
    "\n",
    "def sparse_to_torch_sparse(M):\n",
    "    \"\"\"Converts a sparse SciPy matrix to a sparse PyTorch tensor\n",
    "    (taken from the TPs)\"\"\"\n",
    "    M = M.tocoo().astype(np.float32)\n",
    "    indices = torch.from_numpy(np.vstack((M.row, M.col)).astype(np.int64))\n",
    "    values = torch.from_numpy(M.data)\n",
    "    shape = torch.Size(M.shape)\n",
    "    return torch.sparse.FloatTensor(indices, values, shape)"
   ]
  },
  {
   "cell_type": "code",
   "execution_count": 52,
   "metadata": {},
   "outputs": [],
   "source": [
    "class MessagePassing(nn.Module):\n",
    "    \"\"\" A \"message passing layer\" as in https://arxiv.org/pdf/1609.02907.pdf\n",
    "    \"\"\"\n",
    "    \n",
    "    def __init__(self, A, in_features, out_features):\n",
    "        \"\"\"\n",
    "        paramters:\n",
    "        n_in: input features dim\n",
    "        n_h: hidden features dim\n",
    "        A: normalized adj.\n",
    "        \"\"\"\n",
    "        super(MessagePassing, self).__init__()\n",
    "        self.in_features = in_features\n",
    "        self.out_features = out_features\n",
    "        self.weight = nn.Parameter(torch.Tensor(in_features, out_features))\n",
    "        self.bias = nn.Parameter(torch.Tensor(out_features))\n",
    "        self.A = A\n",
    "        self._build()\n",
    "     \n",
    "    def _build(self):\n",
    "        gain = nn.init.calculate_gain(\"relu\")\n",
    "        bound = self.in_features**(-0.5)\n",
    "        nn.init.xavier_normal_(self.weight)\n",
    "        nn.init.uniform_(self.bias, a=-bound, b=bound)\n",
    "\n",
    "    \n",
    "    def forward(self, x):\n",
    "        x = torch.mm(x, self.weight)\n",
    "        x = torch.addmm(self.bias, self.A, x)\n",
    "        return x\n",
    "    \n",
    "    \n",
    "    def extra_repr(self) -> str:\n",
    "        return 'in_features={}, out_features={}, bias={}'.format(\n",
    "            self.in_features, self.out_features, self.bias is not None\n",
    "        )\n",
    "\n",
    "    \n",
    "class Model():\n",
    "    \"\"\"\n",
    "    a wrapper around a model and an optimizer to perform training, used for the GCN.\n",
    "    feeds all the inputs at each step.\n",
    "    \"\"\"\n",
    "    def __init__(self, model, optimizer, loss, x, target, indices, val_percent):\n",
    "        self.model = model.to(device)\n",
    "        self.loss = loss\n",
    "        self.optimizer = optimizer\n",
    "        self.target = target.to(device)\n",
    "        self.x = x\n",
    "        self.saves = list()\n",
    "        self.saves.append(model.state_dict())\n",
    "        val_mask = torch.rand(indices.shape).to(device) < val_percent\n",
    "        self.train_idx = indices[~val_mask].to(torch.long).to(device)\n",
    "        self.val_idx = indices[val_mask].to(torch.long).to(device)\n",
    "        self.hist = []\n",
    "        self.lr_hist = []\n",
    "        self.scheduler = None\n",
    "    \n",
    "    def lr_find(self):\n",
    "        mul_lr = lambda epoch: 1.5\n",
    "        self.scheduler = torch.optim.lr_scheduler.MultiplicativeLR(optimizer=self.optimizer, lr_lambda=mul_lr)\n",
    "        \n",
    "    \n",
    "    def train_step(self, ret_cpu = False,):\n",
    "        self.optimizer.zero_grad(set_to_none=True)\n",
    "        output = self.model(self.x)\n",
    "        output = output.reshape((-1, ))\n",
    "        loss = self.loss(output[self.train_idx], self.target[self.train_idx])\n",
    "        loss.backward()\n",
    "        self.optimizer.step()\n",
    "        if ret_cpu:\n",
    "            val_loss = self.loss(output[self.val_idx], self.target[self.val_idx])\n",
    "            #val_l1 = nn.L1Loss()(output[self.val_idx], self.target[self.val_idx])\n",
    "            return loss.detach().cpu().numpy(), val_loss.detach().cpu().numpy(), None#val_l1.detach().cpu().numpy()\n",
    "        else:\n",
    "            return None, None\n",
    "        \n",
    "    def fit(self, n, u=50, verbose=True):\n",
    "        #self.scheduler = torch.optim.lr_scheduler.OneCycleLR(self.optimizer, 1.0, total_steps=n, steps_per_epoch=u)\n",
    "        iter_range = tqdm.trange(n)\n",
    "        for i in iter_range:\n",
    "            loss, val_loss, val_l1= self.train_step(ret_cpu=True)\n",
    "            iter_range.set_postfix_str(f\"train:{loss:<8.2f}val:{val_loss:<8.2f}\", refresh=False)\n",
    "            self.hist.append((loss, val_loss))\n",
    "        return self\n",
    "    \n",
    "\n",
    "class SimpleModel():\n",
    "    \"\"\"\n",
    "    a wrapper around a model and an optimizer to perform training, used for the FCN.\n",
    "    only uses then inputs for which we have a target.\n",
    "    \"\"\"\n",
    "    def __init__(self, model, optimizer, loss, x, target, indices, val_percent):\n",
    "        self.model = model.to(device)\n",
    "        self.loss = loss\n",
    "        self.optimizer = optimizer\n",
    "        self.target = target.to(device)\n",
    "        self.x = x\n",
    "        self.saves = list()\n",
    "        self.saves.append(model.state_dict())\n",
    "        val_mask = torch.rand(indices.shape).to(device) < val_percent\n",
    "        self.train_idx = indices[~val_mask].to(torch.long).to(device)\n",
    "        self.val_idx = indices[val_mask].to(torch.long).to(device)\n",
    "        self.x_train = self.x[self.train_idx]\n",
    "        self.x_val = self.x[self.val_idx]\n",
    "        self.y_train = self.target[self.train_idx]\n",
    "        self.y_val = self.target[self.val_idx]\n",
    "        self.hist = []\n",
    "        self.lr_hist = []\n",
    "        self.scheduler = None\n",
    "\n",
    "    def lr_find(self):\n",
    "        mul_lr = lambda epoch: 1.5\n",
    "        self.scheduler = torch.optim.lr_scheduler.MultiplicativeLR(optimizer=self.optimizer, lr_lambda=mul_lr)\n",
    "\n",
    "\n",
    "    def train_step(self):\n",
    "        self.optimizer.zero_grad(set_to_none=True)\n",
    "        output = self.model(self.x_train)\n",
    "        output = output.reshape((-1, ))\n",
    "        loss = self.loss(output, self.y_train)\n",
    "        loss.backward()\n",
    "        self.optimizer.step()\n",
    "        with torch.no_grad():\n",
    "            val_output = self.model(self.x_val)\n",
    "            val_output = val_output.reshape((-1, ))\n",
    "            val_loss = self.loss(val_output, self.y_val)\n",
    "\n",
    "            return loss.detach().cpu().item(), val_loss.detach().cpu().item()\n",
    "\n",
    "    def fit(self, n, u=50, verbose=True):\n",
    "        iter_range = tqdm.trange(n)\n",
    "        for i in iter_range:\n",
    "            loss, val_loss= self.train_step()\n",
    "            iter_range.set_postfix_str(f\"train:{loss:<8.2f}val:{val_loss:<8.2f}\", refresh=False)\n",
    "            self.hist.append((loss, val_loss))\n",
    "        return self"
   ]
  },
  {
   "cell_type": "code",
   "execution_count": 53,
   "metadata": {},
   "outputs": [],
   "source": [
    "df_train, df_test, y_ = make_df()"
   ]
  },
  {
   "cell_type": "code",
   "execution_count": 318,
   "metadata": {},
   "outputs": [],
   "source": [
    "def make_features(use_embeddings=False):\n",
    "    \"\"\" Builds the simple nodes features: ones, degree, and number_of_papers.\n",
    "    \"\"\"\n",
    "    A = sp.load_npz(ScriptParams.adj_p).astype(np.int)\n",
    "    ones = np.ones(A.shape[1])\n",
    "    degree = A @ ones\n",
    "    degree2 = A @ degree\n",
    "    number_of_papers = np.load(ScriptParams.author_emb_p)[\"author_npaper\"]\n",
    "    if use_embeddings:\n",
    "        embs = np.load(ScriptParams.author_emb_p)[\"author_embs\"]\n",
    "        return np.concatenate((degree[...,np.newaxis], number_of_papers[...,np.newaxis], embs), axis=1).astype(np.float32)\n",
    "    else:\n",
    "        return np.stack((ones, degree, number_of_papers), axis=1).astype(np.float32)"
   ]
  },
  {
   "cell_type": "code",
   "execution_count": 239,
   "metadata": {},
   "outputs": [],
   "source": [
    "#load the normalized adjacency\n",
    "B = sparse_to_torch_sparse(normalize(sp.load_npz(ScriptParams.adj_p), use_self_loops=True, L=0.1)).to(device)"
   ]
  },
  {
   "cell_type": "code",
   "execution_count": 240,
   "metadata": {},
   "outputs": [],
   "source": [
    "#load the features\n",
    "x = torch.from_numpy(make_features(use_embeddings=False)).to(device)\n",
    "y = torch.from_numpy(y_).to(torch.float).to(device)\n",
    "indices = torch.from_numpy(df_train[\"idx\"].to_numpy()).to(device)"
   ]
  },
  {
   "cell_type": "code",
   "execution_count": 241,
   "metadata": {},
   "outputs": [],
   "source": [
    "# input (idxs, off) to an embeding layer to use learnt embeddings as features.\n",
    "#off = torch.from_numpy(A.indptr[:-1]).to(torch.long).to(device)\n",
    "#idxs= torch.from_numpy(A.indices).to(torch.long).to(device)"
   ]
  },
  {
   "cell_type": "code",
   "execution_count": 242,
   "metadata": {},
   "outputs": [],
   "source": [
    "#load text features\n",
    "embs = torch.from_numpy(np.load(ScriptParams.author_emb_p)[\"author_embs\"]).to(torch.float).to(device)"
   ]
  },
  {
   "cell_type": "code",
   "execution_count": 243,
   "metadata": {},
   "outputs": [],
   "source": [
    "#smooth-out text-features.\n",
    "K = 4\n",
    "for _ in range(K):\n",
    "    embs = B @ embs"
   ]
  },
  {
   "cell_type": "code",
   "execution_count": 244,
   "metadata": {},
   "outputs": [],
   "source": [
    "x = torch.cat((x, embs), axis=1)"
   ]
  },
  {
   "cell_type": "code",
   "execution_count": 245,
   "metadata": {},
   "outputs": [],
   "source": [
    "class WrappedBag(nn.Module):\n",
    "    def __init__(self, *args, **argp):\n",
    "        super(WrappedBag, self).__init__()\n",
    "        self.eb = nn.EmbeddingBag(*args, **argp)\n",
    "    \n",
    "    def forward(self, x):\n",
    "        return self.eb(*x)\n",
    "    "
   ]
  },
  {
   "cell_type": "code",
   "execution_count": 284,
   "metadata": {},
   "outputs": [],
   "source": [
    "n_h = 128\n",
    "layers = [ # GNC\n",
    "    MessagePassing(B, x.shape[1], n_h),\n",
    "    nn.ReLU(),\n",
    "    MessagePassing(B, n_h, n_h),\n",
    "    nn.ReLU(),\n",
    "    MessagePassing(B, n_h, 1),\n",
    "    ]\n",
    "\n",
    "if True:\n",
    "\n",
    "    layers = [ #FCN\n",
    "        nn.Linear(x.shape[1], n_h),\n",
    "        nn.ReLU(),\n",
    "        nn.Linear(n_h, 1)\n",
    "    ]\n",
    "\n",
    "gcn = nn.Sequential(*layers).to(device)\n",
    "loss = nn.L1Loss()\n",
    "#loss = nn.CrossEntropyLoss(reduction=\"mean\")\n",
    "optimizer = torch.optim.Adam(gcn.parameters(), lr=0.01, weight_decay=0.008)\n",
    "torch.manual_seed(0);\n",
    "trainer = SimpleModel(gcn, optimizer, loss, x, y.to(torch.long), indices, .1)"
   ]
  },
  {
   "cell_type": "code",
   "execution_count": 285,
   "metadata": {},
   "outputs": [],
   "source": [
    "trainer.optimizer.param_groups[0][\"lr\"] = 0.01"
   ]
  },
  {
   "cell_type": "code",
   "execution_count": 286,
   "metadata": {},
   "outputs": [
    {
     "data": {
      "application/vnd.jupyter.widget-view+json": {
       "model_id": "93b23087ffc249d287f56a5b0f4d80d8",
       "version_major": 2,
       "version_minor": 0
      },
      "text/plain": [
       "  0%|          | 0/500 [00:00<?, ?it/s]"
      ]
     },
     "metadata": {},
     "output_type": "display_data"
    },
    {
     "data": {
      "text/plain": [
       "[<matplotlib.lines.Line2D at 0x7f1b04cbd610>,\n",
       " <matplotlib.lines.Line2D at 0x7f1b04ca5810>]"
      ]
     },
     "execution_count": 286,
     "metadata": {},
     "output_type": "execute_result"
    },
    {
     "data": {
      "image/png": "[encoded data removed]",
      "text/plain": [
       "<Figure size 640x480 with 1 Axes>"
      ]
     },
     "metadata": {},
     "output_type": "display_data"
    }
   ],
   "source": [
    "trainer.fit(500, )\n",
    "plt.plot(trainer.hist[3:])"
   ]
  },
  {
   "cell_type": "code",
   "execution_count": 305,
   "metadata": {},
   "outputs": [],
   "source": [
    "def make_pred(x, df):\n",
    "    \"\"\"\n",
    "    makes predictions for the h-index using the features x\n",
    "    \"\"\"\n",
    "    features = x[df[\"idx\"]]\n",
    "    with torch.no_grad():\n",
    "        out = np.rint(trainer.model(features).cpu().numpy())\n",
    "    df[\"h_index_pred\"] = out\n",
    "    return df"
   ]
  },
  {
   "cell_type": "code",
   "execution_count": 306,
   "metadata": {},
   "outputs": [],
   "source": [
    "preds = make_pred(x, df_test)"
   ]
  },
  {
   "cell_type": "code",
   "execution_count": 313,
   "metadata": {},
   "outputs": [],
   "source": [
    "preds[[\"authorID\",\"h_index_pred\"]].to_csv(\"preds.csv\", index=False)"
   ]
  },
  {
   "cell_type": "code",
   "execution_count": null,
   "metadata": {},
   "outputs": [],
   "source": []
  }
 ],
 "metadata": {
  "kernelspec": {
   "display_name": "Python 3",
   "language": "python",
   "name": "python3"
  },
  "language_info": {
   "codemirror_mode": {
    "name": "ipython",
    "version": 3
   },
   "file_extension": ".py",
   "mimetype": "text/x-python",
   "name": "python",
   "nbconvert_exporter": "python",
   "pygments_lexer": "ipython3",
   "version": "3.7.3"
  }
 },
 "nbformat": 4,
 "nbformat_minor": 4
}
