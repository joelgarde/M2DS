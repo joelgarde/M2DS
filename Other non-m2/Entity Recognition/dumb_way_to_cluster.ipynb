{
 "cells": [
  {
   "cell_type": "markdown",
   "metadata": {
    "id": "IE0V5jprOu4r"
   },
   "source": [
    "# Dumb way to cluster\n",
    "\n",
    "Entity recognition (ER) unsupervised and without domain knowledge."
   ]
  },
  {
   "cell_type": "markdown",
   "metadata": {
    "id": "_1Eq-zi9Svtc"
   },
   "source": [
    "# MAGICS: please run all\n",
    "imports and setup.\n",
    "\n",
    "You need to replace in their cell:\n",
    "* work_p, the main directory\n",
    "* data_p the name of the data tar archive inside the main directory.\n",
    "* label_p, the name of the labelled file inside the main directory.\n",
    "folder need to be setup this way:\n",
    "* work_p\n",
    "  * label_p (the labelled file)\n",
    "  * data_p (the raw data file)\n",
    "\n",
    "\n",
    "DAta can be downloaded from:\n",
    "\n",
    "http://di2kg.inf.uniroma3.it/2020/#challenge-downloads\n",
    "\n",
    "It is:\n",
    "* Round 1 Dataset XMONITOR\n",
    "* Round 1 Dataset YERMONITOR\n",
    "\n",
    "the dataset YERMONITOR may have to be resave to csv file manually. \n",
    "\n"
   ]
  },
  {
   "cell_type": "code",
   "execution_count": null,
   "metadata": {
    "id": "t8iuPxYqTZnz"
   },
   "outputs": [],
   "source": [
    "from  pathlib import *\n",
    "import pandas as pd\n",
    "import tarfile\n",
    "import numpy as np\n",
    "import pickle"
   ]
  },
  {
   "cell_type": "code",
   "execution_count": null,
   "metadata": {
    "id": "5kzetnZo5uRn"
   },
   "outputs": [],
   "source": [
    "from functools import reduce, partial"
   ]
  },
  {
   "cell_type": "code",
   "execution_count": null,
   "metadata": {
    "id": "gqMBk03ZRyls"
   },
   "outputs": [],
   "source": [
    "#name of the labeled data from the challenge\n",
    "label_p=Path(\"monitor_entity_resolution_labelled_data_v2_05_26_2020.csv\")\n",
    "#name of the dataset from the challenge in the tar archive. \n",
    "data_p=Path(\"2013_monitor_specs.tar.gz\")"
   ]
  },
  {
   "cell_type": "code",
   "execution_count": null,
   "metadata": {
    "colab": {
     "base_uri": "https://localhost:8080/",
     "height": 129
    },
    "id": "t_qdknnCCg51",
    "outputId": "d181816f-db66-4660-b9c3-5241bd7d1117"
   },
   "outputs": [
    {
     "name": "stdout",
     "output_type": "stream",
     "text": [
      "Go to this URL in a browser: https://accounts.google.com/o/oauth2/auth?client_id=947318989803-6bn6qk8qdgf4n4g3pfee6491hc0brc4i.apps.googleusercontent.com&redirect_uri=urn%3aietf%3awg%3aoauth%3a2.0%3aoob&response_type=code&scope=email%20https%3a%2f%2fwww.googleapis.com%2fauth%2fdocs.test%20https%3a%2f%2fwww.googleapis.com%2fauth%2fdrive%20https%3a%2f%2fwww.googleapis.com%2fauth%2fdrive.photos.readonly%20https%3a%2f%2fwww.googleapis.com%2fauth%2fpeopleapi.readonly\n",
      "\n",
      "Enter your authorization code:\n",
      "··········\n",
      "Mounted at drive\n"
     ]
    }
   ],
   "source": [
    "# I am google colab and the data is in my drive.\n",
    "from google.colab import drive\n",
    "drive.mount('drive')"
   ]
  },
  {
   "cell_type": "code",
   "execution_count": null,
   "metadata": {
    "id": "c39c_OWJTc3L"
   },
   "outputs": [],
   "source": [
    "work_p=\"drive/My Drive/ER\"\n",
    "work = Path(work_p)\n",
    "work.mkdir(exist_ok=True)"
   ]
  },
  {
   "cell_type": "markdown",
   "metadata": {
    "id": "KU8G0EuNTXbT"
   },
   "source": [
    "# SETUP\n"
   ]
  },
  {
   "cell_type": "markdown",
   "metadata": {
    "id": "oJfnURqOzapP"
   },
   "source": [
    "## Importing the json data"
   ]
  },
  {
   "cell_type": "code",
   "execution_count": null,
   "metadata": {
    "id": "HvnuqamEpHfI"
   },
   "outputs": [],
   "source": [
    "import json"
   ]
  },
  {
   "cell_type": "code",
   "execution_count": null,
   "metadata": {
    "id": "eV7EYe9CWdMf"
   },
   "outputs": [],
   "source": [
    "# load the jsons dataset. It load it as dictionnary into jdic.\n",
    "#nota: it jdic is {sourcewebsite:[list of items dictionnaries]}\n",
    "#nota: id is used to map index to website//number.\n",
    "\n",
    "def load_jsons(path):\n",
    "  jdic = {}\n",
    "  curf = None #current folder name\n",
    "  id = []\n",
    "  folders = [] # to keep track of the names of the sub-folders. Not used currently. \n",
    "  pd_data = []\n",
    "  with  tarfile.open(path,\"r\") as tar: \n",
    "    for member in tar.getmembers():\n",
    "      if member.isfile():\n",
    "        f = tar.extractfile(member.name)\n",
    "        jdic[curf].append(json.load(f))\n",
    "        id.append(member.name)\n",
    "      elif member.isdir():\n",
    "        print(member.name)\n",
    "        curf=member.name\n",
    "        if member.name != \"2013_monitor_specs\": jdic[member.name]=[]\n",
    "        folders.append(member.name)\n",
    "  return jdic, id"
   ]
  },
  {
   "cell_type": "code",
   "execution_count": null,
   "metadata": {
    "colab": {
     "base_uri": "https://localhost:8080/",
     "height": 513
    },
    "id": "wnIU-jWgGVzJ",
    "outputId": "18ad6f54-73de-46e2-a8b9-7c4542558e49"
   },
   "outputs": [
    {
     "name": "stdout",
     "output_type": "stream",
     "text": [
      "2013_monitor_specs\n",
      "2013_monitor_specs/ca.pcpartpicker.com\n",
      "2013_monitor_specs/catalog.com\n",
      "2013_monitor_specs/ce.yikus.com\n",
      "2013_monitor_specs/www.best-deal-items.com\n",
      "2013_monitor_specs/www.cleverboxes.com\n",
      "2013_monitor_specs/www.ebay.com\n",
      "2013_monitor_specs/www.getprice.com.au\n",
      "2013_monitor_specs/www.hardware-planet.it\n",
      "2013_monitor_specs/www.imldirect.it\n",
      "2013_monitor_specs/www.itenergy.co.uk\n",
      "2013_monitor_specs/www.jrlinton.co.uk\n",
      "2013_monitor_specs/www.kingsfieldcomputers.co.uk\n",
      "2013_monitor_specs/www.makingbuyingeasy.co.uk\n",
      "2013_monitor_specs/www.mediashopuk.com\n",
      "2013_monitor_specs/www.mrhightech.com\n",
      "2013_monitor_specs/www.nexus-t.co.uk\n",
      "2013_monitor_specs/www.odsi.co.uk\n",
      "2013_monitor_specs/www.officedepot.com\n",
      "2013_monitor_specs/www.ohc24.ch\n",
      "2013_monitor_specs/www.pc-canada.com\n",
      "2013_monitor_specs/www.pcconnection.com\n",
      "2013_monitor_specs/www.planet-computer.it\n",
      "2013_monitor_specs/www.shopmania.com\n",
      "2013_monitor_specs/www.softwarecity.ca\n",
      "2013_monitor_specs/www.vology.com\n",
      "2013_monitor_specs/www.xpcpro.com\n"
     ]
    }
   ],
   "source": [
    "#we load all the jsons as dictionnary in memory.\n",
    "#as well as id, which lists the names (ebay//123 ...)\n",
    "jdic, id = load_jsons(work/data_p)"
   ]
  },
  {
   "cell_type": "code",
   "execution_count": null,
   "metadata": {
    "id": "ZQOBG9PiSZ0V"
   },
   "outputs": [],
   "source": [
    "text = [\" \".join(str(field) for dic in source for field in dic.values()) for source in jdic.values()]"
   ]
  },
  {
   "cell_type": "code",
   "execution_count": null,
   "metadata": {
    "id": "Z5G1dT26S57l"
   },
   "outputs": [],
   "source": [
    "sources = [(k,len(v)) for k,v in jdic.items()]"
   ]
  },
  {
   "cell_type": "code",
   "execution_count": null,
   "metadata": {
    "id": "qYEHjLYMTIxw"
   },
   "outputs": [],
   "source": [
    "sources\n",
    "ssize = np.array(u[1] for u in sources)"
   ]
  },
  {
   "cell_type": "code",
   "execution_count": null,
   "metadata": {
    "id": "X6dWZIH0VILB"
   },
   "outputs": [],
   "source": [
    "from sklearn.feature_extraction.text import CountVectorizer\n",
    "for source in jdic.values():\n",
    "  pass"
   ]
  },
  {
   "cell_type": "markdown",
   "metadata": {
    "id": "1CaOlkrJAr6v"
   },
   "source": [
    "## cleaning the data per-source\n",
    "\n",
    "Even if the above note proposes a way to do without cleaning, I propose to tidy a bit by:\n",
    "\n",
    "* removing source specific words in the title attribute (since it is the columns sharded by all sources)\n",
    "* remove attribute where the value does not changes."
   ]
  },
  {
   "cell_type": "code",
   "execution_count": null,
   "metadata": {
    "id": "YGmTcHK1JXSU"
   },
   "outputs": [],
   "source": [
    "#returns a list of the words that appears too much in a source title.\n",
    "#note that this cleaning is done on all sources at once.\n",
    "def bad_words2(jdic, threshold=0.5):\n",
    "  #return all ngrams that are present more in, more that threshold% title of a source.\n",
    "  from sklearn.feature_extraction.text import CountVectorizer\n",
    "\n",
    "  #we only do the cleaning in the title column\n",
    "  titles_doc = [\" \".join(d[\"<page title>\"] for d in source ) for source in jdic.values()]\n",
    "  sourcevectorizer = CountVectorizer(ngram_range=(1,5),min_df=30)\n",
    "  source_counts = sourcevectorizer.fit_transform(titles_doc)\n",
    "  source_size = np.array([len(d) for d in jdic.values()])\n",
    "  source_freq = source_counts / source_size[:,np.newaxis]\n",
    "  bad_indices = (source_freq>threshold).any(axis=0) #get the indices of words that have a too high frequency  \n",
    "  tock=np.array(sourcevectorizer.get_feature_names()) \n",
    "  bad = tock[bad_indices.flat]\n",
    "  return bad\n",
    "\n",
    "\n",
    "def bad_words(jdic, threshold=0.5):\n",
    "\n",
    "  #return all ngrams that are present more in, more that threshold% title of a source.\n",
    "  from sklearn.feature_extraction.text import CountVectorizer\n",
    "\n",
    "  #we only do the cleaning in the title column\n",
    "  titles_doc = [\" \".join(d[\"<page title>\"] for d in source ) for source in jdic.values()]\n",
    "\n",
    "  sourcevectorizer = CountVectorizer(ngram_range=(1,10),)\n",
    "  source_counts = sourcevectorizer.fit_transform(titles_doc) # get the matrix source / word count\n",
    "  source_size = np.array([len(d) for d in jdic.values()])\n",
    "  source_freq = source_counts / source_size[:,np.newaxis] #divide by size to get frequency\n",
    "  bad_indices = (source_freq>threshold).any(axis=0) #get the indices of words that have a too high frequency \n",
    "  tock=np.array(sourcevectorizer.get_feature_names()) #get the words from the indices\n",
    "  bad = tock[bad_indices.flat]\n",
    "  return bad"
   ]
  },
  {
   "cell_type": "code",
   "execution_count": null,
   "metadata": {
    "id": "kLnz2sQyKC7C"
   },
   "outputs": [],
   "source": [
    "import re\n",
    "def to_re(substrings):\n",
    "  #return a compiled re to match the substrings in strings\n",
    "  #array is sorted to match the longest substring first.\n",
    "  return re.compile(rf\"\\b({'|'.join(sorted(substrings, key=len,reverse=True))})\\b\")"
   ]
  },
  {
   "cell_type": "code",
   "execution_count": null,
   "metadata": {
    "id": "SB-lL5WucUeS"
   },
   "outputs": [],
   "source": [
    "#get the list of dictionnary from the dictionnay of source. \n",
    "import operator\n",
    "flatten = lambda v: reduce(operator.concat, v)\n",
    "dicts = flatten(jdic.values())"
   ]
  },
  {
   "cell_type": "code",
   "execution_count": null,
   "metadata": {
    "id": "dc2EOE9rISHq"
   },
   "outputs": [],
   "source": [
    "#get the words that are too much present if the title, build corresponding RE to filter them\n",
    "bad = bad_words(jdic, threshold=0.8)\n",
    "blacklist_re=to_re(bad)"
   ]
  },
  {
   "cell_type": "code",
   "execution_count": null,
   "metadata": {
    "colab": {
     "base_uri": "https://localhost:8080/",
     "height": 1000
    },
    "id": "LUp14ZGWrW0O",
    "outputId": "38e78d3d-22a2-4ed2-c56f-1d02cb2cebd9"
   },
   "outputs": [
    {
     "data": {
      "text/plain": [
       "array(['000', '16', 'and', 'and details', 'and details catalog',\n",
       "       'and details catalog com', 'asus', 'at', 'at pc',\n",
       "       'at pc connection', 'at pc connection buy', 'auctions',\n",
       "       'auctions free', 'auctions free shipping',\n",
       "       'auctions free shipping goods',\n",
       "       'auctions free shipping goods services',\n",
       "       'auctions free shipping goods services wholesales',\n",
       "       'auctions free shipping goods services wholesales retail',\n",
       "       'auctions free shipping goods services wholesales retail trade',\n",
       "       'australia', 'best', 'best deal', 'best deal items',\n",
       "       'best deal items auctions', 'best deal items auctions free',\n",
       "       'best deal items auctions free shipping',\n",
       "       'best deal items auctions free shipping goods',\n",
       "       'best deal items auctions free shipping goods services',\n",
       "       'best deal items auctions free shipping goods services wholesales',\n",
       "       'best deal items auctions free shipping goods services wholesales retail',\n",
       "       'black', 'buy', 'by', 'by office', 'by office depot', 'ca',\n",
       "       'ca canada', 'canada', 'canada com', 'catalog', 'catalog com',\n",
       "       'cleverboxes', 'colchester', 'colchester essex', 'com', 'compare',\n",
       "       'compare prices', 'compare prices for', 'compare prices save',\n",
       "       'compare prices save shopping', 'compare prices save shopping in',\n",
       "       'compare prices save shopping in australia', 'computer',\n",
       "       'computer it', 'computer products', 'computer products ltd',\n",
       "       'connection', 'connection buy', 'deal', 'deal items',\n",
       "       'deal items auctions', 'deal items auctions free',\n",
       "       'deal items auctions free shipping',\n",
       "       'deal items auctions free shipping goods',\n",
       "       'deal items auctions free shipping goods services',\n",
       "       'deal items auctions free shipping goods services wholesales',\n",
       "       'deal items auctions free shipping goods services wholesales retail',\n",
       "       'deal items auctions free shipping goods services wholesales retail trade',\n",
       "       'depot', 'details', 'details catalog', 'details catalog com',\n",
       "       'direct', 'direct italy', 'display', 'ebay', 'ebay items',\n",
       "       'ebay items best', 'ebay items best deal',\n",
       "       'ebay items best deal items',\n",
       "       'ebay items best deal items auctions',\n",
       "       'ebay items best deal items auctions free',\n",
       "       'ebay items best deal items auctions free shipping',\n",
       "       'ebay items best deal items auctions free shipping goods',\n",
       "       'ebay items best deal items auctions free shipping goods services',\n",
       "       'essex', 'for', 'free', 'free shipping', 'free shipping goods',\n",
       "       'free shipping goods services',\n",
       "       'free shipping goods services wholesales',\n",
       "       'free shipping goods services wholesales retail',\n",
       "       'free shipping goods services wholesales retail trade', 'goods',\n",
       "       'goods services', 'goods services wholesales',\n",
       "       'goods services wholesales retail',\n",
       "       'goods services wholesales retail trade', 'help', 'iml',\n",
       "       'iml direct', 'iml direct italy', 'in', 'in australia', 'inch',\n",
       "       'it', 'italy', 'items', 'items auctions', 'items auctions free',\n",
       "       'items auctions free shipping',\n",
       "       'items auctions free shipping goods',\n",
       "       'items auctions free shipping goods services',\n",
       "       'items auctions free shipping goods services wholesales',\n",
       "       'items auctions free shipping goods services wholesales retail',\n",
       "       'items auctions free shipping goods services wholesales retail trade',\n",
       "       'items best', 'items best deal', 'items best deal items',\n",
       "       'items best deal items auctions',\n",
       "       'items best deal items auctions free',\n",
       "       'items best deal items auctions free shipping',\n",
       "       'items best deal items auctions free shipping goods',\n",
       "       'items best deal items auctions free shipping goods services',\n",
       "       'items best deal items auctions free shipping goods services wholesales',\n",
       "       'itenergy', 'itenergy ltd', 'jr', 'jr linton', 'kingsfield',\n",
       "       'kingsfield computer', 'kingsfield computer products',\n",
       "       'kingsfield computer products ltd', 'lcd', 'lcd monitor',\n",
       "       'lcd monitor iml', 'lcd monitor iml direct',\n",
       "       'lcd monitor iml direct italy', 'lcd monitor itenergy',\n",
       "       'lcd monitor itenergy ltd', 'lcd monitor jr',\n",
       "       'lcd monitor jr linton', 'lcd monitor kingsfield',\n",
       "       'lcd monitor kingsfield computer',\n",
       "       'lcd monitor kingsfield computer products',\n",
       "       'lcd monitor kingsfield computer products ltd', 'led', 'led lcd',\n",
       "       'linton', 'ltd', 'mbe', 'mediashopuk', 'monitor', 'monitor iml',\n",
       "       'monitor iml direct', 'monitor iml direct italy',\n",
       "       'monitor itenergy', 'monitor itenergy ltd', 'monitor jr',\n",
       "       'monitor jr linton', 'monitor kingsfield',\n",
       "       'monitor kingsfield computer',\n",
       "       'monitor kingsfield computer products',\n",
       "       'monitor kingsfield computer products ltd', 'monitor led',\n",
       "       'monitor monitor', 'monitor monitor search',\n",
       "       'monitor monitor search help', 'monitor pc', 'monitor pc canada',\n",
       "       'monitor pc canada com', 'monitor search', 'monitor search help',\n",
       "       'monitors', 'monitors monitors', 'monitors monitors nexus',\n",
       "       'monitors monitors nexus technology',\n",
       "       'monitors monitors nexus technology uk',\n",
       "       'monitors monitors nexus technology uk colchester',\n",
       "       'monitors monitors nexus technology uk colchester essex',\n",
       "       'monitors nexus', 'monitors nexus technology',\n",
       "       'monitors nexus technology uk',\n",
       "       'monitors nexus technology uk colchester',\n",
       "       'monitors nexus technology uk colchester essex', 'mrhightech',\n",
       "       'mrhightech shop', 'ms', 'nexus', 'nexus technology',\n",
       "       'nexus technology uk', 'nexus technology uk colchester',\n",
       "       'nexus technology uk colchester essex', 'office', 'office depot',\n",
       "       'ohc24', 'ohc24 shop', 'ohc24 shop monitor',\n",
       "       'ohc24 shop monitor monitor', 'ohc24 shop monitor monitor search',\n",
       "       'ohc24 shop monitor monitor search help', 'pc', 'pc canada',\n",
       "       'pc canada com', 'pc connection', 'pc connection buy',\n",
       "       'pcpartpicker', 'pcpartpicker canada', 'planet', 'planet computer',\n",
       "       'planet computer it', 'prices', 'prices for', 'prices save',\n",
       "       'prices save shopping', 'prices save shopping in',\n",
       "       'prices save shopping in australia', 'pricing', 'pricing and',\n",
       "       'pricing and details', 'pricing and details catalog',\n",
       "       'pricing and details catalog com', 'products', 'products ltd',\n",
       "       'retail', 'retail trade', 'reviews', 'reviews shopmania',\n",
       "       'reviews shopmania compare', 'reviews shopmania compare prices',\n",
       "       'reviews shopmania compare prices for', 'save', 'save shopping',\n",
       "       'save shopping in', 'save shopping in australia', 'search',\n",
       "       'search help', 'services', 'services wholesales',\n",
       "       'services wholesales retail', 'services wholesales retail trade',\n",
       "       'shipping', 'shipping goods', 'shipping goods services',\n",
       "       'shipping goods services wholesales',\n",
       "       'shipping goods services wholesales retail',\n",
       "       'shipping goods services wholesales retail trade', 'shop',\n",
       "       'shop monitor', 'shop monitor monitor',\n",
       "       'shop monitor monitor search', 'shop monitor monitor search help',\n",
       "       'shopmania', 'shopmania compare', 'shopmania compare prices',\n",
       "       'shopmania compare prices for', 'shopping', 'shopping in',\n",
       "       'shopping in australia', 'softwarecity', 'softwarecity ca',\n",
       "       'softwarecity ca canada', 'technology', 'technology uk',\n",
       "       'technology uk colchester', 'technology uk colchester essex',\n",
       "       'today', 'today at', 'today at pc', 'today at pc connection',\n",
       "       'today at pc connection buy', 'trade', 'uk', 'uk colchester',\n",
       "       'uk colchester essex', 'uk ebay', 'uk ebay items',\n",
       "       'uk ebay items best', 'uk ebay items best deal',\n",
       "       'uk ebay items best deal items',\n",
       "       'uk ebay items best deal items auctions',\n",
       "       'uk ebay items best deal items auctions free',\n",
       "       'uk ebay items best deal items auctions free shipping',\n",
       "       'uk ebay items best deal items auctions free shipping goods',\n",
       "       'vga', 'vology', 'wholesales', 'wholesales retail',\n",
       "       'wholesales retail trade', 'xpcpro', 'xpcpro com', 'yikus',\n",
       "       'yikus com'], dtype='<U96')"
      ]
     },
     "execution_count": 91,
     "metadata": {
      "tags": []
     },
     "output_type": "execute_result"
    }
   ],
   "source": [
    "bad"
   ]
  },
  {
   "cell_type": "code",
   "execution_count": null,
   "metadata": {
    "colab": {
     "base_uri": "https://localhost:8080/",
     "height": 35
    },
    "id": "mU8fdfIQrruh",
    "outputId": "a49ab98b-d8b0-4bca-bd95-91416b25531a"
   },
   "outputs": [
    {
     "data": {
      "text/plain": [
       "False"
      ]
     },
     "execution_count": 92,
     "metadata": {
      "tags": []
     },
     "output_type": "execute_result"
    }
   ],
   "source": [
    "\"philips\" in bad"
   ]
  },
  {
   "cell_type": "code",
   "execution_count": null,
   "metadata": {
    "id": "Vhfi-_uZSEJm"
   },
   "outputs": [],
   "source": [
    "from sklearn.feature_extraction.text import CountVectorizer"
   ]
  },
  {
   "cell_type": "code",
   "execution_count": null,
   "metadata": {
    "id": "a8XUp4YLVUiM"
   },
   "outputs": [],
   "source": [
    "from sklearn.linear_model import Lasso"
   ]
  },
  {
   "cell_type": "code",
   "execution_count": null,
   "metadata": {
    "id": "UHLQfB37mNSi"
   },
   "outputs": [],
   "source": [
    "text = np.array([blacklist_re.sub('',d[\"<page title>\"].lower()) for d in dicts])"
   ]
  },
  {
   "cell_type": "code",
   "execution_count": null,
   "metadata": {
    "colab": {
     "base_uri": "https://localhost:8080/",
     "height": 109
    },
    "id": "PomtZONksPwa",
    "outputId": "584497f3-4de2-4e85-c457-79137cced5a6"
   },
   "outputs": [
    {
     "data": {
      "text/plain": [
       "array(['acer v173 djobd 75hz 17.0\"  (um.bv3aa.d02) - ',\n",
       "       'aoc e2260swdn-taa 60hz 22.0\"  (e2260swdn-taa) - ',\n",
       "       'benq pg2401pt 60hz 24.1\"  (pg2401pt) - ',\n",
       "       'nec p232w-bk-sv 23.0\"  (p232w-bk-sv) - ',\n",
       "       'acer um.hb6aa.001 60hz 27.0\"  (um.hb6aa.001) - '], dtype='<U381')"
      ]
     },
     "execution_count": 97,
     "metadata": {
      "tags": []
     },
     "output_type": "execute_result"
    }
   ],
   "source": [
    "#build the list of texts..\n",
    "text[:5]"
   ]
  },
  {
   "cell_type": "markdown",
   "metadata": {
    "id": "1yVCNczssU8M"
   },
   "source": [
    "Seems like I forge some preprocessing (deleting \"(\", \"-\")..\n",
    "Nota: I forgot to do it because it is automatically done as part of the CountVectorizer routine."
   ]
  },
  {
   "cell_type": "code",
   "execution_count": null,
   "metadata": {
    "id": "73r9j7P1SRJf"
   },
   "outputs": [],
   "source": [
    "#we build a tuple / word occurence matrix\n",
    "cvz = CountVectorizer(binary=True, min_df=0.01, dtype=np.float)\n",
    "X = cvz.fit_transform(text)"
   ]
  },
  {
   "cell_type": "code",
   "execution_count": null,
   "metadata": {
    "colab": {
     "base_uri": "https://localhost:8080/",
     "height": 72
    },
    "id": "ap6ZEq3BTpN5",
    "outputId": "87e66de9-ce8e-4cee-b94c-e5fb87c87758"
   },
   "outputs": [
    {
     "data": {
      "text/plain": [
       "Lasso(alpha=0.001, copy_X=True, fit_intercept=False, max_iter=1000,\n",
       "      normalize=False, positive=False, precompute=False, random_state=None,\n",
       "      selection='cyclic', tol=0.0001, warm_start=False)"
      ]
     },
     "execution_count": 222,
     "metadata": {
      "tags": []
     },
     "output_type": "execute_result"
    }
   ],
   "source": [
    "#and fit a lasso model on it. \n",
    "#alpha is choosen as the minimal value for which all the wheights are still positive.\n",
    "model = Lasso(alpha=1e-3,fit_intercept=False)\n",
    "model.fit(X.astype(np.float), np.ones(X.shape[0]))"
   ]
  },
  {
   "cell_type": "code",
   "execution_count": null,
   "metadata": {
    "id": "EW2GvtH9Vd-i"
   },
   "outputs": [],
   "source": [
    "#get the weights and the indice / words array\n",
    "w = model.coef_\n",
    "words = np.array(cvz.get_feature_names())"
   ]
  },
  {
   "cell_type": "code",
   "execution_count": null,
   "metadata": {
    "id": "720zh4HTlp61"
   },
   "outputs": [],
   "source": [
    "from typing import *"
   ]
  },
  {
   "cell_type": "code",
   "execution_count": null,
   "metadata": {
    "id": "OFhJ7ZiFlLuu"
   },
   "outputs": [],
   "source": [
    "#get back an index for a word\n",
    "wti = {w:i for i,w in enumerate(words)}\n",
    "def s(w:Union[int, str]): #get the selection vector for a string or int\n",
    "  u = np.zeros(len(words),dtype=bool)\n",
    "  i = w if w is int else wti[w]\n",
    "  u[i] = True\n",
    "  return u"
   ]
  },
  {
   "cell_type": "code",
   "execution_count": null,
   "metadata": {
    "colab": {
     "base_uri": "https://localhost:8080/",
     "height": 253
    },
    "id": "q4zrd0phSlb5",
    "outputId": "cc5ffc09-4425-4bd6-e3af-42fb02c7c574"
   },
   "outputs": [
    {
     "data": {
      "image/png": "[encoded data removed]",
      "text/plain": [
       "<Figure size 2016x288 with 1 Axes>"
      ]
     },
     "metadata": {
      "needs_background": "light",
      "tags": []
     },
     "output_type": "display_data"
    }
   ],
   "source": [
    "def plotw(w):\n",
    "  import matplotlib.pyplot as plt\n",
    "  plt.figure(figsize=(28,4))\n",
    "  plt.plot(w,\".-\",linewidth=0.2)\n",
    "  tp=[(i,wi,words[i]) for i,wi in enumerate(w) if wi>0.5]\n",
    "  tp=[plt.text(*u) for u in tp]\n",
    "  plt.title(\"brands as the mains components of the alpha regularized least squares\")\n",
    "  plt.show()\n",
    "plotw(w)"
   ]
  },
  {
   "cell_type": "code",
   "execution_count": null,
   "metadata": {
    "id": "Vo1hz4be4Gc1"
   },
   "outputs": [],
   "source": [
    "U = []\n",
    "for i,wi in enumerate(w):\n",
    "  if wi > 0.5:\n",
    "    u = np.zeros(len(words)).reshape((len(words)), 1)\n",
    "    u[i] = 1\n",
    "    U.append(u)\n",
    "U = np.hstack(U)"
   ]
  },
  {
   "cell_type": "code",
   "execution_count": null,
   "metadata": {
    "id": "4faJhruo4j3s"
   },
   "outputs": [],
   "source": [
    "#indices of selected tuples per word.\n",
    "Selected = X@U"
   ]
  },
  {
   "cell_type": "code",
   "execution_count": null,
   "metadata": {
    "colab": {
     "base_uri": "https://localhost:8080/",
     "height": 35
    },
    "id": "BqYtu_DZ652e",
    "outputId": "1569f1c9-9900-4c69-bf3c-0edc2365c0c5"
   },
   "outputs": [
    {
     "data": {
      "text/plain": [
       "(16662, 16)"
      ]
     },
     "execution_count": 229,
     "metadata": {
      "tags": []
     },
     "output_type": "execute_result"
    }
   ],
   "source": [
    "Selected.shape"
   ]
  },
  {
   "cell_type": "code",
   "execution_count": null,
   "metadata": {
    "colab": {
     "base_uri": "https://localhost:8080/",
     "height": 54
    },
    "id": "5YXAVj5P49sA",
    "outputId": "d9db676f-9fdf-4793-bc63-d0cb1f08195f"
   },
   "outputs": [
    {
     "data": {
      "text/plain": [
       "<1316x108 sparse matrix of type '<class 'numpy.float64'>'\n",
       "\twith 4868 stored elements in Compressed Sparse Row format>"
      ]
     },
     "execution_count": 230,
     "metadata": {
      "tags": []
     },
     "output_type": "execute_result"
    }
   ],
   "source": [
    "#les tuples correspondant à la première marque. \n",
    "X[Selected[:,0].astype(bool)]"
   ]
  },
  {
   "cell_type": "code",
   "execution_count": null,
   "metadata": {
    "id": "mkkteinq6-6J"
   },
   "outputs": [],
   "source": []
  },
  {
   "cell_type": "code",
   "execution_count": null,
   "metadata": {
    "colab": {
     "base_uri": "https://localhost:8080/",
     "height": 287
    },
    "id": "IpECBGqm6JX8",
    "outputId": "8832c6ac-1d00-487a-86b0-05f3d7b6cca4"
   },
   "outputs": [
    {
     "data": {
      "text/plain": [
       "<matplotlib.image.AxesImage at 0x7f41a486c860>"
      ]
     },
     "execution_count": 231,
     "metadata": {
      "tags": []
     },
     "output_type": "execute_result"
    },
    {
     "data": {
      "image/png": "[encoded data removed]",
      "text/plain": [
       "<Figure size 432x288 with 1 Axes>"
      ]
     },
     "metadata": {
      "needs_background": "light",
      "tags": []
     },
     "output_type": "display_data"
    }
   ],
   "source": [
    "plt.imshow(Selected,aspect=\"auto\")"
   ]
  },
  {
   "cell_type": "markdown",
   "metadata": {
    "id": "OEmvMQRTbvVR"
   },
   "source": [
    "Explanation of this:\n",
    "I suppose that items hierachy can be represented as a tree, for instance:\n",
    "\n",
    "\n",
    "1.   First level: Brands\n",
    "2.   Second level: Model line\n",
    "3.   Third level: model number\n",
    "4.   ...\n",
    "\n",
    "I also suppose that each and every items should belong to one and only one brand. Therefore, the first level tockens (brands) should form a family with maximum reach over all items, and minimum overlap. \n",
    "\n",
    "If we form the matrix of tockens counts $X$, the problems becomes finding the columns $[C_b]$ of this matrix that added together will form a column of ones, representing that all items are selected. \n",
    "\n",
    "I can form this problem as a alpha linear regression: $W.X = 1$. The norm2 penalty will tend to make the result close to 1, that is all items are selected, and will penalise overlapp, since it will make coefficients bigger that 1. and the alpha penalty will tend to limit the number of columns selected, since ideally the number of level 1 tockens (brands) sould be small compared to the number of tockens. \n",
    "\n",
    "Ideally, we would want only boolean coefficient, indicating if the columns is selected or not. For practical reasons, to fit in the lasso implementation that is not the case. However, we make sure that the coefficient are all positive, indicating that we are \"selecting\" the column. Negative coefficients should not be allowed.\n",
    "\n",
    "The coefs are positive, our model makes sens."
   ]
  },
  {
   "cell_type": "code",
   "execution_count": null,
   "metadata": {
    "id": "cPlnZtY_krxA"
   },
   "outputs": [],
   "source": [
    "#one weird thing here is the \"00\". Let's see what is is."
   ]
  },
  {
   "cell_type": "code",
   "execution_count": null,
   "metadata": {
    "id": "4SXeXpxYlEvc"
   },
   "outputs": [],
   "source": [
    "OO_tuples = text[(X@s(\"00\")).astype(bool)]"
   ]
  },
  {
   "cell_type": "markdown",
   "metadata": {
    "id": "lcWpY72EmuOk"
   },
   "source": [
    "apparently is is a conflation between \"planar\", and \"philips\", because philips appears to have been sadly deleted from the vocabulary. "
   ]
  },
  {
   "cell_type": "markdown",
   "metadata": {
    "id": "LN1PxQaJm_NZ"
   },
   "source": [
    "## Attempt using Least Squares with bounds on 0<= x <= 1"
   ]
  },
  {
   "cell_type": "code",
   "execution_count": null,
   "metadata": {
    "id": "_elV37EhmZdj"
   },
   "outputs": [],
   "source": [
    "from scipy.optimize import lsq_linear\n",
    "out = lsq_linear(X, np.ones(X.shape[0]),bounds=(0, 1))"
   ]
  },
  {
   "cell_type": "code",
   "execution_count": null,
   "metadata": {
    "colab": {
     "base_uri": "https://localhost:8080/",
     "height": 253
    },
    "id": "F-F2z8GwoBeB",
    "outputId": "d71f15f4-0331-4c21-e135-df0d734defee"
   },
   "outputs": [
    {
     "data": {
      "image/png": "[encoded data removed]",
      "text/plain": [
       "<Figure size 2016x288 with 1 Axes>"
      ]
     },
     "metadata": {
      "needs_background": "light",
      "tags": []
     },
     "output_type": "display_data"
    }
   ],
   "source": [
    "plotw(out.x)"
   ]
  },
  {
   "cell_type": "markdown",
   "metadata": {
    "id": "R3x2Wb45oo9Q"
   },
   "source": [
    "as expected, seems to be pretty similar to the alpha selection. \n",
    "Even better, no need to try to fix the alpha ratio. \n",
    "(Although it has selectionned a few too many to my tast: \"projector\", \"video\"..)"
   ]
  },
  {
   "cell_type": "markdown",
   "metadata": {
    "id": "d15m1ImPoxoG"
   },
   "source": [
    "## Attemps using least square with posiivity constraint."
   ]
  },
  {
   "cell_type": "code",
   "execution_count": null,
   "metadata": {
    "colab": {
     "base_uri": "https://localhost:8080/",
     "height": 319
    },
    "id": "Zga7qb-MoRsR",
    "outputId": "89d11fc1-d00e-4cbe-9b86-825d0636a723"
   },
   "outputs": [
    {
     "ename": "KeyboardInterrupt",
     "evalue": "ignored",
     "output_type": "error",
     "traceback": [
      "\u001b[0;31m---------------------------------------------------------------------------\u001b[0m",
      "\u001b[0;31mKeyboardInterrupt\u001b[0m                         Traceback (most recent call last)",
      "\u001b[0;32m<ipython-input-120-ccc9776f3c23>\u001b[0m in \u001b[0;36m<module>\u001b[0;34m()\u001b[0m\n\u001b[1;32m      1\u001b[0m \u001b[0;32mfrom\u001b[0m \u001b[0mscipy\u001b[0m\u001b[0;34m.\u001b[0m\u001b[0moptimize\u001b[0m \u001b[0;32mimport\u001b[0m \u001b[0mnnls\u001b[0m\u001b[0;34m\u001b[0m\u001b[0;34m\u001b[0m\u001b[0m\n\u001b[0;32m----> 2\u001b[0;31m \u001b[0mout\u001b[0m \u001b[0;34m=\u001b[0m \u001b[0mnnls\u001b[0m\u001b[0;34m(\u001b[0m\u001b[0mX\u001b[0m\u001b[0;34m.\u001b[0m\u001b[0mtoarray\u001b[0m\u001b[0;34m(\u001b[0m\u001b[0;34m)\u001b[0m\u001b[0;34m,\u001b[0m \u001b[0mnp\u001b[0m\u001b[0;34m.\u001b[0m\u001b[0mones\u001b[0m\u001b[0;34m(\u001b[0m\u001b[0mX\u001b[0m\u001b[0;34m.\u001b[0m\u001b[0mshape\u001b[0m\u001b[0;34m[\u001b[0m\u001b[0;36m0\u001b[0m\u001b[0;34m]\u001b[0m\u001b[0;34m)\u001b[0m\u001b[0;34m)\u001b[0m\u001b[0;34m\u001b[0m\u001b[0;34m\u001b[0m\u001b[0m\n\u001b[0m",
      "\u001b[0;32m/usr/local/lib/python3.6/dist-packages/scipy/optimize/nnls.py\u001b[0m in \u001b[0;36mnnls\u001b[0;34m(A, b, maxiter)\u001b[0m\n\u001b[1;32m     76\u001b[0m     \u001b[0mindex\u001b[0m \u001b[0;34m=\u001b[0m \u001b[0mzeros\u001b[0m\u001b[0;34m(\u001b[0m\u001b[0;34m(\u001b[0m\u001b[0mn\u001b[0m\u001b[0;34m,\u001b[0m\u001b[0;34m)\u001b[0m\u001b[0;34m,\u001b[0m \u001b[0mdtype\u001b[0m\u001b[0;34m=\u001b[0m\u001b[0mint\u001b[0m\u001b[0;34m)\u001b[0m\u001b[0;34m\u001b[0m\u001b[0;34m\u001b[0m\u001b[0m\n\u001b[1;32m     77\u001b[0m \u001b[0;34m\u001b[0m\u001b[0m\n\u001b[0;32m---> 78\u001b[0;31m     \u001b[0mx\u001b[0m\u001b[0;34m,\u001b[0m \u001b[0mrnorm\u001b[0m\u001b[0;34m,\u001b[0m \u001b[0mmode\u001b[0m \u001b[0;34m=\u001b[0m \u001b[0m_nnls\u001b[0m\u001b[0;34m.\u001b[0m\u001b[0mnnls\u001b[0m\u001b[0;34m(\u001b[0m\u001b[0mA\u001b[0m\u001b[0;34m,\u001b[0m \u001b[0mm\u001b[0m\u001b[0;34m,\u001b[0m \u001b[0mn\u001b[0m\u001b[0;34m,\u001b[0m \u001b[0mb\u001b[0m\u001b[0;34m,\u001b[0m \u001b[0mw\u001b[0m\u001b[0;34m,\u001b[0m \u001b[0mzz\u001b[0m\u001b[0;34m,\u001b[0m \u001b[0mindex\u001b[0m\u001b[0;34m,\u001b[0m \u001b[0mmaxiter\u001b[0m\u001b[0;34m)\u001b[0m\u001b[0;34m\u001b[0m\u001b[0;34m\u001b[0m\u001b[0m\n\u001b[0m\u001b[1;32m     79\u001b[0m     \u001b[0;32mif\u001b[0m \u001b[0mmode\u001b[0m \u001b[0;34m!=\u001b[0m \u001b[0;36m1\u001b[0m\u001b[0;34m:\u001b[0m\u001b[0;34m\u001b[0m\u001b[0;34m\u001b[0m\u001b[0m\n\u001b[1;32m     80\u001b[0m         \u001b[0;32mraise\u001b[0m \u001b[0mRuntimeError\u001b[0m\u001b[0;34m(\u001b[0m\u001b[0;34m\"too many iterations\"\u001b[0m\u001b[0;34m)\u001b[0m\u001b[0;34m\u001b[0m\u001b[0;34m\u001b[0m\u001b[0m\n",
      "\u001b[0;31mKeyboardInterrupt\u001b[0m: "
     ]
    }
   ],
   "source": [
    "from scipy.optimize import nnls\n",
    "out = nnls(X.toarray(), np.ones(X.shape[0]))"
   ]
  },
  {
   "cell_type": "code",
   "execution_count": null,
   "metadata": {
    "id": "V4_wihaDpESA"
   },
   "outputs": [],
   "source": [
    "plotw(out[0])"
   ]
  },
  {
   "cell_type": "markdown",
   "metadata": {
    "id": "n41QG9oYpoCk"
   },
   "source": [
    "once again, it is really similar."
   ]
  },
  {
   "cell_type": "code",
   "execution_count": null,
   "metadata": {
    "colab": {
     "base_uri": "https://localhost:8080/",
     "height": 35
    },
    "id": "8OOwUnwppfSY",
    "outputId": "7b9526bc-bad2-445a-c68b-8265c77260f8"
   },
   "outputs": [
    {
     "name": "stdout",
     "output_type": "stream",
     "text": [
      "1 loop, best of 3: 791 ms per loop\n"
     ]
    }
   ],
   "source": [
    "%%timeit\n",
    "out = nnls(X.toarray(), np.ones(X.shape[0]))"
   ]
  },
  {
   "cell_type": "code",
   "execution_count": null,
   "metadata": {
    "colab": {
     "base_uri": "https://localhost:8080/",
     "height": 35
    },
    "id": "iFONJ7rhpwF4",
    "outputId": "f78889a9-737e-40b6-9a36-a3b3838fa697"
   },
   "outputs": [
    {
     "name": "stdout",
     "output_type": "stream",
     "text": [
      "1 loop, best of 3: 2.12 s per loop\n"
     ]
    }
   ],
   "source": [
    "%%timeit\n",
    "out = lsq_linear(X, np.ones(X.shape[0]),bounds=(0, 1))"
   ]
  },
  {
   "cell_type": "code",
   "execution_count": null,
   "metadata": {
    "colab": {
     "base_uri": "https://localhost:8080/",
     "height": 35
    },
    "id": "XqwW_MdLp7Fn",
    "outputId": "0a7bcaa8-54a1-4787-ab95-60bd5d83ec58"
   },
   "outputs": [
    {
     "name": "stdout",
     "output_type": "stream",
     "text": [
      "1 loop, best of 3: 645 ms per loop\n"
     ]
    }
   ],
   "source": [
    "%%timeit\n",
    "out = lsq_linear(X.toarray(), np.ones(X.shape[0]),bounds=(0, 1))"
   ]
  },
  {
   "cell_type": "markdown",
   "metadata": {
    "id": "RYJ0OvvZqXkt"
   },
   "source": [
    "Because the matrix is small, it is faster to use the dense representation."
   ]
  },
  {
   "cell_type": "code",
   "execution_count": null,
   "metadata": {
    "id": "UB9WA7-Npy7O"
   },
   "outputs": [],
   "source": []
  }
 ],
 "metadata": {
  "colab": {
   "collapsed_sections": [
    "1CaOlkrJAr6v",
    "0Gx_ex9jaAPH",
    "KgmO4mLezY6f",
    "f5XXtDwzmYm5",
    "mYZV7VANuGr0",
    "NCv73tgqmNP0"
   ],
   "name": "Copie de dumb way to cluster",
   "provenance": []
  },
  "kernelspec": {
   "display_name": "Python 3",
   "language": "python",
   "name": "python3"
  },
  "language_info": {
   "codemirror_mode": {
    "name": "ipython",
    "version": 3
   },
   "file_extension": ".py",
   "mimetype": "text/x-python",
   "name": "python",
   "nbconvert_exporter": "python",
   "pygments_lexer": "ipython3",
   "version": "3.7.3"
  }
 },
 "nbformat": 4,
 "nbformat_minor": 4
}
