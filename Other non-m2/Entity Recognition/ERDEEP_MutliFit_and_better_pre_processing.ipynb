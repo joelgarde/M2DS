{
 "cells": [
  {
   "cell_type": "markdown",
   "metadata": {
    "id": "IE0V5jprOu4r"
   },
   "source": [
    "# Entity Recognition with deep Learning\n",
    "\n",
    "## Objective: \n",
    "\n",
    "using transfert learning to build a task specific language model. Fine tune this language model for Entity Recognition (ER)."
   ]
  },
  {
   "cell_type": "markdown",
   "metadata": {
    "id": "_1Eq-zi9Svtc"
   },
   "source": [
    "\n",
    "# MAGICS: please run all\n",
    "imports and setup.\n",
    "\n",
    "You need to replace in their cell:\n",
    "* work_p, the main directory\n",
    "* data_p the name of the data tar archive inside the main directory.\n",
    "* label_p, the name of the labelled file inside the main directory.\n",
    "folder need to be setup this way:\n",
    "* work_p\n",
    "  * label_p (the labelled file)\n",
    "  * data_p (the raw data file)\n",
    "\n",
    "\n",
    "DAta can be downloaded from:\n",
    "\n",
    "http://di2kg.inf.uniroma3.it/2020/#challenge-downloads\n",
    "\n",
    "It is:\n",
    "* Round 1 Dataset XMONITOR\n",
    "* Round 1 Dataset YERMONITOR\n",
    "\n",
    "the dataset YERMONITOR may have to be resave to csv file manually. \n",
    "\n"
   ]
  },
  {
   "cell_type": "code",
   "execution_count": null,
   "metadata": {
    "colab": {
     "base_uri": "https://localhost:8080/",
     "height": 109
    },
    "id": "ud09U-Ah-pI9",
    "outputId": "6e03c9fb-8c6a-4bdb-d49b-9e4873af4f2e"
   },
   "outputs": [
    {
     "name": "stdout",
     "output_type": "stream",
     "text": [
      "Collecting ninja\n",
      "\u001b[?25l  Downloading https://files.pythonhosted.org/packages/f6/27/41b8a846496451ea9f103bf8e1d0d1b010d1180c30d84a87433ec5d7f88e/ninja-1.10.0.post1-py3-none-manylinux1_x86_64.whl (102kB)\n",
      "\r",
      "\u001b[K     |███▏                            | 10kB 21.6MB/s eta 0:00:01\r",
      "\u001b[K     |██████▍                         | 20kB 6.1MB/s eta 0:00:01\r",
      "\u001b[K     |█████████▌                      | 30kB 7.4MB/s eta 0:00:01\r",
      "\u001b[K     |████████████▊                   | 40kB 8.0MB/s eta 0:00:01\r",
      "\u001b[K     |████████████████                | 51kB 6.8MB/s eta 0:00:01\r",
      "\u001b[K     |███████████████████             | 61kB 7.2MB/s eta 0:00:01\r",
      "\u001b[K     |██████████████████████▎         | 71kB 7.7MB/s eta 0:00:01\r",
      "\u001b[K     |█████████████████████████▌      | 81kB 8.3MB/s eta 0:00:01\r",
      "\u001b[K     |████████████████████████████▋   | 92kB 7.9MB/s eta 0:00:01\r",
      "\u001b[K     |███████████████████████████████▉| 102kB 8.1MB/s eta 0:00:01\r",
      "\u001b[K     |████████████████████████████████| 112kB 8.1MB/s \n",
      "\u001b[?25hInstalling collected packages: ninja\n",
      "Successfully installed ninja-1.10.0.post1\n"
     ]
    }
   ],
   "source": [
    "#ninja is used to be able to run some cpp code and do thing with cuda.\n",
    "!pip install ninja"
   ]
  },
  {
   "cell_type": "code",
   "execution_count": null,
   "metadata": {
    "colab": {
     "base_uri": "https://localhost:8080/",
     "height": 808
    },
    "id": "t7rC5ruA__Nb",
    "outputId": "ceff1e1e-c865-4157-bc67-4190ddc0cf48"
   },
   "outputs": [
    {
     "name": "stdout",
     "output_type": "stream",
     "text": [
      "Requirement already up-to-date: fastai in /usr/local/lib/python3.6/dist-packages (1.0.61)\n",
      "Requirement already satisfied, skipping upgrade: beautifulsoup4 in /usr/local/lib/python3.6/dist-packages (from fastai) (4.6.3)\n",
      "Requirement already satisfied, skipping upgrade: fastprogress>=0.2.1 in /usr/local/lib/python3.6/dist-packages (from fastai) (0.2.3)\n",
      "Requirement already satisfied, skipping upgrade: matplotlib in /usr/local/lib/python3.6/dist-packages (from fastai) (3.2.2)\n",
      "Requirement already satisfied, skipping upgrade: requests in /usr/local/lib/python3.6/dist-packages (from fastai) (2.23.0)\n",
      "Requirement already satisfied, skipping upgrade: pyyaml in /usr/local/lib/python3.6/dist-packages (from fastai) (3.13)\n",
      "Requirement already satisfied, skipping upgrade: scipy in /usr/local/lib/python3.6/dist-packages (from fastai) (1.4.1)\n",
      "Requirement already satisfied, skipping upgrade: dataclasses; python_version < \"3.7\" in /usr/local/lib/python3.6/dist-packages (from fastai) (0.7)\n",
      "Requirement already satisfied, skipping upgrade: numexpr in /usr/local/lib/python3.6/dist-packages (from fastai) (2.7.1)\n",
      "Requirement already satisfied, skipping upgrade: bottleneck in /usr/local/lib/python3.6/dist-packages (from fastai) (1.3.2)\n",
      "Requirement already satisfied, skipping upgrade: torch>=1.0.0 in /usr/local/lib/python3.6/dist-packages (from fastai) (1.5.1+cu101)\n",
      "Requirement already satisfied, skipping upgrade: numpy>=1.15 in /usr/local/lib/python3.6/dist-packages (from fastai) (1.18.5)\n",
      "Requirement already satisfied, skipping upgrade: packaging in /usr/local/lib/python3.6/dist-packages (from fastai) (20.4)\n",
      "Requirement already satisfied, skipping upgrade: nvidia-ml-py3 in /usr/local/lib/python3.6/dist-packages (from fastai) (7.352.0)\n",
      "Requirement already satisfied, skipping upgrade: spacy>=2.0.18; python_version < \"3.8\" in /usr/local/lib/python3.6/dist-packages (from fastai) (2.2.4)\n",
      "Requirement already satisfied, skipping upgrade: torchvision in /usr/local/lib/python3.6/dist-packages (from fastai) (0.6.1+cu101)\n",
      "Requirement already satisfied, skipping upgrade: Pillow in /usr/local/lib/python3.6/dist-packages (from fastai) (7.0.0)\n",
      "Requirement already satisfied, skipping upgrade: pandas in /usr/local/lib/python3.6/dist-packages (from fastai) (1.0.5)\n",
      "Requirement already satisfied, skipping upgrade: pyparsing!=2.0.4,!=2.1.2,!=2.1.6,>=2.0.1 in /usr/local/lib/python3.6/dist-packages (from matplotlib->fastai) (2.4.7)\n",
      "Requirement already satisfied, skipping upgrade: kiwisolver>=1.0.1 in /usr/local/lib/python3.6/dist-packages (from matplotlib->fastai) (1.2.0)\n",
      "Requirement already satisfied, skipping upgrade: cycler>=0.10 in /usr/local/lib/python3.6/dist-packages (from matplotlib->fastai) (0.10.0)\n",
      "Requirement already satisfied, skipping upgrade: python-dateutil>=2.1 in /usr/local/lib/python3.6/dist-packages (from matplotlib->fastai) (2.8.1)\n",
      "Requirement already satisfied, skipping upgrade: certifi>=2017.4.17 in /usr/local/lib/python3.6/dist-packages (from requests->fastai) (2020.6.20)\n",
      "Requirement already satisfied, skipping upgrade: urllib3!=1.25.0,!=1.25.1,<1.26,>=1.21.1 in /usr/local/lib/python3.6/dist-packages (from requests->fastai) (1.24.3)\n",
      "Requirement already satisfied, skipping upgrade: chardet<4,>=3.0.2 in /usr/local/lib/python3.6/dist-packages (from requests->fastai) (3.0.4)\n",
      "Requirement already satisfied, skipping upgrade: idna<3,>=2.5 in /usr/local/lib/python3.6/dist-packages (from requests->fastai) (2.9)\n",
      "Requirement already satisfied, skipping upgrade: future in /usr/local/lib/python3.6/dist-packages (from torch>=1.0.0->fastai) (0.16.0)\n",
      "Requirement already satisfied, skipping upgrade: six in /usr/local/lib/python3.6/dist-packages (from packaging->fastai) (1.12.0)\n",
      "Requirement already satisfied, skipping upgrade: preshed<3.1.0,>=3.0.2 in /usr/local/lib/python3.6/dist-packages (from spacy>=2.0.18; python_version < \"3.8\"->fastai) (3.0.2)\n",
      "Requirement already satisfied, skipping upgrade: catalogue<1.1.0,>=0.0.7 in /usr/local/lib/python3.6/dist-packages (from spacy>=2.0.18; python_version < \"3.8\"->fastai) (1.0.0)\n",
      "Requirement already satisfied, skipping upgrade: setuptools in /usr/local/lib/python3.6/dist-packages (from spacy>=2.0.18; python_version < \"3.8\"->fastai) (47.3.1)\n",
      "Requirement already satisfied, skipping upgrade: blis<0.5.0,>=0.4.0 in /usr/local/lib/python3.6/dist-packages (from spacy>=2.0.18; python_version < \"3.8\"->fastai) (0.4.1)\n",
      "Requirement already satisfied, skipping upgrade: wasabi<1.1.0,>=0.4.0 in /usr/local/lib/python3.6/dist-packages (from spacy>=2.0.18; python_version < \"3.8\"->fastai) (0.7.0)\n",
      "Requirement already satisfied, skipping upgrade: plac<1.2.0,>=0.9.6 in /usr/local/lib/python3.6/dist-packages (from spacy>=2.0.18; python_version < \"3.8\"->fastai) (1.1.3)\n",
      "Requirement already satisfied, skipping upgrade: srsly<1.1.0,>=1.0.2 in /usr/local/lib/python3.6/dist-packages (from spacy>=2.0.18; python_version < \"3.8\"->fastai) (1.0.2)\n",
      "Requirement already satisfied, skipping upgrade: tqdm<5.0.0,>=4.38.0 in /usr/local/lib/python3.6/dist-packages (from spacy>=2.0.18; python_version < \"3.8\"->fastai) (4.41.1)\n",
      "Requirement already satisfied, skipping upgrade: thinc==7.4.0 in /usr/local/lib/python3.6/dist-packages (from spacy>=2.0.18; python_version < \"3.8\"->fastai) (7.4.0)\n",
      "Requirement already satisfied, skipping upgrade: murmurhash<1.1.0,>=0.28.0 in /usr/local/lib/python3.6/dist-packages (from spacy>=2.0.18; python_version < \"3.8\"->fastai) (1.0.2)\n",
      "Requirement already satisfied, skipping upgrade: cymem<2.1.0,>=2.0.2 in /usr/local/lib/python3.6/dist-packages (from spacy>=2.0.18; python_version < \"3.8\"->fastai) (2.0.3)\n",
      "Requirement already satisfied, skipping upgrade: pytz>=2017.2 in /usr/local/lib/python3.6/dist-packages (from pandas->fastai) (2018.9)\n",
      "Requirement already satisfied, skipping upgrade: importlib-metadata>=0.20; python_version < \"3.8\" in /usr/local/lib/python3.6/dist-packages (from catalogue<1.1.0,>=0.0.7->spacy>=2.0.18; python_version < \"3.8\"->fastai) (1.6.1)\n",
      "Requirement already satisfied, skipping upgrade: zipp>=0.5 in /usr/local/lib/python3.6/dist-packages (from importlib-metadata>=0.20; python_version < \"3.8\"->catalogue<1.1.0,>=0.0.7->spacy>=2.0.18; python_version < \"3.8\"->fastai) (3.1.0)\n"
     ]
    }
   ],
   "source": [
    "#fastai is  a deep learning library built on pytorch \n",
    "!pip install -U fastai"
   ]
  },
  {
   "cell_type": "code",
   "execution_count": null,
   "metadata": {
    "id": "DQjajFyWAMkN"
   },
   "outputs": [],
   "source": [
    "# https://github.com/fastai/fastai/issues/2563\n",
    "import warnings\n",
    "warnings.filterwarnings(\"ignore\", category=UserWarning)"
   ]
  },
  {
   "cell_type": "code",
   "execution_count": null,
   "metadata": {
    "id": "FTPR7mL8TBmB"
   },
   "outputs": [],
   "source": [
    "%load_ext autoreload\n",
    "%autoreload 2\n",
    "%reload_ext autoreload"
   ]
  },
  {
   "cell_type": "code",
   "execution_count": null,
   "metadata": {
    "id": "t8iuPxYqTZnz"
   },
   "outputs": [],
   "source": [
    "from  pathlib import *\n",
    "import pandas as pd\n",
    "import tarfile\n",
    "import numpy as np\n",
    "import pickle"
   ]
  },
  {
   "cell_type": "code",
   "execution_count": null,
   "metadata": {
    "id": "UAfS7PtjYd9Z"
   },
   "outputs": [],
   "source": [
    "from typing import *\n",
    "from fastai.text import *"
   ]
  },
  {
   "cell_type": "code",
   "execution_count": null,
   "metadata": {
    "id": "5kzetnZo5uRn"
   },
   "outputs": [],
   "source": [
    "from functools import reduce, partial"
   ]
  },
  {
   "cell_type": "code",
   "execution_count": null,
   "metadata": {
    "id": "gqMBk03ZRyls"
   },
   "outputs": [],
   "source": [
    "#name of the labeled data from the challenge\n",
    "label_p=Path(\"monitor_entity_resolution_labelled_data_v2_05_26_2020.csv\")\n",
    "#name of the dataset from the challenge in the tar archive. \n",
    "data_p=Path(\"2013_monitor_specs.tar.gz\")"
   ]
  },
  {
   "cell_type": "code",
   "execution_count": null,
   "metadata": {
    "colab": {
     "base_uri": "https://localhost:8080/",
     "height": 129
    },
    "id": "t_qdknnCCg51",
    "outputId": "18585630-c6a3-42df-c54b-917e067f90d9"
   },
   "outputs": [
    {
     "name": "stdout",
     "output_type": "stream",
     "text": [
      "Go to this URL in a browser: https://accounts.google.com/o/oauth2/auth?client_id=947318989803-6bn6qk8qdgf4n4g3pfee6491hc0brc4i.apps.googleusercontent.com&redirect_uri=urn%3aietf%3awg%3aoauth%3a2.0%3aoob&response_type=code&scope=email%20https%3a%2f%2fwww.googleapis.com%2fauth%2fdocs.test%20https%3a%2f%2fwww.googleapis.com%2fauth%2fdrive%20https%3a%2f%2fwww.googleapis.com%2fauth%2fdrive.photos.readonly%20https%3a%2f%2fwww.googleapis.com%2fauth%2fpeopleapi.readonly\n",
      "\n",
      "Enter your authorization code:\n",
      "··········\n",
      "Mounted at drive\n"
     ]
    }
   ],
   "source": [
    "# I am google colab and the data is in my drive.\n",
    "from google.colab import drive\n",
    "drive.mount('drive')"
   ]
  },
  {
   "cell_type": "code",
   "execution_count": null,
   "metadata": {
    "id": "c39c_OWJTc3L"
   },
   "outputs": [],
   "source": [
    "work_p=\"drive/My Drive/ER\"\n",
    "work = Path(work_p)\n",
    "work.mkdir(exist_ok=True)"
   ]
  },
  {
   "cell_type": "code",
   "execution_count": null,
   "metadata": {
    "id": "VnXYrW53ZyRX"
   },
   "outputs": [],
   "source": [
    "label=pd.read_csv(work/label_p, delimiter=\",\")"
   ]
  },
  {
   "cell_type": "markdown",
   "metadata": {
    "id": "KU8G0EuNTXbT"
   },
   "source": [
    "# SETUP\n"
   ]
  },
  {
   "cell_type": "markdown",
   "metadata": {
    "id": "oJfnURqOzapP"
   },
   "source": [
    "## Importing the json data"
   ]
  },
  {
   "cell_type": "code",
   "execution_count": null,
   "metadata": {
    "id": "HvnuqamEpHfI"
   },
   "outputs": [],
   "source": [
    "import json"
   ]
  },
  {
   "cell_type": "code",
   "execution_count": null,
   "metadata": {
    "id": "eV7EYe9CWdMf"
   },
   "outputs": [],
   "source": [
    "# load the jsons dataset. It load it as dictionnary into jdic.\n",
    "#nota: it jdic is {sourcewebsite:[list of items dictionnaries]}\n",
    "#nota: id is used to map index to website//number.\n",
    "\n",
    "def load_jsons(path):\n",
    "  jdic = {}\n",
    "  curf = None #current folder name\n",
    "  id = []\n",
    "  folders = [] # to keep track of the names of the sub-folders. Not used currently. \n",
    "  pd_data = []\n",
    "  with  tarfile.open(path,\"r\") as tar: \n",
    "    for member in tar.getmembers():\n",
    "      if member.isfile():\n",
    "        f = tar.extractfile(member.name)\n",
    "        jdic[curf].append(json.load(f))\n",
    "        id.append(member.name)\n",
    "      elif member.isdir():\n",
    "        print(member.name)\n",
    "        curf=member.name\n",
    "        if member.name != \"2013_monitor_specs\": jdic[member.name]=[]\n",
    "        folders.append(member.name)\n",
    "  return jdic, id"
   ]
  },
  {
   "cell_type": "code",
   "execution_count": null,
   "metadata": {
    "colab": {
     "base_uri": "https://localhost:8080/",
     "height": 513
    },
    "id": "wnIU-jWgGVzJ",
    "outputId": "fedd5657-fb8d-4567-a073-e28218980716"
   },
   "outputs": [
    {
     "name": "stdout",
     "output_type": "stream",
     "text": [
      "2013_monitor_specs\n",
      "2013_monitor_specs/ca.pcpartpicker.com\n",
      "2013_monitor_specs/catalog.com\n",
      "2013_monitor_specs/ce.yikus.com\n",
      "2013_monitor_specs/www.best-deal-items.com\n",
      "2013_monitor_specs/www.cleverboxes.com\n",
      "2013_monitor_specs/www.ebay.com\n",
      "2013_monitor_specs/www.getprice.com.au\n",
      "2013_monitor_specs/www.hardware-planet.it\n",
      "2013_monitor_specs/www.imldirect.it\n",
      "2013_monitor_specs/www.itenergy.co.uk\n",
      "2013_monitor_specs/www.jrlinton.co.uk\n",
      "2013_monitor_specs/www.kingsfieldcomputers.co.uk\n",
      "2013_monitor_specs/www.makingbuyingeasy.co.uk\n",
      "2013_monitor_specs/www.mediashopuk.com\n",
      "2013_monitor_specs/www.mrhightech.com\n",
      "2013_monitor_specs/www.nexus-t.co.uk\n",
      "2013_monitor_specs/www.odsi.co.uk\n",
      "2013_monitor_specs/www.officedepot.com\n",
      "2013_monitor_specs/www.ohc24.ch\n",
      "2013_monitor_specs/www.pc-canada.com\n",
      "2013_monitor_specs/www.pcconnection.com\n",
      "2013_monitor_specs/www.planet-computer.it\n",
      "2013_monitor_specs/www.shopmania.com\n",
      "2013_monitor_specs/www.softwarecity.ca\n",
      "2013_monitor_specs/www.vology.com\n",
      "2013_monitor_specs/www.xpcpro.com\n"
     ]
    }
   ],
   "source": [
    "#we load all the jsons as dictionnary in memory.\n",
    "#as well as id, which lists the names (ebay//123 ...)\n",
    "jdic, id = load_jsons(work/data_p)"
   ]
  },
  {
   "cell_type": "markdown",
   "metadata": {
    "id": "1CaOlkrJAr6v"
   },
   "source": [
    "## cleaning the data per-source\n",
    "\n",
    "Even if the above note proposes a way to do without cleaning, I propose to tidy a bit by:\n",
    "\n",
    "* removing source specific words in the title attribute (since it is the columns sharded by all sources)\n",
    "* remove attribute where the value does not changes."
   ]
  },
  {
   "cell_type": "code",
   "execution_count": null,
   "metadata": {
    "id": "YGmTcHK1JXSU"
   },
   "outputs": [],
   "source": [
    "#returns a list of the words that appears too much in a source title\n",
    "def bad_words(jdic, threshold=0.5):\n",
    "\n",
    "  #return all ngrams that are present more in, more that threshold% title of a source.\n",
    "  from sklearn.feature_extraction.text import CountVectorizer\n",
    "\n",
    "  #we only do the cleaning in the title column\n",
    "  titles_doc = [\" \".join(d[\"<page title>\"] for d in source ) for source in jdic.values()]\n",
    "  sourcevectorizer = CountVectorizer(ngram_range=(1,5),)\n",
    "  source_counts = sourcevectorizer.fit_transform(titles_doc) # get the matrix source / word count\n",
    "  source_size = np.array([len(d) for d in jdic.values()])\n",
    "  source_freq = source_counts / source_size[:,np.newaxis] #divide by size to get frequency\n",
    "  bad_indices = (source_freq>threshold).any(axis=0) #get the indices of words that have a too high frequency \n",
    "  tock=np.array(sourcevectorizer.get_feature_names()) #get the words from the indices\n",
    "  bad = tock[bad_indices.flat]\n",
    "  return bad"
   ]
  },
  {
   "cell_type": "code",
   "execution_count": null,
   "metadata": {
    "id": "kLnz2sQyKC7C"
   },
   "outputs": [],
   "source": [
    "import re\n",
    "def to_re(substrings):\n",
    "  #return a compiled re to match the substrings in strings\n",
    "  #array is sorted to match the longest substring first.\n",
    "  return re.compile(rf\"\\b({'|'.join(sorted(substrings, key=len,reverse=True))})\\b\")"
   ]
  },
  {
   "cell_type": "markdown",
   "metadata": {
    "id": "XCJ0v3A1ZFuZ"
   },
   "source": [
    "converting the jsons ditionnary to text.\n",
    "\n",
    "We print the dictionnaries, replacing the keys by `FLD i` where `FLD` is a tocken denoting a new field, and `i` is the number of this field."
   ]
  },
  {
   "cell_type": "code",
   "execution_count": null,
   "metadata": {
    "id": "W2whMe-BYMpa"
   },
   "outputs": [],
   "source": [
    "#utility class to print a dictonnary in a reasonable way. \n",
    "#transforms are applied to each dic field after taking the string\n",
    "#filters are applied to know if a key - filed pair is printed. \n",
    "#the processor class is inspired by the fastai library \n",
    "# https://docs.fast.ai/data_block.html#Invisible-step:-preprocessing\n",
    "class DictPrintProcessor():\n",
    "  def __init__(self, transform=None, filter=None, fld=FLD):\n",
    "    self.fld, self.transform, self.filter = FLD, transform, filter\n",
    "\n",
    "  def fit(self, dicts:Collection[Dict]):\n",
    "    keys = set(k for d in dicts for k in d.keys())\n",
    "    self.keymap = {k:i for i,k in enumerate(keys)}\n",
    "  \n",
    "  def process(self, dicts:Collection[Dict]):\n",
    "    return (self._print(d) for d in dicts)\n",
    "  \n",
    "  def _print(self, d):\n",
    "    return \" \".join(f\"{self.fld} {self.keymap[k]} {self.transform(str(v))}\" for k,v in d.items() if self.filter(k,v))"
   ]
  },
  {
   "cell_type": "code",
   "execution_count": null,
   "metadata": {
    "id": "SB-lL5WucUeS"
   },
   "outputs": [],
   "source": [
    "#get the list of dictionnary from the dictionnay of source. \n",
    "flatten = lambda v: reduce(operator.concat, v)\n",
    "dicts = flatten(jdic.values())"
   ]
  },
  {
   "cell_type": "code",
   "execution_count": null,
   "metadata": {
    "colab": {
     "base_uri": "https://localhost:8080/",
     "height": 55
    },
    "id": "dc2EOE9rISHq",
    "outputId": "a08e0354-4160-4c3c-c9b5-83d544782616"
   },
   "outputs": [
    {
     "name": "stdout",
     "output_type": "stream",
     "text": [
      "re.compile('\\\\b(shipping goods services wholesales retail|lcd monitor kingsfield computer products|monitor kingsfield computer products ltd|free shipping goods services wholesales|monitors nexus technology uk co)\n"
     ]
    }
   ],
   "source": [
    "#get the words that are too much present if the title, build corresponding RE to filter them\n",
    "bad = bad_words(jdic)\n",
    "blacklist_re=to_re(bad)\n",
    "print(blacklist_re)"
   ]
  },
  {
   "cell_type": "code",
   "execution_count": null,
   "metadata": {
    "id": "bT7P8F4VcgCU"
   },
   "outputs": [],
   "source": [
    "#cleaning the page title attribute using the above re. \n",
    "for d in dicts:\n",
    "  d[\"<page title>\"] =)"
   ]
  },
  {
   "cell_type": "code",
   "execution_count": null,
   "metadata": {
    "id": "4tabJXsp564J"
   },
   "outputs": [],
   "source": [
    "import string\n",
    "rmp=lambda s: s.translate(str.maketrans('', '', string.punctuation))"
   ]
  },
  {
   "cell_type": "markdown",
   "metadata": {
    "id": "qC4E53klkh-I"
   },
   "source": [
    "# Trying out sentencepiece\n",
    "\n",
    "\n",
    "We use the `sentencepiece` tockenizer. The reason is that we need a tockenizer with sub-word tockens. Ideed, screen model are like \"aa.X63.cm\". As you can see, this would demand a huge vocabulary to fit each of the screen model as words. However, as sub-words, we can see the \"aa\", then the \"x63\" and the \"cm\"."
   ]
  },
  {
   "cell_type": "code",
   "execution_count": null,
   "metadata": {
    "colab": {
     "base_uri": "https://localhost:8080/",
     "height": 129
    },
    "id": "NHrfCP2tk-rZ",
    "outputId": "48537589-280f-4248-a9d4-a3b969c87ddd"
   },
   "outputs": [
    {
     "name": "stdout",
     "output_type": "stream",
     "text": [
      "Collecting sentencepiece\n",
      "\u001b[?25l  Downloading https://files.pythonhosted.org/packages/d4/a4/d0a884c4300004a78cca907a6ff9a5e9fe4f090f5d95ab341c53d28cbc58/sentencepiece-0.1.91-cp36-cp36m-manylinux1_x86_64.whl (1.1MB)\n",
      "\r",
      "\u001b[K     |▎                               | 10kB 21.7MB/s eta 0:00:01\r",
      "\u001b[K     |▋                               | 20kB 6.5MB/s eta 0:00:01\r",
      "\u001b[K     |█                               | 30kB 8.2MB/s eta 0:00:01\r",
      "\u001b[K     |█▏                              | 40kB 8.9MB/s eta 0:00:01\r",
      "\u001b[K     |█▌                              | 51kB 7.6MB/s eta 0:00:01\r",
      "\u001b[K     |█▉                              | 61kB 8.6MB/s eta 0:00:01\r",
      "\u001b[K     |██▏                             | 71kB 8.8MB/s eta 0:00:01\r",
      "\u001b[K     |██▍                             | 81kB 9.2MB/s eta 0:00:01\r",
      "\u001b[K     |██▊                             | 92kB 8.5MB/s eta 0:00:01\r",
      "\u001b[K     |███                             | 102kB 8.8MB/s eta 0:00:01\r",
      "\u001b[K     |███▍                            | 112kB 8.8MB/s eta 0:00:01\r",
      "\u001b[K     |███▋                            | 122kB 8.8MB/s eta 0:00:01\r",
      "\u001b[K     |████                            | 133kB 8.8MB/s eta 0:00:01\r",
      "\u001b[K     |████▎                           | 143kB 8.8MB/s eta 0:00:01\r",
      "\u001b[K     |████▋                           | 153kB 8.8MB/s eta 0:00:01\r",
      "\u001b[K     |████▉                           | 163kB 8.8MB/s eta 0:00:01\r",
      "\u001b[K     |█████▏                          | 174kB 8.8MB/s eta 0:00:01\r",
      "\u001b[K     |█████▌                          | 184kB 8.8MB/s eta 0:00:01\r",
      "\u001b[K     |█████▉                          | 194kB 8.8MB/s eta 0:00:01\r",
      "\u001b[K     |██████                          | 204kB 8.8MB/s eta 0:00:01\r",
      "\u001b[K     |██████▍                         | 215kB 8.8MB/s eta 0:00:01\r",
      "\u001b[K     |██████▊                         | 225kB 8.8MB/s eta 0:00:01\r",
      "\u001b[K     |███████                         | 235kB 8.8MB/s eta 0:00:01\r",
      "\u001b[K     |███████▎                        | 245kB 8.8MB/s eta 0:00:01\r",
      "\u001b[K     |███████▋                        | 256kB 8.8MB/s eta 0:00:01\r",
      "\u001b[K     |████████                        | 266kB 8.8MB/s eta 0:00:01\r",
      "\u001b[K     |████████▎                       | 276kB 8.8MB/s eta 0:00:01\r",
      "\u001b[K     |████████▌                       | 286kB 8.8MB/s eta 0:00:01\r",
      "\u001b[K     |████████▉                       | 296kB 8.8MB/s eta 0:00:01\r",
      "\u001b[K     |█████████▏                      | 307kB 8.8MB/s eta 0:00:01\r",
      "\u001b[K     |█████████▌                      | 317kB 8.8MB/s eta 0:00:01\r",
      "\u001b[K     |█████████▊                      | 327kB 8.8MB/s eta 0:00:01\r",
      "\u001b[K     |██████████                      | 337kB 8.8MB/s eta 0:00:01\r",
      "\u001b[K     |██████████▍                     | 348kB 8.8MB/s eta 0:00:01\r",
      "\u001b[K     |██████████▊                     | 358kB 8.8MB/s eta 0:00:01\r",
      "\u001b[K     |███████████                     | 368kB 8.8MB/s eta 0:00:01\r",
      "\u001b[K     |███████████▎                    | 378kB 8.8MB/s eta 0:00:01\r",
      "\u001b[K     |███████████▋                    | 389kB 8.8MB/s eta 0:00:01\r",
      "\u001b[K     |████████████                    | 399kB 8.8MB/s eta 0:00:01\r",
      "\u001b[K     |████████████▏                   | 409kB 8.8MB/s eta 0:00:01\r",
      "\u001b[K     |████████████▌                   | 419kB 8.8MB/s eta 0:00:01\r",
      "\u001b[K     |████████████▉                   | 430kB 8.8MB/s eta 0:00:01\r",
      "\u001b[K     |█████████████▏                  | 440kB 8.8MB/s eta 0:00:01\r",
      "\u001b[K     |█████████████▍                  | 450kB 8.8MB/s eta 0:00:01\r",
      "\u001b[K     |█████████████▊                  | 460kB 8.8MB/s eta 0:00:01\r",
      "\u001b[K     |██████████████                  | 471kB 8.8MB/s eta 0:00:01\r",
      "\u001b[K     |██████████████▍                 | 481kB 8.8MB/s eta 0:00:01\r",
      "\u001b[K     |██████████████▋                 | 491kB 8.8MB/s eta 0:00:01\r",
      "\u001b[K     |███████████████                 | 501kB 8.8MB/s eta 0:00:01\r",
      "\u001b[K     |███████████████▎                | 512kB 8.8MB/s eta 0:00:01\r",
      "\u001b[K     |███████████████▋                | 522kB 8.8MB/s eta 0:00:01\r",
      "\u001b[K     |███████████████▉                | 532kB 8.8MB/s eta 0:00:01\r",
      "\u001b[K     |████████████████▏               | 542kB 8.8MB/s eta 0:00:01\r",
      "\u001b[K     |████████████████▌               | 552kB 8.8MB/s eta 0:00:01\r",
      "\u001b[K     |████████████████▉               | 563kB 8.8MB/s eta 0:00:01\r",
      "\u001b[K     |█████████████████               | 573kB 8.8MB/s eta 0:00:01\r",
      "\u001b[K     |█████████████████▍              | 583kB 8.8MB/s eta 0:00:01\r",
      "\u001b[K     |█████████████████▊              | 593kB 8.8MB/s eta 0:00:01\r",
      "\u001b[K     |██████████████████              | 604kB 8.8MB/s eta 0:00:01\r",
      "\u001b[K     |██████████████████▎             | 614kB 8.8MB/s eta 0:00:01\r",
      "\u001b[K     |██████████████████▋             | 624kB 8.8MB/s eta 0:00:01\r",
      "\u001b[K     |███████████████████             | 634kB 8.8MB/s eta 0:00:01\r",
      "\u001b[K     |███████████████████▎            | 645kB 8.8MB/s eta 0:00:01\r",
      "\u001b[K     |███████████████████▌            | 655kB 8.8MB/s eta 0:00:01\r",
      "\u001b[K     |███████████████████▉            | 665kB 8.8MB/s eta 0:00:01\r",
      "\u001b[K     |████████████████████▏           | 675kB 8.8MB/s eta 0:00:01\r",
      "\u001b[K     |████████████████████▌           | 686kB 8.8MB/s eta 0:00:01\r",
      "\u001b[K     |████████████████████▊           | 696kB 8.8MB/s eta 0:00:01\r",
      "\u001b[K     |█████████████████████           | 706kB 8.8MB/s eta 0:00:01\r",
      "\u001b[K     |█████████████████████▍          | 716kB 8.8MB/s eta 0:00:01\r",
      "\u001b[K     |█████████████████████▋          | 727kB 8.8MB/s eta 0:00:01\r",
      "\u001b[K     |██████████████████████          | 737kB 8.8MB/s eta 0:00:01\r",
      "\u001b[K     |██████████████████████▎         | 747kB 8.8MB/s eta 0:00:01\r",
      "\u001b[K     |██████████████████████▋         | 757kB 8.8MB/s eta 0:00:01\r",
      "\u001b[K     |██████████████████████▉         | 768kB 8.8MB/s eta 0:00:01\r",
      "\u001b[K     |███████████████████████▏        | 778kB 8.8MB/s eta 0:00:01\r",
      "\u001b[K     |███████████████████████▌        | 788kB 8.8MB/s eta 0:00:01\r",
      "\u001b[K     |███████████████████████▉        | 798kB 8.8MB/s eta 0:00:01\r",
      "\u001b[K     |████████████████████████        | 808kB 8.8MB/s eta 0:00:01\r",
      "\u001b[K     |████████████████████████▍       | 819kB 8.8MB/s eta 0:00:01\r",
      "\u001b[K     |████████████████████████▊       | 829kB 8.8MB/s eta 0:00:01\r",
      "\u001b[K     |█████████████████████████       | 839kB 8.8MB/s eta 0:00:01\r",
      "\u001b[K     |█████████████████████████▎      | 849kB 8.8MB/s eta 0:00:01\r",
      "\u001b[K     |█████████████████████████▋      | 860kB 8.8MB/s eta 0:00:01\r",
      "\u001b[K     |██████████████████████████      | 870kB 8.8MB/s eta 0:00:01\r",
      "\u001b[K     |██████████████████████████▎     | 880kB 8.8MB/s eta 0:00:01\r",
      "\u001b[K     |██████████████████████████▌     | 890kB 8.8MB/s eta 0:00:01\r",
      "\u001b[K     |██████████████████████████▉     | 901kB 8.8MB/s eta 0:00:01\r",
      "\u001b[K     |███████████████████████████▏    | 911kB 8.8MB/s eta 0:00:01\r",
      "\u001b[K     |███████████████████████████▌    | 921kB 8.8MB/s eta 0:00:01\r",
      "\u001b[K     |███████████████████████████▊    | 931kB 8.8MB/s eta 0:00:01\r",
      "\u001b[K     |████████████████████████████    | 942kB 8.8MB/s eta 0:00:01\r",
      "\u001b[K     |████████████████████████████▍   | 952kB 8.8MB/s eta 0:00:01\r",
      "\u001b[K     |████████████████████████████▊   | 962kB 8.8MB/s eta 0:00:01\r",
      "\u001b[K     |█████████████████████████████   | 972kB 8.8MB/s eta 0:00:01\r",
      "\u001b[K     |█████████████████████████████▎  | 983kB 8.8MB/s eta 0:00:01\r",
      "\u001b[K     |█████████████████████████████▋  | 993kB 8.8MB/s eta 0:00:01\r",
      "\u001b[K     |██████████████████████████████  | 1.0MB 8.8MB/s eta 0:00:01\r",
      "\u001b[K     |██████████████████████████████▏ | 1.0MB 8.8MB/s eta 0:00:01\r",
      "\u001b[K     |██████████████████████████████▌ | 1.0MB 8.8MB/s eta 0:00:01\r",
      "\u001b[K     |██████████████████████████████▉ | 1.0MB 8.8MB/s eta 0:00:01\r",
      "\u001b[K     |███████████████████████████████▏| 1.0MB 8.8MB/s eta 0:00:01\r",
      "\u001b[K     |███████████████████████████████▍| 1.1MB 8.8MB/s eta 0:00:01\r",
      "\u001b[K     |███████████████████████████████▊| 1.1MB 8.8MB/s eta 0:00:01\r",
      "\u001b[K     |████████████████████████████████| 1.1MB 8.8MB/s \n",
      "\u001b[?25hInstalling collected packages: sentencepiece\n",
      "Successfully installed sentencepiece-0.1.91\n"
     ]
    }
   ],
   "source": [
    "!pip install sentencepiece"
   ]
  },
  {
   "cell_type": "code",
   "execution_count": null,
   "metadata": {
    "id": "vHSzkOCcnraS"
   },
   "outputs": [],
   "source": [
    "#nota: we need to do a small fix by hand in this fucntion. \n",
    "# other wise it is the same as the function from fastai.\n",
    "#https://github.com/fastai/fastai/blob/27ab982e94a75cd81920b5ab6155f6961d69174c/fastai/text/data.py#L420\n",
    "def fix_train_sentencepiece(texts:Collection[str], path:PathOrStr, pre_rules: ListRules=None, post_rules:ListRules=None, \n",
    "    vocab_sz:int=None, max_vocab_sz:int=30000, model_type:str='unigram', max_sentence_len:int=20480, lang='en',\n",
    "    char_coverage=None, tmp_dir='tmp', enc='utf8'):\n",
    "    \"Train a sentencepiece tokenizer on `texts` and save it in `path/tmp_dir`\"\n",
    "    from sentencepiece import SentencePieceTrainer\n",
    "    from fastai.text.data import get_default_size,full_char_coverage_langs\n",
    "    cache_dir = Path(path)/tmp_dir\n",
    "    os.makedirs(cache_dir, exist_ok=True)\n",
    "    if vocab_sz is None: vocab_sz=get_default_size(texts, max_vocab_sz)\n",
    "    raw_text_path = cache_dir / 'all_text.out'\n",
    "    with open(raw_text_path, 'w', encoding=enc) as f: f.write(\"\\n\".join(texts))\n",
    "    spec_tokens = ['\\u2581'+s for s in defaults.text_spec_tok]\n",
    "    quote='\"'\n",
    "    SentencePieceTrainer.Train(\" \".join([\n",
    "        f\"--input={raw_text_path} --max_sentence_length={max_sentence_len}\",\n",
    "        f\"--character_coverage={ifnone(char_coverage, 0.99999 if lang in full_char_coverage_langs else 0.9998)}\",\n",
    "        f\"--unk_id={len(defaults.text_spec_tok)} --pad_id=-1 --bos_id=-1 --eos_id=-1\",\n",
    "        f\"--user_defined_symbols={','.join(spec_tokens)}\",\n",
    "        f\"--model_prefix={cache_dir/'spm'} --vocab_size={vocab_sz} --model_type={model_type}\"])) \n",
    "    # FIX LINE ABOVE, REMOVING {QUOTEMARK}\n",
    "    raw_text_path.unlink()\n",
    "    return cache_dir\n",
    "\n",
    "#same as above, directly taken from fastai\n",
    "#https://docs.fast.ai/text.data.html#SPProcessor\n",
    "class fSPProcessor(PreProcessor):\n",
    "    \"`PreProcessor` that tokenizes and numericalizes with `sentencepiece`\"\n",
    "    def __init__(self, ds:ItemList=None, pre_rules: ListRules=None, post_rules:ListRules=None, vocab_sz:int=None,\n",
    "                 max_vocab_sz:int=30000, model_type:str='unigram', max_sentence_len:int=20480, lang='en',\n",
    "                 char_coverage=None, tmp_dir='tmp', mark_fields:bool=False, include_bos:bool=True, \n",
    "                 include_eos:bool=False, sp_model=None, sp_vocab=None, n_cpus:int=None, enc='utf8'):\n",
    "        try: from sentencepiece import SentencePieceTrainer,SentencePieceProcessor\n",
    "        except ImportError:\n",
    "            raise Exception('sentencepiece module is missing: run `pip install sentencepiece`')\n",
    "\n",
    "        self.pre_rules,self.post_rules,self.enc = pre_rules,post_rules,enc\n",
    "        self.mark_fields,self.include_bos,self.include_eos = mark_fields,include_bos,include_eos\n",
    "        self.sp_model,self.sp_vocab,self.n_cpus = sp_model,sp_vocab,ifnone(n_cpus,defaults.cpus)\n",
    "        \n",
    "        #fix under to use the fix_train_sentecepeice\n",
    "        self.train_func = partial(fix_train_sentencepiece, pre_rules=pre_rules, post_rules=post_rules, vocab_sz=vocab_sz,\n",
    "                max_vocab_sz=max_vocab_sz, model_type=model_type, max_sentence_len=max_sentence_len, lang=lang,\n",
    "                char_coverage=char_coverage, tmp_dir=tmp_dir, enc=enc)\n",
    "\n",
    "    def process_one(self, item, join=True):\n",
    "        from fastai.text.data import _join_texts\n",
    "\n",
    "        if join: text = _join_texts([item], self.mark_fields, self.include_bos, self.include_eos)[0]\n",
    "        text = apply_rules(text, pre_rules=self.pre_rules, post_rules=self.post_rules)\n",
    "        return self._encode_batch([text])[0]\n",
    "\n",
    "    def process(self, ds):\n",
    "        from fastai.text.data import _join_texts, apply_rules\n",
    "\n",
    "        ds.items = _join_texts(ds.items, self.mark_fields, self.include_bos, self.include_eos)\n",
    "        ds.items = [apply_rules(t, pre_rules=self.pre_rules, post_rules=self.post_rules) \n",
    "                    for t in progress_bar(ds.items, leave=False)]\n",
    "        if self.sp_model is None or self.sp_vocab is None:\n",
    "            cache_dir = self.train_func(ds.items, ds.path)\n",
    "            self.sp_model,self.sp_vocab = cache_dir/'spm.model',cache_dir/'spm.vocab'\n",
    "        if not getattr(self, 'vocab', False): \n",
    "            with open(self.sp_vocab, 'r', encoding=self.enc) as f: self.vocab = Vocab([line.split('\\t')[0] for line in f.readlines()])\n",
    "        if self.n_cpus <= 1: ds.items = self._encode_batch(ds.items)\n",
    "        else:\n",
    "            with ProcessPoolExecutor(self.n_cpus) as e:\n",
    "                ds.items = np.array(sum(e.map(self._encode_batch, partition_by_cores(ds.items, self.n_cpus)), []))\n",
    "        ds.vocab = self.vocab\n",
    "\n",
    "    def _encode_batch(self, texts):\n",
    "        from sentencepiece import SentencePieceProcessor\n",
    "        tok = SentencePieceProcessor()\n",
    "        tok.Load(str(self.sp_model))\n",
    "        return [np.array(tok.EncodeAsIds(t)) for t in texts]"
   ]
  },
  {
   "cell_type": "code",
   "execution_count": null,
   "metadata": {
    "id": "PChxXrN-mZML"
   },
   "outputs": [],
   "source": [
    "#Using BPE (sub words units) is really important here. \n",
    "spp=fSPProcessor(model_type=\"bpe\")"
   ]
  },
  {
   "cell_type": "code",
   "execution_count": null,
   "metadata": {
    "colab": {
     "base_uri": "https://localhost:8080/",
     "height": 17
    },
    "id": "DwVQY2bGR7wr",
    "outputId": "319bfe75-628b-4748-b138-db4cf29145b4"
   },
   "outputs": [
    {
     "data": {
      "text/html": [],
      "text/plain": [
       "<IPython.core.display.HTML object>"
      ]
     },
     "metadata": {
      "tags": []
     },
     "output_type": "display_data"
    }
   ],
   "source": [
    "#we process (tockenization + numericalisation) now. Technically this should be done separtely for the test and validation set, but it is easier this way\n",
    "#base is now the list of tensors representing the strings representing the tuples\n",
    "base = TextList(titles, processor=[spp], path=\".\").process()"
   ]
  },
  {
   "cell_type": "code",
   "execution_count": null,
   "metadata": {
    "colab": {
     "base_uri": "https://localhost:8080/",
     "height": 92
    },
    "id": "wO-_x7W7C_XC",
    "outputId": "d66cd2d0-ba1d-4e04-84eb-572625a10c47"
   },
   "outputs": [
    {
     "data": {
      "text/plain": [
       "TextList (16662 items)\n",
       "▁xxbos ▁acer ▁v 173 ▁dj o bd ▁75 hz ▁0 ▁umbv 3 aad 02,▁xxbos ▁aoc ▁e 2260 swd nt aa ▁60 hz ▁220 ▁e 2260 swd nt aa,▁xxbos ▁benq ▁pg 2401 pt ▁60 hz ▁241 ▁pg 2401 pt,▁xxbos ▁p 232 wbksv ▁230 ▁p 232 wbksv,▁xxbos ▁acer ▁umhb 6 aa 001 ▁60 hz ▁270 ▁umhb 6 aa 001\n",
       "Path: ."
      ]
     },
     "execution_count": 49,
     "metadata": {
      "tags": []
     },
     "output_type": "execute_result"
    }
   ],
   "source": [
    "base"
   ]
  },
  {
   "cell_type": "code",
   "execution_count": null,
   "metadata": {
    "colab": {
     "base_uri": "https://localhost:8080/",
     "height": 320
    },
    "id": "6rZwU742-IAc",
    "outputId": "aad3ecf8-1448-4dc4-eb4a-97130ac78f24"
   },
   "outputs": [
    {
     "data": {
      "text/plain": [
       "(array([1.914e+03, 8.114e+03, 4.656e+03, 1.400e+03, 3.930e+02, 1.300e+02, 3.300e+01, 1.600e+01, 4.000e+00, 2.000e+00]),\n",
       " array([ 1. ,  6.7, 12.4, 18.1, 23.8, 29.5, 35.2, 40.9, 46.6, 52.3, 58. ]),\n",
       " <a list of 10 Patch objects>)"
      ]
     },
     "execution_count": 51,
     "metadata": {
      "tags": []
     },
     "output_type": "execute_result"
    },
    {
     "data": {
      "image/png": "[encoded data removed]",
      "text/plain": [
       "<Figure size 432x288 with 1 Axes>"
      ]
     },
     "metadata": {
      "needs_background": "light",
      "tags": []
     },
     "output_type": "display_data"
    }
   ],
   "source": [
    "plt.hist([len(i) for i in base.items])"
   ]
  },
  {
   "cell_type": "code",
   "execution_count": null,
   "metadata": {
    "id": "AvUtufWq-ShR"
   },
   "outputs": [],
   "source": [
    "#let's padd and then "
   ]
  },
  {
   "cell_type": "code",
   "execution_count": null,
   "metadata": {
    "id": "VHvp2bm37Rfa"
   },
   "outputs": [],
   "source": [
    "#now we create the language learner. This step is the pre -training. to_fp16 to go faster.\n",
    "#learn = language_model_learner(data_lm, AWD_LSTM, drop_mult=0.3,config = None, pretrained=True).to_fp16()\n",
    "learn = language_model_learner(data_lm, AWD_LSTM, drop_mult=0.3,config = AW_config, pretrained=False).to_fp16()"
   ]
  },
  {
   "cell_type": "code",
   "execution_count": null,
   "metadata": {
    "colab": {
     "base_uri": "https://localhost:8080/",
     "height": 298
    },
    "id": "pOd7wCxcxcIO",
    "outputId": "015ac55f-154e-42c1-abb1-80cdb8f90c88"
   },
   "outputs": [
    {
     "name": "stdout",
     "output_type": "stream",
     "text": [
      "Module Name                                                                           Total Parameters  Trainable Parameters # Elements in Trainable Parametrs       \n",
      "Embedding(11600, 400, padding_idx=1)                                                  1                 1                    4,640,000                               \n",
      "Embedding(11600, 400, padding_idx=1)                                                  1                 1                    4,640,000                               \n",
      "Linear(in_features=800, out_features=4650, bias=True)                                 2                 2                    3,724,650                               \n",
      "Linear(in_features=1550, out_features=4650, bias=True)                                2                 2                    7,212,150                               \n",
      "Linear(in_features=1550, out_features=4650, bias=True)                                2                 2                    7,212,150                               \n",
      "Linear(in_features=1550, out_features=1200, bias=True)                                2                 2                    1,861,200                               \n",
      "RNNDropout()                                                                          0                 0                    0                                       \n",
      "RNNDropout()                                                                          0                 0                    0                                       \n",
      "RNNDropout()                                                                          0                 0                    0                                       \n",
      "RNNDropout()                                                                          0                 0                    0                                       \n",
      "RNNDropout()                                                                          0                 0                    0                                       \n",
      "Linear(in_features=400, out_features=11600, bias=True)                                2                 2                    4,651,600                               \n",
      "RNNDropout()                                                                          0                 0                    0                                       \n",
      "Total number of parameters elements 33,941,750\n"
     ]
    }
   ],
   "source": [
    "#check that all layers are trainable. \n",
    "summary_trainable(learn)"
   ]
  },
  {
   "cell_type": "code",
   "execution_count": null,
   "metadata": {
    "colab": {
     "base_uri": "https://localhost:8080/",
     "height": 81
    },
    "id": "5InJat21u9LR",
    "outputId": "6a15d8ad-694f-4a55-ec8f-6a0a2d984633"
   },
   "outputs": [
    {
     "data": {
      "text/html": [
       "<table border=\"1\" class=\"dataframe\">\n",
       "  <thead>\n",
       "    <tr style=\"text-align: left;\">\n",
       "      <th>epoch</th>\n",
       "      <th>train_loss</th>\n",
       "      <th>valid_loss</th>\n",
       "      <th>accuracy</th>\n",
       "      <th>time</th>\n",
       "    </tr>\n",
       "  </thead>\n",
       "  <tbody>\n",
       "    <tr>\n",
       "      <td>0</td>\n",
       "      <td>2.306438</td>\n",
       "      <td>2.179765</td>\n",
       "      <td>0.609560</td>\n",
       "      <td>04:54</td>\n",
       "    </tr>\n",
       "  </tbody>\n",
       "</table>"
      ],
      "text/plain": [
       "<IPython.core.display.HTML object>"
      ]
     },
     "metadata": {
      "tags": []
     },
     "output_type": "display_data"
    }
   ],
   "source": [
    "#train the LM model. can be done multiple times, etc. \n",
    "learn.fit_one_cycle(1, 1e-2)"
   ]
  },
  {
   "cell_type": "code",
   "execution_count": null,
   "metadata": {
    "id": "6cR2F9qp3BhN"
   },
   "outputs": [],
   "source": [
    "#save the LM model \n",
    "learn.save(\"enc1\")"
   ]
  },
  {
   "cell_type": "code",
   "execution_count": null,
   "metadata": {
    "id": "X8Wy2B7bSyof"
   },
   "outputs": [],
   "source": [
    "#save only the encoder part of the LM model. This is what we will reuse in ther other networks. \n",
    "learn.save_encoder(\"encoder\")"
   ]
  },
  {
   "cell_type": "markdown",
   "metadata": {
    "id": "SM7JeVx0Vulv"
   },
   "source": [
    "Our current problem:\n",
    "\n",
    "* I want to use approximate nierest neighborhood to pre-cluster the data, and then pairwise comparaison.\n",
    "* But Because the data is comming from different sources, it has clusters corresponding to each data source.\n",
    "* Thus we need to clean each source to homogenize the data.\n",
    "\n",
    "To explore:\n",
    "Maybe we don't need to clean evrything. If we generate vectors for each of items, we could try to substract the mean vector source (operating a data normalisation on the encodings). \n",
    "\n",
    "One small difficultie here is that raw tockenized/Numericalized data have different lenght. However, we could run it into the language model RNN and get the vector for each one!\n"
   ]
  },
  {
   "cell_type": "markdown",
   "metadata": {
    "id": "KgmO4mLezY6f"
   },
   "source": [
    "# Getting the embeddings\n",
    "\n",
    "Note: if you have an error, try running the first cell of trying out sentencepiece\n",
    "\n",
    "To get the embeddings (using the fastai method), we feed each text by bits of lenght (bptt), and record the activations.\n",
    "The we take the last activate, the max pooling and the average pooling. \n",
    "\n",
    "I use slightly modified fastai function because they make sure the data in on the gpu, etc."
   ]
  },
  {
   "cell_type": "code",
   "execution_count": null,
   "metadata": {
    "id": "sVuQoqDiLxO9"
   },
   "outputs": [],
   "source": [
    "#a utility function inspired by fast.ai pad_collate\n",
    "#https://github.com/fastai/fastai/blob/27ab982e94a75cd81920b5ab6155f6961d69174c/fastai/text/data.py#L128\n",
    "#does packs together the list of numerical tockens, and add padding. \n",
    "def get_the_tensors(base):\n",
    "  tocks = base.process().items\n",
    "  padd = torch.zeros((len(tocks), 300)).long() + 1\n",
    "  for i, tl in enumerate(tocks):\n",
    "    padd[i,-len(tl):] = LongTensor(tl)\n",
    "  return padd"
   ]
  },
  {
   "cell_type": "code",
   "execution_count": null,
   "metadata": {
    "id": "eC2yDL6wG1Tl"
   },
   "outputs": [],
   "source": [
    "#copy the Sentencepiece data from drive to somewhere whitout spaces\n",
    "#we want to use the same instance of sentencepeice as the one used for the LM model.\n",
    "from shutil import copyfile\n",
    "sp_temp=Path('test')\n",
    "sp_temp.mkdir(exist_ok=True)\n",
    "copyfile(work/'1spm.model', Path(sp_temp)/'spm.model')\n",
    "copyfile(work/'1spm.vocab', Path(sp_temp)/'spm.vocab')\n",
    "vocab = pickle.load(open(work/'vocab.pkl', 'rb'))"
   ]
  },
  {
   "cell_type": "code",
   "execution_count": null,
   "metadata": {
    "id": "8q7QXg6QW184"
   },
   "outputs": [],
   "source": [
    "base = pickle.load(open(work/\"base.pkl\", \"rb\"))"
   ]
  },
  {
   "cell_type": "code",
   "execution_count": null,
   "metadata": {
    "colab": {
     "base_uri": "https://localhost:8080/",
     "height": 17
    },
    "id": "t4hYzPQqIlkj",
    "outputId": "d557a7e3-8c3f-4c42-80b1-3b4f04f098a7"
   },
   "outputs": [
    {
     "data": {
      "text/html": [],
      "text/plain": [
       "<IPython.core.display.HTML object>"
      ]
     },
     "metadata": {
      "tags": []
     },
     "output_type": "display_data"
    }
   ],
   "source": [
    "#build the packed tensors from the tokenized data.\n",
    "data = get_the_tensors(base)"
   ]
  },
  {
   "cell_type": "markdown",
   "metadata": {
    "id": "sCVHmUTMP1Z2"
   },
   "source": [
    "To get the embeddings, we pass the data by bits of size pbtt through the encoder multiple times (since it is an RNN). The state of the RNN is recorder for the N last times. Then it is concate-pooled. \n",
    "This is done by two class below (straight taken from fastai."
   ]
  },
  {
   "cell_type": "code",
   "execution_count": null,
   "metadata": {
    "id": "3QS1s3SCY4i8"
   },
   "outputs": [],
   "source": [
    "from fastai.text.data import *\n",
    "from fastai.text.learner import *\n",
    "\n",
    "#I took the pooling + linear layer from fastai and only kept the pooling part.\n",
    "# I also only forward the x, not raw_outputs and outputs, which are used during the RNN training but not here.\n",
    "#https://github.com/fastai/fastai/blob/868513671bca40edf69729552be51d3503873d99/fastai/text/learner.py#L232\n",
    "class Pooling(Module):\n",
    "    \"Create a linear classifier with pooling.\"\n",
    "    def __init__(self):\n",
    "        super().__init__()\n",
    "\n",
    "    def forward(self, input:Tuple[Tensor,Tensor, Tensor])->Tuple[Tensor,Tensor,Tensor]:\n",
    "        from fastai.text.learner import masked_concat_pool\n",
    "        raw_outputs,outputs,mask = input\n",
    "        x = masked_concat_pool(outputs, mask)\n",
    "        return x#, raw_outputs, outputs\n",
    "\n",
    "#https://github.com/fastai/fastai/blob/868513671bca40edf69729552be51d3503873d99/fastai/text/learner.py#L248\n",
    "#No modification\n",
    "class MultiBatchEncoder(Module):\n",
    "    \"Create an encoder over `module` that can process a full sentence.\"\n",
    "    def __init__(self, bptt:int, max_len:int, module:nn.Module, pad_idx:int=1):\n",
    "        self.max_len,self.bptt,self.module,self.pad_idx = max_len,bptt,module,pad_idx\n",
    "\n",
    "    def concat(self, arrs:Sequence[Sequence[Tensor]])->List[Tensor]:\n",
    "        \"Concatenate the `arrs` along the batch dimension.\"\n",
    "        return [torch.cat([l[si] for l in arrs], dim=1) for si in range_of(arrs[0])]\n",
    "\n",
    "    def reset(self):\n",
    "        if hasattr(self.module, 'reset'): self.module.reset()\n",
    "\n",
    "    def forward(self, input:LongTensor)->Tuple[List[Tensor],List[Tensor],Tensor]:\n",
    "        bs,sl = input.size()\n",
    "        self.reset()\n",
    "        raw_outputs,outputs,masks = [],[],[]\n",
    "        for i in range(0, sl, self.bptt):\n",
    "            r, o = self.module(input[:,i: min(i+self.bptt, sl)])\n",
    "            if i>(sl-self.max_len):\n",
    "                masks.append(input[:,i: min(i+self.bptt, sl)] == self.pad_idx)\n",
    "                raw_outputs.append(r)\n",
    "                outputs.append(o)\n",
    "        return self.concat(raw_outputs),self.concat(outputs),torch.cat(masks,dim=1)"
   ]
  },
  {
   "cell_type": "code",
   "execution_count": null,
   "metadata": {
    "id": "rdfK3fhqR9A7"
   },
   "outputs": [],
   "source": [
    "AW_clasconfig = awd_lstm_clas_config.copy()"
   ]
  },
  {
   "cell_type": "code",
   "execution_count": null,
   "metadata": {
    "colab": {
     "base_uri": "https://localhost:8080/",
     "height": 34
    },
    "id": "KCGTJmyZSvDc",
    "outputId": "3913f5ad-6a9d-4c01-d3f1-872058e86238"
   },
   "outputs": [
    {
     "data": {
      "text/plain": [
       "0.4"
      ]
     },
     "execution_count": 83,
     "metadata": {
      "tags": []
     },
     "output_type": "execute_result"
    }
   ],
   "source": [
    "AW_clasconfig[\"qrnn\"]=True\n",
    "AW_clasconfig[\"n_hid\"]=1550\n",
    "AW_clasconfig[\"n_layers\"]=4\n",
    "AW_clasconfig.pop(\"output_p\")"
   ]
  },
  {
   "cell_type": "code",
   "execution_count": null,
   "metadata": {
    "colab": {
     "base_uri": "https://localhost:8080/",
     "height": 34
    },
    "id": "zFerDp8_QJWF",
    "outputId": "82211e5a-a14e-4a6d-b490-f451cb3a99bb"
   },
   "outputs": [
    {
     "data": {
      "text/plain": [
       "<All keys matched successfully>"
      ]
     },
     "execution_count": 92,
     "metadata": {
      "tags": []
     },
     "output_type": "execute_result"
    }
   ],
   "source": [
    "vocab_sz = len(data_lm.vocab.itos)\n",
    "encoder = AWD_LSTM(vocab_sz=vocab_sz,**AW_clasconfig )\n",
    "\n",
    "#HERE IS THE IMPORTANT PART:\n",
    "#LOAD THE WHEIGHTS FROM THE PREVIOUSLY TRAINED ENCODER!\n",
    "encoder.load_state_dict(torch.load(work/'models'/'encoder.pth', map_location=torch.device(\"cuda\")))"
   ]
  },
  {
   "cell_type": "code",
   "execution_count": null,
   "metadata": {
    "colab": {
     "base_uri": "https://localhost:8080/",
     "height": 903
    },
    "id": "As3lwlzhS_Iq",
    "outputId": "88e647dd-7429-4a86-a287-6c4bc83e62cb"
   },
   "outputs": [
    {
     "data": {
      "text/plain": [
       "AWD_LSTM(\n",
       "  (encoder): Embedding(11600, 400, padding_idx=1)\n",
       "  (encoder_dp): EmbeddingDropout(\n",
       "    (emb): Embedding(11600, 400, padding_idx=1)\n",
       "  )\n",
       "  (rnns): ModuleList(\n",
       "    (0): QRNN(\n",
       "      (layers): ModuleList(\n",
       "        (0): QRNNLayer(\n",
       "          (linear): WeightDropout(\n",
       "            (module): Linear(in_features=800, out_features=4650, bias=True)\n",
       "          )\n",
       "        )\n",
       "      )\n",
       "    )\n",
       "    (1): QRNN(\n",
       "      (layers): ModuleList(\n",
       "        (0): QRNNLayer(\n",
       "          (linear): WeightDropout(\n",
       "            (module): Linear(in_features=1550, out_features=4650, bias=True)\n",
       "          )\n",
       "        )\n",
       "      )\n",
       "    )\n",
       "    (2): QRNN(\n",
       "      (layers): ModuleList(\n",
       "        (0): QRNNLayer(\n",
       "          (linear): WeightDropout(\n",
       "            (module): Linear(in_features=1550, out_features=4650, bias=True)\n",
       "          )\n",
       "        )\n",
       "      )\n",
       "    )\n",
       "    (3): QRNN(\n",
       "      (layers): ModuleList(\n",
       "        (0): QRNNLayer(\n",
       "          (linear): WeightDropout(\n",
       "            (module): Linear(in_features=1550, out_features=1200, bias=True)\n",
       "          )\n",
       "        )\n",
       "      )\n",
       "    )\n",
       "  )\n",
       "  (input_dp): RNNDropout()\n",
       "  (hidden_dps): ModuleList(\n",
       "    (0): RNNDropout()\n",
       "    (1): RNNDropout()\n",
       "    (2): RNNDropout()\n",
       "    (3): RNNDropout()\n",
       "  )\n",
       ")"
      ]
     },
     "execution_count": 94,
     "metadata": {
      "tags": []
     },
     "output_type": "execute_result"
    }
   ],
   "source": [
    "#put the model in eval mode, because we don't want to update wheights and dropout while doing inference.\n",
    "encoder.eval()"
   ]
  },
  {
   "cell_type": "code",
   "execution_count": null,
   "metadata": {
    "id": "8o6Q10JibaKW"
   },
   "outputs": [],
   "source": [
    "#taken from fastai. No modification.\n",
    "class SequentialRNN(nn.Sequential):\n",
    "    \"A sequential module that passes the reset call to its children.\"\n",
    "    def reset(self):\n",
    "        for c in self.children():\n",
    "            if hasattr(c, 'reset'): c.reset()"
   ]
  },
  {
   "cell_type": "code",
   "execution_count": null,
   "metadata": {
    "colab": {
     "base_uri": "https://localhost:8080/",
     "height": 990
    },
    "id": "SK5Q9Y1Sm3aJ",
    "outputId": "e313abb7-1c2f-4a7e-d756-fae21e97cf87"
   },
   "outputs": [
    {
     "data": {
      "text/plain": [
       "SequentialRNN(\n",
       "  (0): MultiBatchEncoder(\n",
       "    (module): AWD_LSTM(\n",
       "      (encoder): Embedding(11600, 400, padding_idx=1)\n",
       "      (encoder_dp): EmbeddingDropout(\n",
       "        (emb): Embedding(11600, 400, padding_idx=1)\n",
       "      )\n",
       "      (rnns): ModuleList(\n",
       "        (0): QRNN(\n",
       "          (layers): ModuleList(\n",
       "            (0): QRNNLayer(\n",
       "              (linear): WeightDropout(\n",
       "                (module): Linear(in_features=800, out_features=4650, bias=True)\n",
       "              )\n",
       "            )\n",
       "          )\n",
       "        )\n",
       "        (1): QRNN(\n",
       "          (layers): ModuleList(\n",
       "            (0): QRNNLayer(\n",
       "              (linear): WeightDropout(\n",
       "                (module): Linear(in_features=1550, out_features=4650, bias=True)\n",
       "              )\n",
       "            )\n",
       "          )\n",
       "        )\n",
       "        (2): QRNN(\n",
       "          (layers): ModuleList(\n",
       "            (0): QRNNLayer(\n",
       "              (linear): WeightDropout(\n",
       "                (module): Linear(in_features=1550, out_features=4650, bias=True)\n",
       "              )\n",
       "            )\n",
       "          )\n",
       "        )\n",
       "        (3): QRNN(\n",
       "          (layers): ModuleList(\n",
       "            (0): QRNNLayer(\n",
       "              (linear): WeightDropout(\n",
       "                (module): Linear(in_features=1550, out_features=1200, bias=True)\n",
       "              )\n",
       "            )\n",
       "          )\n",
       "        )\n",
       "      )\n",
       "      (input_dp): RNNDropout()\n",
       "      (hidden_dps): ModuleList(\n",
       "        (0): RNNDropout()\n",
       "        (1): RNNDropout()\n",
       "        (2): RNNDropout()\n",
       "        (3): RNNDropout()\n",
       "      )\n",
       "    )\n",
       "  )\n",
       "  (1): Pooling()\n",
       ")"
      ]
     },
     "execution_count": 96,
     "metadata": {
      "tags": []
     },
     "output_type": "execute_result"
    }
   ],
   "source": [
    "bptt = 10\n",
    "max_len = 10 * bptt\n",
    "benc = MultiBatchEncoder(20,200,encoder)\n",
    "enc_model = SequentialRNN(benc, Pooling())\n",
    "enc_model.eval()"
   ]
  },
  {
   "cell_type": "code",
   "execution_count": null,
   "metadata": {
    "id": "d1J4Ww3KiOt7"
   },
   "outputs": [],
   "source": [
    "#put it on GPU\n",
    "enc_model = enc_model.cuda()"
   ]
  },
  {
   "cell_type": "code",
   "execution_count": null,
   "metadata": {
    "id": "m8tWvFbMZtzK"
   },
   "outputs": [],
   "source": [
    "#run the embeddings on GPU with the batch size bs. \n",
    "bs = 64\n",
    "embeddings = []\n",
    "with torch.no_grad():\n",
    "  for i in range(0,len(data),bs):\n",
    "    if len(data)%(i+1)==10: print(f\"{i/len(data):.0%}\")\n",
    "    batch = data[i:min(i+bs, len(data))].cuda()\n",
    "    out=enc_model(batch)\n",
    "    embeddings.append(out.cpu().numpy())"
   ]
  },
  {
   "cell_type": "code",
   "execution_count": null,
   "metadata": {
    "id": "KHq1IWQgluJn"
   },
   "outputs": [],
   "source": [
    "embeddings = np.vstack(embeddings)"
   ]
  },
  {
   "cell_type": "code",
   "execution_count": null,
   "metadata": {
    "id": "vhxL2Pb0hEYY"
   },
   "outputs": [],
   "source": [
    "pickle.dump(embeddings, open(work/\"embeddings.pkl\", \"wb\"))"
   ]
  },
  {
   "cell_type": "markdown",
   "metadata": {
    "id": "f5XXtDwzmYm5"
   },
   "source": [
    "# using LSH or equivalent for fast clustering\n",
    "[annoy](https://github.com/spotify/annoy)\n",
    "\n",
    "[faiss](https://github.com/facebookresearch/faiss)\n",
    "\n",
    "Currently using annoy. \n",
    "The current embeddings should be of length 1200,  as they are \n",
    "the last, mean and max activation of the RNN with an hidden size of 400"
   ]
  },
  {
   "cell_type": "code",
   "execution_count": null,
   "metadata": {
    "colab": {
     "base_uri": "https://localhost:8080/",
     "height": 211
    },
    "id": "BkaBoaFCnWpg",
    "outputId": "032e69d8-bba1-4585-b5aa-082558eee6b4"
   },
   "outputs": [
    {
     "name": "stdout",
     "output_type": "stream",
     "text": [
      "Collecting annoy\n",
      "\u001b[?25l  Downloading https://files.pythonhosted.org/packages/00/15/5a9db225ebda93a235aebd5e42bbf83ab7035e7e4783c6cb528c635c9afb/annoy-1.16.3.tar.gz (644kB)\n",
      "\r",
      "\u001b[K     |▌                               | 10kB 16.1MB/s eta 0:00:01\r",
      "\u001b[K     |█                               | 20kB 2.0MB/s eta 0:00:01\r",
      "\u001b[K     |█▌                              | 30kB 2.2MB/s eta 0:00:01\r",
      "\u001b[K     |██                              | 40kB 2.5MB/s eta 0:00:01\r",
      "\u001b[K     |██▌                             | 51kB 2.4MB/s eta 0:00:01\r",
      "\u001b[K     |███                             | 61kB 2.6MB/s eta 0:00:01\r",
      "\u001b[K     |███▋                            | 71kB 3.0MB/s eta 0:00:01\r",
      "\u001b[K     |████                            | 81kB 3.0MB/s eta 0:00:01\r",
      "\u001b[K     |████▋                           | 92kB 3.1MB/s eta 0:00:01\r",
      "\u001b[K     |█████                           | 102kB 3.2MB/s eta 0:00:01\r",
      "\u001b[K     |█████▋                          | 112kB 3.2MB/s eta 0:00:01\r",
      "\u001b[K     |██████                          | 122kB 3.2MB/s eta 0:00:01\r",
      "\u001b[K     |██████▋                         | 133kB 3.2MB/s eta 0:00:01\r",
      "\u001b[K     |███████▏                        | 143kB 3.2MB/s eta 0:00:01\r",
      "\u001b[K     |███████▋                        | 153kB 3.2MB/s eta 0:00:01\r",
      "\u001b[K     |████████▏                       | 163kB 3.2MB/s eta 0:00:01\r",
      "\u001b[K     |████████▋                       | 174kB 3.2MB/s eta 0:00:01\r",
      "\u001b[K     |█████████▏                      | 184kB 3.2MB/s eta 0:00:01\r",
      "\u001b[K     |█████████▋                      | 194kB 3.2MB/s eta 0:00:01\r",
      "\u001b[K     |██████████▏                     | 204kB 3.2MB/s eta 0:00:01\r",
      "\u001b[K     |██████████▊                     | 215kB 3.2MB/s eta 0:00:01\r",
      "\u001b[K     |███████████▏                    | 225kB 3.2MB/s eta 0:00:01\r",
      "\u001b[K     |███████████▊                    | 235kB 3.2MB/s eta 0:00:01\r",
      "\u001b[K     |████████████▏                   | 245kB 3.2MB/s eta 0:00:01\r",
      "\u001b[K     |████████████▊                   | 256kB 3.2MB/s eta 0:00:01\r",
      "\u001b[K     |█████████████▎                  | 266kB 3.2MB/s eta 0:00:01\r",
      "\u001b[K     |█████████████▊                  | 276kB 3.2MB/s eta 0:00:01\r",
      "\u001b[K     |██████████████▎                 | 286kB 3.2MB/s eta 0:00:01\r",
      "\u001b[K     |██████████████▊                 | 296kB 3.2MB/s eta 0:00:01\r",
      "\u001b[K     |███████████████▎                | 307kB 3.2MB/s eta 0:00:01\r",
      "\u001b[K     |███████████████▊                | 317kB 3.2MB/s eta 0:00:01\r",
      "\u001b[K     |████████████████▎               | 327kB 3.2MB/s eta 0:00:01\r",
      "\u001b[K     |████████████████▉               | 337kB 3.2MB/s eta 0:00:01\r",
      "\u001b[K     |█████████████████▎              | 348kB 3.2MB/s eta 0:00:01\r",
      "\u001b[K     |█████████████████▉              | 358kB 3.2MB/s eta 0:00:01\r",
      "\u001b[K     |██████████████████▎             | 368kB 3.2MB/s eta 0:00:01\r",
      "\u001b[K     |██████████████████▉             | 378kB 3.2MB/s eta 0:00:01\r",
      "\u001b[K     |███████████████████▎            | 389kB 3.2MB/s eta 0:00:01\r",
      "\u001b[K     |███████████████████▉            | 399kB 3.2MB/s eta 0:00:01\r",
      "\u001b[K     |████████████████████▍           | 409kB 3.2MB/s eta 0:00:01\r",
      "\u001b[K     |████████████████████▉           | 419kB 3.2MB/s eta 0:00:01\r",
      "\u001b[K     |█████████████████████▍          | 430kB 3.2MB/s eta 0:00:01\r",
      "\u001b[K     |█████████████████████▉          | 440kB 3.2MB/s eta 0:00:01\r",
      "\u001b[K     |██████████████████████▍         | 450kB 3.2MB/s eta 0:00:01\r",
      "\u001b[K     |██████████████████████▉         | 460kB 3.2MB/s eta 0:00:01\r",
      "\u001b[K     |███████████████████████▍        | 471kB 3.2MB/s eta 0:00:01\r",
      "\u001b[K     |████████████████████████        | 481kB 3.2MB/s eta 0:00:01\r",
      "\u001b[K     |████████████████████████▍       | 491kB 3.2MB/s eta 0:00:01\r",
      "\u001b[K     |█████████████████████████       | 501kB 3.2MB/s eta 0:00:01\r",
      "\u001b[K     |█████████████████████████▍      | 512kB 3.2MB/s eta 0:00:01\r",
      "\u001b[K     |██████████████████████████      | 522kB 3.2MB/s eta 0:00:01\r",
      "\u001b[K     |██████████████████████████▌     | 532kB 3.2MB/s eta 0:00:01\r",
      "\u001b[K     |███████████████████████████     | 542kB 3.2MB/s eta 0:00:01\r",
      "\u001b[K     |███████████████████████████▌    | 552kB 3.2MB/s eta 0:00:01\r",
      "\u001b[K     |████████████████████████████    | 563kB 3.2MB/s eta 0:00:01\r",
      "\u001b[K     |████████████████████████████▌   | 573kB 3.2MB/s eta 0:00:01\r",
      "\u001b[K     |█████████████████████████████   | 583kB 3.2MB/s eta 0:00:01\r",
      "\u001b[K     |█████████████████████████████▌  | 593kB 3.2MB/s eta 0:00:01\r",
      "\u001b[K     |██████████████████████████████  | 604kB 3.2MB/s eta 0:00:01\r",
      "\u001b[K     |██████████████████████████████▌ | 614kB 3.2MB/s eta 0:00:01\r",
      "\u001b[K     |███████████████████████████████ | 624kB 3.2MB/s eta 0:00:01\r",
      "\u001b[K     |███████████████████████████████▌| 634kB 3.2MB/s eta 0:00:01\r",
      "\u001b[K     |████████████████████████████████| 645kB 3.2MB/s \n",
      "\u001b[?25hBuilding wheels for collected packages: annoy\n",
      "  Building wheel for annoy (setup.py) ... \u001b[?25l\u001b[?25hdone\n",
      "  Created wheel for annoy: filename=annoy-1.16.3-cp36-cp36m-linux_x86_64.whl size=297330 sha256=45df009d5f2eebd4fa10469d23278129e91b04e324c9fd0737080c54a2383a26\n",
      "  Stored in directory: /root/.cache/pip/wheels/f3/01/54/6ef760fe9f9fc6ba8c19cebbe6358212b5f3b5b0195c0b813f\n",
      "Successfully built annoy\n",
      "Installing collected packages: annoy\n",
      "Successfully installed annoy-1.16.3\n"
     ]
    }
   ],
   "source": [
    "pip install annoy"
   ]
  },
  {
   "cell_type": "code",
   "execution_count": null,
   "metadata": {
    "id": "ADhtk2bZnLnp"
   },
   "outputs": [],
   "source": [
    "embeddings = pickle.load(open(work/'embeddings.pkl', 'rb'))"
   ]
  },
  {
   "cell_type": "code",
   "execution_count": null,
   "metadata": {
    "id": "xTE2VUmhnSou"
   },
   "outputs": [],
   "source": [
    "from annoy import AnnoyIndex"
   ]
  },
  {
   "cell_type": "code",
   "execution_count": null,
   "metadata": {
    "id": "X4X2MHDGoyVn"
   },
   "outputs": [],
   "source": [
    "#build an index for 400 long embeddings. \n",
    "f=400\n",
    "t = AnnoyIndex(f, 'angular')"
   ]
  },
  {
   "cell_type": "code",
   "execution_count": null,
   "metadata": {
    "id": "K_OmNB8so8ef"
   },
   "outputs": [],
   "source": [
    "#add every embeddings to it\n",
    "for i in range(len(embeddings)):\n",
    "  t.add_item(i, embeddings[i,:400])"
   ]
  },
  {
   "cell_type": "code",
   "execution_count": null,
   "metadata": {
    "colab": {
     "base_uri": "https://localhost:8080/",
     "height": 34
    },
    "id": "ETKKIlH-pGWM",
    "outputId": "fc9d0447-783a-44ba-d8b6-802397f83cf9"
   },
   "outputs": [
    {
     "data": {
      "text/plain": [
       "True"
      ]
     },
     "execution_count": 108,
     "metadata": {
      "tags": []
     },
     "output_type": "execute_result"
    }
   ],
   "source": [
    "#build the tree\n",
    "t.build(100)"
   ]
  },
  {
   "cell_type": "code",
   "execution_count": null,
   "metadata": {
    "colab": {
     "base_uri": "https://localhost:8080/",
     "height": 34
    },
    "id": "JLAhQU8apK_N",
    "outputId": "4c796a74-b6b1-4814-d861-42ab1b67293d"
   },
   "outputs": [
    {
     "data": {
      "text/plain": [
       "True"
      ]
     },
     "execution_count": 109,
     "metadata": {
      "tags": []
     },
     "output_type": "execute_result"
    }
   ],
   "source": [
    "t.save(str(work/'100.ann'))"
   ]
  },
  {
   "cell_type": "code",
   "execution_count": null,
   "metadata": {
    "colab": {
     "base_uri": "https://localhost:8080/",
     "height": 34
    },
    "id": "k7wj9TRLpWyW",
    "outputId": "6a77e80a-7cdd-4a7b-be29-010c40684e47"
   },
   "outputs": [
    {
     "data": {
      "text/plain": [
       "True"
      ]
     },
     "execution_count": 110,
     "metadata": {
      "tags": []
     },
     "output_type": "execute_result"
    }
   ],
   "source": [
    "t = AnnoyIndex(f, 'angular')\n",
    "t.load(str(work/'100.ann'))"
   ]
  },
  {
   "cell_type": "markdown",
   "metadata": {
    "id": "jC7EDK-gqNNi"
   },
   "source": [
    "checking if the results make sens:"
   ]
  },
  {
   "cell_type": "code",
   "execution_count": null,
   "metadata": {
    "id": "pBWBp33KqLsu"
   },
   "outputs": [],
   "source": [
    "strings = pickle.load(open(work/'strings.pkl', 'rb'))"
   ]
  },
  {
   "cell_type": "code",
   "execution_count": null,
   "metadata": {
    "id": "5Vw_b5dXpnO4"
   },
   "outputs": [],
   "source": [
    "#get the 20 closest items to the 0th. \n",
    "close = t.get_nns_by_item(0, 20,)"
   ]
  },
  {
   "cell_type": "code",
   "execution_count": null,
   "metadata": {
    "colab": {
     "base_uri": "https://localhost:8080/",
     "height": 384
    },
    "id": "2qfPeZKQq7Pi",
    "outputId": "0b787b46-e9da-432a-c475-50a33c727403"
   },
   "outputs": [
    {
     "data": {
      "text/plain": [
       "['xxfld 364 acer v173 djobd 75hz .0\"  (um.bv3aa.d02) -  xxfld 498 5:4 xxfld 416 250 cd/m² xxfld 60 no xxfld 646 acm 20000:1 (1000:1) xxfld 1140 16700000 xxfld 517 acer xxfld 434 v173 djobd xxfld 476 um.bv3aa.d02 xxfld 1390 1280 x 1024 xxfld 139 75hz xxfld 532 5 ms xxfld 1659 17\" xxfld 1053 no',\n",
       " 'xxfld 364 acer um.bv6aa.003 75hz .0\"  (um.bv6aa.003) -  xxfld 498 5:4 xxfld 416 250 cd/m² xxfld 60 no xxfld 646 100,000,000:1 xxfld 1140 16700000 xxfld 517 acer xxfld 476 um.bv6aa.003 xxfld 1390 1280 x 1024 xxfld 139 75hz xxfld 532 5 ms xxfld 1659 17\" xxfld 1053 no',\n",
       " 'xxfld 364 acer um.bv6aa.002 75hz .0\"  (um.bv6aa.002) -  xxfld 498 5:4 xxfld 416 250 cd/m² xxfld 60 no xxfld 646 100,000,000:1 xxfld 1140 16700000 xxfld 517 acer xxfld 476 um.bv6aa.002 xxfld 1390 1280 x 1024 xxfld 139 75hz xxfld 532 5 ms xxfld 1659 17\" xxfld 1053 no',\n",
       " 'xxfld 364  as172-bk 76hz .0\"  (as172-bk) -  xxfld 498 5:4 xxfld 416 250 cd/m² xxfld 60 no xxfld 646 1000:1 xxfld 517 nec xxfld 476 as172-bk xxfld 1390 1280 x 1024 xxfld 139 76hz xxfld 532 5 ms xxfld 1659 17\" xxfld 1053 no',\n",
       " 'xxfld 364 planar 997-7244-00 60hz .0\"  (997-7244-00) -  xxfld 498 5:4 xxfld 416 250 cd/m² xxfld 60 no xxfld 646 1000:1 xxfld 1140 16700000 xxfld 517 planar xxfld 476 997-7244-00 xxfld 1390 1280 x 1024 xxfld 139 60hz xxfld 532 5 ms xxfld 1659 17\" xxfld 1053 no',\n",
       " 'xxfld 364  e171m-bk 60hz .0\"  (e171m-bk) -  xxfld 498 5:4 xxfld 416 250 cd/m² xxfld 60 yes xxfld 646 1000:1 xxfld 1140 16700000 xxfld 517 nec xxfld 476 e171m-bk xxfld 1390 1280 x 1024 xxfld 139 60hz xxfld 532 5 ms xxfld 1659 17\" xxfld 1053 no',\n",
       " 'xxfld 364 hp f4m97a8#aba 60hz .0\"  (f4m97a8#aba) -  xxfld 498 5:4 xxfld 416 250 cd/m² xxfld 60 no xxfld 646 1000:1 xxfld 1140 16700000 xxfld 517 hp xxfld 476 f4m97a8#aba xxfld 1390 1280 x 1024 xxfld 139 60hz xxfld 532 5 ms xxfld 1659 17\" xxfld 1053 no',\n",
       " 'xxfld 364 dell 1708 fpt \"   db15 1280 x 1024 tested working very good shap 683728180348 |  xxfld 498 5:4 xxfld 324 dell xxfld 416 300 cd/mâ² xxfld 646 800 xxfld 1586 lcd xxfld 1340 1280 x 1024 xxfld 434 1708 fpt xxfld 1365 320-5294 xxfld 532 5 ms xxfld 1659 17\" xxfld 732 683728180348',\n",
       " 'xxfld 364 lot of 5 dell \" flat screen  1708fpf pn0pm372 with power   cords 683728180348 |  xxfld 498 5:4 xxfld 324 dell xxfld 416 300 cd/mâ² xxfld 646 800 xxfld 1586 lcd xxfld 1340 1280 x 1024 xxfld 434 1708 fpt xxfld 1365 320-5294 xxfld 532 5 ms xxfld 1659 17\" xxfld 732 683728180348',\n",
       " 'xxfld 364 dell ultrasharp 1708fpt \" tft  w power   cords 108013 683728180348 |  xxfld 498 5:4 xxfld 324 dell xxfld 416 300 cd/mâ² xxfld 646 800 xxfld 1586 lcd xxfld 1340 1280 x 1024 xxfld 434 1708 fpt xxfld 1365 320-5294 xxfld 532 5 ms xxfld 1659 17\" xxfld 732 683728180348',\n",
       " 'xxfld 364 acer 17â\\x80\\x9d  al1716 f works great simple   crisp screen  frame |  xxfld 498 5:4 xxfld 324 acer xxfld 646 500 xxfld 1586 lcd xxfld 1340 vga xxfld 434 1716 f xxfld 1365 et.1716p.232 xxfld 532 5 ms xxfld 1659 17\" xxfld 1040 vga',\n",
       " 'xxfld 364 \" samsung syncmaster 740bx  |  xxfld 498 5:4 xxfld 324 samsung xxfld 416 300 cd/mï¿½ xxfld 1065 used: an item that has been used previously. the item may have some signs of cosmetic wear, but is f xxfld 646 1000:1 xxfld 1586 lcd xxfld 434 740bx xxfld 1365 740bx xxfld 532 5 ms xxfld 1659 17\" xxfld 989 desktop',\n",
       " 'xxfld 364 \" dell  e170s |  xxfld 498 4:3 xxfld 324 dell xxfld 416 250 cd/mâ² xxfld 646 800 xxfld 1586 lcd xxfld 1400 usb hub xxfld 1088 1280 x 1024 xxfld 434 e170s xxfld 1365 4687413, n445n xxfld 532 5 ms xxfld 1659 17\" xxfld 989 desktop',\n",
       " 'xxfld 364 dell e170s \"  flat panel  |  xxfld 498 4:3 xxfld 324 dell xxfld 416 250 cd/mâ² xxfld 646 800 xxfld 1586 lcd xxfld 1088 1280 x 1024 xxfld 434 e170s xxfld 1365 4687413, n445n xxfld 532 5 ms xxfld 1659 17\" xxfld 989 desktop',\n",
       " 'xxfld 364 dell e e178wfpc \"  |  xxfld 498 15:9 xxfld 324 dell xxfld 416 250 cd/mâ² xxfld 646 600 xxfld 1586 lcd xxfld 434 e178wfpc xxfld 1365 hx948 xxfld 532 8 ms xxfld 1659 17\" xxfld 989 desktop',\n",
       " 'xxfld 364 dell ultra sharp \" 1704fpvt  1280x1024 res. clean xxfld 498 4:3 xxfld 324 dell xxfld 646 1000 xxfld 1586 lcd xxfld 1340 1280 x 1024 xxfld 434 1704fpvt xxfld 1365 1704fpvt-b xxfld 532 25 ms xxfld 1659 17\" xxfld 732 683728157388',\n",
       " 'xxfld 364 dell ultrasharp 1704fpvt \"  with   power cables 683728157388 |  xxfld 498 4:3 xxfld 324 dell xxfld 646 1000 xxfld 1586 lcd xxfld 1340 1280 x 1024 xxfld 434 1704fpvt xxfld 1365 1704fpvt-b xxfld 532 25 ms xxfld 1659 17\" xxfld 732 683728157388',\n",
       " 'xxfld 364 dell ultrasharp e173fpf \"  with cables analog only 884116026983 |  xxfld 498 5:4 xxfld 324 dell xxfld 416 250 cd/mâ² xxfld 646 450 xxfld 1586 lcd xxfld 1340 1280 x 1024 xxfld 434 e173fpb xxfld 1365 e173fpb xxfld 532 16 ms xxfld 1659 17\" xxfld 732 884116026983',\n",
       " 'xxfld 364 liquidvideo e17lcd1  \"  w built  speakers 766907240610 |  xxfld 498 16:10 xxfld 416 250 cd/mâ² xxfld 1065 used: an item that has been used previously. the item may have some signs of cosmetic wear, but is f xxfld 646 1500, 500 xxfld 1586 lcd xxfld 1340 1440 x 900 xxfld 434 value va1703w xxfld 1365 va1703w xxfld 532 8 ms xxfld 1659 17\" xxfld 989 desktop',\n",
       " 'xxfld 364 samsung 713n  8808979591398 |  xxfld 324 samsung xxfld 416 300 cd/mâ² xxfld 1065 used: an item that has been used previously. the item may have some signs of cosmetic wear, but is f xxfld 646 600:1 xxfld 1586 lcd xxfld 434 713n xxfld 532 8 ms xxfld 1659 17\" xxfld 989 desktop']"
      ]
     },
     "execution_count": 113,
     "metadata": {
      "tags": []
     },
     "output_type": "execute_result"
    }
   ],
   "source": [
    "#and their visualization.\n",
    "[strings[c] for c in close]"
   ]
  },
  {
   "cell_type": "markdown",
   "metadata": {
    "id": "5aafTC1YOdPR"
   },
   "source": [
    "Please not how all of the \"closest\" are actually from the same source!"
   ]
  },
  {
   "cell_type": "markdown",
   "metadata": {
    "id": "njQRkhJDrPtf"
   },
   "source": [
    "It is not that bad! We see that we mainly have acer of type \n",
    "umbvXaa or planar something. \n",
    "\n",
    "Ithing that one problem is that close tuple will automatically be the one that come form the same source... I see two solutions for that:\n",
    "* Query for the closest tuple in each source separately\n",
    "* Make some magic normalisation to \"remove\" source locality."
   ]
  },
  {
   "cell_type": "markdown",
   "metadata": {
    "id": "mYZV7VANuGr0"
   },
   "source": [
    "### removing source locality\n",
    "\n",
    "I'm going to try and remove information from source by, \n",
    "for each source, removing the mean and dividing by the variance"
   ]
  },
  {
   "cell_type": "code",
   "execution_count": null,
   "metadata": {
    "id": "jx2sfmCqvKwF"
   },
   "outputs": [],
   "source": [
    "source_len = [len(source) for source in jdic]\n",
    "start  = np.cumsum([0]+source_len)"
   ]
  },
  {
   "cell_type": "code",
   "execution_count": null,
   "metadata": {
    "id": "iuquuBS4vR-8"
   },
   "outputs": [],
   "source": [
    "indexes = list(zip(start[:-1], start[1:]))"
   ]
  },
  {
   "cell_type": "code",
   "execution_count": null,
   "metadata": {
    "id": "aujKG_N2vtlc"
   },
   "outputs": [],
   "source": [
    "#Z-score normalisation for each object. \n",
    "norm_embs = []\n",
    "for (i,j) in indexes:\n",
    "  source_emb = embeddings[i:j,:]\n",
    "  mean = source_emb.mean(axis=0)\n",
    "  std = source_emb.std(axis=0)\n",
    "  norm_embs.append((source_emb-mean)/std)\n",
    "norm_embs = np.vstack(norm_embs)"
   ]
  },
  {
   "cell_type": "markdown",
   "metadata": {
    "id": "_ARJZk3qOXMP"
   },
   "source": []
  },
  {
   "cell_type": "code",
   "execution_count": null,
   "metadata": {
    "colab": {
     "base_uri": "https://localhost:8080/",
     "height": 238
    },
    "id": "vIsXHJD2MTlP",
    "outputId": "7f738e74-a7d1-4b70-b2f2-e191205c7c64"
   },
   "outputs": [
    {
     "ename": "IndexError",
     "evalue": "ignored",
     "output_type": "error",
     "traceback": [
      "\u001b[0;31m---------------------------------------------------------------------------\u001b[0m",
      "\u001b[0;31mIndexError\u001b[0m                                Traceback (most recent call last)",
      "\u001b[0;32m<ipython-input-117-9a7d59d99c57>\u001b[0m in \u001b[0;36m<module>\u001b[0;34m()\u001b[0m\n\u001b[1;32m      3\u001b[0m \u001b[0mt\u001b[0m \u001b[0;34m=\u001b[0m \u001b[0mAnnoyIndex\u001b[0m\u001b[0;34m(\u001b[0m\u001b[0mf\u001b[0m\u001b[0;34m,\u001b[0m \u001b[0;34m'angular'\u001b[0m\u001b[0;34m)\u001b[0m\u001b[0;34m\u001b[0m\u001b[0;34m\u001b[0m\u001b[0m\n\u001b[1;32m      4\u001b[0m \u001b[0;32mfor\u001b[0m \u001b[0mi\u001b[0m \u001b[0;32min\u001b[0m \u001b[0mrange\u001b[0m\u001b[0;34m(\u001b[0m\u001b[0mlen\u001b[0m\u001b[0;34m(\u001b[0m\u001b[0membeddings\u001b[0m\u001b[0;34m)\u001b[0m\u001b[0;34m)\u001b[0m\u001b[0;34m:\u001b[0m\u001b[0;34m\u001b[0m\u001b[0;34m\u001b[0m\u001b[0m\n\u001b[0;32m----> 5\u001b[0;31m   \u001b[0mt\u001b[0m\u001b[0;34m.\u001b[0m\u001b[0madd_item\u001b[0m\u001b[0;34m(\u001b[0m\u001b[0mi\u001b[0m\u001b[0;34m,\u001b[0m \u001b[0mnorm_embs\u001b[0m\u001b[0;34m[\u001b[0m\u001b[0mi\u001b[0m\u001b[0;34m,\u001b[0m\u001b[0;34m:\u001b[0m\u001b[0;36m400\u001b[0m\u001b[0;34m]\u001b[0m\u001b[0;34m)\u001b[0m\u001b[0;34m\u001b[0m\u001b[0;34m\u001b[0m\u001b[0m\n\u001b[0m\u001b[1;32m      6\u001b[0m \u001b[0mt\u001b[0m\u001b[0;34m.\u001b[0m\u001b[0mbuild\u001b[0m\u001b[0;34m(\u001b[0m\u001b[0;36m100\u001b[0m\u001b[0;34m)\u001b[0m\u001b[0;34m\u001b[0m\u001b[0;34m\u001b[0m\u001b[0m\n\u001b[1;32m      7\u001b[0m \u001b[0mt\u001b[0m\u001b[0;34m.\u001b[0m\u001b[0msave\u001b[0m\u001b[0;34m(\u001b[0m\u001b[0mstr\u001b[0m\u001b[0;34m(\u001b[0m\u001b[0mwork\u001b[0m\u001b[0;34m/\u001b[0m\u001b[0;34m'100.ann'\u001b[0m\u001b[0;34m)\u001b[0m\u001b[0;34m)\u001b[0m\u001b[0;34m\u001b[0m\u001b[0;34m\u001b[0m\u001b[0m\n",
      "\u001b[0;31mIndexError\u001b[0m: index 960 is out of bounds for axis 0 with size 960"
     ]
    }
   ],
   "source": [
    "#doing the query again\n",
    "f=400\n",
    "t = AnnoyIndex(f, 'angular')\n",
    "for i in range(len(embeddings)):\n",
    "  t.add_item(i, norm_embs[i,:400])\n",
    "t.build(100)\n",
    "t.save(str(work/'100.ann'))\n",
    "t = AnnoyIndex(f, 'angular')\n",
    "t.load(str(work/'100.ann'))"
   ]
  },
  {
   "cell_type": "code",
   "execution_count": null,
   "metadata": {
    "id": "37OtHIjXMZyh"
   },
   "outputs": [],
   "source": [
    "close = t.get_nns_by_item(0, 20,)"
   ]
  },
  {
   "cell_type": "code",
   "execution_count": null,
   "metadata": {
    "colab": {
     "base_uri": "https://localhost:8080/",
     "height": 34
    },
    "id": "CJIHVlXTMZyl",
    "outputId": "993d2aa3-1478-459f-9bfb-a60738db16ac"
   },
   "outputs": [
    {
     "data": {
      "text/plain": [
       "[]"
      ]
     },
     "execution_count": 119,
     "metadata": {
      "tags": []
     },
     "output_type": "execute_result"
    }
   ],
   "source": [
    "[strings[c] for c in close]"
   ]
  },
  {
   "cell_type": "markdown",
   "metadata": {
    "id": "TVGMoQl3NKLs"
   },
   "source": [
    "It does not seems to change anything much!\n",
    "I still think that \"source locality\" can be a really big bother. I think this is where data augmentation and playing with random walks will help smoothing this out. \n",
    "\n",
    "Maybe one could even imagine a deep learning approach with adversarial networks to remove source specific information!\n",
    "\n",
    "As for now, we will be on our trump card: fine tuning the embeddings!\n",
    "\n",
    "Indeed, if we fine tune the embedding by learning from the label dataset, the RNN should then focus on the part of the text that are important for 'OUR' classification!"
   ]
  },
  {
   "cell_type": "markdown",
   "metadata": {
    "id": "jxizFe2xOpSx"
   },
   "source": [
    "### removing source by searching in each dataset"
   ]
  },
  {
   "cell_type": "code",
   "execution_count": null,
   "metadata": {
    "id": "GRTr1-Y6Oxs-"
   },
   "outputs": [],
   "source": [
    "source_len = pickle.load(open(work/'source_len.pkl', 'rb'))\n",
    "start  = np.cumsum([0]+source_len)"
   ]
  },
  {
   "cell_type": "code",
   "execution_count": null,
   "metadata": {
    "id": "lCU_kN6hOxtU"
   },
   "outputs": [],
   "source": [
    "indexes = list(zip(start[:-1], start[1:]))"
   ]
  },
  {
   "cell_type": "code",
   "execution_count": null,
   "metadata": {
    "colab": {
     "base_uri": "https://localhost:8080/",
     "height": 920
    },
    "id": "fr1khomSOzDX",
    "outputId": "767b6158-a81e-4006-90fc-a3a09577fd9d"
   },
   "outputs": [
    {
     "name": "stdout",
     "output_type": "stream",
     "text": [
      "0%\n",
      "[0, 6, 4, 35, 45]\n",
      "4%\n",
      "[0, 3, 24, 29, 14]\n",
      "8%\n",
      "[0, 48, 9, 3, 36]\n",
      "12%\n",
      "[0, 47, 26, 46, 21]\n",
      "15%\n",
      "[0, 25, 31, 8, 26]\n",
      "19%\n",
      "[0, 26, 21, 2, 48]\n",
      "23%\n",
      "[0, 3, 44, 11, 22]\n",
      "27%\n",
      "[0, 11, 39, 44, 8]\n",
      "31%\n",
      "[0, 10, 48, 49, 8]\n",
      "35%\n",
      "[0, 10, 25, 36, 12]\n",
      "38%\n",
      "[0, 35, 15, 11, 31]\n",
      "42%\n",
      "[0, 33, 46, 38, 2]\n",
      "46%\n",
      "[0, 42, 1, 29, 26]\n",
      "50%\n",
      "[0, 2, 31, 7, 48]\n",
      "54%\n",
      "[0, 7, 37, 31, 42]\n",
      "58%\n",
      "[0, 12, 4, 20, 5]\n",
      "62%\n",
      "[0, 7, 48, 30, 26]\n",
      "65%\n",
      "[0, 45, 44, 49, 7]\n",
      "69%\n",
      "[0, 4, 35, 22, 38]\n",
      "73%\n",
      "[0, 21, 38, 33, 32]\n",
      "77%\n",
      "[0, 13, 27, 37, 28]\n",
      "81%\n",
      "[0, 7, 27, 46, 38]\n",
      "85%\n",
      "[0, 30, 16, 22, 33]\n",
      "88%\n",
      "[0, 18, 44, 1, 36]\n",
      "92%\n",
      "[0, 2, 27, 41, 30]\n",
      "96%\n",
      "[0, 46, 27, 45, 28]\n"
     ]
    }
   ],
   "source": [
    "f=1200\n",
    "close=[]\n",
    "distances=[]\n",
    "for u, (i,j) in enumerate(indexes):\n",
    "  print(f\"{u/len(indexes):.0%}\")\n",
    "  t = AnnoyIndex(f, 'angular')\n",
    "  t.build(50)\n",
    "  t.add_item(0, embeddings[0])\n",
    "  for k,e in enumerate(embeddings[i:j]): t.add_item(k, e)\n",
    "  c,d = t.get_nns_by_item(0, 5,include_distances=True)\n",
    "  print(c)\n",
    "  close+=[i+k for k in c[1:]]\n",
    "  distances+=d[1:]"
   ]
  },
  {
   "cell_type": "code",
   "execution_count": null,
   "metadata": {
    "colab": {
     "base_uri": "https://localhost:8080/",
     "height": 1000
    },
    "id": "I7XUb4wePYIA",
    "outputId": "8ab77b59-aa3c-441a-f9ca-4eb7e47ca7e0"
   },
   "outputs": [
    {
     "data": {
      "text/plain": [
       "[('xxfld 364  - 240b4lpycs/00 |  240b4lpycs/00 (24 )  with  backlight 1920x1200 (silver) xxfld 498 16:10 xxfld 878 1 x 3.5mm pc audio input xxfld 1371 led xxfld 416 250cd/m2 xxfld 881 silver xxfld 646 1,000:1 (static) , 20,000,000:1 (dynamic) xxfld 747 smartimage is an exclusive leading edge philips technology that analyses the content displayed on yo xxfld 1168 1 x dvi-d xxfld 814 55.5cm (w) x 22.7cm (d) x 54.3cm (h) - weight 5.83kg xxfld 161 operating temperature 0 to 40°c - humidity 20 to 80% xxfld 831 yes xxfld 1261 0.270 x 0.270mm xxfld 690 20w (max) / 0.2w (standby) xxfld 1183 monitor xxfld 1406 1920 x 1200 pixels xxfld 532 5ms xxfld 717 30khz to 83khz xxfld 112 56hz to 76hz xxfld 1258 24in (diagonal) xxfld 774 tft lcd 16.7 million colour xxfld 117 2 x 1.5w xxfld 1174 ±65° xxfld 862 separate sync, sync on green xxfld 1466 -5 to +20° xxfld 1498 1 x 15-pin d-sub xxfld 1010 170° (horizontal - max) x 160° (vertical - max) xxfld 1308 100 to 240vac / 50 to 60hz xxfld 1276 yes , vesa compliant - 100mm x 100mm',\n",
       "  0.003330225357785821),\n",
       " ('xxfld 364  ve228dr -  xxfld 498 16:9 xxfld 133 [\\'no\\', \\'no\\'] xxfld 60 [\\'no\\', \\'no\\'] xxfld 533 [\\'kensington\\', \\'kensington\\'] xxfld 1577 [\\'ac, vga\\', \\'ac, vga\\'] xxfld 495 cel, ul/cul, cb, ce, erp, fcc, ccc, bsmi, gost-r, c-tick, vcci, psb, j-moss, rohs,weee xxfld 1644 [\\'black\\', \\'black\\'] xxfld 1114 80000000:1 xxfld 1147 56.9 mm xxfld 778 201.82 mm xxfld 524 lcd xxfld 6 250 cd/m² xxfld 318 546.1 mm (21.5 \") xxfld 615 54.6 cm xxfld 965 16.77 m xxfld 763 1920 x 1080 pixels xxfld 407 yes xxfld 71 full hd xxfld 1301 305.51 mm xxfld 1614 no xxfld 1680 385.96 mm xxfld 409 30 - 83 khz xxfld 1491 100 - 240 v xxfld 791 148 mm xxfld 864 468 mm xxfld 850 576 mm xxfld 1261 0.248 x 0.248 mm xxfld 154 [\\'yes\\', \\'yes\\'] xxfld 473 0.5 w xxfld 450 0.5 w xxfld 749 35 w xxfld 532 5 ms xxfld 611 1920 x 1080 (hd 1080) xxfld 1003 1080p xxfld 1274 no xxfld 1272 -5 - 20 ° xxfld 527 no xxfld 858 50 - 76 hz xxfld 1624 100 x 100 mm xxfld 310 170 ° xxfld 375 160 ° xxfld 822 yes xxfld 273 4.1 kg xxfld 1510 512.84 mm xxfld 1045 512.84 mm',\n",
       "  0.003332284511998296),\n",
       " ('xxfld 364  - c271p4qpjew/00 |  (27 )  with clinical d-image  backlight  (white) xxfld 498 16:9 xxfld 1371 led xxfld 416 300cd/m2 xxfld 881 white xxfld 646 5,000:1 (static) xxfld 747 basic safety, essential performance and reliability are essential requirements in a professional cli xxfld 1168 1 x dvi-d xxfld 814 63.9cm (w) x 19.1cm (d) x 57.7cm (h) - weight 7.9kg xxfld 1473 1 x displayport 1.2 xxfld 94 1 x hdmi xxfld 831 yes xxfld 1261 0.311 x 0.311mm xxfld 690 26w (max) / 0.4w (standby) xxfld 1183 monitor xxfld 1406 1920 x 1080 pixels xxfld 532 12ms xxfld 717 30khz to 83khz xxfld 112 56hz to 75hz xxfld 1258 27in (diagonal) xxfld 774 a-mva 16.7 million colour xxfld 117 2 x 2w xxfld 1174 ±65° xxfld 862 separate sync, sync on green xxfld 1466 -5 to +20° xxfld 1011 4 x usb 2.0 xxfld 1498 1 x 15-pin d-sub xxfld 1010 178° (horizontal - max) x 178° (vertical - max) xxfld 1308 100 to 240vac / 50 to 60hz xxfld 1276 yes , vesa compliant - 100mm x 100mm',\n",
       "  0.0038887206465005875),\n",
       " ('xxfld 364   ve278q ,  ve 278q  -  xxfld 498 16:9 xxfld 507 led xxfld 324 asus xxfld 416 300 xxfld 1577 audio cable xxfld 1421 monitors xxfld 1575 dvi / displayport / hdmi / vga xxfld 646 1000:1 xxfld 1147 220 mm xxfld 1667 27\" (more than 86%) xxfld 52 led xxfld 884 0.311 xxfld 750 1000000:1 (more than 63%) xxfld 1420 3610170565864, 4719543326930, 5711045704789, 0610839326983 xxfld 1400 asus smart contrast ratio / asus splendid / hdcp / picture in picture / skin-tone selection / trace  xxfld 94 1 xxfld 1301 44.60 cm xxfld 1522 $289 - abt show all prices » xxfld 1460 tn xxfld 593 45 w xxfld 1084 2 w xxfld 617 asus ve278q xxfld 910 0 out of 5 xxfld 762 1920x1080 (more than 64%) xxfld 532 2 ms (less than 89%) xxfld 384 6 w xxfld 581 92 xxfld 319 85 xxfld 460 yes xxfld 732 610839326983 xxfld 1004 brightness / contrast / tilt xxfld 357 170/160 xxfld 273 13.23 lb xxfld 1510 64.30 cm',\n",
       "  0.004960313439369202),\n",
       " ('xxfld 364 acer um.bv6aa.003 75hz .0\"  (um.bv6aa.003) -  xxfld 498 5:4 xxfld 416 250 cd/m² xxfld 60 no xxfld 646 100,000,000:1 xxfld 1140 16700000 xxfld 517 acer xxfld 476 um.bv6aa.003 xxfld 1390 1280 x 1024 xxfld 139 75hz xxfld 532 5 ms xxfld 1659 17\" xxfld 1053 no',\n",
       "  0.005293894559144974),\n",
       " ('xxfld 364 v246hlbd 24   um.fv6ee.001 acer xxfld 498 [\\'widescreen - 16:9\\', \\'widescreen\\'] xxfld 507 led backlight xxfld 416 250 cd/m2 xxfld 1577 1 x vga cable xxfld 1415 black xxfld 536 16.7 million colours xxfld 818 tco displays 6.0 xxfld 646 100000000:1 (dynamic) xxfld 1046 acer v246hlbd 24 led vga dvi monitor\\neveryday series monitors give you the beauty you appreciate and xxfld 1667 24\" xxfld 254 without stand - width: 56.7 cm - depth: 5.2 cm - height: 33.59 cm - weight: 3.5 kg xxfld 21 56.7 cm x 20.68 cm x 42.22 cm - with stand xxfld 930 tilt xxfld 52 led-backlit lcd monitor / tft active matrix xxfld 1400 hdcp, acer ecodisplay xxfld 627 100 x 100 mm xxfld 1112 170 xxfld 1277 vga â¦ dvi xxfld 616 united kingdom, europe, emea xxfld 517 acer xxfld 853 um.fv6ee.001 xxfld 598 [\\'fullhd 1920 x 1080\\', \\'1920 x 1080\\'] xxfld 1108 tn xxfld 593 20.9 watt xxfld 232 350 mw xxfld 1084 450 mw xxfld 532 5 ms xxfld 1272 -5/+25 xxfld 630 160 xxfld 1598 ac 120/230 v xxfld 273 3.9 kg',\n",
       "  0.005556538235396147),\n",
       " ('xxfld 364  - 27ea83 | lg electronics lg ea83 series 27ea83 (27 ) premium ips  5m:1 350cd/ 2560x1440 6ms displa xxfld 205 anti-glare • hard coating 3h xxfld 498 16:9 xxfld 1537 8806084185693 xxfld 416 350cd/m2 xxfld 646 5,000,000:1 (dynamic) xxfld 1168 1 x dvi-d xxfld 814 64.30cm (w) x 22.60cm (d) x 45.90cm (h) - weight 7.30kg xxfld 1473 1 x displayport xxfld 94 1 x hdmi xxfld 125 27ea83 xxfld 831 yes xxfld 1261 0.2331 x 0.2331mm xxfld 154 ddc/ci xxfld 690 65w (max) xxfld 1171 ea83 series xxfld 1183 display xxfld 1406 2560 x 1440 pixels xxfld 532 6ms xxfld 717 30khz to 88.8khz (digital) xxfld 112 56hz to 75hz (digital) xxfld 1258 27in xxfld 774 in plane switching (ips) 1.07 billion colour xxfld 1466 -5 to +15° xxfld 1010 178° (horizontal - max) x 178° (vertical - max) xxfld 1308 100 to 240vac xxfld 1276 yes , vesa compliant - 100mm x 100mm',\n",
       "  0.005837281234562397),\n",
       " ('xxfld 364 19s4lsb5/00, 2905228, , ,  xxfld 498 5:4 xxfld 507 led xxfld 1121 philips xxfld 416 250 cd/m² xxfld 1307 bsmi ce mark cetlus fcc class b gost saso semko tuv ergo tuv/gs xxfld 1415 black xxfld 536 16.7 million colours xxfld 646 1,000:1 xxfld 1147 61 mm xxfld 778 194 mm xxfld 1400 [\\'security lock\\', \\'sync on green\\', \\'smartcontrol\\', \\'smartpower\\', \\'truevision\\', \\'smartcontrast\\', \\'sma xxfld 1224 [\\'rohs\\', \\'energy star 6.0\\', \\'epa\\', \\'weee\\', \\'tco certified displays 6.0\\', \\'epeat gold\\'] xxfld 1301 346 mm xxfld 1680 418 mm xxfld 1112 170° xxfld 1491 [\\'110 v ac\\', \\'220 v ac\\'] xxfld 334 3 year xxfld 517 philips electronics xxfld 56 19s4lsb5/00 xxfld 85 1280 x 1024 xxfld 1625 100 mw xxfld 1483 14.30 w xxfld 1024 [\\'pc\\', \\'mac\\'] xxfld 686 30% xxfld 526 s-line xxfld 446 19s4lsb5 xxfld 617 lcd monitor, led backlight with smartimage xxfld 1183 lcd monitor xxfld 683 plastic xxfld 532 5 ms xxfld 731 sxga xxfld 1659 48.3 cm (19\") xxfld 183 60 hz xxfld 164 100 mw xxfld 630 160° xxfld 585 100 x 100 xxfld 967 2.80 kg xxfld 1493 3.20 kg xxfld 1510 404 mm xxfld 1045 404 mm',\n",
       "  0.005859529133886099),\n",
       " ('xxfld 364  - pa279q |  pa279q (27 ) ips  100000000:1 350cd/ 2560 x 1440 6ms hdmi  displayport with  hood xxfld 498 16:9 xxfld 1537 4716659456407 xxfld 416 350cd/m2 xxfld 881 black xxfld 657 energy star • bsmi • cb • ccc • ce • cel level 2 • c-tick • cu • epeat (gold) by region • erp • fcc  xxfld 646 100,000,000:1 (dynamic) xxfld 747 each pa279q also features a brightness rated at 350cd/m2 and an 100,000,000:1 asus smart contrast ra xxfld 1168 1 x dvi-d xxfld 814 64.078cm (w) x 24cm (d) x 55.984cm (h) - weight 10kg xxfld 52 lcd monitor xxfld 1473 1 x displayport xxfld 94 1 x hdmi xxfld 1175 asus pa279q (27 inch) ips monitor • cable tie • dual-link dvi cable • mini-displayport-to-displaypor xxfld 125 pa279q xxfld 831 yes xxfld 1261 0.233mm xxfld 1183 display xxfld 1406 2560 x 1440 pixels xxfld 532 6ms xxfld 717 29khz to 113khz (digital) xxfld 112 49hz to 86hz (digital) xxfld 1258 27in xxfld 774 ips xxfld 1081 kensington lock xxfld 1466 -5 to +20° xxfld 1010 178° (horizontal - max) x 178° (vertical - max) xxfld 1308 100 to 240vac / 50 to 60hz xxfld 1276 yes , vesa compliant - 100mm x 100mm',\n",
       "  0.0062383199110627174),\n",
       " ('xxfld 364 viewsonic vg2437mc  24  5  xxfld 507 led xxfld 1121 viewsonic xxfld 416 300 nit xxfld 656 webcam; microphone; speaker; usb hub xxfld 1307 ul/cul; fcc-b xxfld 646 1,000:1 xxfld 1147 2.4\" xxfld 778 9.40\" xxfld 458 epeat silver; energy star; rohs; weee xxfld 1301 13.4\" xxfld 1680 17.80\" xxfld 1491 110 v ac; 220 v ac xxfld 207 695963 xxfld 517 viewsonic corporation xxfld 1684 qn7237 xxfld 85 1920 x 1080 xxfld 125 vg2437mc-led xxfld 1483 24.50 w xxfld 1024 pc; mac xxfld 617 vg2437mc-led full hd resolution with displayport connectivity xxfld 1183 lcd monitor xxfld 532 5 ms xxfld 731 full hd xxfld 1659 24\" xxfld 369 anti-glare xxfld 117 yes xxfld 183 60 hz xxfld 129 yes xxfld 630 160° xxfld 585 100 x 100 xxfld 357 170° xxfld 54 3-year limited xxfld 273 8.30 lb xxfld 1493 11.50 lb xxfld 1510 21.9\" xxfld 1045 21.90\"',\n",
       "  0.007073873654007912),\n",
       " ('xxfld 364 aoc aoc e2270swn e2270swn . xxfld 1579 374.5 mm xxfld 269 90 ° xxfld 1359 65 ° xxfld 1471 ac, vga xxfld 197 ce, fcc, gost, rohs, tüv-gs, iso 9241-307, eup, nrtl xxfld 561 nero xxfld 1533 16.77 m xxfld 1646 100 x 100 mm xxfld 1529 14.8 w xxfld 1105 0.3 w xxfld 744 0.5 w xxfld 376 477.5 mm xxfld 1041 268.5 mm xxfld 402 54.6 cm xxfld 884 0.248 x 0.248 mm xxfld 284 16:9 xxfld 317 n xxfld 889 -5 - 15 ° xxfld 873 55 - 75 hz xxfld 39 503.4 mm xxfld 427 200 cd/m² xxfld 127 16 xxfld 1546 si xxfld 223 2.7 kg xxfld 1129 3.45 kg xxfld 1194 176 mm xxfld 1671 30 - 60 khz xxfld 190 700:1 xxfld 1014 20000000:1 xxfld 333 n xxfld 607 1920 x 1080 pixels xxfld 1348 1920 x 1080 (hd 1080) xxfld 945 5 ms xxfld 902 full hd xxfld 1343 90 - 240 v',\n",
       "  0.007100922521203756),\n",
       " ('xxfld 364 kogan wqxga 30inch  |  &  xxfld 763 no info xxfld 735 30 inch xxfld 1464 led xxfld 532 7 ms xxfld 117 no info',\n",
       "  0.007432279642671347),\n",
       " ('xxfld 364 hp  stand pedestal base  \"   |  |  |  |  |  |  |  |  |  |  xxfld 1065 item type:',\n",
       "  0.007455042563378811),\n",
       " ('xxfld 364 v196lb 19   um.cv6ee.009 acer xxfld 498 5:4 xxfld 507 led backlight xxfld 416 250 cd/m2 xxfld 1577 1 x vga cable xxfld 1415 black xxfld 536 16.7 million colours xxfld 818 tco displays 6.0 xxfld 646 100000000:1 (dynamic) xxfld 1046 acer v6 series v196lb 19\" 1280 x 1024 5ms vga led monitor\\nideal for use in office environments, libr xxfld 1667 19\" xxfld 254 without stand - width: 40.64 cm - depth: 5.2 cm - height: 33.7 cm - weight: 2.7 kg xxfld 21 40.64 cm x 20.7 cm x 40.8 cm - with stand xxfld 52 led-backlit lcd monitor / tft active matrix xxfld 1400 acer ecodisplay, acer adaptive contrast management (acm) xxfld 1112 170 xxfld 1277 vga xxfld 616 united kingdom, europe, emea xxfld 517 acer xxfld 853 um.cv6ee.009 xxfld 598 1280 x 1024 at 75 hz xxfld 593 15.8 watt xxfld 232 350 mw xxfld 1084 450 mw xxfld 1266 internal xxfld 532 5 ms xxfld 932 3 years warranty xxfld 909 limited warranty - 3 years - carry-in xxfld 630 160 xxfld 1598 ac 120/230 v xxfld 273 3.1 kg',\n",
       "  0.007463053800165653),\n",
       " (\"xxfld 364   vg278he ,  vg 278he  -  xxfld 498 16:9 xxfld 507 led xxfld 324 asus xxfld 416 300 xxfld 1577 audio cable xxfld 1421 ['monitors', 'monitors'] xxfld 1575 audio / dvi / hdmi / vga / 3.5mm jack xxfld 646 1000:1 xxfld 1147 385.6 mm xxfld 1667 27 inch (more than 84%) xxfld 52 led xxfld 884 0 mm xxfld 750 50000000:1 (more than 94%) xxfld 1420 0886227206193, 0886227160143, 4716659160144 xxfld 1400 asus smart contrast ratio / hdcp / trace free technology xxfld 94 1 xxfld 1301 385,6 xxfld 1460 ips xxfld 593 65 w xxfld 1084 1 w xxfld 617 ['asus vg278he', 'asus vg278he'] xxfld 910 ['0 out of 5', '0 out of 5'] xxfld 762 1920x1080 (more than 61%) xxfld 532 2 ms (less than 89%) xxfld 384 6 w xxfld 1174 yes xxfld 581 140 xxfld 319 122 xxfld 460 yes xxfld 732 886227206193, 886227160143 xxfld 1004 brightness / contrast / resize / tilt xxfld 357 170/160 xxfld 273 17.64 lb xxfld 1510 64.30 cm\",\n",
       "  0.0075416844338178635),\n",
       " ('xxfld 364 apple \" studio  m7649    1280x1024 adc 45038 |  |  |  |  |  |  |  |  |  |  xxfld 1065 item type:',\n",
       "  0.007562634069472551),\n",
       " (\"xxfld 364   pb278q ,  pb 278q  -  xxfld 498 16:9 xxfld 507 led xxfld 324 asus xxfld 416 300 xxfld 1421 ['monitors', 'monitors'] xxfld 1575 audio / dvi / displayport / hdmi / vga / 3.5mm jack xxfld 646 1000:1 xxfld 1147 70 mm xxfld 1667 27 inch (more than 84%) xxfld 52 led xxfld 884 0 mm xxfld 750 80000000:1 (more than 97%) xxfld 1420 4716659236511, 0886227236510, 0886227236565 xxfld 1400 asus smart contrast ratio / hdcp xxfld 94 1 xxfld 1301 38.60 cm xxfld 1460 pls xxfld 593 60 w xxfld 1084 0.5 w (less than 78%) xxfld 617 ['asus pb278q', 'asus pb278q'] xxfld 910 ['0 out of 5', '0 out of 5'] xxfld 762 2560x1024 (more than 98%) xxfld 532 5 ms xxfld 384 3 w xxfld 1174 yes xxfld 581 89 xxfld 460 yes xxfld 732 886227236510, 886227236565 xxfld 1004 contrast / gamma correction / resize / tilt xxfld 357 178/178 xxfld 273 19.40 lb xxfld 1510 64.30 cm\",\n",
       "  0.007662588730454445),\n",
       " ('xxfld 364 dell 1708fpb \"  complete with stand  cables |  |  |  |  |  |  |  |  |  |  xxfld 1065 item type:',\n",
       "  0.007746050134301186),\n",
       " ('xxfld 364 v226hqlbbd 22     um.wv6ee.b04 acer xxfld 498 [\\'widescreen - 16:9\\', \\'widescreen\\'] xxfld 507 led backlight xxfld 416 [\\'200 cd/m2\\', \\'250 cd/m2\\'] xxfld 1577 1 x vga cable xxfld 1415 black xxfld 536 16.7 million colours xxfld 818 mpr ii xxfld 646 100000000:1 (dynamic) xxfld 1046 acer v6 series v226hql (21.5 inch) full hd led monitor\\neveryday series monitors give you the beauty  xxfld 1667 21.5\" xxfld 254 without stand - weight: 3.24 kg xxfld 21 50.8 cm x 20.68 cm x 39.04 cm xxfld 52 led-backlit lcd monitor / tft active matrix xxfld 1400 hdcp xxfld 627 100 x 100 mm xxfld 1112 90 xxfld 1277 vga â¦ dvi xxfld 517 acer xxfld 853 um.wv6ee.b04 xxfld 598 [\\'fullhd 1920 x 1080\\', \\'1920 x 1080\\'] xxfld 593 18.1 watt xxfld 232 350 mw xxfld 1084 450 mw xxfld 532 5 ms xxfld 630 [\\'65\\', \\'178\\'] xxfld 1598 ac 120/230 v xxfld 273 3.66 kg',\n",
       "  0.007780654821544886),\n",
       " ('xxfld 364  vb198tl bk 19\"   (1280 x 1024///) :  :  : , ,  xxfld 498 5:4 xxfld 378 2 x 1w xxfld 1371 led xxfld 416 250 cd/mâ² xxfld 1137 â£120.96\\nâ£145.15 inc vat\\n115 available\\navailable for next day delivery if ordered before 5pm xxfld 439 tco’03, ul/cul, cb, ce, fcc, ccc, tuv-gs, tuv-ergo, iso9241-307, bsmi, gost-r, c-tick, vcci, psb, no xxfld 646 1000:1 xxfld 750 50, 000, 000:1 xxfld 1420 4716659282327 xxfld 1474 5.0 xxfld 1315 6.4kg xxfld 1614 100mm xxfld 352 53khz - 80khz xxfld 1112 170â° xxfld 1141 monitors, lcd, led, led backlight, 19\", 5:4, 5ms, vesa, vesa wall mounting xxfld 517 asus xxfld 1088 1280 x 1024 xxfld 1231 vb198tl xxfld 557 4.7kg xxfld 1293 27w xxfld 172 monitor, 1 x vga cable, 1 x audio cable, uk power cord, quick start guide, support disk xxfld 1382 20.5cm xxfld 779 56cm xxfld 1013 40.5cm xxfld 831 yes xxfld 1261 0.294mm xxfld 1514 nex-107111 xxfld 1078 405mm xxfld 522 342.4mm xxfld 590 210mm xxfld 1085 64.8mm xxfld 617 asus vb198tl bk 19\" led black multimedia monitor (1280 x 1024/5ms/vga/dvi) xxfld 1320 413mm xxfld 122 413mm xxfld 670 1280 x 1024 xxfld 532 5ms xxfld 1659 19\" xxfld 774 lcd xxfld 117 integrated xxfld 614 excellent video performance, ergonomic design for personal visual comfort, splendid video intelligen xxfld 164 0.3w xxfld 983 -45â°/45â° xxfld 1272 -5â°/20â° xxfld 1351 black xxfld 1635 black xxfld 1565 black xxfld 732 886227282326 xxfld 775 50hz - 76hz xxfld 630 160â° xxfld 1276 vesa 100mm x 100mm',\n",
       "  0.007936435751616955),\n",
       " (\"xxfld 364 aoc aoc e2050swda   e2050swda . xxfld 1579 361 mm xxfld 269 170 ° xxfld 1359 160 ° xxfld 197 ce, fcc, gost, rohs, iso 9241-307, ccsaus, eup, tco 5.0 xxfld 561 nero xxfld 1533 16.77 m xxfld 1646 75 x 75 mm xxfld 1529 18.5 w xxfld 1105 0.2 w xxfld 744 0.3 w xxfld 182 connettività\\nmicrofono, spinotto d'ingresso n\\nquantità porte vga (d-sub) 1\\nquantità porte dvi-d 1\\nac xxfld 376 432 mm xxfld 1041 239.8 mm xxfld 402 49.5 cm xxfld 884 0.27 x 0.27 mm xxfld 1612 148.5 mhz xxfld 284 16:9 xxfld 1552 30 - 80 khz xxfld 343 55 - 75 hz xxfld 317 si xxfld 889 -5 - 15 ° xxfld 39 477.75 mm xxfld 427 250 cd/m² xxfld 1546 si xxfld 223 3.02 kg xxfld 200 3.92 kg xxfld 893 si xxfld 1194 175 mm xxfld 190 1000:1 xxfld 1014 20000000:1 xxfld 333 n xxfld 607 1600 x 900 pixels xxfld 1348 1600 x 900 xxfld 945 5 ms xxfld 1343 90 - 240 v\",\n",
       "  0.008044303394854069),\n",
       " ('xxfld 364 aoc aoc e970swn   e970swn . xxfld 1579 336.8 mm xxfld 269 90 ° xxfld 1359 50 ° xxfld 1471 ac, vga xxfld 197 ce, fcc, gost, rohs, tüv-gs, iso 9241-307, eup, nrtl xxfld 561 nero xxfld 1533 16.77 m xxfld 1646 100 x 100 mm xxfld 1529 15 w xxfld 1105 0.3 w xxfld 744 0.5 w xxfld 376 410 mm xxfld 1041 230 mm xxfld 402 47 cm xxfld 884 0.3 x 0.3 mm xxfld 284 16:9 xxfld 317 n xxfld 889 -5 - 15 ° xxfld 873 50 - 76 hz xxfld 39 437.4 mm xxfld 427 200 cd/m² xxfld 223 2.15 kg xxfld 1129 2.8 kg xxfld 1194 156 mm xxfld 1671 30 - 60 khz xxfld 190 700:1 xxfld 1014 20000000:1 xxfld 333 n xxfld 607 1366 x 768 pixels xxfld 1348 1366 x 768 xxfld 945 5 ms xxfld 1343 90 - 240 v',\n",
       "  0.008121158927679062),\n",
       " (\"xxfld 364 aoc aoc e2260pdas e2260pdas . xxfld 1579 244.6 mm xxfld 269 170 ° xxfld 1359 160 ° xxfld 1471 ac, audio (3.5mm) xxfld 197 fcc gost rohs tüv-bauart tüv-gs iso 9241-307 tco 5.0 ctuvus eup xxfld 561 argento xxfld 1533 16.77 m xxfld 1646 100 x 100 mm xxfld 1529 15.5 w xxfld 744 0.4 w xxfld 402 55.8 cm xxfld 884 0.248 x 0.248 mm xxfld 284 16:10 xxfld 317 si xxfld 889 -5 - 15 ° xxfld 873 55 - 75 hz xxfld 39 507.8 mm xxfld 427 250 cd/m² xxfld 1546 si xxfld 223 5.65 kg xxfld 1194 521.3 mm xxfld 1671 30 - 83 khz xxfld 190 1000:1 xxfld 1014 20000000:1 xxfld 333 ['si', '130 mm'] xxfld 607 1680 x 1050 pixels xxfld 1348 1680 x 1050 (wsxga+) xxfld 945 5 ms xxfld 1343 90 - 240 v\",\n",
       "  0.00821863766759634),\n",
       " ('xxfld 364 hp elitedisplay e221c 21.5inch  |  &  xxfld 763 1920x1080 xxfld 735 21.5 inch xxfld 1464 led xxfld 532 7 ms xxfld 117 no info',\n",
       "  0.008243577554821968),\n",
       " ('xxfld 364 harsper \" flat pannel (hl 1700g) |  |  |  |  |  |  |  |  |  |  xxfld 1065 item type:',\n",
       "  0.008298362605273724),\n",
       " ('xxfld 364  pq321qe 31.5\" wide igzo   uhd  (3840x2160/8ms/2xhdmi/dp/rs-232c) :  :  : , ,  xxfld 498 16:9 xxfld 378 2 x 2w xxfld 1371 led xxfld 416 350 cd/mâ² xxfld 1137 â£1,817.26\\nâ£2,180.71 inc vat\\n7 available\\navailable for next day delivery if ordered before 5pm xxfld 439 fcc, ices, rohs, ul/cul, weee, whql (windows 8, windows 7) xxfld 646 800:1 xxfld 1420 4716659486213 xxfld 1315 17.0kg xxfld 94 2 xxfld 1614 150mm xxfld 1112 176â° xxfld 1501 rs-232c xxfld 1141 monitors, multimedia, 4k, 31.5\", uhd, 3840x2160, igzo, stereo, hdmi, displayport, rs-232c, speakers, xxfld 517 asus xxfld 1088 3840 x 2160 xxfld 1231 pq321qe xxfld 557 13.0kg xxfld 1293 93w xxfld 172 monitor, cable clamp, uk power cord, power adapter, displayport cable, rs-232c conversion cable, man xxfld 1382 23cm xxfld 779 99cm xxfld 1013 55.8cm xxfld 1261 0.182mm xxfld 1514 nex-108753 xxfld 1078 489mm xxfld 590 256mm xxfld 617 asus pq321qe 31.5\" wide igzo led black multimedia uhd monitor (3840x2160/8ms/2xhdmi/dp/rs-232c) xxfld 1320 750mm xxfld 670 3840 x 2160 xxfld 532 8ms (gtg) xxfld 73 true 4k uhd xxfld 1659 31.5\" xxfld 774 igzo xxfld 117 integrated xxfld 614 31.5-inch 4k display with ultra-high definition (uhd) 3840 x 2160 resolution and 140 pixels per inch xxfld 164 6w xxfld 983 -45â°/45â° xxfld 1272 -5â°/25â° xxfld 1351 black xxfld 1635 black xxfld 1565 black and silver xxfld 732 886227486212 xxfld 630 176â° xxfld 1276 vesa 200mm x 200mm',\n",
       "  0.008677415549755096),\n",
       " ('xxfld 364  278c4qhsn 27inch  |  &  xxfld 763 no info xxfld 735 27 inch xxfld 1464 lcd xxfld 532 5 ms xxfld 117 no info',\n",
       "  0.008717136457562447),\n",
       " ('xxfld 364 viewsonic va705b 17inch  |  &  xxfld 763 no info xxfld 735 17 inch xxfld 1464 lcd xxfld 532 5 ms xxfld 117 no info',\n",
       "  0.008763009682297707),\n",
       " ('xxfld 364  nds 20.8\" dome e3 grayscale , no video card  - medical 997-5713-00-1nn  xxfld 1576 14.00 lb(s) xxfld 692 gray xxfld 1328 3061 grayscales xxfld 818 [\\'ce\\', \\'en 55011\\', \\'mic\\', \\'vcci\\', \\'ccc\\', \\'fcc class b certified\\', \\'csa\\', \\'dicom part 14\\'] xxfld 262 [\\'usb type b\\', \\'usb type a\\', \\'dvi\\', \\'power\\'] xxfld 53 [\\'usb 1.1\\', \\'dvi\\', \\'power\\'] xxfld 1104 display, documentation xxfld 646 900:1 xxfld 930 [\\'swivel\\', \\'pivot (rotation)\\', \\'tilt\\', \\'height\\'] xxfld 518 20.8 in xxfld 1586 tft xxfld 52 standard xxfld 884 .206 mm xxfld 255 [\\'600 nit(s)\\', \\'1000 nit(s)\\'] xxfld 634 [\\'1536 x 2048\\', \\'2048 x 1536\\'] xxfld 649 18.7\"h x 14.5\"w x 4\"d xxfld 842 (1) dual-link dvi\\n(1) usb type b\\n(2) usb type a\\n(1) power in xxfld 1086 voltage: 100-240vac, 50-60hz single phase\\nconsumption: 60w (typ.) 72w (max.) xxfld 1412 35 ms xxfld 339 170/170 xxfld 1100 5 years xxfld 1025 5 years xxfld 273 14.100 lb(s)',\n",
       "  0.009256206452846527),\n",
       " (\"xxfld 364   vs248h ,  vs 248h  -  xxfld 498 16:9 xxfld 507 led xxfld 324 asus xxfld 416 250 xxfld 1577 dvi / vga xxfld 1421 ['monitors', 'monitors'] xxfld 1575 audio / dvi / hdmi / vga / 3.5mm jack xxfld 646 1000:1 xxfld 1147 206 mm xxfld 1667 24 inch (more than 74%) xxfld 52 led xxfld 884 0 mm xxfld 750 50000000:1 (more than 94%) xxfld 1420 4719543390153, 0610839367924, 0610839390151 xxfld 1400 asus smart contrast ratio / asus splendid / hd ready / hdcp / skin-tone selection xxfld 94 1 xxfld 1301 41.20 cm xxfld 1460 tn xxfld 593 32 w (less than 64%) xxfld 1084 0.5 w (less than 78%) xxfld 617 ['asus vs248h', 'asus vs248h'] xxfld 910 ['0 out of 5', '0 out of 5'] xxfld 762 1920x1080 (more than 61%) xxfld 532 2 ms (less than 89%) xxfld 581 83 xxfld 319 76 xxfld 732 610839367924, 610839390151 xxfld 1004 brightness / contrast / tilt xxfld 357 170/160 xxfld 273 8.82 lb xxfld 1510 57.30 cm\",\n",
       "  0.009260076098144054),\n",
       " ('xxfld 364  :  >  > dell - e2014t 858-bbcd xxfld 498 widescreen - 16:9 xxfld 416 250 cd/m2 xxfld 656 touch-screen , usb hub xxfld 393 3-years advance exchange service xxfld 1415 black xxfld 536 16.7 million colours xxfld 818 tco displays xxfld 646 1000:1 / 8000000:1 (dynamic) xxfld 960 led-backlit lcd monitor - 20\" - multi-touch xxfld 21 50.59 cm x 16.5 cm x 37.6 cm - with stand xxfld 930 tilt xxfld 1092 energy star qualified xxfld 24 2xhdmi, vga, 2xmhl, displayport xxfld 616 switzerland xxfld 1201 3 years warranty xxfld 598 1600 x 900 at 60 hz xxfld 1108 tn xxfld 1261 0.27 mm xxfld 786 dell e2014t - led monitor - 20\" - with 3-years advance exchange service xxfld 532 2 ms (gray-to-gray) xxfld 273 4.89 kg',\n",
       "  0.009397498331964016),\n",
       " ('xxfld 364 acer um.hb6aa.001 60hz 27.0\"  (um.hb6aa.001) -  xxfld 498 16:9 xxfld 416 300 cd/m² xxfld 60 yes xxfld 646 100,000,000:1 xxfld 1140 16700000 xxfld 517 acer xxfld 476 um.hb6aa.001 xxfld 1390 1920 x 1080 xxfld 139 60hz xxfld 532 6 ms xxfld 1659 27\" xxfld 1053 yes',\n",
       "  0.009420881979167461),\n",
       " ('xxfld 364 19b4lcb5/00, 2905225, , ,  xxfld 498 5:4 xxfld 507 led xxfld 1121 philips xxfld 416 250 cd/m² xxfld 656 speaker xxfld 1307 bsmi ce mark cetlus fcc class b gost semko tuv ergo tuv/gs xxfld 1415 textured black xxfld 536 16.7 million colours xxfld 646 1,000:1 xxfld 1147 61 mm xxfld 778 227 mm xxfld 1400 [\\'security lock\\', \\'sync on green\\', \\'smartcontrol\\', \\'smartimage\\', \\'cable management\\', \\'eco mode\\', \\'sm xxfld 1224 [\\'epeat gold\\', \\'rohs\\', \\'tco certified displays 6.0\\', \\'weee\\', \\'energy star 6.0\\'] xxfld 1301 346 mm xxfld 1680 404 mm xxfld 1112 170° xxfld 1491 [\\'110 v ac\\', \\'220 v ac\\'] xxfld 517 philips electronics xxfld 56 19b4lcb5/00 xxfld 85 1280 x 1024 xxfld 1625 100 mw xxfld 1483 14 w xxfld 1024 [\\'pc\\', \\'mac\\'] xxfld 526 brilliance xxfld 446 19b4lcb5 xxfld 617 brilliance lcd monitor, led backlight with smartimage xxfld 229 b xxfld 1183 lcd monitor xxfld 683 25% xxfld 532 5 ms xxfld 731 sxga xxfld 1659 48.3 cm (19\") xxfld 117 yes xxfld 183 60 hz xxfld 164 100 mw xxfld 630 160° xxfld 585 100 x 100 xxfld 967 2.71 kg xxfld 1493 4.61 kg xxfld 1510 404 mm xxfld 1045 506 mm',\n",
       "  0.009501257911324501),\n",
       " ('xxfld 364   vx238h 23\" , built- speakers -  - . xxfld 498 16:9 xxfld 1586 led lcd xxfld 1088 1920 x 1080 xxfld 526 asus ms',\n",
       "  0.009687285870313644),\n",
       " ('xxfld 364 acer g246hlabd 60hz 24.0\"  (um.fg6aa.a01) -  xxfld 498 16:9 xxfld 416 250 cd/m² xxfld 60 no xxfld 646 acm 100,000,000:1 (1000:1) xxfld 1140 16700000 xxfld 517 acer xxfld 434 g246hlabd xxfld 476 um.fg6aa.a01 xxfld 1390 1920 x 1080 xxfld 139 60hz xxfld 532 5 ms xxfld 1659 24\" xxfld 1053 yes',\n",
       "  0.009695209562778473),\n",
       " ('xxfld 364 viewsonic professional vp2365    xxfld 498 16:9 xxfld 507 led xxfld 1121 viewsonic xxfld 416 250 nit xxfld 656 usb hub xxfld 1307 ul; cul; fcc-b; cb; ce; tuv/gs; tuv ergo; tuv-s; nom; gost-r; hygienic; ccc; bsmi; psb; cel; kc; c-t xxfld 692 black xxfld 562 16.7 million colors xxfld 646 1,000:1 xxfld 1147 2.6\" xxfld 778 9.80\" xxfld 458 energy star; epeat silver; rohs; weee; tco \\'05 xxfld 1400 pivot display xxfld 1301 12.8\" xxfld 1680 17\" xxfld 1491 110 v ac; 220 v ac xxfld 207 580999 xxfld 517 viewsonic corporation xxfld 1684 kl3625 xxfld 85 1920 x 1080 xxfld 125 vp2365-led xxfld 1483 45 w xxfld 1460 in-plane switching (ips) technology xxfld 1024 pc; mac xxfld 526 professional xxfld 617 professional vp2365-led widescreen lcd monitor xxfld 1183 lcd monitor xxfld 532 6 ms xxfld 731 full hd xxfld 1659 23\" xxfld 183 75 hz xxfld 129 yes xxfld 630 178° xxfld 585 100 x 100 xxfld 357 178° xxfld 54 3-year limited xxfld 273 7.28 lb xxfld 1493 11.90 lb xxfld 1510 21.6\" xxfld 1045 21.60\"',\n",
       "  0.00971793569624424),\n",
       " ('xxfld 364 planar 997-6958-00 60hz 19.0\"  (997-6958-00) -  xxfld 498 5:4 xxfld 416 250 cd/m² xxfld 60 yes xxfld 646 1000:1 xxfld 1140 16700000 xxfld 517 planar xxfld 476 997-6958-00 xxfld 1390 1280 x 1024 xxfld 139 60hz xxfld 532 5 ms xxfld 1659 19\" xxfld 1053 no',\n",
       "  0.00979776680469513),\n",
       " ('xxfld 364 acer b b246hl ymdr 24\"  with built- speakers -  - . xxfld 498 16:9 xxfld 1586 lcd xxfld 1088 1920 x 1080 xxfld 526 acer b',\n",
       "  0.009853300638496876),\n",
       " ('xxfld 364 samsung s24c200bl 236   5  xxfld 498 16:9 xxfld 507 led xxfld 1121 samsung xxfld 416 250 nit xxfld 1307 nom: nom-019-scfi-1993; tuv: en60950-1; ul: ul 60950-1; csa: csa c22.2 no. 60950-1; nemko: en60950-1 xxfld 692 matte black xxfld 562 16.7 million colors xxfld 646 1,000:1 xxfld 415 mexico xxfld 1147 3\" xxfld 778 7.28\" xxfld 458 eco-label; epeat gold; energy star 6.0; tco certified displays 6.0; rohs xxfld 1400 magicangle; eco saving; magicbright 3; off timer; magictune; multiscreen xxfld 609 no xxfld 1301 13\" xxfld 1680 16.23\" xxfld 1491 110 v ac; 220 v ac xxfld 207 801353 xxfld 517 samsung xxfld 1684 qv9017 xxfld 85 1920 x 1080 xxfld 125 s24c200bl xxfld 1424 wall mountable xxfld 1483 30 w xxfld 1024 pc xxfld 617 23.6\" s24c200bl series 2 led business monitor xxfld 229 200 xxfld 1183 lcd monitor xxfld 532 5 ms xxfld 731 full hd xxfld 1659 23.6\" xxfld 117 no xxfld 164 100 mw xxfld 630 160° xxfld 585 100 x 100 xxfld 357 170° xxfld 54 3-year limited xxfld 273 8.27 lb xxfld 1493 9.04 lb xxfld 1510 21.8\" xxfld 1045 21.83\"',\n",
       "  0.009865015745162964),\n",
       " (\"xxfld 364 hp x2401 24  backlit screen  lit  - . xxfld 976 : unknown xxfld 324 : hp xxfld 1421 : monitor xxfld 692 : black xxfld 1420 : 0163120798919 xxfld 795 [': quickly and easily connect the display to your notebook or desktop with integrat', ': expect ima xxfld 1372 [': when you need support, we?re right behind you. the hp x2401 24-inch led backlit monitor is backe xxfld 3 : personal computer xxfld 144 : hp xxfld 83 : we do not have the original packaging for this display. xxfld 517 : hp xxfld 434 : b6r49as#aba xxfld 1365 : b6r49as#aba xxfld 1494 : b6r49as#aba xxfld 1076 : hp xxfld 1138 : hp xxfld 342 : hp x2401 24-inch backlit screen led-lit monitor xxfld 732 : 887111349170 xxfld 718 : limited warranty: protected by a three-year hp limited warranty. certain restrictions andexclusion\",\n",
       "  0.009918870404362679),\n",
       " ('xxfld 364   accusync as193i bk 19  54 14  xxfld 498 5:4 xxfld 507 led xxfld 1121 nec display xxfld 416 250 nit xxfld 1307 iso 9241-307 class i xxfld 692 black xxfld 562 16.7 million colors xxfld 646 1,000:1 xxfld 1147 2.7\" xxfld 778 8.07\" xxfld 458 energy star 6.0; tco certified displays 6.0; epeat silver; rohs xxfld 1400 eco mode; intelligent power manager (ipm) system; carbon footprint meter; cable management; accucolo xxfld 1301 13.4\" xxfld 1680 15.87\" xxfld 207 477532 xxfld 517 nec display solutions xxfld 1684 rb9664 xxfld 85 1280 x 1024 xxfld 125 as193i-bk xxfld 1424 desk mountable xxfld 1483 18 w xxfld 1460 in-plane switching (ips) technology xxfld 526 accusync xxfld 617 19\" value led-backlit desktop monitor w/ ips panel xxfld 1183 lcd monitor xxfld 532 14 ms xxfld 731 sxga xxfld 1659 19\" xxfld 183 76 hz xxfld 164 150 mw xxfld 630 178° xxfld 585 100 x 100 xxfld 357 178° xxfld 54 3-year limited xxfld 273 7.50 lb xxfld 1493 8.60 lb xxfld 1510 16.2\" xxfld 1045 16.24\"',\n",
       "  0.010003170929849148),\n",
       " ('xxfld 364 60003324, 3967788,   solutions, ,  xxfld 498 16:9 xxfld 507 led xxfld 1121 nec display xxfld 416 250 cd/m² xxfld 656 usb hub xxfld 1415 black xxfld 536 1.07 billion colors xxfld 646 1,000:1 xxfld 1147 73.7 mm xxfld 778 228.60 mm xxfld 1400 [\\'ambient light sensor\\', \\'tilematrix support\\', \\'tilecomp\\', \\'cablecomp+\\', \\'carbon footprint meter\\'] xxfld 1224 [\\'tco certified displays 5.2\\', \\'energy star 5.0\\', \\'rohs\\'] xxfld 609 yes xxfld 1301 322.6 mm xxfld 1680 528.32 mm xxfld 1112 178° xxfld 517 nec display solutions xxfld 56 60003324 xxfld 85 1920 x 1080 xxfld 1483 29 w xxfld 1460 in-plane switching (ips) technology xxfld 1024 pc xxfld 526 multisync xxfld 446 p232w xxfld 617 23\" widescreen professional graphics desktop monitor xxfld 229 p xxfld 1183 lcd monitor xxfld 532 8 ms xxfld 731 full hd xxfld 1659 58.4 cm (23\") xxfld 183 85 hz xxfld 164 300 mw xxfld 129 yes xxfld 630 178° xxfld 585 100 x 100 xxfld 1493 9.21 kg xxfld 1510 543.6 mm xxfld 1045 543.56 mm',\n",
       "  0.010067922994494438),\n",
       " ('xxfld 364 ls22c20kbsz/en, 2949930, samsung, ,  xxfld 498 16:9 xxfld 507 led xxfld 1121 samsung xxfld 416 250 cd/m² xxfld 1307 ul (usa): ul 60950-1 csa (canada): csa c22.2 no. 60950-1 tuv (germany): en 60950-1 nemko (norway): e xxfld 1415 matte black xxfld 536 16.7 million colours xxfld 646 1,000:1 xxfld 1147 77.6 mm xxfld 778 185 mm xxfld 1400 [\\'magicangle\\', \\'eco saving\\', \\'display power management signaling (dpms)\\', \\'off timer\\', \\'multiscreen\\' xxfld 1224 [\"tco \\'06\", \\'epeat gold\\', \\'energy star\\'] xxfld 1301 301.9 mm xxfld 1680 385.35 mm xxfld 1112 170° xxfld 1491 [\\'220 v ac\\', \\'110 v ac\\'] xxfld 334 3 year xxfld 517 samsung xxfld 56 ls22c20kbsz/en xxfld 85 1920 x 1080 xxfld 1424 wall mountable xxfld 1483 24 w xxfld 172 21.5\" led monitor s22c200b d-sub cable power cable length 1.5 m other quick install guide installati xxfld 1460 twisted nematic film (tn film) xxfld 1024 pc xxfld 446 s22c200b xxfld 617 21.5\" led monitor s22c200b xxfld 229 200 xxfld 1183 lcd monitor xxfld 532 5 ms xxfld 731 full hd xxfld 1659 54.6 cm (21.5\") xxfld 164 100 mw xxfld 1272 -1°to20° xxfld 630 160° xxfld 585 100 x 100 xxfld 967 3.05 kg xxfld 1493 3.50 kg xxfld 1510 504.3 mm xxfld 1045 504.30 mm',\n",
       "  0.010239037685096264),\n",
       " ('xxfld 364 ls19c20kbw/en, sams19c200bw, samsung, ,  xxfld 498 16:10 xxfld 507 led xxfld 1121 samsung xxfld 416 250 cd/mâ² xxfld 1307 eco label certifications:ul 60950-1csa c22.2 no. 60950-1tuv: en60950-1nemko: en60950-1kc: k60950-1cc xxfld 1415 matte black xxfld 536 16.7 million colours xxfld 646 1,000:1 xxfld 1147 76.2 mm xxfld 778 170 mm xxfld 1400 [\\'off timer\\', \\'multiscreen\\', \\'magicbright3\\', \\'magictune\\', \\'eco saving\\', \\'magicangle\\'] xxfld 1224 [\\'tco certified displays\\', \\'epeat gold\\', \\'energy star\\'] xxfld 1301 289.9 mm xxfld 1680 373.60 mm xxfld 1112 170â° xxfld 1491 [\\'220 v ac\\', \\'110 v ac\\'] xxfld 517 samsung xxfld 56 ls19c20kbw/en xxfld 85 1440 x 900 xxfld 1424 wall mountable xxfld 1483 19 w xxfld 1024 pc xxfld 526 syncmaster xxfld 446 s19c200bw xxfld 617 syncmaster s19c200bw widescreen lcd monitor xxfld 229 200 xxfld 1183 lcd monitor xxfld 532 5 ms xxfld 731 wxga+ xxfld 1659 48.3 cm (19\") xxfld 183 60 hz xxfld 164 100 mw xxfld 630 160â° xxfld 585 100 x 100 xxfld 967 2.85 kg xxfld 1493 3.10 kg xxfld 1510 439.4 mm xxfld 1045 439.40 mm',\n",
       "  0.01032808143645525),\n",
       " ('xxfld 364 iiyama t2253mts -  xxfld 498 16:9 xxfld 60 [\\'yes\\', \\'yes\\'] xxfld 1577 ac, audio (3.5mm), dvi, usb, vga xxfld 495 [\\'ce, tãœv/bauart, gost-r, vcci-b, pse\\', \\'ce, tãœv/bauart, gost-r, vcci-b, pse\\'] xxfld 1644 [\\'black\\', \\'black\\'] xxfld 1114 5000000:1 xxfld 1032 1000:1 xxfld 1147 24 cm xxfld 1481 24 - 80 khz xxfld 538 55 - 75 hz xxfld 21 [\\'556 x 240 x 399 mm\\', \\'556 x 240 x 399 mm\\'] xxfld 524 tn+film xxfld 6 220 cd/mâ² xxfld 318 54.61 cm (21.5\") xxfld 615 54.6 cm xxfld 763 1920 x 1080 pixels xxfld 52 led xxfld 407 [\\'yes\\', \\'yes\\'] xxfld 772 yes xxfld 317 [\\'yes\\', \\'yes\\'] xxfld 1301 39.9 cm xxfld 409 24 - 80 khz xxfld 1491 100 - 240v xxfld 1006 16.7m xxfld 166 [\\'2\\', \\'2\\'] xxfld 567 [\\'5\\', \\'5\\'] xxfld 1546 [\\'yes\\', \\'yes\\'] xxfld 1261 0.248 x 0.248 mm xxfld 450 0.5w xxfld 749 19w xxfld 532 2 ms xxfld 1465 [\\'2w\\', \\'2w\\'] xxfld 611 [\\'1920 x 1080 (hd 1080)\\', \\'1920 x 1080 (hd 1080)\\'] xxfld 1003 [\\'1080p\\', \\'1080p\\'] xxfld 1272 [\\'-9 - 22â°\\', \\'-9 - 22â°\\'] xxfld 1290 optical imaging xxfld 527 [\\'no\\', \\'no\\'] xxfld 388 1 xxfld 858 55 - 75 hz xxfld 1624 100 x 100 mm xxfld 1103 54.6 cm xxfld 310 170â° xxfld 375 160â° xxfld 822 yes xxfld 273 5.9 kg xxfld 1510 55.6 cm xxfld 1517 [\\'windows 7 home basic, windows 7 home basic x64, windows 7 home premium, windows 7 home premium x64',\n",
       "  0.010372024029493332),\n",
       " ('xxfld 364 vg2433smh, b921635, viewsonic, ,  xxfld 498 16:9 xxfld 507 led xxfld 1121 viewsonic xxfld 416 250 cd/mâ² xxfld 656 speaker xxfld 1307 cu ukrsepro doc svhc list & doc xxfld 536 16.7 million colours xxfld 646 50,000,000:1 xxfld 1147 51 mm xxfld 778 204.30 mm xxfld 1400 [\\'super clear image enhancement technology\\', \\'eco mode\\'] xxfld 1224 [\\'erp\\', \\'reach\\', \\'tco\\'] xxfld 609 yes xxfld 1301 343.2 mm xxfld 1680 382.40 mm xxfld 1112 178â° xxfld 1491 [\\'220 v ac\\', \\'110 v ac\\'] xxfld 334 3 year xxfld 517 viewsonic corporation xxfld 56 vg2433smh xxfld 1022 100 mm xxfld 85 1920 x 1080 xxfld 1424 wall mountable xxfld 1483 22 w xxfld 172 vg2433smh full hd led hdmi multimedia ergonomic superclear display power cable vga cable dvi cable a xxfld 1460 in-plane switching (ips) technology xxfld 446 vg2433smh xxfld 617 vg2433smh full hd led hdmi multimedia ergonomic superclear display xxfld 1183 lcd monitor xxfld 532 4 ms xxfld 731 full hd xxfld 1659 61 cm (24\") xxfld 369 anti-glare xxfld 117 yes xxfld 183 60 hz xxfld 447 340â° xxfld 1272 -5â°to25â° xxfld 630 178â° xxfld 585 100 x 100 xxfld 967 3.95 kg xxfld 1493 5.53 kg xxfld 1510 566 mm xxfld 1045 566 mm',\n",
       "  0.010404215194284916),\n",
       " ('xxfld 364 b7m13as#abb, hp, ,  xxfld 498 16:9 xxfld 507 led xxfld 1121 hp xxfld 416 200 cd/m² xxfld 656 speaker xxfld 1307 fcc class b ul bsmi cul nom tuv s whql ccc psb ices xxfld 1415 black xxfld 536 16.7 million colours xxfld 646 600:1 xxfld 1147 47.5 mm xxfld 778 170.20 mm xxfld 1400 [\\'security lock\\', \\'ultra slim\\'] xxfld 1224 [\\'epeat silver\\', \\'china energy label (cel)\\', \\'energy star\\'] xxfld 1301 281.5 mm xxfld 1680 339.50 mm xxfld 1112 90° xxfld 1491 [\\'110 v ac\\', \\'220 v ac\\'] xxfld 334 1 year xxfld 517 hewlett-packard xxfld 56 b7m13as#abb xxfld 85 1366 x 768 xxfld 1483 24 w xxfld 446 w1972a xxfld 617 w1972a widescreen lcd monitor xxfld 1183 lcd monitor xxfld 532 5 ms xxfld 731 hd xxfld 1659 47 cm (18.5\") xxfld 369 anti-glare xxfld 117 yes xxfld 183 60 hz xxfld 164 500 mw xxfld 630 50° xxfld 967 2.30 kg xxfld 1493 2.70 kg xxfld 1510 446.1 mm xxfld 1045 44.61 mm',\n",
       "  0.010404253378510475),\n",
       " ('xxfld 364 vg2039m-, b921488, viewsonic, ,  xxfld 498 16:9 xxfld 507 led xxfld 1121 viewsonic xxfld 416 250 cd/mâ² xxfld 656 [\\'usb hub\\', \\'speaker\\'] xxfld 646 1,000:1 xxfld 1147 2.3 mm xxfld 778 9.80 mm xxfld 1400 [\\'multiscreen\\', \\'eco mode\\', \\'security lock\\'] xxfld 1301 10.9 mm xxfld 1680 15 mm xxfld 1112 170â° xxfld 517 viewsonic corporation xxfld 56 vg2039m-led xxfld 85 1600 x 900 xxfld 1424 wall mountable xxfld 1483 17 w xxfld 1024 [\\'mac\\', \\'pc\\'] xxfld 446 vg2039m-led xxfld 617 20\" (19.5\" viewable) ergonomic led monitor xxfld 1183 lcd monitor xxfld 532 5 ms xxfld 731 hd+ xxfld 1659 50.8 cm (20\") xxfld 369 anti-glare xxfld 117 yes xxfld 129 yes xxfld 630 160â° xxfld 585 100 x 100 xxfld 967 2.63 kg xxfld 1493 3.67 kg xxfld 1510 18.4 mm xxfld 1045 18.40 mm',\n",
       "  0.010404786095023155),\n",
       " ('xxfld 364 viewsonic vg vg2439m 24\"  with built- speakers -  - . xxfld 498 16:9 xxfld 1586 led lcd led xxfld 1088 1920 x 1080 xxfld 526 viewsonic vg',\n",
       "  0.010410068556666374),\n",
       " ('xxfld 364  vw22atl -  xxfld 1066 w-led xxfld 133 [\\'no\\', \\'no\\'] xxfld 60 [\\'yes\\', \\'yes\\'] xxfld 533 [\\'kensington\\', \\'kensington\\'] xxfld 1577 [\\'ac, dvi, vga\\', \\'ac, dvi, vga\\'] xxfld 495 bsmi, cb, ccc, ce, c-tick, erp, fcc, gost-r, j-moss, rohs, tco5.2, tuv-ergo, tuv-gs, ul/cul, vcci, w xxfld 1644 [\\'black\\', \\'black\\'] xxfld 1114 5000000:1 xxfld 1147 63.34 mm xxfld 778 213.93 mm xxfld 524 led xxfld 6 250 cd/m² xxfld 318 558.8 mm (22 \") xxfld 615 55.9 cm xxfld 965 16.77 m xxfld 763 1680 x 1050 pixels xxfld 1586 tn+film xxfld 407 yes xxfld 71 hd-ready xxfld 317 yes xxfld 1301 340.79 mm xxfld 1614 yes xxfld 1680 364.33 mm xxfld 409 31 - 83 khz xxfld 1491 100 - 240 v xxfld 166 [\\'2\\', \\'2\\'] xxfld 791 212 mm xxfld 864 412 mm xxfld 850 640 mm xxfld 831 yes xxfld 450 0.3 w xxfld 749 33 w xxfld 532 5 ms xxfld 1465 [\\'2 w\\', \\'2 w\\'] xxfld 611 1680 x 1050 (wsxga+) xxfld 1274 no xxfld 1272 -5 - 15 ° xxfld 527 no xxfld 858 56 - 76 hz xxfld 1624 100 x 100 mm xxfld 310 170 ° xxfld 375 160 ° xxfld 822 yes xxfld 273 6 kg xxfld 1510 513.95 mm xxfld 1045 513.95 mm',\n",
       "  0.010471127927303314),\n",
       " ('xxfld 364  :  >  > aoc 27\" i2769vm  >  lautsprecher >   >  250cd/ >  i2769vm xxfld 498 widescreen - 16:9 xxfld 416 250 cd/m2 xxfld 536 16.7 million colours xxfld 818 gost, fcc, rohs, iso 9241-307, tuv bauart, tco \\'05, eup, nrtl xxfld 646 1000:1 / 50000000:1 (dynamic) xxfld 960 led-backlit lcd monitor - 27\" xxfld 21 62.2 cm x 13 cm x 44.9 cm xxfld 930 tilt xxfld 1092 energy star qualified xxfld 24 2xhdmi, vga xxfld 1201 3 years warranty xxfld 598 fullhd 1920 x 1080 at 60 hz xxfld 1108 ips xxfld 1261 0.311 mm xxfld 786 aoc value i2769vm - led monitor - 27\" xxfld 532 5 ms (grey-to-grey) xxfld 273 4.99 kg',\n",
       "  0.010482334531843662),\n",
       " ('xxfld 364 hp c9f73a8#aba prodisplay p201m  - 20\" - smart  -  xxfld 498 [\\'widescreen - 16:9\\', \\'widescreen - 16:9\\'] xxfld 378 type speakers - stereo\\noutput power / channel 1 watt xxfld 1106 30,000 hours xxfld 507 wled xxfld 416 [\\'250 cd/m2\\', \\'250 cd/m2\\'] xxfld 1577 1 x dvi cable - 6 ft ¦ 1 x vga cable - 6 ft xxfld 692 [\\'black\\', \\'black\\'] xxfld 1328 [\\'16.7 million colors\\', \\'16.7 million colors\\'] xxfld 124 9300k, 6500k xxfld 818 [\\'plug and play, fcc class b certified, tuv, vcci, bsmi cns 13438 class b, ccib, cul, gs, en55022 cl xxfld 1000 interfaces dvi ¦ vga xxfld 646 [\\'1000:1 / 3000000:1 (dynamic)\\', \\'1000:1 / 3000000:1 (dynamic)\\'] xxfld 1615 brightness, contrast, color temperature, phase, clock xxfld 960 led-backlit lcd monitor - 20\" xxfld 1667 20\" xxfld 245 dimensions & weight details with stand - width: 19 in - depth: 5.9 in - height: 14.1 in - weight: 7. xxfld 254 with stand - width: 19 in - depth: 5.9 in - height: 14.1 in - weight: 7.7 lbs ¦ without stand - widt xxfld 21 [\\'19 in x 5.9 in x 14.1 in - with stand\\', \\'19 in x 5.9 in x 14.1 in - with stand\\'] xxfld 930 [\\'tilt\\', \\'tilt\\'] xxfld 52 led-backlit lcd monitor / tft active matrix xxfld 421 max operating temperature 95 °f\\nmin operating temperature 41 °f\\nhumidity range operating 20 - 80% (n xxfld 1092 [\\'energy star qualified\\', \\'energy star qualified yes\\'] xxfld 1400 [\\'security lock slot (cable lock sold separately)\\', \\'hdcp, 72% color gamut\\'] xxfld 627 100 x 100 mm xxfld 1568 dimensions (wxdxh) 19 in x 5.9 in x 14.1 in - with stand\\nvideo bandwidth 140 mhz\\nviewable size 20.0\" xxfld 1425 24 - 83 khz xxfld 1112 170 xxfld 171 20 - 80% (non-condensing) xxfld 1557 hp display assistant xxfld 24 dvi, vga xxfld 1277 dvi ¦ vga xxfld 766 [\\'english / united states\\', \\'english / united states\\'] xxfld 978 display position adjustments tilt\\ninput connectors dvi, vga\\nscreen coating anti-glare\\npanel type tn\\n xxfld 456 [\\'hp smart buy\\', \\'hp smart buy\\'] xxfld 1201 [\\'service & support details limited warranty - 3 years\\\\nservice & support 3 years warranty\\', \\'3 year xxfld 1056 95 °f xxfld 1595 display position adjustments tilt\\nflat panel mount interface 100 x 100 mm\\ntilt angle -5/+25 xxfld 655 41 °f xxfld 1166 manufacturer selling program hp smart buy\\ncompliant standards plug and play, fcc class b certified,  xxfld 598 [\\'1600 x 900 at 60 hz\\', \\'1600 x 900 at 60 hz\\'] xxfld 1526 chinese (traditional), chinese (simplified), english, german, french, italian, portuguese, spanish,  xxfld 242 1 watt xxfld 1108 [\\'tn\\', \\'tn\\'] xxfld 1261 [\\'0.2768 mm\\', \\'0.2768 mm\\'] xxfld 1120 power consumption operational 20 watt\\nvoltage required ac 120/230 v ( 50/60 hz )\\npower supply intern xxfld 593 20 watt xxfld 1266 internal xxfld 786 hp prodisplay p201m - led monitor - 20\" - smart buy xxfld 532 [\\'5 ms\\', \\'5 ms\\'] xxfld 441 [\\'anti-glare\\', \\'anti-glare\\'] xxfld 932 3 years warranty xxfld 909 limited warranty - 3 years xxfld 196 included software hp display assistant xxfld 1272 -5/+25 xxfld 1089 speakers - stereo xxfld 508 50 - 76 hz xxfld 630 160 xxfld 4 140 mhz xxfld 1589 20.0\" xxfld 1598 ac 120/230 v ( 50/60 hz ) xxfld 273 [\\'7.7 lbs\\', \\'7.7 lbs\\']',\n",
       "  0.010486924089491367),\n",
       " ('xxfld 364 um.eb6ee.009, 3051252, acer, ,  xxfld 498 16:10 xxfld 507 led xxfld 1121 acer xxfld 416 250 cd/m² xxfld 1415 white xxfld 536 16.7 million colours xxfld 646 100,000,000:1 xxfld 1147 52 mm xxfld 778 221.20 mm xxfld 1224 [\\'epeat gold\\', \\'tco certified displays 6.0\\'] xxfld 1301 333.1 mm xxfld 1680 534.10 mm xxfld 1112 170° xxfld 1491 [\\'220 v ac\\', \\'110 v ac\\'] xxfld 334 3 year xxfld 517 acer, inc xxfld 56 um.eb6ee.009 xxfld 1022 150 mm xxfld 85 1680 x 1050 xxfld 1625 350 mw xxfld 1483 17.20 w xxfld 172 b246hl widescreen lcd monitorpower cord1 x vga cable1 x dvi cable xxfld 1460 twisted nematic film (tn film) xxfld 446 b226wl xxfld 617 b246hl widescreen lcd monitor xxfld 229 b xxfld 1183 lcd monitor xxfld 532 5 ms xxfld 731 wsxga+ xxfld 1659 55.9 cm (22\") xxfld 369 anti-glare xxfld 117 yes xxfld 183 60 hz xxfld 164 450 mw xxfld 447 60° xxfld 1272 -5°to35° xxfld 630 160° xxfld 585 100 x 100 xxfld 967 3.09 kg xxfld 1493 5.75 kg xxfld 1510 505.8 mm xxfld 1045 505.80 mm',\n",
       "  0.010499843396246433),\n",
       " ('xxfld 364 c9v73at#abu, hp, ,  xxfld 498 16:9 xxfld 507 led xxfld 1121 hp xxfld 416 250 cd/mâ² xxfld 656 usb hub xxfld 1415 black xxfld 646 1,000:1 xxfld 1147 51 mm xxfld 778 228.90 mm xxfld 1400 security lock xxfld 1224 [\\'epeat gold\\', \\'weee\\', \\'energy star\\', \\'reach\\', \\'tco certified displays\\'] xxfld 1301 289 mm xxfld 1680 434.80 mm xxfld 1112 170â° xxfld 1491 [\\'220 v ac\\', \\'110 v ac\\'] xxfld 334 3 year xxfld 517 hewlett-packard xxfld 56 c9v73at#abu xxfld 85 1600 x 900 xxfld 1483 30 w xxfld 172 advantage e201 widescreen lcd monitorusb cablevga cableac power cableprinted documentationcd-rom xxfld 526 advantage xxfld 446 e201 xxfld 617 advantage e201 widescreen lcd monitor xxfld 1183 lcd monitor xxfld 532 5 ms xxfld 731 hd+ xxfld 1659 50.8 cm (20\") xxfld 369 anti-glare xxfld 164 500 mw xxfld 129 yes xxfld 630 160â° xxfld 967 5.20 kg xxfld 1510 472.8 mm xxfld 1045 472.80 mm',\n",
       "  0.010502255521714687),\n",
       " ('xxfld 364 acer b b276hl ymdprz 27\" , built- speakers -  - . xxfld 498 16:9 xxfld 646 100000000:1 xxfld 1586 led lcd xxfld 1088 1920 x 1080 xxfld 526 acer b',\n",
       "  0.010537205263972282),\n",
       " ('xxfld 364 va2246m-, glvsp2246m, viewsonic, ,  xxfld 498 16:9 xxfld 507 led xxfld 1121 viewsonic xxfld 416 250 cd/m² xxfld 656 speaker xxfld 1307 ce cb svhc ul cul fcc-b / ices-003b tuv-s nemko ergo gostr+ hygienic ukrsepro ccc bsmi psb c-tick kc xxfld 646 1,000:1 xxfld 1147 48.3 mm xxfld 778 198.12 mm xxfld 1400 eco mode xxfld 1224 [\\'weee\\', \\'tco certified displays 5.1\\', \\'erp\\', \\'energy star 5.0\\', \\'reach\\', \\'china energy label (cel)\\' xxfld 1301 317.5 mm xxfld 1680 365.76 mm xxfld 1112 170° xxfld 1491 [\\'110 v ac\\', \\'220 v ac\\'] xxfld 517 viewsonic corporation xxfld 56 va2246m-led xxfld 85 1920 x 1080 xxfld 1424 wall mountable xxfld 1483 34 w xxfld 1024 [\\'mac\\', \\'pc\\'] xxfld 446 va2246m-led xxfld 617 va2246m-led widescreen lcd monitor xxfld 1183 lcd monitor xxfld 532 5 ms xxfld 731 full hd xxfld 1659 55.9 cm (22\") xxfld 369 anti-glare xxfld 117 yes xxfld 183 75 hz xxfld 630 160° xxfld 585 100 x 100 xxfld 967 3.13 kg xxfld 1493 3.49 kg xxfld 1510 510.5 mm xxfld 1045 510.54 mm',\n",
       "  0.010613675229251385),\n",
       " ('xxfld 364  vb178t -  xxfld 498 5:4 xxfld 133 [\\'no\\', \\'no\\'] xxfld 60 [\\'yes\\', \\'yes\\'] xxfld 533 [\\'kensington\\', \\'kensington\\'] xxfld 1577 [\\'ac, dvi, vga\\', \\'ac, dvi, vga\\'] xxfld 495 l/cul, cb, ce, erp, fcc,ccc, bsmi, gost-r, c-tick, vcci,psb,tco5.2, iso9241-307, tuv-gs/ergo, j-moss xxfld 1644 [\\'black\\', \\'black\\'] xxfld 1114 50000000:1 xxfld 1147 60 mm xxfld 778 210 mm xxfld 1481 30 - 83 khz xxfld 538 55 - 75 hz xxfld 524 led xxfld 6 250 cd/m² xxfld 318 431.8 mm (17 \") xxfld 965 16.77 m xxfld 763 1280 x 1024 pixels xxfld 407 yes xxfld 71 no xxfld 317 yes xxfld 1301 314.2 mm xxfld 1614 no xxfld 1680 386 mm xxfld 409 30 - 83 khz xxfld 1491 100 - 240 v xxfld 166 [\\'2\\', \\'2\\'] xxfld 1261 0.264 x 0.264 mm xxfld 450 1 w xxfld 749 25 w xxfld 532 5 ms xxfld 1465 [\\'2 w\\', \\'2 w\\'] xxfld 611 1280 x 1024 (sxga) xxfld 1274 no xxfld 1272 -5 - 20 ° xxfld 527 no xxfld 858 55 - 75 hz xxfld 1624 100 x 100 mm xxfld 310 170 ° xxfld 375 160 ° xxfld 822 yes xxfld 273 3.5 kg xxfld 638 5.1 kg xxfld 1510 377 mm xxfld 1045 377 mm',\n",
       "  0.010615243576467037),\n",
       " ('xxfld 364  :  >  > samsung sm s27b971d  69cm 27in matt 300dc/qm ls27b971ds/en xxfld 498 widescreen xxfld 416 300 cd/m2 xxfld 656 usb hub xxfld 1415 metal silver, black gloss xxfld 536 16.7 million colours xxfld 818 tco displays 5.0 xxfld 646 1000:1 xxfld 960 led-backlit lcd monitor - 27\" xxfld 21 64.5 cm x 24.7 cm x 56.7 cm - with stand xxfld 930 height xxfld 1092 energy star qualified , epeat gold xxfld 24 hdmi, dvi-d, displayport xxfld 598 2560 x 1440 xxfld 1108 plane to line switching (pls) xxfld 786 samsung s27b971d - led monitor - 27\" xxfld 532 5 ms (grey-to-grey) xxfld 273 7.5 kg',\n",
       "  0.010617622174322605),\n",
       " ('xxfld 364 viewsonic va2223wm -  - 22\" -  xxfld 498 [\\'widescreen - 16:9\\', \\'widescreen - 16:9\\'] xxfld 378 output power / channel 2 watt\\ntype speakers - stereo - integrated xxfld 1106 50,000 hours xxfld 416 [\\'300 cd/m2\\', \\'300 cd/m2\\'] xxfld 656 [\\'stereo speakers\\', \\'stereo speakers\\'] xxfld 1577 1 x vga cable xxfld 692 [\\'black\\', \\'black\\'] xxfld 1328 [\\'16.7 million colors\\', \\'16.7 million colors\\'] xxfld 124 9300k, 5000k, 6500k, 7500k xxfld 818 [\"tco \\'03, fcc class b certified, ul, c-tick, bsmi, cul, nom, saso, cb, ccc, tuv ergo, psb, mic, ira xxfld 1000 interfaces vga ¦ dvi-d xxfld 646 [\\'1000:1 / 16000:1 (dynamic)\\', \\'1000:1 / 16000:1 (dynamic)\\'] xxfld 1615 mute, volume, brightness, contrast, h/v position, sharpness, color temperature, h-size, aspect contr xxfld 960 lcd monitor - 22\" xxfld 1667 22\" xxfld 245 dimensions & weight details with stand - width: 20.2 in - depth: 9.7 in - height: 15.3 in - weight:  xxfld 254 with stand - width: 20.2 in - depth: 9.7 in - height: 15.3 in - weight: 8.8 lbs ¦ without stand - wi xxfld 21 [\\'20.2 in x 9.7 in x 15.3 in - with stand\\', \\'20.2 in x 9.7 in x 15.3 in - with stand\\'] xxfld 930 [\\'tilt\\', \\'tilt\\'] xxfld 52 lcd monitor / tft active matrix xxfld 421 min operating temperature 41 °f\\nmax operating temperature 95 °f\\nhumidity range operating 20 - 80% xxfld 1092 [\\'energy star qualified\\', \\'energy star qualified yes\\'] xxfld 1400 [\\'optisync, clearmotiv, srgb color management, eco-mode\\', \\'security lock slot (cable lock sold separ xxfld 627 100 x 100 mm xxfld 1568 features optisync, clearmotiv, srgb color management, eco-mode\\nweight 8.8 lbs\\ncolor temperature 9300 xxfld 1425 82 khz xxfld 1112 160 xxfld 171 20 - 80% xxfld 1557 drivers & utilities, viewsonic wizard xxfld 24 dvi-d, vga xxfld 1277 vga ¦ dvi-d xxfld 766 [\\'united states\\', \\'united states\\'] xxfld 978 environmental standards energy star qualified\\nmicrosoft certification compatible with windows 7\\naspe xxfld 1201 [\\'3 years warranty\\', \\'service & support 3 years warranty\\\\nservice & support details limited warranty xxfld 1056 95 °f xxfld 1595 flat panel mount interface 100 x 100 mm\\ntilt angle 25\\ndisplay position adjustments tilt xxfld 655 41 °f xxfld 1166 compatible with windows 7 \"compatible with windows 7\" software and devices carry microsoft’s assuran xxfld 598 [\\'fullhd 1920 x 1080\\', \\'fullhd 1920 x 1080\\'] xxfld 242 2 watt xxfld 1261 [\\'0.248 mm\\', \\'0.248 mm\\'] xxfld 1120 power supply internal\\nvoltage required ac 120/230 v ( 50/60 hz )\\npower consumption operational 48 wa xxfld 593 48 watt xxfld 1518 1 watt xxfld 1266 internal xxfld 786 viewsonic va2223wm - lcd monitor - 22\" xxfld 532 [\\'5 ms\\', \\'5 ms\\'] xxfld 441 [\\'anti-glare, hard coating\\', \\'anti-glare, hard coating\\'] xxfld 932 3 years warranty xxfld 909 limited warranty - parts and labor - 3 years ¦ limited warranty - backlight - 3 years xxfld 196 included software drivers & utilities, viewsonic wizard xxfld 117 integrated xxfld 1272 25 xxfld 1089 speakers - stereo - integrated xxfld 508 85 hz xxfld 630 160 xxfld 1589 21.5\" xxfld 1598 ac 120/230 v ( 50/60 hz ) xxfld 273 [\\'8.8 lbs\\', \\'8.8 lbs\\']',\n",
       "  0.010678226128220558),\n",
       " ('xxfld 364 9h.la9lb.dbe, 2835138, benq, ,  xxfld 498 16:9 xxfld 507 led xxfld 1121 benq xxfld 416 250 cd/m² xxfld 656 speaker xxfld 1415 [\\'black\\', \\'red\\'] xxfld 536 16.7 million colours xxfld 646 1,000:1 xxfld 1147 63 mm xxfld 778 189 mm xxfld 1400 [\\'security lock\\', \\'senseye 3\\', \\'smart scaling\\', \\'black equalizer\\'] xxfld 1224 [\\'tco certified displays 5.2\\', \\'energy star 6.0\\'] xxfld 609 yes xxfld 1301 350 mm xxfld 1680 435 mm xxfld 1112 170° xxfld 1491 [\\'110 v ac\\', \\'220 v ac\\'] xxfld 517 benq corporation xxfld 56 9h.la9lb.dbe xxfld 85 1920 x 1080 xxfld 1424 wall mountable xxfld 1483 27 w xxfld 172 rl2455hm widescreen lcd monitor dvi signal cable xxfld 1460 twisted nematic film (tn film) xxfld 1024 pc xxfld 446 rl2455hm xxfld 617 rl2455hm widescreen lcd monitor xxfld 229 rl xxfld 1183 lcd monitor xxfld 532 1 ms xxfld 731 full hd xxfld 1659 61 cm (24\") xxfld 117 yes xxfld 164 500 mw xxfld 129 no xxfld 630 160° xxfld 585 100 x 100 xxfld 1493 4.10 kg xxfld 1510 579 mm xxfld 1045 579 mm',\n",
       "  0.010680013336241245),\n",
       " ('xxfld 364 ls24d300hl/xu, 886n194, samsung, ,  xxfld 498 16:9 xxfld 507 led xxfld 1121 samsung xxfld 416 200 cd/m² xxfld 1415 high glossy black xxfld 536 16.7 million colours xxfld 646 700:1 xxfld 1147 53.8 mm xxfld 778 196.85 mm xxfld 1400 [\\'magicbright3\\', \\'eco saving\\', \\'display power management signaling (dpms)\\', \\'magic upscale\\', \\'game m xxfld 1224 [\\'energy star\\', \\'epeat gold\\'] xxfld 609 yes xxfld 1301 341.9 mm xxfld 1680 417.07 mm xxfld 1112 90° xxfld 1491 [\\'110 v ac\\', \\'220 v ac\\'] xxfld 517 samsung xxfld 56 ls24d300hl/xu xxfld 85 1920 x 1080 xxfld 1483 20 w xxfld 1460 twisted nematic film (tn film) xxfld 1024 [\\'mac\\', \\'pc\\'] xxfld 446 s24d300hl xxfld 617 simple led 23.6\" monitor with high glossy finish xxfld 229 300 xxfld 1183 lcd monitor xxfld 532 5 ms xxfld 731 full hd xxfld 1659 59.9 cm (23.6\") xxfld 183 60 hz xxfld 164 300 mw xxfld 630 65° xxfld 967 3.19 kg xxfld 1493 3.54 kg xxfld 1510 569 mm xxfld 1045 568.96 mm',\n",
       "  0.010692671872675419),\n",
       " ('xxfld 364 231p4qryes/00, , ,  xxfld 498 16:9 xxfld 507 led xxfld 1121 philips xxfld 416 250 cd/m² xxfld 656 [\\'speaker\\', \\'usb hub\\'] xxfld 1307 semkotuv ergotuv/gsul/culbsmice markfcc class bgostsaso xxfld 1415 [\\'black\\', \\'silver\\'] xxfld 536 16.7 million colours xxfld 646 1,000:1 xxfld 1147 60 mm xxfld 778 220 mm xxfld 1400 [\\'cable management\\', \\'smartergobase\\', \\'ergosensor\\', \\'eco mode\\', \\'security lock\\', \\'smartimage\\'] xxfld 1224 [\\'energy star 5.0\\', \\'epeat gold\\', \\'tco certified edge\\', \\'rohs\\', \\'tco certified displays 5.2\\', \\'weee\\' xxfld 1301 343 mm xxfld 1680 515 mm xxfld 1112 178° xxfld 1491 [\\'220 v ac\\', \\'110 v ac\\'] xxfld 334 2 year xxfld 517 philips electronics xxfld 56 231p4qryes/00 xxfld 85 1920 x 1080 xxfld 1483 29.10 w xxfld 1460 in-plane switching (ips) technology xxfld 1024 [\\'mac\\', \\'pc\\'] xxfld 686 65% xxfld 526 brilliance xxfld 446 231p4qryes xxfld 617 brilliance ips lcd monitor, led backlight with ergosensor xxfld 229 p xxfld 1183 lcd monitor xxfld 683 plastic xxfld 532 7 ms xxfld 731 full hd xxfld 1659 58.4 cm (23\") xxfld 117 yes xxfld 183 60 hz xxfld 164 300 mw xxfld 129 yes xxfld 630 178° xxfld 585 100 x 100 xxfld 967 3.09 kg xxfld 1493 5.23 kg xxfld 1510 547 mm xxfld 1045 547 mm',\n",
       "  0.010886206291615963),\n",
       " ('xxfld 364 wortmann ag terra  1910w -  xxfld 498 4:3, 16:9 xxfld 1005 yes xxfld 1066 edge-lit led xxfld 133 [\\'no\\', \\'no\\'] xxfld 60 [\\'yes\\', \\'yes\\'] xxfld 1577 [\\'audio (3.5mm), vga\\', \\'audio (3.5mm), vga\\'] xxfld 495 ce, en 60950 xxfld 1644 [\\'black\\', \\'black\\'] xxfld 1114 5000000:1 xxfld 1147 48.5 mm xxfld 778 178 mm xxfld 524 lcd xxfld 6 250 cd/m² xxfld 318 469.9 mm (18.5 \") xxfld 615 47 cm xxfld 965 16.77 m xxfld 763 1366 x 768 pixels xxfld 1586 tn+film xxfld 317 no xxfld 1301 291 mm xxfld 1614 no xxfld 1680 357 mm xxfld 409 30 - 82 khz xxfld 1491 100 - 240 v xxfld 918 [\\'yes\\', \\'yes\\'] xxfld 1261 0.3 x 0.3 mm xxfld 154 [\\'yes\\', \\'yes\\'] xxfld 450 0.5 w xxfld 749 15 w xxfld 532 5 ms xxfld 611 1366 x 768 xxfld 1272 -5 - 20 ° xxfld 527 no xxfld 858 55 - 75 hz xxfld 1624 100 x 100 mm xxfld 310 170 ° xxfld 375 160 ° xxfld 822 yes xxfld 638 2.6 kg xxfld 1510 450 mm xxfld 1045 450 mm',\n",
       "  0.010888715274631977),\n",
       " ('xxfld 1154 no xxfld 364 ls22c150ns/en, 886j914, samsung, ,  xxfld 498 16:9 xxfld 507 led xxfld 1121 samsung xxfld 416 200 cd/m² xxfld 1415 shiny black xxfld 536 16.7 million colours xxfld 646 700:1 xxfld 1147 53 mm xxfld 778 197 mm xxfld 1400 [\\'eco saving\\', \\'magictune\\', \\'off timer\\', \\'magicbright3\\', \\'eco mode\\', \\'magic upscale\\'] xxfld 1224 energy star 6.0 xxfld 1301 311 mm xxfld 1680 385 mm xxfld 1112 90° xxfld 1491 [\\'220 v ac\\', \\'110 v ac\\'] xxfld 334 3 year xxfld 517 samsung xxfld 56 ls22c150ns/en xxfld 85 1920 x 1080 xxfld 1625 300 mw xxfld 1483 18 w xxfld 172 s22c150n widescreen lcd monitor d-sub cable quick setup guide xxfld 1024 [\\'mac\\', \\'pc\\'] xxfld 446 s22c150n xxfld 617 s22c150n widescreen lcd monitor xxfld 1183 lcd monitor xxfld 532 5 ms xxfld 731 full hd xxfld 1659 54.6 cm (21.5\") xxfld 117 no xxfld 164 300 mw xxfld 129 no xxfld 630 65° xxfld 967 2.70 kg xxfld 1493 3.10 kg xxfld 1510 512 mm xxfld 1045 512 mm',\n",
       "  0.010896552354097366),\n",
       " ('xxfld 364  :  >  >  spectraview232 58.4 cm (23 \")/ 1.920 x 1.080/ 60003161 xxfld 498 widescreen - 16:9 xxfld 416 270 cd/m2 xxfld 656 usb hub xxfld 1415 black xxfld 536 16.7 million colours xxfld 818 fcc class b certified, mpr ii, csa, ul, tuv gs, c-tick, gost, cul, ddc-2b, mpr iii, pcbc, pct, vesa  xxfld 646 1000:1 xxfld 960 led-backlit lcd monitor - 23\" xxfld 21 54.36 cm x 22.76 cm x 33.8 cm xxfld 930 height, pivot (rotation), swivel, tilt xxfld 1092 energy star qualified xxfld 24 hdmi, dvi-d, vga, displayport xxfld 1201 3 years warranty xxfld 598 1920 x 1080 at 60 hz xxfld 1108 ips xxfld 1261 0.265 mm xxfld 786 nec spectraview 232 - led monitor - 23\" xxfld 532 14 ms (typical); 8 ms (grey-to-grey) xxfld 273 10.2 kg',\n",
       "  0.010899449698626995),\n",
       " ('xxfld 364 c9v75aa#ab4, hp, ,  xxfld 498 16:9 xxfld 507 led xxfld 1121 hp xxfld 416 250 cd/m² xxfld 656 usb hub xxfld 1415 black xxfld 646 5,000,000:1 xxfld 1147 51 mm xxfld 778 242.40 mm xxfld 1224 [\\'tco certified edge\\', \\'energy star\\'] xxfld 1301 329 mm xxfld 1680 469.90 mm xxfld 334 3 year xxfld 517 hewlett-packard xxfld 56 c9v75aa#ab4 xxfld 85 1920 x 1080 xxfld 1483 36 w xxfld 172 elitedisplay e231 23-inch led backlit monitor (energy star)vga cabledisplayport cableusb cableac pow xxfld 526 elite xxfld 446 e231 xxfld 617 elitedisplay e231 23-inch led backlit monitor (energy star) xxfld 1183 lcd monitor xxfld 532 5 ms xxfld 731 full hd xxfld 1659 58.4 cm (23\") xxfld 129 yes xxfld 967 3.90 kg xxfld 1510 544 mm xxfld 1045 544 mm',\n",
       "  0.010951033793389797),\n",
       " ('xxfld 364 g236hlhbid 23 hdmi  ips um.vg6ee.h01 acer xxfld 498 [\\'widescreen - 16:9\\', \\'widescreen\\'] xxfld 507 led backlight xxfld 416 250 cd/m2 xxfld 1577 1 x vga cable xxfld 1415 black xxfld 536 16.7 million colours xxfld 818 mpr ii xxfld 646 100000000:1 (dynamic) xxfld 1046 acer s235hlbbmii 23 ips led vga hdmi tft with speakers\\neveryday series monitors give you the beauty  xxfld 1667 23\" xxfld 254 [\\'without stand - width: 54.85 cm - depth: 3.36 cm - height: 33.36 cm\\', \\'without stand - width: 54.8 xxfld 21 54.8 cm x 16.8 cm x 38.4 cm - with stand xxfld 52 led-backlit lcd monitor / tft active matrix xxfld 1112 178 xxfld 1277 vga â¦ dvi â¦ hdmi xxfld 517 acer xxfld 853 um.vg6ee.h01 xxfld 598 [\\'fullhd 1920 x 1080 at 60 hz\\', \\'1920 x 1080\\'] xxfld 1108 ips xxfld 1266 [\\'internal\\', \\'external\\'] xxfld 532 5 ms xxfld 932 2 years warranty xxfld 630 178 xxfld 1598 ac 120/230 v',\n",
       "  0.010958613827824593),\n",
       " ('xxfld 364  ea273wmi -  xxfld 498 16:9 xxfld 1005 yes xxfld 1066 w-led xxfld 133 [\\'no\\', \\'no\\', \\'no\\'] xxfld 60 [\\'yes\\', \\'yes\\', \\'yes\\'] xxfld 533 [\\'no\\', \\'no\\'] xxfld 1577 [\\'ac, audio (3.5mm), dvi, usb, vga\\', \\'ac, audio (3.5mm), dvi, usb, vga\\'] xxfld 495 tco, rohs, iso 9241-307 class i xxfld 1644 [\\'white\\', \\'white\\'] xxfld 1032 1000:1 xxfld 1147 6.65 cm xxfld 778 23 cm xxfld 1481 31.5 - 83 khz xxfld 538 56 - 75 hz xxfld 524 led xxfld 6 250 cd/mâ² xxfld 318 68.58 cm (27\") xxfld 615 68.58 cm xxfld 965 16.77m xxfld 763 1920 x 1080 pixels xxfld 1586 ips xxfld 407 yes xxfld 71 full hd xxfld 317 yes xxfld 1301 37.78 cm xxfld 1614 yes xxfld 1680 54.8 cm xxfld 409 31.5 - 83 khz xxfld 918 [\\'yes\\', \\'yes\\'] xxfld 431 0 - 12192m xxfld 1546 [\\'yes\\', \\'yes\\'] xxfld 944 0 - 2000m xxfld 854 20 - 80% xxfld 499 5 - 35 â°c xxfld 831 yes xxfld 1261 0.31 x 0.31 mm xxfld 154 [\\'yes\\', \\'yes\\'] xxfld 450 0.48w xxfld 749 31w xxfld 532 6 ms xxfld 270 10 - 85% xxfld 1479 -10 - 60 â°c xxfld 611 1920 x 1080 (hd 1080) xxfld 1274 no xxfld 527 [\\'no\\', \\'no\\'] xxfld 388 4 xxfld 858 56 - 75 hz xxfld 1624 100 x 100 mm xxfld 310 178â° xxfld 375 178â° xxfld 822 yes xxfld 273 4.3 kg xxfld 638 7.2 kg xxfld 1510 63.93 cm xxfld 1045 63.93 cm',\n",
       "  0.011233833618462086),\n",
       " ('xxfld 364 b2480hs-b1 - iiyama prolite b2480hs   - . xxfld 578 - kwh xxfld 498 16:9 xxfld 1005 y xxfld 1066 edge-lit led xxfld 133 n xxfld 1469 n xxfld 60 y xxfld 386 n xxfld 533 kensington xxfld 1577 ac, audio 3.5mm, dvi, vga xxfld 495 ce, cu, tuv-gs, tco xxfld 1644 black xxfld 1114 5000000:1 xxfld 1032 1000:1 xxfld 1147 244.5 mm xxfld 524 led xxfld 6 300 cd/m² xxfld 318 23.6 \" xxfld 965 16.77 m xxfld 763 1920 x 1080 pixels xxfld 1586 tnfilm xxfld 407 y xxfld 772 y xxfld 317 y xxfld 1301 557 mm xxfld 1614 130 mm xxfld 409 24 - 80 khz xxfld 1491 100 - 240 v xxfld 1176 y xxfld 166 2 pcs xxfld 351 9 xxfld 1546 y xxfld 247 chi simpl, deu, eng, esp, fre, ita, jpn, por, rus xxfld 1099 10 - 80 % xxfld 746 5 - 35 °c xxfld 831 y xxfld 1068 0 - 90 ° xxfld 1261 0.2715 x 0.2715 mm xxfld 154 y xxfld 450 1 w xxfld 749 22 w xxfld 532 2 ms xxfld 1465 4 w xxfld 1638 5 - 85 % xxfld 1633 -20 - 60 °c xxfld 611 1920 x 1080 hd 1080 xxfld 447 -160 - 160 ° xxfld 1274 n xxfld 1272 -5 - 22 ° xxfld 527 n xxfld 858 56 - 75 hz xxfld 1624 100 x 100 mm xxfld 958 521.28 mm xxfld 1476 293.22 mm xxfld 310 170 ° xxfld 375 160 ° xxfld 822 y xxfld 273 6100 g xxfld 1510 571.5 mm xxfld 1517 y',\n",
       "  0.011461255140602589),\n",
       " ('xxfld 364 pa248q -  proart pa248q  - -. xxfld 498 16:10 xxfld 507 led xxfld 1121 asus xxfld 416 300 cd/mâ² xxfld 656 usb hub xxfld 1307 ul/culcbcefccccctuv-gstuv-ergoiso9241-307bsmigost-rc-tickvccipsbnomwhql xxfld 692 black xxfld 562 16.7 million colors xxfld 646 80,000,000:1 xxfld 1147 9.3\" (235 mm) xxfld 1400 splendid video intelligence technology, picture in picture, security lock xxfld 1224 tco certified displays 5.2, energy star, erp, j-moss (japanese rohs), rohs xxfld 609 yes xxfld 1301 16.4\" (416.3 mm) xxfld 1112 178â° xxfld 1491 110 v ac, 220 v ac xxfld 334 3 year xxfld 517 asus computer international xxfld 56 pa248q xxfld 478 http://www.asus.com xxfld 85 1920 x 1200 xxfld 1424 wall mountable xxfld 1483 75 w xxfld 172 proart pa248q widescreen lcd monitorcable tiedvi cablevga cablepower corddisplayport cableusb 3.0 ca xxfld 1460 in-plane switching (ips) technology xxfld 1024 pc, mac xxfld 526 proart xxfld 446 pa248q xxfld 617 proart pa248q widescreen lcd monitor xxfld 229 pa xxfld 1183 lcd monitor xxfld 532 6 ms xxfld 731 wuxga xxfld 1659 24\" xxfld 183 76 hz xxfld 164 1 w xxfld 129 yes xxfld 630 178â° xxfld 585 100 x 100 xxfld 1510 21.9\" (557.3 mm)',\n",
       "  0.011586548760533333),\n",
       " ('xxfld 364 lw24b011e0100 - neovo l-w24  24\"  x - . xxfld 60 y xxfld 1577 av xxfld 495 fcc, ce, cb, bsmi, gost-r, weee, reach xxfld 1644 black xxfld 1114 20000000:1 xxfld 1147 190 mm xxfld 6 250 cd/m² xxfld 318 24 \" xxfld 965 16.77 m xxfld 763 1920 x 1080 pixels xxfld 52 led xxfld 407 y xxfld 71 full hd xxfld 1301 395 mm xxfld 409 30 - 83 khz xxfld 854 10 - 85 % xxfld 499 0 - 40 °c xxfld 1008 5700 g xxfld 791 130 mm xxfld 864 423 mm xxfld 850 622 mm xxfld 1261 0.2765 x 0.2765 mm xxfld 473 0.5 w xxfld 450 0.5 w xxfld 749 33 w xxfld 532 3 ms xxfld 1465 4 w xxfld 270 10 - 85 % xxfld 1479 -25 - 55 °c xxfld 858 55 - 75 hz xxfld 1624 100 x 100 mm xxfld 310 170 ° xxfld 375 160 ° xxfld 822 y xxfld 273 4300 g xxfld 1510 566 mm',\n",
       "  0.011696395464241505),\n",
       " (\"xxfld 364 hp 24wd 23.6  screen  lit  - . xxfld 976 : unknown xxfld 324 : hp xxfld 1421 : monitor xxfld 692 : black xxfld 1420 : 0887111460202 xxfld 1372 [': 23.6-inch diagonal screen size for all your computing activities', ': multitask around the web a xxfld 3 : personal computer xxfld 144 : hp xxfld 517 : hp xxfld 434 : c5u90aa#aba xxfld 1365 : c5u90aa xxfld 1494 : c5u90aa xxfld 1076 : hp xxfld 1138 : hp xxfld 342 : hp 24wd 23.6-inch screen led-lit monitor xxfld 732 : 887111460202 xxfld 718 : protected by a one-year hp limited warranty. certain restrictions andexclusions apply.\",\n",
       "  0.011745243333280087),\n",
       " ('xxfld 364 gw2760hs - benq gw2760hs  - -. xxfld 498 16:9 xxfld 507 led xxfld 1121 benq xxfld 416 300 cd/mâ² xxfld 656 speaker xxfld 692 glossy black xxfld 562 16.7 million colors xxfld 646 20,000,000:1 xxfld 1147 7.5\" (191 mm) xxfld 1400 eco mode, senseye 3, flicker-free, security lock xxfld 1224 energy star 6.0, tco certified displays 6.0 xxfld 609 yes xxfld 1301 18.6\" (472 mm) xxfld 1112 178â° xxfld 1491 120 v ac, 230 v ac xxfld 517 benq corporation xxfld 56 gw2760hs xxfld 478 http://www.benq.ca xxfld 85 1920 x 1080 xxfld 1424 wall mountable xxfld 1483 27 w xxfld 1460 vertical alignment (va) xxfld 1024 pc xxfld 446 gw2760hs xxfld 617 gw2760hs widescreen lcd monitor xxfld 229 gw xxfld 1183 lcd monitor xxfld 532 4 ms xxfld 731 full hd xxfld 1659 27\" xxfld 117 yes xxfld 1272 -5â°to15â° xxfld 630 178â° xxfld 585 100 x 100 xxfld 967 4.50 kg xxfld 1510 24.5\" (623 mm)',\n",
       "  0.011792367324233055),\n",
       " ('xxfld 364  273v5lhsb -  xxfld 498 16:9 xxfld 1066 w-led xxfld 533 [\\'kensington\\', \\'kensington\\'] xxfld 495 rohs, lead-free, mercury free xxfld 1644 [\\'black\\', \\'black\\'] xxfld 1461 bsmi, ce mark, fcc class b, gost, psb, saso, semko, tco certified, tuv/iso9241-307, cetlus, weee xxfld 1114 10000000:1 xxfld 1032 1000:1 xxfld 1147 57 mm xxfld 778 240 mm xxfld 524 led xxfld 6 300 cd/m² xxfld 318 685.8 mm (27 \") xxfld 615 68.6 cm xxfld 965 16.77 m xxfld 763 1920 x 1080 pixels xxfld 1586 lcd/tft xxfld 407 yes xxfld 71 full hd xxfld 1301 398 mm xxfld 1680 471 mm xxfld 409 30 - 83 khz xxfld 1491 100 - 240 v xxfld 918 [\\'operation, stand-by\\', \\'operation, stand-by\\'] xxfld 306 [\\'30.000 h\\', \\'30.000 h\\'] xxfld 1546 [\\'yes\\', \\'yes\\'] xxfld 247 [\\'chi (simpl), cze, deu, dut, eng, esp, fin, fre, hun, ita, jpn, kor, pol, por, rus, swe, tur, ukr\\', xxfld 854 20 - 80 % xxfld 499 0 - 40 °c xxfld 1008 6.17 kg xxfld 791 139 mm xxfld 864 482 mm xxfld 850 698 mm xxfld 1261 0.311 x 0.311 mm xxfld 154 [\\'yes\\', \\'yes\\'] xxfld 473 0.3 w xxfld 450 0.5 w xxfld 749 23.14 w xxfld 532 5 ms xxfld 1479 -20 - 60 °c xxfld 858 56 - 75 hz xxfld 1624 100 x 100 mm xxfld 958 597.88 mm xxfld 1476 336.31 mm xxfld 310 170 ° xxfld 375 160 ° xxfld 822 yes xxfld 273 4 kg xxfld 638 4.53 kg xxfld 1510 646 mm xxfld 1045 646 mm',\n",
       "  0.011858425103127956),\n",
       " ('xxfld 364  multisync e231w -  xxfld 498 16:9 xxfld 1417 1.92 cm xxfld 964 1.92 cm xxfld 1126 1.92 cm xxfld 133 [\\'no\\', \\'no\\', \\'no\\'] xxfld 60 [\\'no\\', \\'no\\', \\'no\\'] xxfld 533 [\\'no\\', \\'no\\'] xxfld 495 epeat gold; ce; erp; tco 5.0; tãœv; tãœv gs; geea/energy label; energy star 5.0; fcc class b; pct/go xxfld 1644 [\\'black\\', \\'black\\'] xxfld 1114 25000:1 xxfld 1032 1000:1 xxfld 1147 21.3 cm xxfld 6 250 cd/mâ² xxfld 318 58.42 cm (23\") xxfld 965 16.77m xxfld 763 1920 x 1080 pixels xxfld 407 yes xxfld 71 full hd xxfld 317 no xxfld 1301 38.1 cm xxfld 1614 11 cm xxfld 409 31.5 - 83 khz xxfld 944 0 - 2000m xxfld 854 20 - 80% xxfld 499 5 - 35 â°c xxfld 1068 0 - 90â° xxfld 1261 0.265 x 0.265 mm xxfld 154 [\\'yes\\', \\'yes\\'] xxfld 370 23w xxfld 450 0.34w xxfld 749 28w xxfld 1597 100-120 v/220-240 v; 0.6 a/0.35 a xxfld 532 5 ms xxfld 270 10 - 85% xxfld 1479 -10 - 60 â°c xxfld 611 720 x 480, 1440 x 1050, 1024 x 768 (xga), 1152 x 864 (xga+), 1280 x 1024 (sxga), 1366 ñ… 768, 1440 x xxfld 1611 -45 - 45â° xxfld 1274 no xxfld 1272 -5 - 20â° xxfld 527 [\\'no\\', \\'no\\'] xxfld 858 56 - 75 hz xxfld 1624 100 x 100 mm xxfld 310 176â° xxfld 375 170â° xxfld 822 yes xxfld 273 6.2 kg xxfld 1510 55.01 cm',\n",
       "  0.011935905553400517),\n",
       " ('xxfld 364 hp ll649a8#aba compaq le2202x  - 21.5\" - smart  -  xxfld 498 [\\'widescreen - 16:9\\', \\'widescreen - 16:9\\'] xxfld 1106 30,000 hours xxfld 507 wled xxfld 416 [\\'250 cd/m2\\', \\'250 cd/m2\\'] xxfld 1577 1 x vga cable - 6 ft ¦ 1 x dvi cable - 6 ft xxfld 692 [\\'black\\', \\'black\\'] xxfld 1328 [\\'16.7 million colors\\', \\'16.7 million colors\\'] xxfld 124 6500k xxfld 818 [\\'plug and play, tuv, vcci, c-tick, bsmi, gost, nom, whql, ccc, fcc, rohs, etl, tco displays 5.0, kc xxfld 1000 interfaces vga ¦ dvi-d xxfld 646 [\\'1000:1 / 3000000:1 (dynamic)\\', \\'1000:1 / 3000000:1 (dynamic)\\'] xxfld 1615 brightness, contrast, sharpness, color temperature, phase, clock xxfld 960 led-backlit lcd monitor - 21.5\" xxfld 1667 21.5\" xxfld 245 dimensions & weight details without stand - width: 20.4 in - depth: 1.9 in - height: 12.4 in - weigh xxfld 254 without stand - width: 20.4 in - depth: 1.9 in - height: 12.4 in - weight: 7.3 lbs ¦ with stand - wi xxfld 21 [\\'20.4 in x 6.3 in x 15 in - with stand\\', \\'20.4 in x 6.3 in x 15 in - with stand\\'] xxfld 930 [\\'tilt\\', \\'tilt\\'] xxfld 52 led-backlit lcd monitor / tft active matrix xxfld 421 humidity range operating 20 - 80% (non-condensing)\\nmax operating temperature 95 °f\\nmin operating tem xxfld 1092 [\\'energy star qualified yes\\\\nepeat compliant epeat silver\\', \\'energy star qualified , epeat silver\\'] xxfld 1400 [\\'security lock slot (cable lock sold separately)\\', \\'hdcp, 72% color gamut\\'] xxfld 627 100 x 100 mm xxfld 1568 color black\\ncolor support 16.7 million colors\\ndisplay type led-backlit lcd monitor / tft active matr xxfld 1425 94 khz xxfld 1112 170 xxfld 171 20 - 80% (non-condensing) xxfld 1557 hp display assistant xxfld 24 dvi-d, vga xxfld 1277 vga ¦ dvi-d xxfld 766 [\\'english / united states\\', \\'english / united states\\'] xxfld 978 manufacturer selling program hp smart buy\\nenvironmental standards energy star qualified , epeat silv xxfld 456 [\\'hp smart buy\\', \\'hp smart buy\\'] xxfld 1201 [\\'3 years warranty\\', \\'service & support details limited warranty - parts and labor - 3 years - on-si xxfld 1056 95 °f xxfld 1595 tilt angle -5/+25\\ndisplay position adjustments tilt\\nflat panel mount interface 100 x 100 mm xxfld 655 41 °f xxfld 1166 backlight life 30,000 hours\\ncompatible with windows 7 \"compatible with windows 7\" software and devic xxfld 598 [\\'1920 x 1080 at 60 hz\\', \\'1920 x 1080 at 60 hz\\'] xxfld 1526 danish, chinese (traditional), chinese (simplified), english, german, french, italian, norwegian, po xxfld 1108 [\\'tn\\', \\'tn\\'] xxfld 1261 [\\'0.24825 mm\\', \\'0.24825 mm\\'] xxfld 1120 power supply internal\\nvoltage required ac 120/230 v ( 50/60 hz )\\npower consumption operational 26 wa xxfld 593 26 watt xxfld 1518 0.5 watt xxfld 1266 internal xxfld 786 hp compaq le2202x - led monitor - 21.5\" - smart buy xxfld 532 [\\'5 ms\\', \\'5 ms\\'] xxfld 441 [\\'anti-glare\\', \\'anti-glare\\'] xxfld 932 3 years warranty xxfld 909 limited warranty - parts and labor - 3 years - on-site xxfld 196 included software hp display assistant xxfld 1272 -5/+25 xxfld 508 76 hz xxfld 630 160 xxfld 4 200 mhz xxfld 1589 21.5\" xxfld 1598 ac 120/230 v ( 50/60 hz ) xxfld 273 [\\'8.6 lbs\\', \\'8.6 lbs\\']',\n",
       "  0.011951521970331669),\n",
       " ('xxfld 364 241b4lpycb/00 -  brilliance b-line - . xxfld 498 16:9 xxfld 1066 w-led xxfld 133 n xxfld 60 y xxfld 533 kensington xxfld 495 bsmi, ce mark, fcc b, gost, saso, semko, tco 5.2, tuv ergo, tuv/gs, ul/cul, weee xxfld 1644 black xxfld 1114 20000000:1 xxfld 1032 1000:1 xxfld 1147 55 mm xxfld 778 227 mm xxfld 1481 30 - 83 khz xxfld 538 56 - 75 hz xxfld 524 led xxfld 6 250 cd/m² xxfld 318 [\\'24 \"\\', \\'61 cm\\'] xxfld 965 16.77 m xxfld 763 1920 x 1080 pixels xxfld 407 y xxfld 772 y xxfld 317 y xxfld 1301 352 mm xxfld 1614 [\\'100 mm\\', \\'y\\'] xxfld 1680 403 mm xxfld 1491 100 - 240 v xxfld 1176 y xxfld 85 1920 x 1080 pixels xxfld 166 2 pcs xxfld 351 8 xxfld 1546 y xxfld 247 chi simpl, deu, eng, esp, fre, ita, por, rus xxfld 1099 20 - 80 % xxfld 746 0 - 40 °c xxfld 1008 8300 g xxfld 791 172 mm xxfld 864 405 mm xxfld 850 624 mm xxfld 831 y xxfld 1068 0 - 90 ° xxfld 1261 0.276 x 0.276 mm xxfld 154 y xxfld 370 12 w xxfld 450 0.1 w xxfld 749 21.44 w xxfld 532 5 ms xxfld 1465 3 w xxfld 1079 tco edge, rohs, pvc / bfr free, mercury free, lead free xxfld 1633 -20 - 60 °c xxfld 611 1920 x 1080 hd 1080 xxfld 447 -65 - 65 ° xxfld 1274 n xxfld 1272 -5 - 20 ° xxfld 527 n xxfld 388 2 xxfld 1624 100 x 100 mm xxfld 958 531.4 mm xxfld 1476 298.9 mm xxfld 310 170 ° xxfld 375 160 ° xxfld 822 y xxfld 273 4300 g xxfld 638 6300 g xxfld 1510 565 mm xxfld 1045 565 mm xxfld 1517 y',\n",
       "  0.011985949240624905),\n",
       " ('xxfld 364  vk248h 24\"    (/2ms//-d/hdmi/webcam) :  :  : , ,  xxfld 498 16:9 xxfld 378 2 x 2w xxfld 1371 led xxfld 416 250 cd/mâ² xxfld 1137 â£150.00\\nâ£180.00 inc vat\\n6 available\\navailable for next day delivery if ordered before 5pm xxfld 439 ul/cul, cb, ce, erp, fcc, ccc, bsmi, gost-r, c-tick, vcci, j-moss, pse, rohs, weee, windows 7 whql xxfld 750 50, 000, 000:1 xxfld 1420 4716659019824 xxfld 1474 5.0 xxfld 1315 7.0kg xxfld 94 1 xxfld 352 30khz - 83khz xxfld 1112 170â° xxfld 1141 monitors, 16:9, 24\", 2ms, hdmi, lcd, led, led backlight, wall, wall mount, webcam, widescreen xxfld 517 asus xxfld 1088 1920 x 1080 xxfld 1231 vk248h xxfld 557 5.0kg xxfld 1293 24w xxfld 172 monitor, uk power lead, euro power lead, vga lead, dvi lead, audio lead, usb lead, quick start guide xxfld 1382 15.5cm xxfld 779 63cm xxfld 1013 47cm xxfld 1261 0.2768mm xxfld 1514 nex-105867 xxfld 1078 358.8mm xxfld 590 61.5mm xxfld 617 asus vk248h 24\" widescreen led black monitor (1920x1080/2ms/vga/dvi-d/hdmi/webcam) xxfld 1320 568.4mm xxfld 670 1920 x 1080 xxfld 532 2ms (gtg) xxfld 1659 24\" xxfld 774 lcd xxfld 117 integrated xxfld 614 true-to-life pictures powered by led, 2ms response time, real-time video communication, quickfit vir xxfld 164 0.5w xxfld 1272 -5â°/20â° xxfld 1351 black xxfld 1635 black xxfld 1565 black xxfld 732 886227019823 xxfld 775 50hz - 76hz xxfld 630 160â° xxfld 1276 vesa 100mm x 100mm',\n",
       "  0.01206315215677023),\n",
       " ('xxfld 364  240p4qpyes -  xxfld 498 16:10 xxfld 1066 w-led xxfld 133 [\\'no\\', \\'no\\'] xxfld 60 [\\'yes\\', \\'yes\\'] xxfld 386 [\\'no\\', \\'no\\'] xxfld 533 [\\'kensington\\', \\'kensington\\'] xxfld 495 rohs, bsmi, ce, fcc b, gost, semko, tco 6.0, tuv ergo, tuv/gs, ul/cul, weee xxfld 1644 [\\'silver\\', \\'silver\\'] xxfld 1114 20000000:1 xxfld 1032 1000:1 xxfld 1147 65 mm xxfld 778 244 mm xxfld 1481 24 - 94 khz xxfld 538 48 - 85 hz xxfld 1403 555 x 244 x 550 mm xxfld 524 led xxfld 6 300 cd/m² xxfld 318 609.6 mm (24 \") xxfld 615 61 cm xxfld 965 16.77 m xxfld 763 1920 x 1200 pixels xxfld 1586 ips xxfld 736 [\\'518.4 x 324 mm\\', \\'518.4 x 324 mm\\'] xxfld 407 yes xxfld 826 [\\'black\\', \\'black\\'] xxfld 71 full hd xxfld 317 yes xxfld 1301 388 mm xxfld 1614 yes xxfld 1680 550 mm xxfld 1491 100 - 240 v xxfld 918 [\\'yes\\', \\'yes\\'] xxfld 306 [\\'30000 h\\', \\'30000 h\\'] xxfld 431 0 - 12192 m xxfld 166 [\\'2\\', \\'2\\'] xxfld 351 [\\'8\\', \\'8\\'] xxfld 1546 [\\'yes\\', \\'yes\\'] xxfld 247 [\\'chi (simpl), deu, eng, esp, fre, ita, por, rus\\', \\'chi (simpl), deu, eng, esp, fre, ita, por, rus\\'] xxfld 944 0 - 3658 m xxfld 854 20 - 80 % xxfld 499 0 - 40 °c xxfld 1686 632 x 286 x 457 mm xxfld 1008 9.8 kg xxfld 791 286 mm xxfld 864 457 mm xxfld 850 632 mm xxfld 1167 [\\'no\\', \\'no\\'] xxfld 831 yes xxfld 1068 0 - 90 ° xxfld 1261 0.270 x 0.270 mm xxfld 154 [\\'yes\\', \\'yes\\'] xxfld 370 14 w xxfld 450 0.2 w xxfld 749 7.1 w xxfld 532 14 ms xxfld 1465 [\\'3 w\\', \\'3 w\\'] xxfld 1479 -20 - 60 °c xxfld 611 1920 x 1200 (wuxga) xxfld 1611 -65 - 65 ° xxfld 1274 no xxfld 1272 -5 - 20 ° xxfld 527 no xxfld 388 4 xxfld 1624 100 x 100 mm xxfld 1103 610 mm xxfld 958 518.4 mm xxfld 1476 324 mm xxfld 310 178 ° xxfld 375 178 ° xxfld 822 yes xxfld 273 4.64 kg xxfld 638 6.97 kg xxfld 1510 555 mm xxfld 1045 555 mm xxfld 1517 [\\'windows 7 home basic, windows 7 home basic x64, windows 7 home premium, windows 7 home premium x64',\n",
       "  0.012147923931479454),\n",
       " ('xxfld 364 gl2460hm - benq gl2460hm  - -. xxfld 498 16:9 xxfld 507 led xxfld 1121 benq xxfld 416 250 cd/mâ² xxfld 692 glossy black xxfld 562 16.7 million colors xxfld 646 1,000:1 xxfld 1147 7.6\" (194 mm) xxfld 1400 senseye 3, eco mode xxfld 609 yes xxfld 1301 17.1\" (434 mm) xxfld 1112 170â° xxfld 517 benq corporation xxfld 56 gl2460hm xxfld 478 http://www.benq.ca xxfld 85 1920 x 1080 xxfld 1424 wall mountable xxfld 1483 23 w xxfld 446 gl2460 xxfld 617 gl2460hm widescreen lcd monitor xxfld 229 gl xxfld 1183 lcd monitor xxfld 532 2 ms xxfld 731 full hd xxfld 1659 24\" xxfld 117 yes xxfld 164 300 mw xxfld 630 160â° xxfld 585 100 x 100 xxfld 967 4.30 kg xxfld 1510 22.2\" (565 mm)',\n",
       "  0.012201610021293163),\n",
       " ('xxfld 364 sx-19p - ag neovo sx-19p cctv  - -. xxfld 1121 ag neovo xxfld 416 250 cd/mâ² xxfld 656 speaker xxfld 562 16.7 million colors xxfld 646 1,000:1 xxfld 1147 6.9\" (175 mm) xxfld 1301 16.5\" (420 mm) xxfld 1112 160â° xxfld 517 ag neovo technology corporation xxfld 56 sx-19p xxfld 478 http://www.agneovo.com xxfld 85 1280 x 1024 xxfld 1424 wall mountable xxfld 1625 990 mw xxfld 1483 33.99 w xxfld 446 sx-19p xxfld 617 sx-19p cctv lcd monitor xxfld 1183 lcd monitor xxfld 532 3 ms xxfld 731 sxga xxfld 1659 19\" xxfld 117 yes xxfld 630 160â° xxfld 585 100 x 100 xxfld 967 7.40 kg xxfld 1510 17.5\" (445 mm)',\n",
       "  0.012352506630122662),\n",
       " ('xxfld 364  vk248h -  xxfld 498 16:9 xxfld 133 [\\'yes\\', \\'yes\\', \\'yes\\'] xxfld 60 [\\'yes\\', \\'yes\\', \\'yes\\'] xxfld 533 [\\'kensington\\', \\'kensington\\'] xxfld 1577 [\\'ac, dvi, vga\\', \\'ac, dvi, vga\\'] xxfld 495 ul/cul, cb, ce, erp, fcc, ccc, bsmi, gost-r, c-tick, vcci, j-moss, pse, rohs, weee xxfld 1644 [\\'black\\', \\'black\\'] xxfld 1114 50000000:1 xxfld 1032 1000:1 xxfld 1147 6.15 cm xxfld 1481 30 - 83 khz xxfld 538 50 - 76 hz xxfld 524 led xxfld 6 250 cd/mâ² xxfld 318 60.96 cm (24\") xxfld 615 61 cm xxfld 965 16.77m xxfld 763 1920 x 1080 pixels xxfld 407 yes xxfld 71 full hd xxfld 609 [\\'yes\\', \\'yes\\'] xxfld 1301 35.88 cm xxfld 409 30 - 83 khz xxfld 918 [\\'yes\\', \\'yes\\'] xxfld 166 [\\'2\\', \\'2\\', \\'2\\'] xxfld 1008 [\\'7.4 kg\\', \\'7.4 kg\\'] xxfld 791 [\\'16.1 cm\\', \\'16.1 cm\\'] xxfld 864 [\\'47.3 cm\\', \\'47.3 cm\\'] xxfld 850 [\\'64.1 cm\\', \\'64.1 cm\\'] xxfld 1261 0.2768 x 0.2768 mm xxfld 473 0.5w xxfld 370 0.5w xxfld 749 42w xxfld 532 2 ms xxfld 1465 [\\'4w\\', \\'4w\\', \\'4w\\'] xxfld 611 1920 x 1080 (hd 1080) xxfld 1274 no xxfld 1272 20 - -5â° xxfld 527 [\\'no\\', \\'no\\'] xxfld 858 50 - 76 hz xxfld 1624 100 x 100 mm xxfld 310 170â° xxfld 375 160â° xxfld 822 yes xxfld 273 5 kg xxfld 1510 56.84 cm',\n",
       "  0.012416718527674675),\n",
       " ('xxfld 364  vs229ha 21.5\"  va   (//hdmi//-d) :  :  : , ,  xxfld 498 16:9 xxfld 1371 led xxfld 416 250 cd/mâ² xxfld 1137 â£99.25\\nâ£119.10 inc vat\\n76 available\\navailable for next day delivery if ordered before 5pm xxfld 439 eac logo, bsmi, cb, ccc, ce, cel level 1, c-tick, erp, fcc, gost-r, j-moss, psb, rohs, tco5.2, ul/cu xxfld 646 3000:1 xxfld 750 80, 000, 000:1 xxfld 1420 4716659565970 xxfld 1474 yes xxfld 1315 5.40kg xxfld 94 1 xxfld 352 30khz - 83khz xxfld 1112 178â° xxfld 1141 monitors, 21.5\", va, led, 16:9, full hd, 1080p, 5ms, 5ms (gtg), hdmi, vesa, wall mounting xxfld 517 asus xxfld 1088 1920 x 1080 xxfld 1231 vs229ha xxfld 557 3.50kg xxfld 1293 30w xxfld 172 monitor, dvi lead, vga lead, uk power lead, quick start guide xxfld 1382 13cm xxfld 779 56.6cm xxfld 1013 44.3cm xxfld 1261 0.248mm xxfld 1514 nex-109294 xxfld 1078 387.22mm xxfld 522 315.18mm xxfld 590 200.63mm xxfld 1085 48.4mm xxfld 617 asus vs229ha 21.5\" widescreen va led black monitor (1920x1080/5ms/hdmi/vga/dvi-d) xxfld 1320 514.1mm xxfld 122 514.1mm xxfld 670 1920 x 1080 xxfld 532 5ms (gtg) xxfld 73 full hd xxfld 1659 21.5\" xxfld 774 va xxfld 614 full hd with hdmi, 178â°ultra wide viewing angle, aspect control function, splendid video intelligen xxfld 164 0.5w xxfld 1272 -5â°/20â° xxfld 1351 black xxfld 1635 black xxfld 1565 black xxfld 732 886227565979 xxfld 775 50hz - 75hz xxfld 630 178â° xxfld 1276 vesa 100mm x 100mm',\n",
       "  0.01266495045274496),\n",
       " ('xxfld 364 samsung ls24c45kmwv   -  xxfld 498 16:10 xxfld 1005 yes xxfld 1445 yes xxfld 133 [\\'no\\', \\'no\\', \\'no\\'] xxfld 60 [\\'yes\\', \\'yes\\', \\'yes\\'] xxfld 1577 [\\'audio (3.5mm), dvi, vga\\', \\'audio (3.5mm), dvi, vga\\'] xxfld 495 tco, ul, csa, tuv, kc, ccc, psb, gost, pcbc, nom, iram, saso xxfld 1644 [\\'black\\', \\'black\\'] xxfld 1114 mega contrast xxfld 1032 1000:1 xxfld 1147 54.2 mm xxfld 778 224 mm xxfld 524 led xxfld 6 250 cd/m² xxfld 318 609.6 mm (24 \") xxfld 965 16.77 m xxfld 763 1920 x 1200 pixels xxfld 1586 tn+film xxfld 715 [\\'518.4 x 324 mm\\', \\'518.4 x 324 mm\\'] xxfld 407 yes xxfld 71 full hd xxfld 1301 359.3 mm xxfld 1614 yes xxfld 1680 512.2 mm xxfld 1491 100 - 240 v xxfld 166 [\\'2\\', \\'2\\', \\'2\\'] xxfld 854 10 - 80 % xxfld 499 10 - 40 °c xxfld 1008 [\\'6.8 kg\\', \\'6.8 kg\\'] xxfld 791 [\\'433 mm\\', \\'433 mm\\'] xxfld 864 [\\'188 mm\\', \\'188 mm\\'] xxfld 850 [\\'628 mm\\', \\'628 mm\\'] xxfld 831 yes xxfld 1068 -1 - 95 ° xxfld 1261 0.27 x 0.27 mm xxfld 450 0.1 w xxfld 749 30 w xxfld 532 5 ms xxfld 1465 [\\'2 w\\', \\'2 w\\', \\'2 w\\'] xxfld 611 1920 x 1200 (wuxga) xxfld 1611 -45 - 45 ° xxfld 1274 no xxfld 1272 -3 - 25 ° xxfld 527 [\\'no\\', \\'no\\'] xxfld 1624 100 x 100 mm xxfld 310 170 ° xxfld 375 160 ° xxfld 822 yes xxfld 273 3.5 kg xxfld 638 5.1 kg xxfld 1510 554.8 mm xxfld 1045 554.8 mm',\n",
       "  0.012677907012403011),\n",
       " ('xxfld 364  234cl2sb -  xxfld 498 16:9 xxfld 1445 yes xxfld 133 [\\'no\\', \\'no\\'] xxfld 60 [\\'no\\', \\'no\\'] xxfld 495 bsmi, ce mark, fcc, class b, gost, ul/cul xxfld 1644 [\\'black\\', \\'black\\'] xxfld 1114 20000000:1 xxfld 1147 12.9 mm xxfld 778 175 mm xxfld 1481 30 - 83 khz xxfld 538 56 - 76 hz xxfld 6 250 cd/m² xxfld 318 584.2 mm (23 \") xxfld 763 1920 x 1080 pixels xxfld 407 yes xxfld 71 full hd xxfld 317 no xxfld 609 [\\'yes\\', \\'yes\\'] xxfld 1680 408 mm xxfld 306 [\\'30000 h\\', \\'30000 h\\'] xxfld 247 [\\'chi (simpl), deu, eng, esp, fre, ita, por, rus, tur\\', \\'chi (simpl), deu, eng, esp, fre, ita, por,  xxfld 499 0 - 40 °c xxfld 1008 4.78 kg xxfld 1261 0.265 x 0.265 mm xxfld 154 [\\'yes\\', \\'yes\\'] xxfld 450 0.3 w xxfld 749 24 w xxfld 1597 100-240 vac, 50/60 hz, external xxfld 1216 20 - 80 % xxfld 532 5 ms xxfld 1479 -20 - 60 °c xxfld 1272 -3 - 14 ° xxfld 310 170 ° xxfld 375 160 ° xxfld 638 2.89 kg xxfld 1045 547 mm',\n",
       "  0.012923242524266243),\n",
       " ('xxfld 364 221b3lpcb/02 -  brilliance b-line 221b3lpcb - . xxfld 1005 y xxfld 1445 y xxfld 1066 w-led xxfld 133 n xxfld 60 y xxfld 533 kensington xxfld 495 bsmi, ce-zeichen, fcc, gost, semko, tco 5.1, tüv/gs, tüvergo, ul/culrohs xxfld 1644 black xxfld 1114 20000000:1 xxfld 1032 1000:1 xxfld 1147 59 mm xxfld 778 227 mm xxfld 524 led xxfld 6 250 cd/m² xxfld 318 [\\'54.6 cm\\', \\'21.5 \"\\'] xxfld 965 16.77 m xxfld 763 1920 x 1080 pixels xxfld 407 y xxfld 71 full hd xxfld 317 y xxfld 609 n xxfld 1301 323 mm xxfld 1614 y xxfld 1680 480 mm xxfld 409 30 - 83 khz xxfld 1491 100 - 240 v xxfld 306 30000 h xxfld 166 2 xxfld 351 8 xxfld 1546 y xxfld 247 chi simpl, deu, eng, esp, fre, ita, por, rus xxfld 1099 20 - 80 % xxfld 746 0 - 40 °c xxfld 1008 7120 g xxfld 791 186 mm xxfld 864 361 mm xxfld 850 568 mm xxfld 831 y xxfld 1261 0.248 x 0.248 mm xxfld 154 y xxfld 450 0.1 w xxfld 749 17.8 w xxfld 532 5 ms xxfld 1465 3 w xxfld 1633 -20 - 60 °c xxfld 611 1920 x 1080 hd 1080 xxfld 1274 n xxfld 1272 -5 - 20 ° xxfld 527 n xxfld 388 2 xxfld 858 56 - 75 hz xxfld 1624 100 x 100 mm xxfld 958 476.6 mm xxfld 1476 268.1 mm xxfld 310 176 ° xxfld 375 170 ° xxfld 822 y xxfld 273 3400 g xxfld 638 5300 g xxfld 1510 507 mm xxfld 1045 507 mm',\n",
       "  0.01296369917690754),\n",
       " ('xxfld 364 benq gw2265hm 21.5\"  - :9 - 6  -  -  x  - .7  -  cd/mâ² - 20,,:1 - full  - speakers -  - hdmi -  - 3 xxfld 498 16:9 xxfld 507 led xxfld 1121 benq xxfld 416 250 cd/mâ² xxfld 656 speaker xxfld 692 black xxfld 562 16.7 million colors xxfld 646 20,000,000:1 xxfld 1147 2.1\" (52.7 mm) xxfld 778 7.3\" (185.7 mm) xxfld 1400 m-book mode, security lock, advanced motion accelerator (ama), eye-care, flicker-free, eco mode, rea xxfld 1224 energy star 6.0, tã\\x9cv rheinland xxfld 609 yes xxfld 1301 11.9\" (302.2 mm) xxfld 1680 15.6\" (397 mm) xxfld 541 83 khz xxfld 1112 178â° xxfld 1491 120 v ac, 230 v ac xxfld 334 3 year xxfld 517 benq corporation xxfld 56 gw2265hm xxfld 478 http://www.benq.ca xxfld 85 1920 x 1080 xxfld 1424 wall mountable xxfld 1483 30 w xxfld 172 gw2265hm widescreen lcd monitor vga cable xxfld 1460 vertical alignment (va) xxfld 1024 pc xxfld 446 gw2265hm xxfld 617 gw2265hm widescreen lcd monitor xxfld 229 gw xxfld 1183 lcd monitor xxfld 532 6 ms xxfld 731 full hd xxfld 1659 21.5\" xxfld 117 yes xxfld 183 76 hz xxfld 1272 -5â°to20â° xxfld 630 178â° xxfld 585 100 x 100 xxfld 967 3.50 kg xxfld 1510 20.1\" (510 mm) xxfld 1045 20.1\" (510 mm)',\n",
       "  0.01324552670121193),\n",
       " ('xxfld 364 3m microtouch m150 touch screen  - 15\" - capacitive -  - (11-81375-225) - . -  xxfld 1121 3m xxfld 416 250 cd/mâ² xxfld 692 black xxfld 562 16.7 million colors (24-bit) xxfld 646 350:1 xxfld 778 10.2\" (259.1 mm) xxfld 1680 15.7\" (398.8 mm) xxfld 1491 12 v dc xxfld 334 3 year xxfld 517 3m xxfld 56 11-81375-225 xxfld 478 http://www.3m.com xxfld 85 1024 x 768 xxfld 1024 pc xxfld 526 microtouch xxfld 446 m150 xxfld 617 microtouch m150 touch screen monitor xxfld 1183 lcd touchscreen monitor xxfld 532 16 ms xxfld 731 xga xxfld 1659 15\" xxfld 917 capacitive xxfld 129 yes xxfld 967 7.40 kg xxfld 1045 16.1\" (408.9 mm)',\n",
       "  0.01328118797391653),\n",
       " ('xxfld 364  vk248h-csm 24\"  - :9 - 2  -  -  x  - .7  - 300 nit - 2,:1 - full  - speakers -  - hdmi -  - usb - 6 xxfld 498 16:9 xxfld 507 led xxfld 1121 asus xxfld 416 300 cd/mâ² xxfld 656 webcam, speaker xxfld 1307 ul/culcbcefcccccbsmigost-rc-tickvccipsbwhql xxfld 692 glossy piano black xxfld 562 16.7 million colors xxfld 646 2,000:1 xxfld 778 2.4\" (61.5 mm) xxfld 1400 trace free technology, splendid video intelligence technology, security lock xxfld 1224 rohs, weee xxfld 609 yes xxfld 1680 14.1\" (358.8 mm) xxfld 541 83 khz xxfld 1112 170â° xxfld 334 3 year xxfld 517 asus computer international xxfld 56 vk248h-csm xxfld 478 http://www.asus.com xxfld 85 1920 x 1080 xxfld 1424 wall mountable xxfld 1483 60 w xxfld 172 vk248h-csm widescreen lcd monitordvi cablevga cableaudio cablepower cordusb cablequick start guidesu xxfld 1024 pc xxfld 446 vk248h-csm xxfld 617 vk248h-csm widescreen lcd monitor xxfld 229 vk xxfld 1183 lcd monitor xxfld 532 2 ms xxfld 731 full hd xxfld 1659 24\" xxfld 117 yes xxfld 183 75 hz xxfld 164 2 w xxfld 129 yes xxfld 630 160â° xxfld 585 100 x 100 xxfld 967 5.50 kg xxfld 1045 22.4\" (568.4 mm)',\n",
       "  0.013471908867359161),\n",
       " ('xxfld 364 viewsonic value va2342- 23\"  - :9 - 5  -  -  x  -  nit - 1,:1 - full  -  -  - 22 w -  - china  label xxfld 498 16:9 xxfld 507 led xxfld 1121 viewsonic xxfld 416 250 cd/mâ² xxfld 1307 ulculfcc-b (ices)cbcccnomcetuv xxfld 692 black xxfld 646 1,000:1 xxfld 1147 1.5\" (38.1 mm) xxfld 778 7.9\" (200.7 mm) xxfld 1400 security lock xxfld 1224 china energy label (cel), rohs, weee, energy star 5.0, epeat silver xxfld 1301 13.1\" (332.7 mm) xxfld 1680 16.9\" (429.3 mm) xxfld 1112 170â° xxfld 1491 110 v ac, 220 v ac xxfld 334 3 year xxfld 517 viewsonic corporation xxfld 56 va2342-led xxfld 478 http://www.viewsonic.com xxfld 85 1920 x 1080 xxfld 1424 wall mountable xxfld 1483 22 w xxfld 172 va2342-led 23\" full hd 1080p led monitorpower adapterpower cablevga video cableviewsonic wizard cd-r xxfld 1024 pc, mac xxfld 526 value xxfld 446 va2342-led xxfld 617 va2342-led 23\" full hd 1080p led monitor xxfld 1183 lcd monitor xxfld 532 5 ms xxfld 731 full hd xxfld 1659 23\" xxfld 369 anti-glare xxfld 183 60 hz xxfld 630 160â° xxfld 585 100 x 100 xxfld 967 2.27 kg xxfld 1493 2.54 kg xxfld 1510 21.6\" (548.6 mm) xxfld 1045 21.6\" (548.6 mm)',\n",
       "  0.013653554022312164),\n",
       " ('xxfld 364 lg  22 22mb65pm-w :10   speaker  xxfld 93 37,9 cm xxfld 269 170° xxfld 1359 160° xxfld 1471 ac, audio (3.5mm), dvi, vga xxfld 561 bianco xxfld 1533 16,77m xxfld 1529 21w xxfld 1105 0,3w xxfld 744 0,4w xxfld 376 47,386 cm xxfld 1041 29,616 cm xxfld 402 [\\'55,88 cm\\', \\'55,88 cm (22\")\\'] xxfld 884 0,282 x 0,282 mm xxfld 284 16:10 xxfld 1552 30 - 83 khz xxfld 343 56 - 75 hz xxfld 317 si xxfld 719 50,6 cm xxfld 427 250 cd/m² xxfld 127 14 xxfld 1546 si xxfld 200 4,7 kg xxfld 1422 2w xxfld 765 23,9 cm xxfld 190 1000:1 xxfld 1014 5000000:1 xxfld 333 si xxfld 607 1680 x 1050 pixels xxfld 246 tn xxfld 945 5 ms xxfld 902 full hd xxfld 1343 90 - 264v',\n",
       "  0.014294357970356941),\n",
       " (\"xxfld 364 aoc e2343fi 23    iphone/ipod docking  - . xxfld 324 : aoc xxfld 1421 : monitor xxfld 692 : black xxfld 1420 : 0685417039685 xxfld 1372 [': srs and dolby sound', ': universal iphone/ipod docking station (video, audio & photo playback)', xxfld 3 : personal computer xxfld 144 : envision xxfld 517 : envision xxfld 434 : e2343fi xxfld 1365 : e2343fi xxfld 1494 : e2343fi xxfld 1076 : envision xxfld 1435 : 23.8in l x 19.4in w x 10.2in h xxfld 1652 : 105828 xxfld 1138 : envision xxfld 342 : aoc e2343fi 23 – inch widescreen led monitor with iphone/ipod docking station and srs premium soun xxfld 732 : 685417039685 xxfld 718 : 3 year warranty on parts and labor, 1 year warranty on panel\",\n",
       "  0.01456003449857235),\n",
       " ('xxfld 364 lg  22 22mb65py-w :10  dp sp usb  xxfld 93 37,9 cm xxfld 269 170° xxfld 1359 160° xxfld 1471 ac, audio (3.5mm), dvi, vga xxfld 561 bianco xxfld 1533 16,77m xxfld 1529 21w xxfld 1105 0,3w xxfld 744 0,4w xxfld 376 47,386 cm xxfld 1041 29,616 cm xxfld 402 [\\'55,88 cm\\', \\'55,88 cm (22\")\\'] xxfld 884 0,282 x 0,282 mm xxfld 284 16:10 xxfld 1552 30 - 83 khz xxfld 343 56 - 75 hz xxfld 317 si xxfld 719 50,6 cm xxfld 427 250 cd/m² xxfld 127 14 xxfld 1546 si xxfld 200 4,7 kg xxfld 1422 2w xxfld 765 23,9 cm xxfld 190 1000:1 xxfld 1014 5000000:1 xxfld 333 si xxfld 607 1680 x 1050 pixels xxfld 246 tn xxfld 945 5 ms xxfld 1343 90 - 264v',\n",
       "  0.014676280319690704),\n",
       " ('xxfld 364 hannsg 21.5 hl226hpb  xxfld 1579 39 cm xxfld 202 45,2 cm xxfld 269 160° xxfld 1359 160° xxfld 1471 vga xxfld 561 nero xxfld 1533 16,77m xxfld 1646 100 x 100 mm xxfld 1529 30w xxfld 1105 0,5w xxfld 744 0,5w xxfld 402 54,61 cm (21.5\") xxfld 284 16:9 xxfld 1552 31 - 83 khz xxfld 343 56 - 75 hz xxfld 317 si xxfld 889 -5 - 15° xxfld 358 5 - 35 °c xxfld 39 51,2 cm xxfld 34 57,2 cm xxfld 427 250 cd/m² xxfld 223 4,7 kg xxfld 1129 5,4 kg xxfld 1194 20,3 cm xxfld 1156 15,2 cm xxfld 707 20 - 85% xxfld 1014 80000000:1 xxfld 607 1920 x 1080 pixels xxfld 945 5 ms xxfld 902 full hd xxfld 1343 100 - 240v',\n",
       "  0.014908313751220703),\n",
       " ('xxfld 364 lenovo 0a60995 planar pt1745r  - \" -  xxfld 378 output power / channel 1 watt\\ntype speakers - stereo - integrated xxfld 416 [\\'200 cd/m2\\', \\'200 cd/m2\\'] xxfld 656 touch-screen xxfld 692 [\\'black\\', \\'black\\'] xxfld 1328 [\\'16.7 million colors\\', \\'16.7 million colors\\'] xxfld 124 9300k, 6500k, 5500k, 7500k xxfld 818 [\\'fcc class b certified, ul, tuv, cul, vesa fpmpmi, rohs\\', \\'fcc class b certified, ul, tuv, cul, ves xxfld 1000 interfaces vga ¦ audio line-in ¦ usb ¦ serial xxfld 646 [\\'1000:1\\', \\'1000:1\\'] xxfld 1615 mute, volume, brightness, contrast, h/v position, color temperature xxfld 960 lcd monitor - 17\" xxfld 1667 17\" xxfld 21 [\\'15.2 in x 8 in x 13.5 in\\', \\'15.2 in x 8 in x 13.5 in\\'] xxfld 930 [\\'tilt\\', \\'tilt\\'] xxfld 52 lcd monitor / tft active matrix xxfld 421 max operating temperature 104 °f\\nmin operating temperature 32 °f xxfld 1400 security lock slot (cable lock sold separately) xxfld 627 100 x 100 mm xxfld 1568 brightness 200 cd/m2\\nviewable size 17\"\\ndiagonal size 17\"\\nresponse time 5 ms\\ncolor temperature 9300k, xxfld 1425 80 khz xxfld 1112 170 xxfld 1561 movement detection technology resistive\\ntype touch-screen xxfld 24 vga xxfld 1277 vga ¦ audio line-in ¦ usb ¦ serial xxfld 978 built-in devices touch-screen\\nnative resolution 1280 x 1024 at 75 hz\\ncolor black\\nresponse time 5 ms\\n xxfld 1056 104 °f xxfld 1595 display position adjustments tilt\\nflat panel mount interface 100 x 100 mm\\ntilt angle 95 xxfld 655 32 °f xxfld 1166 compliant standards fcc class b certified, ul, tuv, cul, vesa fpmpmi, rohs\\nfeatures security lock sl xxfld 323 resistive xxfld 598 [\\'1280 x 1024 at 75 hz\\', \\'1280 x 1024 at 75 hz\\'] xxfld 186 microsoft windows nt 4.0, apple macos, microsoft windows ce, linux, microsoft windows xp embedded, m xxfld 242 1 watt xxfld 1261 [\\'0.264 mm\\', \\'0.264 mm\\'] xxfld 1120 power consumption stand by / sleep 4 watt\\npower consumption operational 20 watt\\nvoltage required ac  xxfld 593 20 watt xxfld 1518 4 watt xxfld 1266 internal xxfld 786 planar pt1745r - lcd monitor - 17\" xxfld 532 [\\'5 ms\\', \\'5 ms\\'] xxfld 441 [\\'anti-glare\\', \\'anti-glare\\'] xxfld 196 os required microsoft windows nt 4.0, apple macos, microsoft windows ce, linux, microsoft windows xp xxfld 117 integrated xxfld 1272 95 xxfld 1089 [\\'touch-screen\\', \\'speakers - stereo - integrated\\'] xxfld 508 75 hz xxfld 630 160 xxfld 1589 17\" xxfld 1598 ac 120/230 v ( 50/60 hz ) xxfld 273 [\\'12.6 lbs\\', \\'12.6 lbs\\']',\n",
       "  0.014960156753659248),\n",
       " (\"xxfld 364 aoc e2351f 23   - . xxfld 976 : 16:9 xxfld 324 : aoc xxfld 1421 : monitor xxfld 692 : black xxfld 1420 : 0685417045488 xxfld 1372 [': power saving mode', ': low power consumption', ': mercury free wled', ': touch key', ': ultra sl xxfld 3 : personal computer xxfld 144 : envision xxfld 517 : envision xxfld 434 : e2351f xxfld 1365 : e2351f xxfld 1494 : e2351f xxfld 1076 : envision xxfld 1138 : envision xxfld 342 : aoc e2351f 23″ led monitor (black) xxfld 732 : 163120522392 xxfld 718 : 3 year warranty on parts and labor, 1 year warranty on panel\",\n",
       "  0.014996403828263283),\n",
       " ('xxfld 364 iiyama  22 e2280wsd-b1 ..  xxfld 1579 395.5 mm xxfld 269 178 ° xxfld 1359 170 ° xxfld 561 nero xxfld 1533 16.77 m xxfld 1646 100 x 100 mm xxfld 1529 21 w xxfld 376 473.7 mm xxfld 1041 296.1 mm xxfld 402 558.8 mm (22 \") xxfld 884 0.282 x 0.282 mm xxfld 284 16:10 xxfld 317 si xxfld 889 -4 - 21 ° xxfld 873 55 - 75 hz xxfld 39 512.5 mm xxfld 427 250 cd/m² xxfld 223 3.6 kg xxfld 1422 2 w xxfld 1194 204.5 mm xxfld 1671 24 - 80 khz xxfld 190 1000:1 xxfld 1014 5000000:1 xxfld 607 1680 x 1050 pixels xxfld 246 tn+film xxfld 945 5 ms xxfld 902 n xxfld 1343 100 - 240 v',\n",
       "  0.01507789921015501),\n",
       " ('xxfld 364  planar 22\" full  pxl2250mw -,   - - 997-7019-00  xxfld 1576 6.40 lb(s) xxfld 1553 [\\'dual speakers\\', \\'speakers included\\'] xxfld 1672 250 cd/m2 xxfld 692 black xxfld 1328 16.7 million colors xxfld 1657 100 x 100mm vesa mounting pattern. xxfld 818 [\\'fcc class b certified\\', \\'rohs\\', \\'ce\\'] xxfld 262 [\\'hdmi\\', \\'power\\', \\'hddb15\\', \\'dvi\\', \\'3.5mm audio\\'] xxfld 53 [\\'dvi\\', \\'power\\', \\'vga\\', \\'hdmi\\', \\'audio\\'] xxfld 1104 monitor, power cord, vga cable, dvi cable, audio cable, documentation xxfld 646 1000:1 xxfld 930 tilt xxfld 518 21.5 in xxfld 1586 [\\'led-backlit\\', \\'lcd\\'] xxfld 52 widescreen xxfld 884 0.2482 mm xxfld 255 250 cd/m2 xxfld 634 1920 x 1080 xxfld 649 12.5\"h x 20.1\"w x 1.9\"d xxfld 842 (1) hdmi\\n(1) dvi\\n(1) hddb15 vga\\n(1) 3.5mm audio\\n(1) power in xxfld 1086 supply: 100-240vac\\nconsumption: 21w (typ.); 0.5w (standby) xxfld 1412 5 ms xxfld 339 170/160 xxfld 1100 3 years xxfld 1025 3 years xxfld 912 free 2-day advance replacement',\n",
       "  0.015148906968533993),\n",
       " ('xxfld 364 dell ultrasharp 2407wfp 2407wfpb 24\"  usb  1920x1200 tested |  xxfld 498 16:10 xxfld 324 dell xxfld 416 450 cd/mâ² xxfld 646 1000 xxfld 1586 lcd xxfld 1088 1920 x 1200 xxfld 434 2407wfp xxfld 1365 320-4335 xxfld 532 6 ms xxfld 1659 24\" xxfld 989 integrated xxfld 1040 dvi-d',\n",
       "  0.015174581669270992),\n",
       " ('xxfld 364  planar 24\" pxl2430mw multi-touch -,   - - 997-6399-00  xxfld 1576 19.80 lb(s) xxfld 1553 touch screen xxfld 1672 250 nit(s) xxfld 692 black xxfld 818 [\\'ce\\', \\'ctuvus\\', \\'fcc class b certified\\', \\'rohs\\'] xxfld 262 [\\'3.5mm audio\\', \\'hdmi\\', \\'usb type b\\', \\'hddb15\\', \\'dvi-d 24-pin (dual link)\\', \\'power\\'] xxfld 53 [\\'audio line-in\\', \\'vga\\', \\'usb\\', \\'hdmi\\', \\'dvi\\', \\'power\\'] xxfld 1104 monitor, power cord, vga cable, dvi cable, usb cable, audio cable, documentation xxfld 646 1000:1 xxfld 930 tilt xxfld 518 23.6 in xxfld 1586 led-backlit xxfld 52 widescreen xxfld 884 .272 mm xxfld 255 250 cd/m2 xxfld 634 1920 x 1080 xxfld 649 15.5\"h x 21.9\"w x 4.3\"d xxfld 842 (1) hddb15 vga\\n(1) 24-pin dvi-d\\n(1) hdmi\\n(1) usb type b\\n(1) 3.5mm audio\\n(1) power in xxfld 1086 requirements: 100-240vac, 50/60hz\\nconsumption: 35w xxfld 1412 5 ms xxfld 1442 pc with windows 7 installed. xxfld 339 170/160 xxfld 1100 3 years xxfld 1025 3 years xxfld 912 customer first warranty featuring free 2-day advance replacement',\n",
       "  0.01532590202987194),\n",
       " ('xxfld 364 viewsonic ve155 15 034  make an offer |  xxfld 416 260 cd/mâ² xxfld 1065 used: an item that has been used previously. the item may have some signs of cosmetic wear, but is f xxfld 646 450 xxfld 1586 lcd xxfld 434 ve155s xxfld 1365 ebay_viewsonicve155s15 xxfld 532 30 ms xxfld 1659 15\" xxfld 989 desktop',\n",
       "  0.015426112338900566),\n",
       " ('xxfld 364 dell ultrasharp u2412m 24\"  884116064244 |  xxfld 498 16:10 xxfld 324 dell xxfld 416 300 cd/m² xxfld 646 1000 xxfld 1586 led lcd xxfld 1088 1920 x 1200 xxfld 434 u2412m xxfld 1365 860-10161 xxfld 532 8 ms xxfld 1659 24\" xxfld 989 desktop xxfld 732 884116064244 xxfld 1040 dvi-d',\n",
       "  0.015509813092648983),\n",
       " ('xxfld 364 gateway nv52  |  xxfld 324 gateway xxfld 1065 used: an item that has been used previously. the item may have some signs of cosmetic wear, but is f xxfld 1586 lcd xxfld 1659 15\" xxfld 989 integrated',\n",
       "  0.015731438994407654),\n",
       " ('xxfld 364  elite manual pull-down projector screen, matte white, 92in projector screens m92uwh  xxfld 692 [\\'black\\', \\'white\\'] xxfld 1657 wall mounting bracekts sold separately. xxfld 1104 screen, mounting hardware, documentation xxfld 649 57.8\"h x 86.5\"w xxfld 1183 projection screen xxfld 1100 2 years xxfld 1025 2 years xxfld 912 government, education, military, and religious customers receive a 3 year screen warranty',\n",
       "  0.017167802900075912)]"
      ]
     },
     "execution_count": 123,
     "metadata": {
      "tags": []
     },
     "output_type": "execute_result"
    }
   ],
   "source": [
    "list(sorted([(strings[i],d) for i,d in zip(close,distances)],key=lambda x:x[1]))"
   ]
  },
  {
   "cell_type": "code",
   "execution_count": null,
   "metadata": {
    "colab": {
     "base_uri": "https://localhost:8080/",
     "height": 34
    },
    "id": "xPm3CE-xO6_0",
    "outputId": "6409160d-883a-49e8-8b3c-9a5b8954bfd7"
   },
   "outputs": [
    {
     "data": {
      "text/plain": [
       "True"
      ]
     },
     "execution_count": 124,
     "metadata": {
      "tags": []
     },
     "output_type": "execute_result"
    }
   ],
   "source": [
    "t.save(str(work/'100.ann'))"
   ]
  },
  {
   "cell_type": "code",
   "execution_count": null,
   "metadata": {
    "colab": {
     "base_uri": "https://localhost:8080/",
     "height": 34
    },
    "id": "bEyBNltrO6_6",
    "outputId": "6eccbc2f-9d6e-48da-d13a-8ad210231c97"
   },
   "outputs": [
    {
     "data": {
      "text/plain": [
       "True"
      ]
     },
     "execution_count": 125,
     "metadata": {
      "tags": []
     },
     "output_type": "execute_result"
    }
   ],
   "source": [
    "t = AnnoyIndex(f, 'angular')\n",
    "t.load(str(work/'100.ann'))"
   ]
  },
  {
   "cell_type": "markdown",
   "metadata": {
    "id": "tXIYZTjZS7PW"
   },
   "source": [
    "Getting the closest points from each source did not seemed to work great. \n",
    "\n",
    "We need better embeddings and this is why we use the labelled dataset to fine tune the encoder."
   ]
  },
  {
   "cell_type": "markdown",
   "metadata": {
    "id": "wOkJbtJsKmJo"
   },
   "source": [
    "---\n",
    "# Getting the siamese data\n",
    "---\n",
    "\n",
    "We build a representation of the labelled dataset (itemA, itemB, match)\n",
    "that works with fastai api."
   ]
  },
  {
   "cell_type": "code",
   "execution_count": null,
   "metadata": {
    "id": "gkDJJwOXKfBd"
   },
   "outputs": [],
   "source": [
    "#base class to represent two texts.\n",
    "#https://github.com/fastai/fastai/blob/868513671bca40edf69729552be51d3503873d99/fastai/text/data.py#L278\n",
    "#modified to hold a tuple of texts.\n",
    "class SiameseText(ItemBase):\n",
    "    def __init__(self, l:Text, r:Text): \n",
    "      self.l, self.r = l,r\n",
    "\n",
    "    @property\n",
    "    def data(self):\n",
    "      return [self.l.data,self.r.data]\n",
    "\n",
    "    def apply_tfms(self, tfms, **kwargs):\n",
    "      self.l = self.l.apply_tfms(tfms, **kwargs)\n",
    "      self.r = self.r.apply_tfms(tfms, **kwargs)\n",
    "      return self\n",
    "\n",
    "    def __str__(self):  return f\"{str(self.l)}\\n{str(self.r)}\""
   ]
  },
  {
   "cell_type": "markdown",
   "metadata": {
    "id": "ER_Na5-AFPRg"
   },
   "source": [
    "object1 \n",
    "(object1 xxNEWOBJCT object2) 1/2 \n",
    "(obect2 xxNEWOBJT object1) "
   ]
  },
  {
   "cell_type": "code",
   "execution_count": null,
   "metadata": {
    "id": "SfR_KSAp-G07"
   },
   "outputs": [],
   "source": [
    "#function to gather sample into a batch\n",
    "#adapted from pad_collate in fastai\n",
    "#but for 2 inputs now. \n",
    "#https://github.com/fastai/fastai/blob/868513671bca40edf69729552be51d3503873d99/fastai/text/data.py#L128\n",
    "def duo_pad_collate(samples:BatchSamples, pad_idx:int=1, pad_first:bool=True, backwards:bool=False) -> Tuple[LongTensor, LongTensor]:\n",
    "    \"Function that collect samples and adds padding for a tuple. Flips token order if needed\"\n",
    "    samples = to_data(samples)\n",
    "    def pad(j, pad_first=pad_first, pad_idx=pad_idx, backwards=backwards):\n",
    "      max_len = max(len(s[0][j]) for s in samples)\n",
    "      res = torch.zeros(len(samples), max_len).long() + pad_idx\n",
    "      if backwards: pad_first = not pad_first\n",
    "      for i,s in enumerate(samples):\n",
    "          if pad_first: res[i,-len(s[0][j]):] = LongTensor(s[0][j])\n",
    "          else:         res[i,:len(s[0][j]):] = LongTensor(s[0][j])\n",
    "      if backwards: res = res.flip(1)\n",
    "      return res\n",
    "    \n",
    "    return (pad(0),pad(1)), tensor(np.array([s[1] for s in samples]))"
   ]
  },
  {
   "cell_type": "code",
   "execution_count": null,
   "metadata": {
    "colab": {
     "base_uri": "https://localhost:8080/",
     "height": 246
    },
    "id": "gJa_57RLchrv",
    "outputId": "ab3414f1-3860-4650-e7bf-9bb060dfe7f2"
   },
   "outputs": [
    {
     "ename": "NameError",
     "evalue": "ignored",
     "output_type": "error",
     "traceback": [
      "\u001b[0;31m---------------------------------------------------------------------------\u001b[0m",
      "\u001b[0;31mNameError\u001b[0m                                 Traceback (most recent call last)",
      "\u001b[0;32m<ipython-input-3-30c21bde31e7>\u001b[0m in \u001b[0;36m<module>\u001b[0;34m()\u001b[0m\n\u001b[1;32m      2\u001b[0m \u001b[0;31m#and a weighted sampler for the train set.\u001b[0m\u001b[0;34m\u001b[0m\u001b[0;34m\u001b[0m\u001b[0;34m\u001b[0m\u001b[0m\n\u001b[1;32m      3\u001b[0m \u001b[0;31m#https://github.com/fastai/fastai/blob/868513671bca40edf69729552be51d3503873d99/fastai/text/data.py#L146\u001b[0m\u001b[0;34m\u001b[0m\u001b[0;34m\u001b[0m\u001b[0;34m\u001b[0m\u001b[0m\n\u001b[0;32m----> 4\u001b[0;31m \u001b[0;32mclass\u001b[0m \u001b[0mDuoDataBunch\u001b[0m\u001b[0;34m(\u001b[0m\u001b[0mTextDataBunch\u001b[0m\u001b[0;34m)\u001b[0m\u001b[0;34m:\u001b[0m\u001b[0;34m\u001b[0m\u001b[0;34m\u001b[0m\u001b[0m\n\u001b[0m\u001b[1;32m      5\u001b[0m     \u001b[0;34m\"Create a `TextDataBunch` suitable for training an RNN classifier.\"\u001b[0m\u001b[0;34m\u001b[0m\u001b[0;34m\u001b[0m\u001b[0m\n\u001b[1;32m      6\u001b[0m     \u001b[0;34m\"with a weihted random sampler and a collate function for the duo.\"\u001b[0m\u001b[0;34m\u001b[0m\u001b[0;34m\u001b[0m\u001b[0m\n",
      "\u001b[0;31mNameError\u001b[0m: name 'TextDataBunch' is not defined"
     ]
    }
   ],
   "source": [
    "#get together the datasets (train and validation) into a dataloader using the special duo_pad_collate function.\n",
    "#and a weighted sampler for the train set.\n",
    "#https://github.com/fastai/fastai/blob/868513671bca40edf69729552be51d3503873d99/fastai/text/data.py#L146\n",
    "class DuoDataBunch(TextDataBunch):\n",
    "    \"Create a `TextDataBunch` suitable for training an RNN classifier.\"\n",
    "    \"with a weihted random sampler and a collate function for the duo.\"\n",
    "    collate_fn=duo_pad_collate #USING THE CUSTOM COLLATE FUNCTION \n",
    "    train_sampler=torch.utils.data.WeightedRandomSampler #USING A WHEIGHTED SAMPLER\n",
    "    \n",
    "    @classmethod\n",
    "    def create(cls, train_ds:Dataset, valid_ds:Dataset, test_ds:Optional[Dataset]=None, path:PathOrStr='.', bs:int=64,\n",
    "               val_bs:int=None, num_workers:int=defaults.cpus, dl_tfms:Optional[Collection[Callable]]=None,\n",
    "               device:torch.device=None, collate_fn:Callable=data_collate, no_check:bool=False, **dl_kwargs)->'DataBunch':\n",
    "        \"Create a `DataBunch` from `train_ds`, `valid_ds` and maybe `test_ds` with a batch size of `bs`. Passes `**dl_kwargs` to `DataLoader()`\"\n",
    "        datasets = cls._init_ds(train_ds, valid_ds, test_ds)\n",
    "        val_bs = ifnone(val_bs, bs)\n",
    "\n",
    "        #get the weights for wheited sampling. This assume we gave a dataframe with a weight column to the itemList.\n",
    "        weights = datasets[0].inner_df.weight.to_numpy()\n",
    "        num_samples=int(1e4)\n",
    "        #wheighted sampler for the trainning set.\n",
    "        train_sampler = cls.train_sampler(weights=weights,num_samples=num_samples,replacement=True)        \n",
    "        \n",
    "        dls = [DataLoader(datasets[0], batch_size=bs ,shuffle=False,drop_last=True,sampler=train_sampler, num_workers=num_workers, **dl_kwargs)]\n",
    "        \n",
    "        #simple iterative sampler for the others. (as is done in fastai api)\n",
    "        dls += [DataLoader(d, b, shuffle=False, drop_last=False, num_workers=num_workers, **dl_kwargs) for d,b in\n",
    "               zip(datasets[1:], (val_bs,val_bs,val_bs)) if d is not None]\n",
    "\n",
    "        return cls(*dls, path=path, device=device, dl_tfms=dl_tfms, collate_fn=cls.collate_fn, no_check=no_check)"
   ]
  },
  {
   "cell_type": "code",
   "execution_count": null,
   "metadata": {
    "id": "D6OI6-ZzT6sH"
   },
   "outputs": [],
   "source": [
    "#list that get you the two item. Their position left/right is random\n",
    "#NOTA: Might not be necessary to differential between left and right if the distance layer used is symetric.\n",
    "#NOTA: to be used using the from_df factory method. \n",
    "#Inspired by the textList\n",
    "#https://github.com/fastai/fastai/blob/868513671bca40edf69729552be51d3503873d99/fastai/text/data.py#L317\n",
    "\n",
    "class DuoList(ItemList):\n",
    "  _bunch=DuoDataBunch\n",
    "  import random\n",
    "  def __init__(self, items:Iterator, source:TextList, indexer:Series, vocab=None, **kwargs):\n",
    "    super().__init__(items, **kwargs)\n",
    "    self.source, self.indexer,self.vocab = source, indexer,vocab\n",
    "    self.copy_new+=[\"source\", \"indexer\",\"vocab\"]\n",
    "\n",
    "  def get(self, i): #this is the function called to get  pair each time. \n",
    "    l,r = super().get(i) #super.get will get the i-th item from self.items, which is a tuple of indexes for two items\n",
    "    sl,sr = self.source.get(l), self.source.get(r) #get the corresponding dictionnaries from the two indexes\n",
    "    return  SiameseText(sl,sr) if random.choice([True, False]) else SiameseText(sr,sl) #wrap them into SiameseText, and randomly permute.\n",
    "  \n",
    "  @classmethod\n",
    "  def from_df(cls, df, source, indexer, cols=[0,1]):\n",
    "    #df contains itemA ids, itemB items, wheights, train & validation split. \n",
    "    #source is the list of items we built for the LM\n",
    "    #indexer is the list giving the mapping from index to sourcename//number (ebay//34)\n",
    "    #nota: inner_df is part of fsatai API and is passed as a kwargs to the parent class constructor.\n",
    "    #it will be save as a member variable.\n",
    "    items = zip(df.iloc[:,cols[0]].map(indexer), df.iloc[:,1].map(indexer))\n",
    "    return cls(items=items, source=source, indexer=indexer, vocab=source.vocab, inner_df=df,)\n",
    "  "
   ]
  },
  {
   "cell_type": "code",
   "execution_count": null,
   "metadata": {
    "id": "_-aKoYRiAtGK"
   },
   "outputs": [],
   "source": [
    "#class to perform so initial pre-processing on the label dataset.\n",
    "#just calculate weights for the wheited random sampler to do its job\n",
    "class LabelSplitter():\n",
    "  def __init__(self, maxlen:int=int(1e4),valp:float=0.05, label=\"label\"):\n",
    "    self.maxlen,self.valp,self.label=maxlen,valp,label\n",
    "\n",
    "  def _traintestsplit(this, df:DataFrame):\n",
    "    #put a column \"is_valid\" with valp% of validation data\n",
    "    dfv = df.sample(frac=this.valp)\n",
    "    df[\"is_valid\"] = df.index.isin(dfv.index)\n",
    "    return df[~df.is_valid], df[df.is_valid]\n",
    "  \n",
    "  def _weight(this, df, resample = True):\n",
    "    #rebalance the 1 class to the same number.\n",
    "    ipp=len(df)/sum(df[this.label]==1)\n",
    "    df.loc[df.label==1, \"weight\"]= ipp if resample else 1\n",
    "    df.loc[df.label==0, \"weight\"]=1\n",
    "    return df\n",
    "  def transform(self, df):\n",
    "    dft,dfv = self._traintestsplit(df)\n",
    "    dft = self._weight(dft.copy())\n",
    "    return pd.concat([dft,dfv])"
   ]
  },
  {
   "cell_type": "markdown",
   "metadata": {
    "id": "kuQF2022Nadh"
   },
   "source": [
    "---\n",
    "Try to load the data in\n",
    "\n",
    "---"
   ]
  },
  {
   "cell_type": "code",
   "execution_count": null,
   "metadata": {
    "id": "8N5K9EKjC2Q8"
   },
   "outputs": [],
   "source": [
    "#mark the validation set and add weights\n",
    "labelsp=LabelSplitter().transform(label)"
   ]
  },
  {
   "cell_type": "code",
   "execution_count": null,
   "metadata": {
    "colab": {
     "base_uri": "https://localhost:8080/",
     "height": 206
    },
    "id": "SpFDbK0UUrPs",
    "outputId": "6da7b13c-7f23-4b47-ee96-16247402b35d"
   },
   "outputs": [
    {
     "data": {
      "text/html": [
       "<div>\n",
       "<style scoped>\n",
       "    .dataframe tbody tr th:only-of-type {\n",
       "        vertical-align: middle;\n",
       "    }\n",
       "\n",
       "    .dataframe tbody tr th {\n",
       "        vertical-align: top;\n",
       "    }\n",
       "\n",
       "    .dataframe thead th {\n",
       "        text-align: right;\n",
       "    }\n",
       "</style>\n",
       "<table border=\"1\" class=\"dataframe\">\n",
       "  <thead>\n",
       "    <tr style=\"text-align: right;\">\n",
       "      <th></th>\n",
       "      <th>left_spec_id</th>\n",
       "      <th>right_spec_id</th>\n",
       "      <th>label</th>\n",
       "      <th>is_valid</th>\n",
       "      <th>weight</th>\n",
       "    </tr>\n",
       "  </thead>\n",
       "  <tbody>\n",
       "    <tr>\n",
       "      <th>0</th>\n",
       "      <td>www.ebay.com//12307</td>\n",
       "      <td>www.ebay.com//23720</td>\n",
       "      <td>1</td>\n",
       "      <td>False</td>\n",
       "      <td>105.387226</td>\n",
       "    </tr>\n",
       "    <tr>\n",
       "      <th>1</th>\n",
       "      <td>catalog.com//254</td>\n",
       "      <td>www.ebay.com//19927</td>\n",
       "      <td>1</td>\n",
       "      <td>False</td>\n",
       "      <td>105.387226</td>\n",
       "    </tr>\n",
       "    <tr>\n",
       "      <th>2</th>\n",
       "      <td>catalog.com//254</td>\n",
       "      <td>www.ebay.com//22113</td>\n",
       "      <td>1</td>\n",
       "      <td>False</td>\n",
       "      <td>105.387226</td>\n",
       "    </tr>\n",
       "    <tr>\n",
       "      <th>3</th>\n",
       "      <td>www.ebay.com//19927</td>\n",
       "      <td>www.ebay.com//22113</td>\n",
       "      <td>1</td>\n",
       "      <td>False</td>\n",
       "      <td>105.387226</td>\n",
       "    </tr>\n",
       "    <tr>\n",
       "      <th>4</th>\n",
       "      <td>www.ebay.com//23720</td>\n",
       "      <td>www.officedepot.com//289</td>\n",
       "      <td>1</td>\n",
       "      <td>False</td>\n",
       "      <td>105.387226</td>\n",
       "    </tr>\n",
       "  </tbody>\n",
       "</table>\n",
       "</div>"
      ],
      "text/plain": [
       "          left_spec_id             right_spec_id  label  is_valid      weight\n",
       "0  www.ebay.com//12307       www.ebay.com//23720      1     False  105.387226\n",
       "1     catalog.com//254       www.ebay.com//19927      1     False  105.387226\n",
       "2     catalog.com//254       www.ebay.com//22113      1     False  105.387226\n",
       "3  www.ebay.com//19927       www.ebay.com//22113      1     False  105.387226\n",
       "4  www.ebay.com//23720  www.officedepot.com//289      1     False  105.387226"
      ]
     },
     "execution_count": 142,
     "metadata": {
      "tags": []
     },
     "output_type": "execute_result"
    }
   ],
   "source": [
    "#left is used to get the corresponding item\n",
    "#right same\n",
    "#label is used to give the label (0/1 if it is a match)\n",
    "#weight is used to upsample by the weight the minory class 1.\n",
    "labelsp.head()"
   ]
  },
  {
   "cell_type": "code",
   "execution_count": null,
   "metadata": {
    "id": "DGNi-03HYnez"
   },
   "outputs": [],
   "source": [
    "#some reformating to build the index -> name//number mapping\n",
    "id_label = pd.Series(range(len(id)), index=[l[19:-5].replace(\"/\", \"//\") for l in id])"
   ]
  },
  {
   "cell_type": "code",
   "execution_count": null,
   "metadata": {
    "colab": {
     "base_uri": "https://localhost:8080/",
     "height": 121
    },
    "id": "z5xqkwv8Uztq",
    "outputId": "26416d0a-d20d-40ff-b878-6cd49da6c530"
   },
   "outputs": [
    {
     "data": {
      "text/plain": [
       "ca.pcpartpicker.com//475    0\n",
       "ca.pcpartpicker.com//262    1\n",
       "ca.pcpartpicker.com//258    2\n",
       "ca.pcpartpicker.com//239    3\n",
       "ca.pcpartpicker.com//286    4\n",
       "dtype: int64"
      ]
     },
     "execution_count": 134,
     "metadata": {
      "tags": []
     },
     "output_type": "execute_result"
    }
   ],
   "source": [
    "id_label.head()"
   ]
  },
  {
   "cell_type": "code",
   "execution_count": null,
   "metadata": {
    "id": "L05sOnYPOJaJ"
   },
   "outputs": [],
   "source": [
    "#copy the Sentencepiece data from drive to somewhere whitout spaces\n",
    "#because we want to use the same sentencepiece data as the one used for LM\n",
    "from shutil import copyfile\n",
    "sp_temp=Path('tempemb')\n",
    "sp_temp.mkdir(exist_ok=True)\n",
    "copyfile(work/'1spm.model', Path(sp_temp)/'spm.model')\n",
    "copyfile(work/'1spm.vocab', Path(sp_temp)/'spm.vocab')\n",
    "vocab = pickle.load(open(work/'vocab.pkl', 'rb'))"
   ]
  },
  {
   "cell_type": "code",
   "execution_count": null,
   "metadata": {
    "id": "waP4IHZR0bYp"
   },
   "outputs": [],
   "source": [
    "#loads directly the tockenized/numericalized data used for lm.\n",
    "base = pickle.load(open(work/\"base.pkl\", \"rb\"))"
   ]
  },
  {
   "cell_type": "code",
   "execution_count": null,
   "metadata": {
    "id": "6fd29DXTVdSe"
   },
   "outputs": [],
   "source": [
    "#create the duo list. \n",
    "#indexing into duo will get the index in labelsp\n",
    "#and then get the two corresponding tokens list from base.\n",
    "duo = DuoList.from_df(labelsp, source=base, indexer=id_label)"
   ]
  },
  {
   "cell_type": "code",
   "execution_count": null,
   "metadata": {
    "colab": {
     "base_uri": "https://localhost:8080/",
     "height": 34
    },
    "id": "UXncobfhbrHq",
    "outputId": "02816c80-5a1e-40e2-8766-209f1a495bd4"
   },
   "outputs": [
    {
     "name": "stdout",
     "output_type": "stream",
     "text": [
      "You can deactivate this warning by passing `no_check=True`.\n"
     ]
    }
   ],
   "source": [
    "#split where df is is_valid,\n",
    "#label( 0/1) using the \"label\" column\n",
    "data = duo.split_from_df(col=\"is_valid\").label_from_df(cols=\"label\").databunch()"
   ]
  },
  {
   "cell_type": "code",
   "execution_count": null,
   "metadata": {
    "colab": {
     "base_uri": "https://localhost:8080/",
     "height": 312
    },
    "id": "-9IRSfvCyesA",
    "outputId": "7b0914f7-f693-4066-ed66-61c23b77947e"
   },
   "outputs": [
    {
     "data": {
      "text/plain": [
       "([tensor([[    1,     1,     1,  ...,     4,   156,  2321],\n",
       "          [    1,     1,     1,  ...,    54,  1713,  7849],\n",
       "          [    1,     1,     1,  ..., 11525, 11529, 11524],\n",
       "          ...,\n",
       "          [    1,     1,     1,  ...,   378,  6854,    90],\n",
       "          [    1,     1,     1,  ...,   276,   219,   545],\n",
       "          [    1,     1,     1,  ...,     4,   265,  5882]]),\n",
       "  tensor([[    1,     1,     1,  ...,     4,   156,  2321],\n",
       "          [    1,     1,     1,  ...,     4,   156,   794],\n",
       "          [    1,     1,     1,  ...,   190,   295, 11536],\n",
       "          ...,\n",
       "          [    2,     4,    77,  ...,   178,    42,   147],\n",
       "          [    1,     1,     1,  ...,   190,   295, 11536],\n",
       "          [    1,     1,     1,  ...,     4,   587,   302]])],\n",
       " tensor([1, 1, 0, 1, 0, 0, 1, 1, 0, 0, 0, 0, 1, 1, 0, 0, 0, 1, 1, 0, 1, 1, 0, 0,\n",
       "         0, 0, 1, 0, 0, 1, 0, 1, 0, 1, 1, 1, 1, 1, 1, 0, 0, 0, 1, 1, 1, 0, 0, 1,\n",
       "         1, 0, 1, 0, 1, 0, 1, 0, 1, 0, 0, 1, 0, 1, 0, 1]))"
      ]
     },
     "execution_count": 164,
     "metadata": {
      "tags": []
     },
     "output_type": "execute_result"
    }
   ],
   "source": [
    "#check that padding is done correctly, and that upsampling is also done.\n",
    "data.one_batch()"
   ]
  },
  {
   "cell_type": "markdown",
   "metadata": {
    "id": "2VZP0Lc3PiUq"
   },
   "source": [
    "See that data-reblancing is done by the sampler. "
   ]
  },
  {
   "cell_type": "code",
   "execution_count": null,
   "metadata": {
    "id": "Pqofu871TBzP"
   },
   "outputs": [],
   "source": [
    "data.save(work/\"datac.pkl\")"
   ]
  },
  {
   "cell_type": "markdown",
   "metadata": {
    "id": "CxMU5WihC177"
   },
   "source": [
    "---\n",
    "# Define the network\n",
    "\n",
    "---"
   ]
  },
  {
   "cell_type": "code",
   "execution_count": null,
   "metadata": {
    "id": "OCoSI__HZxUa"
   },
   "outputs": [],
   "source": [
    "# this moduls takes the two enbeddings and concats their value, and their scalar by scalar distance.\n",
    "class SimpleERDistance(Module):\n",
    "  #goal is to combine the two encoding tensors\n",
    "  def __init__(self):\n",
    "    super().__init__()\n",
    "\n",
    "  def forward(self, input:Tuple[Tensor, Tensor]) ->Tensor:\n",
    "    #get the two encodings as a 2D Tensor\n",
    "    l,r=input\n",
    "    diff = l-r\n",
    "    l1 = torch.abs(l-r)\n",
    "    l2 = torch.square(l-r)\n",
    "    return torch.cat([l1,l2,l,r], dim=1)"
   ]
  },
  {
   "cell_type": "code",
   "execution_count": null,
   "metadata": {
    "id": "u152U3YBT53A"
   },
   "outputs": [],
   "source": [
    "#again taken from fastai and modified a bit to work with my context. \n",
    "#https://github.com/fastai/fastai/blob/868513671bca40edf69729552be51d3503873d99/fastai/text/learner.py#L232\n",
    "#it just skip the pooling part.\n",
    "class ERHead(Module):\n",
    "    \"Create a linear classifier with pooling.\"\n",
    "    def __init__(self, layers:Collection[int], drops:Collection[float]):\n",
    "        mod_layers = []\n",
    "        if len(drops) != len(layers)-1: raise ValueError(\"Number of layers and dropout values do not match.\")\n",
    "        activs = [nn.ReLU(inplace=True)] * (len(layers) - 2) + [None]\n",
    "        for n_in, n_out, p, actn in zip(layers[:-1], layers[1:], drops, activs):\n",
    "            mod_layers += bn_drop_lin(n_in, n_out, p=p, actn=actn)\n",
    "        self.layers = nn.Sequential(*mod_layers)\n",
    "    def forward(self, input:Tensor)->Tensor:\n",
    "        x = self.layers(input)\n",
    "        return x"
   ]
  },
  {
   "cell_type": "code",
   "execution_count": null,
   "metadata": {
    "id": "fhghE4zuGyi7"
   },
   "outputs": [],
   "source": [
    "#the main module that combines the encoder to get the embeddings, \n",
    "#the distance to get a single vector from the two embeddings\n",
    "#and the head to output a vector with 2 values for the 2 classes 0 and 1.\n",
    "class er_net(Module):\n",
    "  def __init__(self, encoder, distance, head):\n",
    "    self.encoder, self.distance, self.head = encoder, distance ,head\n",
    "    self.items = [encoder,distance,head]\n",
    "\n",
    "  def reset(self):\n",
    "    for c in self.children():\n",
    "        if hasattr(c, 'reset'): c.reset()\n",
    "\n",
    "  def __getitem__(self,index):\n",
    "    return self.items[index]\n",
    "  \n",
    "  def forward(self, input_left, input_right):\n",
    "    from fastai.text.learner import masked_concat_pool\n",
    "    #get the encodings thoses are [embeding size*3, maxlen/bptt ], by default [400*3, 20]\n",
    "    input = [input_left, input_right]\n",
    "    rawl,outl,maskl = self.encoder(input[0]) \n",
    "    #nota; the encoder gives the raw value, output value, and mask value \n",
    "    #see the corresponding fastai class.\n",
    "    rawr,outr,maskr = self.encoder(input[1])\n",
    "    #pool the last values of the encodings.\n",
    "    left, right = masked_concat_pool(outl, maskl), masked_concat_pool(outr, maskr)\n",
    "    #[embding size*3] once pooled\n",
    "    #conbine the two.\n",
    "    x = self.distance((left, right))\n",
    "    o = self.head(x)\n",
    "    return o, rawl, outl, rawr, outr"
   ]
  },
  {
   "cell_type": "code",
   "execution_count": null,
   "metadata": {
    "id": "D_jVxYZSUE6-"
   },
   "outputs": [],
   "source": [
    "#get the correct layer groups for our model. This is used\n",
    "#to do discriminative learning (see fastai doc).\n",
    "#https://github.com/fastai/fastai/blob/75653d571060d2af03e145e5c623bb854811a223/fastai/text/models/awd_lstm.py#L168\n",
    "#model[0] is the encoder, model[1] is the distance layer (not wheights to learn is this layer) model[2] is the head\n",
    "def duo_awd_lstm_clas_split(model:nn.Module) -> List[List[nn.Module]]:\n",
    "    \"Split a RNN `model` in groups for differential learning rates.\"\n",
    "    groups = [[model[0].module.encoder, model[0].module.encoder_dp]]\n",
    "    groups += [[rnn, dp] for rnn, dp in zip(model[0].module.rnns, model[0].module.hidden_dps)]\n",
    "    return groups + [[model[2]]]"
   ]
  },
  {
   "cell_type": "code",
   "execution_count": null,
   "metadata": {
    "id": "1LGDQr8GDqqY"
   },
   "outputs": [],
   "source": [
    "#a slight update on the RNNtrainer from fastai\n",
    "#to work with the siamese data\n",
    "#https://github.com/fastai/fastai/blob/781cbcfb08b1a6c22551f2559e55ca0aa555b93c/fastai/callbacks/rnn.py#L8\n",
    "class DuoRNNTrainer(LearnerCallback):\n",
    "    \"`Callback` that regroups lr adjustment to seq_len, AR and TAR.\"\n",
    "    def __init__(self, learn:Learner, alpha:float=0., beta:float=0.):\n",
    "        super().__init__(learn)\n",
    "        self.not_min += ['raw_out_l', 'out_l', 'raw_out_r', 'out_r']\n",
    "        self.alpha,self.beta = alpha,beta\n",
    "        \n",
    "    def on_epoch_begin(self, **kwargs):\n",
    "        \"Reset the hidden state of the model.\"\n",
    "        self.learn.model.reset()\n",
    "\n",
    "    def on_loss_begin(self, last_output:Tuple[Tensor,Sequence[Tensor],Sequence[Tensor],Sequence[Tensor],Sequence[Tensor]], **kwargs):\n",
    "        \"Save the extra outputs for later and only returns the true output.\"\n",
    "        #changed to save outputs for the two item we pass through\n",
    "        self.raw_out_l,self.out_l = last_output[1],last_output[2]\n",
    "        self.raw_out_r,self.out_r = last_output[3],last_output[4]\n",
    "        return {'last_output': last_output[0]}\n",
    "\n",
    "    def on_backward_begin(self, last_loss:Rank0Tensor, last_input:Tensor, **kwargs):\n",
    "        \"Apply AR and TAR to `last_loss`.\"\n",
    "        #change to apply AR and TAR on both of the items\n",
    "        for (raw_out, out) in zip((self.raw_out_l, self.out_l),(self.raw_out_r,self.out_r)):\n",
    "          if self.alpha != 0.:  last_loss += self.alpha * out[-1].float().pow(2).mean()\n",
    "          if self.beta != 0.:\n",
    "              h = raw_out[-1]\n",
    "              if len(h)>1: last_loss += self.beta * (h[:,1:] - h[:,:-1]).float().pow(2).mean()\n",
    "          \n",
    "        return {'last_loss': last_loss}"
   ]
  },
  {
   "cell_type": "code",
   "execution_count": null,
   "metadata": {
    "id": "_YqaLH9bDYMG"
   },
   "outputs": [],
   "source": [
    "#same, see fastai RNNTrainer\n",
    "#https://github.com/fastai/fastai/blob/868513671bca40edf69729552be51d3503873d99/fastai/text/learner.py#L45\n",
    "class DuoRNNLearner(Learner):\n",
    "    \"Basic class for a `Learner` in NLP.\"\n",
    "    def __init__(self, data:DataBunch, model:nn.Module, split_func:OptSplitFunc=None, clip:float=None,\n",
    "                 alpha:float=2., beta:float=1., metrics=None, **learn_kwargs):\n",
    "        is_class = (hasattr(data.train_ds, 'y') and (isinstance(data.train_ds.y, CategoryList) or\n",
    "                                                     isinstance(data.train_ds.y, LMLabelList)))\n",
    "        metrics = ifnone(metrics, ([accuracy] if is_class else []))\n",
    "        super().__init__(data, model, metrics=metrics, **learn_kwargs)\n",
    "        #Changed here to use the custom DuoRNNTrainer\n",
    "        self.callbacks.append(DuoRNNTrainer(self, alpha=alpha, beta=beta))\n",
    "        if clip: self.callback_fns.append(partial(GradientClipping, clip=clip))\n",
    "        if split_func: self.split(split_func)\n",
    "\n",
    "    def save_encoder(self, name:str):\n",
    "        \"Save the encoder to `name` inside the model directory.\"\n",
    "        if rank_distrib(): return # don't save if slave proc\n",
    "        if is_pathlike(name): self._test_writeable_path()\n",
    "        encoder = get_model(self.model)[0]\n",
    "        if hasattr(encoder, 'module'): encoder = encoder.module\n",
    "        torch.save(encoder.state_dict(), self.path/self.model_dir/f'{name}.pth')\n",
    "\n",
    "    def load_encoder(self, name:str, device:torch.device=None):\n",
    "        \"Load the encoder `name` from the model directory.\"\n",
    "        encoder = get_model(self.model)[0]\n",
    "        if device is None: device = self.data.device\n",
    "        if hasattr(encoder, 'module'): encoder = encoder.module\n",
    "        distrib_barrier()\n",
    "        encoder.load_state_dict(torch.load(self.path/self.model_dir/f'{name}.pth', map_location=device))\n",
    "        self.freeze()\n",
    "        return self\n",
    "\n",
    "    def load_pretrained(self, wgts_fname:str, itos_fname:str, strict:bool=True):\n",
    "        \"Load a pretrained model and adapts it to the data vocabulary.\"\n",
    "        old_itos = pickle.load(open(itos_fname, 'rb'))\n",
    "        old_stoi = {v:k for k,v in enumerate(old_itos)}\n",
    "        wgts = torch.load(wgts_fname, map_location=lambda storage, loc: storage)\n",
    "        if 'model' in wgts: wgts = wgts['model']\n",
    "        wgts = convert_weights(wgts, old_stoi, self.data.train_ds.vocab.itos)\n",
    "        self.model.load_state_dict(wgts, strict=strict)\n",
    "        return self\n",
    "\n",
    "    def get_preds(self, ds_type:DatasetType=DatasetType.Valid, activ:nn.Module=None, with_loss:bool=False, n_batch:Optional[int]=None,\n",
    "                  pbar:Optional[PBar]=None, ordered:bool=True) -> List[Tensor]:\n",
    "        \"Return predictions and targets on the valid, train, or test set, depending on `ds_type`.\"\n",
    "        self.model.reset()\n",
    "        if ordered: np.random.seed(42)\n",
    "        preds = super().get_preds(ds_type=ds_type, activ=activ, with_loss=with_loss, n_batch=n_batch, pbar=pbar)\n",
    "        if ordered and hasattr(self.dl(ds_type), 'sampler'):\n",
    "            np.random.seed(42)\n",
    "            sampler = [i for i in self.dl(ds_type).sampler]\n",
    "            reverse_sampler = np.argsort(sampler)\n",
    "            preds = [p[reverse_sampler] for p in preds]\n",
    "        return preds\n"
   ]
  },
  {
   "cell_type": "code",
   "execution_count": null,
   "metadata": {
    "id": "PPjsnaaFEJZZ"
   },
   "outputs": [],
   "source": [
    "#function to get the model and put it into a learner using the right layer groups\n",
    "#same as above see text_classifer_learner from fastai. udpated to use the duo functions.\n",
    "#https://github.com/fastai/fastai/blob/868513671bca40edf69729552be51d3503873d99/fastai/text/learner.py#L289\n",
    "def duo_text_classifier_learner(data:DataBunch, arch:Callable, bptt:int=70, max_len:int=70*20, config:dict=None,\n",
    "                            pretrained:bool=True, drop_mult:float=1., lin_ftrs:Collection[int]=None,\n",
    "                            ps:Collection[float]=None, **learn_kwargs) -> 'TextClassifierLearner':\n",
    "    \"Create a `Learner` with a text classifier from `data` and `arch`.\"\n",
    "    #Changed here to use the get_duo_text_classifier\n",
    "    model = get_duo_text_classifier(arch, len(data.vocab.itos), data.c, bptt=bptt, max_len=max_len,\n",
    "                                config=config, drop_mult=drop_mult, lin_ftrs=lin_ftrs, ps=ps)\n",
    "    from fastai.text.learner import _model_meta, RNNLearner\n",
    "    meta = _model_meta[arch]\n",
    "    #Changed here to use the DuoRNNLearner\n",
    "    learn = DuoRNNLearner(data, model, split_func=duo_awd_lstm_clas_split, **learn_kwargs)\n",
    "    if pretrained:\n",
    "        if 'url' not in meta:\n",
    "            warn(\"There are no pretrained weights for that architecture yet!\")\n",
    "            return learn\n",
    "        model_path = untar_data(meta['url'], data=False)\n",
    "        fnames = [list(model_path.glob(f'*.{ext}'))[0] for ext in ['pth', 'pkl']]\n",
    "        learn = learn.load_pretrained(*fnames, strict=False)\n",
    "        learn.freeze()\n",
    "      \n",
    "    return learn"
   ]
  },
  {
   "cell_type": "code",
   "execution_count": null,
   "metadata": {
    "id": "l-hfGLmAEZ0b"
   },
   "outputs": [],
   "source": [
    "#function to create the model\n",
    "#see fastai doc of get_text_classifier for it.\n",
    "#https://github.com/fastai/fastai/blob/868513671bca40edf69729552be51d3503873d99/fastai/text/learner.py#L272\n",
    "def get_duo_text_classifier(arch:Callable, vocab_sz:int, n_class:int, bptt:int=70, max_len:int=20*70, config:dict=None,\n",
    "                        drop_mult:float=1., lin_ftrs:Collection[int]=None, ps:Collection[float]=None,\n",
    "                        pad_idx:int=1) -> nn.Module:\n",
    "    \"Create a duo text classifier from `arch` and its `config`, maybe `pretrained`.\"\n",
    "    from fastai.text.learner import _model_meta, MultiBatchEncoder\n",
    "    meta = _model_meta[arch]\n",
    "    config = ifnone(config, meta['config_clas']).copy()\n",
    "    for k in config.keys():\n",
    "        if k.endswith('_p'): config[k] *= drop_mult\n",
    "    \n",
    "    if lin_ftrs is None: lin_ftrs = [50]\n",
    "    if ps is None:  ps = [0.1]*len(lin_ftrs)\n",
    "    #Changed here From [config[meta['hid_name']] * 3] to  [config[meta['hid_name']] *3*4] because \n",
    "    #it used to be hid_size * 3 for the [last_activation, max_pooling, avg_pooling]\n",
    "    #now it takes the output of the distance layer:\n",
    "    #[left, right, squared difference, absolute difference] for each of those [last_activation, max_pooling, avg_pooling]\n",
    "    layers = [config[meta['hid_name']] *3*4] + lin_ftrs + [n_class]\n",
    "    ps = [config.pop('output_p')] + ps\n",
    "    init = config.pop('init') if 'init' in config else None\n",
    "    #Changed herer:\n",
    "    #build the encoder\n",
    "    #the distance layer\n",
    "    #and the liner layer\n",
    "    encoder = MultiBatchEncoder(bptt, max_len, arch(vocab_sz, **config), pad_idx=pad_idx)\n",
    "    distance = SimpleERDistance()\n",
    "    head = ERHead(layers=layers, drops=ps)\n",
    "    #and the model using thoses three\n",
    "    model = er_net(encoder, distance, head)\n",
    "    return model if init is None else model.apply(init)"
   ]
  },
  {
   "cell_type": "markdown",
   "metadata": {
    "id": "66JZu6UGmH-P"
   },
   "source": [
    "# fine tunnning for ER"
   ]
  },
  {
   "cell_type": "code",
   "execution_count": null,
   "metadata": {
    "colab": {
     "base_uri": "https://localhost:8080/",
     "height": 34
    },
    "id": "uJK3HMXdTOz3",
    "outputId": "cd88642a-4fe2-4ff1-ffe0-7d7ff505567e"
   },
   "outputs": [
    {
     "name": "stdout",
     "output_type": "stream",
     "text": [
      "You can deactivate this warning by passing `no_check=True`.\n"
     ]
    }
   ],
   "source": [
    "#get the data we prepared before\n",
    "data=load_data(work, \"datac.pkl\",bs=64)"
   ]
  },
  {
   "cell_type": "code",
   "execution_count": null,
   "metadata": {
    "id": "9J8ABdOLYUnX"
   },
   "outputs": [],
   "source": [
    "AW_config =awd_lstm_clas_config.copy()"
   ]
  },
  {
   "cell_type": "code",
   "execution_count": null,
   "metadata": {
    "colab": {
     "base_uri": "https://localhost:8080/",
     "height": 208
    },
    "id": "s6zcNL-WYcdf",
    "outputId": "3df7a04b-a5c9-4633-e1c8-e46312b44658"
   },
   "outputs": [
    {
     "data": {
      "text/plain": [
       "{'bidir': False,\n",
       " 'emb_sz': 400,\n",
       " 'embed_p': 0.05,\n",
       " 'hidden_p': 0.3,\n",
       " 'input_p': 0.4,\n",
       " 'n_hid': 1152,\n",
       " 'n_layers': 3,\n",
       " 'output_p': 0.4,\n",
       " 'pad_token': 1,\n",
       " 'qrnn': False,\n",
       " 'weight_p': 0.5}"
      ]
     },
     "execution_count": 176,
     "metadata": {
      "tags": []
     },
     "output_type": "execute_result"
    }
   ],
   "source": [
    "AW_config"
   ]
  },
  {
   "cell_type": "code",
   "execution_count": null,
   "metadata": {
    "id": "RsByzL9JYWpX"
   },
   "outputs": [],
   "source": [
    "#us the qrnn setings we used for LM\n",
    "AW_config[\"qrnn\"]=True\n",
    "AW_config[\"n_hid\"]=1550\n",
    "AW_config[\"n_layers\"]=4"
   ]
  },
  {
   "cell_type": "code",
   "execution_count": null,
   "metadata": {
    "id": "0ReFpfswP8OE"
   },
   "outputs": [],
   "source": [
    "#we are feeding the RNN by bits of size bptt (50). \n",
    "#we record activation only on the last max_len tockens of the vector.\n",
    "bptt = 50\n",
    "max_len = 300"
   ]
  },
  {
   "cell_type": "code",
   "execution_count": null,
   "metadata": {
    "colab": {
     "base_uri": "https://localhost:8080/",
     "height": 34
    },
    "id": "mqyMNZM1XHq9",
    "outputId": "add29e23-964f-40ea-e801-0ec06574bc54"
   },
   "outputs": [
    {
     "name": "stdout",
     "output_type": "stream",
     "text": [
      "Downloading https://s3.amazonaws.com/fast-ai-modelzoo/wt103-fwd.tgz\n"
     ]
    },
    {
     "data": {
      "text/html": [],
      "text/plain": [
       "<IPython.core.display.HTML object>"
      ]
     },
     "metadata": {
      "tags": []
     },
     "output_type": "display_data"
    }
   ],
   "source": [
    "learn = duo_text_classifier_learner(data, arch=AWD_LSTM, bptt=bptt, max_len=max_len,config=AW_config, )\n",
    "learn = learn.to_fp16()"
   ]
  },
  {
   "cell_type": "code",
   "execution_count": null,
   "metadata": {
    "id": "m3CT3cSdbAZb"
   },
   "outputs": [],
   "source": [
    "#very important, this is where we used the encoder we trained with LM\n",
    "learn.load_encoder(\"encoder\");"
   ]
  },
  {
   "cell_type": "code",
   "execution_count": null,
   "metadata": {
    "colab": {
     "base_uri": "https://localhost:8080/",
     "height": 694
    },
    "id": "66jM8OPxdqDb",
    "outputId": "2b58486c-54a6-4160-eea8-ae0d7366a323"
   },
   "outputs": [
    {
     "data": {
      "application/vnd.google.colaboratory.intrinsic": {
       "type": "string"
      },
      "text/plain": [
       "er_net\n",
       "======================================================================\n",
       "Layer (type)         Output Shape         Param #    Trainable \n",
       "======================================================================\n",
       "RNNDropout           [50, 400]            0          False     \n",
       "______________________________________________________________________\n",
       "RNNDropout           [50, 1550]           0          False     \n",
       "______________________________________________________________________\n",
       "RNNDropout           [50, 1550]           0          False     \n",
       "______________________________________________________________________\n",
       "RNNDropout           [50, 1550]           0          False     \n",
       "______________________________________________________________________\n",
       "SimpleERDistance     [4800]               0          False     \n",
       "______________________________________________________________________\n",
       "BatchNorm1d          [4800]               9,600      True      \n",
       "______________________________________________________________________\n",
       "Dropout              [4800]               0          False     \n",
       "______________________________________________________________________\n",
       "Linear               [100]                480,100    True      \n",
       "______________________________________________________________________\n",
       "ReLU                 [100]                0          False     \n",
       "______________________________________________________________________\n",
       "BatchNorm1d          [100]                200        True      \n",
       "______________________________________________________________________\n",
       "Dropout              [100]                0          False     \n",
       "______________________________________________________________________\n",
       "Linear               [2]                  202        True      \n",
       "______________________________________________________________________\n",
       "\n",
       "Total params: 490,102\n",
       "Total trainable params: 490,102\n",
       "Total non-trainable params: 0\n",
       "Optimized with 'torch.optim.adam.Adam', betas=(0.9, 0.99)\n",
       "Using true weight decay as discussed in https://www.fast.ai/2018/07/02/adam-weight-decay/ \n",
       "Loss function : FlattenedLoss\n",
       "======================================================================\n",
       "Callbacks functions applied \n",
       "    DuoRNNTrainer\n",
       "    MixedPrecision"
      ]
     },
     "execution_count": 183,
     "metadata": {
      "tags": []
     },
     "output_type": "execute_result"
    }
   ],
   "source": [
    "learn.summary()"
   ]
  },
  {
   "cell_type": "code",
   "execution_count": null,
   "metadata": {
    "colab": {
     "base_uri": "https://localhost:8080/",
     "height": 402
    },
    "id": "ZQpFLy4EbdQv",
    "outputId": "c5e24715-b9e1-44a0-bbb1-e5ec3998d2ec"
   },
   "outputs": [
    {
     "name": "stdout",
     "output_type": "stream",
     "text": [
      "Module Name                                                                           Total Parameters  Trainable Parameters # Elements in Trainable Parametrs       \n",
      "Embedding(11600, 400, padding_idx=1)                                                  1                 0                    0                                       \n",
      "Embedding(11600, 400, padding_idx=1)                                                  1                 0                    0                                       \n",
      "Linear(in_features=800, out_features=4650, bias=True)                                 2                 0                    0                                       \n",
      "Linear(in_features=1550, out_features=4650, bias=True)                                2                 0                    0                                       \n",
      "Linear(in_features=1550, out_features=4650, bias=True)                                2                 0                    0                                       \n",
      "Linear(in_features=1550, out_features=1200, bias=True)                                2                 0                    0                                       \n",
      "RNNDropout()                                                                          0                 0                    0                                       \n",
      "RNNDropout()                                                                          0                 0                    0                                       \n",
      "RNNDropout()                                                                          0                 0                    0                                       \n",
      "RNNDropout()                                                                          0                 0                    0                                       \n",
      "RNNDropout()                                                                          0                 0                    0                                       \n",
      "SimpleERDistance()                                                                    0                 0                    0                                       \n",
      "BatchNorm1d(4800, eps=1e-05, momentum=0.1, affine=True, track_running_stats=True)     2                 2                    9,600                                   \n",
      "Dropout(p=0.4, inplace=False)                                                         0                 0                    0                                       \n",
      "Linear(in_features=4800, out_features=100, bias=True)                                 2                 2                    480,100                                 \n",
      "ReLU(inplace=True)                                                                    0                 0                    0                                       \n",
      "BatchNorm1d(100, eps=1e-05, momentum=0.1, affine=True, track_running_stats=True)      2                 2                    200                                     \n",
      "Dropout(p=0.1, inplace=False)                                                         0                 0                    0                                       \n",
      "Linear(in_features=100, out_features=2, bias=True)                                    2                 2                    202                                     \n",
      "Total number of parameters elements 490,102\n"
     ]
    }
   ],
   "source": [
    "summary_trainable(learn)"
   ]
  },
  {
   "cell_type": "code",
   "execution_count": null,
   "metadata": {
    "id": "G9dzguQIkbfD"
   },
   "outputs": [],
   "source": [
    "#let start by fitting the linear head.\n",
    "#freeze will lock in place the wheights of the encoder \n",
    "learn.freeze()"
   ]
  },
  {
   "cell_type": "code",
   "execution_count": null,
   "metadata": {
    "colab": {
     "base_uri": "https://localhost:8080/",
     "height": 114
    },
    "id": "QkvvqkzBQf3r",
    "outputId": "27d72ff9-fe08-4a2a-a60a-601db2a89466"
   },
   "outputs": [
    {
     "data": {
      "text/html": [
       "\n",
       "    <div>\n",
       "        <style>\n",
       "            /* Turns off some styling */\n",
       "            progress {\n",
       "                /* gets rid of default border in Firefox and Opera. */\n",
       "                border: none;\n",
       "                /* Needs to be in here for Safari polyfill so background images work as expected. */\n",
       "                background-size: auto;\n",
       "            }\n",
       "            .progress-bar-interrupted, .progress-bar-interrupted::-webkit-progress-bar {\n",
       "                background: #F44336;\n",
       "            }\n",
       "        </style>\n",
       "      <progress value='0' class='' max='1' style='width:300px; height:20px; vertical-align: middle;'></progress>\n",
       "      0.00% [0/1 00:00<00:00]\n",
       "    </div>\n",
       "    \n",
       "<table border=\"1\" class=\"dataframe\">\n",
       "  <thead>\n",
       "    <tr style=\"text-align: left;\">\n",
       "      <th>epoch</th>\n",
       "      <th>train_loss</th>\n",
       "      <th>valid_loss</th>\n",
       "      <th>accuracy</th>\n",
       "      <th>time</th>\n",
       "    </tr>\n",
       "  </thead>\n",
       "  <tbody>\n",
       "  </tbody>\n",
       "</table><p>\n",
       "\n",
       "    <div>\n",
       "        <style>\n",
       "            /* Turns off some styling */\n",
       "            progress {\n",
       "                /* gets rid of default border in Firefox and Opera. */\n",
       "                border: none;\n",
       "                /* Needs to be in here for Safari polyfill so background images work as expected. */\n",
       "                background-size: auto;\n",
       "            }\n",
       "            .progress-bar-interrupted, .progress-bar-interrupted::-webkit-progress-bar {\n",
       "                background: #F44336;\n",
       "            }\n",
       "        </style>\n",
       "      <progress value='94' class='' max='156' style='width:300px; height:20px; vertical-align: middle;'></progress>\n",
       "      60.26% [94/156 01:19<00:52 1.2668]\n",
       "    </div>\n",
       "    "
      ],
      "text/plain": [
       "<IPython.core.display.HTML object>"
      ]
     },
     "metadata": {
      "tags": []
     },
     "output_type": "display_data"
    },
    {
     "name": "stdout",
     "output_type": "stream",
     "text": [
      "LR Finder is complete, type {learner_name}.recorder.plot() to see the graph.\n"
     ]
    }
   ],
   "source": [
    "learn.lr_find()"
   ]
  },
  {
   "cell_type": "code",
   "execution_count": null,
   "metadata": {
    "colab": {
     "base_uri": "https://localhost:8080/",
     "height": 279
    },
    "id": "H3Fab3IzQhZw",
    "outputId": "1dab8144-9141-4439-e23d-df01daab36ce"
   },
   "outputs": [
    {
     "data": {
      "image/png": "[encoded data removed]",
      "text/plain": [
       "<Figure size 432x288 with 1 Axes>"
      ]
     },
     "metadata": {
      "needs_background": "light",
      "tags": []
     },
     "output_type": "display_data"
    }
   ],
   "source": [
    "#using fastai elbow method to find a good learning rate\n",
    "learn.recorder.plot()"
   ]
  },
  {
   "cell_type": "code",
   "execution_count": null,
   "metadata": {
    "colab": {
     "base_uri": "https://localhost:8080/",
     "height": 143
    },
    "id": "qP1IgudjUtxg",
    "outputId": "036d359b-f68e-4dc5-f9b3-394af5d8517b"
   },
   "outputs": [
    {
     "data": {
      "text/html": [
       "<table border=\"1\" class=\"dataframe\">\n",
       "  <thead>\n",
       "    <tr style=\"text-align: left;\">\n",
       "      <th>epoch</th>\n",
       "      <th>train_loss</th>\n",
       "      <th>valid_loss</th>\n",
       "      <th>accuracy</th>\n",
       "      <th>time</th>\n",
       "    </tr>\n",
       "  </thead>\n",
       "  <tbody>\n",
       "    <tr>\n",
       "      <td>0</td>\n",
       "      <td>0.090538</td>\n",
       "      <td>0.054174</td>\n",
       "      <td>0.990644</td>\n",
       "      <td>03:26</td>\n",
       "    </tr>\n",
       "    <tr>\n",
       "      <td>1</td>\n",
       "      <td>0.058300</td>\n",
       "      <td>0.047316</td>\n",
       "      <td>0.990644</td>\n",
       "      <td>03:26</td>\n",
       "    </tr>\n",
       "    <tr>\n",
       "      <td>2</td>\n",
       "      <td>0.051335</td>\n",
       "      <td>0.047537</td>\n",
       "      <td>0.990644</td>\n",
       "      <td>03:26</td>\n",
       "    </tr>\n",
       "  </tbody>\n",
       "</table>"
      ],
      "text/plain": [
       "<IPython.core.display.HTML object>"
      ]
     },
     "metadata": {
      "tags": []
     },
     "output_type": "display_data"
    }
   ],
   "source": [
    "learn.fit_one_cycle(3, 1e-1)\n",
    "learn.save(\"class1\")"
   ]
  },
  {
   "cell_type": "code",
   "execution_count": null,
   "metadata": {
    "colab": {
     "base_uri": "https://localhost:8080/",
     "height": 1000
    },
    "id": "jg53FGVpjHUP",
    "outputId": "98babe13-3b56-4284-eab5-df8558b70243"
   },
   "outputs": [
    {
     "data": {
      "text/plain": [
       "DuoRNNLearner(data=DuoDataBunch;\n",
       "\n",
       "Train: LabelList (105598 items)\n",
       "x: DuoList\n",
       "▁xxbos ▁xxfld ▁1103 ▁elo ▁1515 l ▁15\" ▁touchscreen ▁4 ▁3 ▁14 ▁20 ▁igr ml j 9 313 ▁| ▁xxfld ▁1485 ▁4:3 ▁xxfld ▁34 ▁elo ▁xxfld ▁1458 ▁250 ▁nit ▁xxfld ▁310 ▁16.7 ▁million ▁colors ▁xxfld ▁1402 ▁new : ▁a ▁brand - new , ▁unused , ▁unopened , ▁undamaged ▁item ▁in ▁its ▁original ▁packaging ▁( where ▁packaging ▁is ▁app ▁xxfld ▁175 ▁500:1 ▁xxfld ▁28 ▁7411493 278 488 ▁xxfld ▁1465 ▁china ▁rohs , ▁mpr ▁ii ▁xxfld ▁755 ▁3 ▁year ▁xxfld ▁442 ▁1024 ▁x ▁768 ▁xxfld ▁854 ▁14 .20 ▁ms ▁xxfld ▁848 ▁15\" ▁xxfld ▁1105 ▁capacitive\n",
       "▁xxbos ▁xxfld ▁1103 ▁elo ▁1000 ▁series ▁1515 l ▁touch ▁screen ▁igrm v 213 94 ▁| ▁xxfld ▁858 ▁e 61 1558 ▁xxfld ▁1485 ▁4:3 ▁xxfld ▁1262 ▁elo ▁xxfld ▁1458 ▁250 ▁cd ▁/ ▁mâ 2 ▁xxfld ▁365 ▁16.2 m ▁colors , ▁24- bit ▁(16.7 m ▁colors ) ▁xxfld ▁310 ▁16.2 ▁million ▁colors ▁xxfld ▁1402 ▁new : ▁a ▁brand - new , ▁unused , ▁unopened , ▁undamaged ▁item ▁in ▁its ▁original ▁packaging ▁( where ▁packaging ▁is ▁app ▁xxfld ▁175 ▁500 ▁xxfld ▁64 ▁lcd , ▁touch ▁screen , ▁touch ▁screen ▁lcd , ▁touch ▁screen ▁lcd ▁touch ▁screen ▁lcd , ▁touch ▁screen ▁lcd ▁touch ▁sc ree ▁xxfld ▁1231 ▁desktop ▁xxfld ▁1465 ▁china ▁rohs ▁xxfld ▁1363 ▁touch ▁screen ▁xxfld ▁755 ▁3 ▁year ▁xxfld ▁1540 ▁120 â ° ▁xxfld ▁298 ▁100 â ° ▁xxfld ▁623 ▁1024 ▁x ▁768 ▁xxfld ▁442 ▁1024 ▁x ▁768 ▁xxfld ▁1086 ▁igrm v 213 94 ▁xxfld ▁335 ▁intellitouch ▁1515 l ▁xxfld ▁995 ▁gray ▁xxfld ▁300 ▁pc , ▁mac ▁xxfld ▁1503 ▁desk ▁mountable ▁xxfld ▁581 ▁e 700813 ▁xxfld ▁1068 ▁1000 ▁xxfld ▁921 ▁the ▁15- inch ▁gray ▁elo ▁touch ▁intellitouch ▁1515 l ▁offers ▁a ▁native ▁resolution ▁of ▁1024 ▁x ▁768 ▁at ▁75 ▁hz ▁with ▁xxfld ▁509 ▁elo ▁touch ▁xxfld ▁1024 ▁lcd ▁touchscreen ▁monitor ▁xxfld ▁1196,▁xxbos ▁xxfld ▁1103 ▁elo ▁touch ▁1515 l ▁15\" ▁- ▁- ▁. ▁xxfld ▁175 ▁400:1 ▁xxfld ▁64 ▁lcd ▁xxfld ▁663 ▁1024 ▁x ▁768 ▁xxfld ▁509 ▁elo ▁touch\n",
       "▁xxbos ▁xxfld ▁1103 ▁elo ▁touch ▁intellitouch ▁1515 l ▁15\" ▁touch ▁screen ▁et 15 15 l ▁8 c wc ▁1 ▁gy ▁g ▁| ▁xxfld ▁858 ▁e 61 1558 ▁xxfld ▁1485 ▁4:3 ▁xxfld ▁1262 ▁elo ▁xxfld ▁365 ▁16.2 m ▁colors , ▁24- bit ▁(16.7 m ▁colors ) ▁xxfld ▁175 ▁500:1 ▁xxfld ▁64 ▁lcd , ▁touch ▁screen , ▁touch ▁screen ▁lcd , ▁touch ▁screen ▁lcd ▁touch ▁screen ▁lcd , ▁touch ▁screen ▁lcd ▁touch ▁sc ree ▁xxfld ▁1519 ▁touchscreen ▁xxfld ▁1231 ▁desktop ▁xxfld ▁1363 ▁touch ▁screen ▁xxfld ▁663 ▁1024 ▁x ▁768 ▁xxfld ▁1540 ▁120 â ° ▁xxfld ▁298 ▁100 â ° ▁xxfld ▁442 ▁1024 ▁x ▁768 ▁xxfld ▁335 ▁intellitouch ▁1515 l ▁xxfld ▁995 ▁gray ▁xxfld ▁300 ▁pc , ▁mac ▁xxfld ▁581 ▁e 700813 ▁xxfld ▁921 ▁the ▁15- inch ▁gray ▁elo ▁touch ▁intellitouch ▁1515 l ▁offers ▁a ▁native ▁resolution ▁of ▁1024 ▁x ▁768 ▁at ▁75 ▁hz ▁with ▁xxfld ▁509 ▁elo ▁touch ▁xxfld ▁1196 ▁75 ▁hz ▁xxfld ▁403 ▁c - tick , ▁ce , ▁fcc , ▁ic , ▁tuv - gs , ▁ul , ▁vcci , ▁cul ▁xxfld ▁854 ▁22 ▁ms ▁xxfld ▁848 ▁15\" ▁xxfld ▁192 ▁31.5 ▁- ▁60.2 ▁khz ▁xxfld ▁350 ▁56.3 ▁- ▁75 ▁khz ▁xxfld ▁1094 ▁desktop,▁xxbos ▁xxfld ▁1103 ▁elo ▁touch ▁intellitouch ▁1515 l ▁15\" ▁touch ▁screen ▁point ▁of ▁sale ▁pos ▁xxfld ▁858 ▁e 61 1558 ▁xxfld ▁1485 ▁4:3 ▁xxfld ▁1262 ▁elo ▁xxfld ▁1458 ▁250 ▁cd ▁/ ▁mâ 2 ▁xxfld ▁365 ▁16.2 m ▁colors , ▁24- bit ▁(16.7 m ▁colors ) ▁xxfld ▁175 ▁500:1 ▁xxfld ▁64 ▁touch ▁screen ▁xxfld ▁1519 ▁touchscreen ▁xxfld ▁1231 ▁desktop ▁xxfld ▁1363 ▁touch ▁screen ▁xxfld ▁663 ▁1024 ▁x ▁768 ▁xxfld ▁1540 ▁120 â ° ▁xxfld ▁298 ▁100 â ° ▁xxfld ▁442 ▁1024 ▁x ▁768 ▁xxfld ▁335 ▁intellitouch ▁1515 l ▁xxfld ▁995 ▁gray ▁xxfld ▁300 ▁pc , ▁mac ▁xxfld ▁581 ▁e 700813 ▁xxfld ▁921 ▁the ▁15- inch ▁gray ▁elo ▁touch ▁intellitouch ▁1515 l ▁offers ▁a ▁native ▁resolution ▁of ▁1024 ▁x ▁768 ▁at ▁75 ▁hz ▁with ▁xxfld ▁509 ▁elo ▁touch ▁xxfld ▁1196 ▁75 ▁hz ▁xxfld ▁403 ▁c - tick , ▁ce , ▁fcc , ▁ic , ▁tuv - gs , ▁ul , ▁vcci , ▁cul ▁xxfld ▁854 ▁22 ▁ms ▁xxfld ▁848 ▁15\" ▁xxfld ▁192 ▁31.5 ▁- ▁60.2 ▁khz ▁xxfld ▁350 ▁56.3 ▁- ▁75 ▁khz ▁xxfld ▁1094 ▁desktop ▁xxfld ▁914 ▁074114 9300 551 ▁xxfld ▁675 ▁vga ▁d - sub\n",
       "▁xxbos ▁xxfld ▁1103 ▁elo ▁touch ▁1515 l ▁15\" ▁- ▁- ▁. ▁xxfld ▁175 ▁400:1 ▁xxfld ▁64 ▁lcd ▁xxfld ▁663 ▁1024 ▁x ▁768 ▁xxfld ▁509 ▁elo ▁touch,▁xxbos ▁xxfld ▁1103 ▁elo ▁touch ▁intellitouch ▁1515 l ▁15\" ▁touch ▁screen ▁et 15 15 l ▁8 c wc ▁1 ▁gy ▁g ▁| ▁xxfld ▁858 ▁e 61 1558 ▁xxfld ▁1485 ▁4:3 ▁xxfld ▁1262 ▁elo ▁xxfld ▁365 ▁16.2 m ▁colors , ▁24- bit ▁(16.7 m ▁colors ) ▁xxfld ▁175 ▁500:1 ▁xxfld ▁64 ▁lcd , ▁touch ▁screen , ▁touch ▁screen ▁lcd , ▁touch ▁screen ▁lcd ▁touch ▁screen ▁lcd , ▁touch ▁screen ▁lcd ▁touch ▁sc ree ▁xxfld ▁1519 ▁touchscreen ▁xxfld ▁1231 ▁desktop ▁xxfld ▁1363 ▁touch ▁screen ▁xxfld ▁663 ▁1024 ▁x ▁768 ▁xxfld ▁1540 ▁120 â ° ▁xxfld ▁298 ▁100 â ° ▁xxfld ▁442 ▁1024 ▁x ▁768 ▁xxfld ▁335 ▁intellitouch ▁1515 l ▁xxfld ▁995 ▁gray ▁xxfld ▁300 ▁pc , ▁mac ▁xxfld ▁581 ▁e 700813 ▁xxfld ▁921 ▁the ▁15- inch ▁gray ▁elo ▁touch ▁intellitouch ▁1515 l ▁offers ▁a ▁native ▁resolution ▁of ▁1024 ▁x ▁768 ▁at ▁75 ▁hz ▁with ▁xxfld ▁509 ▁elo ▁touch ▁xxfld ▁1196 ▁75 ▁hz ▁xxfld ▁403 ▁c - tick , ▁ce , ▁fcc , ▁ic , ▁tuv - gs , ▁ul , ▁vcci , ▁cul ▁xxfld ▁854 ▁22 ▁ms ▁xxfld ▁848 ▁15\" ▁xxfld ▁192 ▁31.5 ▁- ▁60.2 ▁khz ▁xxfld ▁350 ▁56.3 ▁- ▁75 ▁khz ▁xxfld ▁1094 ▁desktop\n",
       "▁xxbos ▁xxfld ▁1103 ▁elo ▁touch ▁intellitouch ▁1515 l ▁15\" ▁touch ▁screen ▁point ▁of ▁sale ▁pos ▁xxfld ▁858 ▁e 61 1558 ▁xxfld ▁1485 ▁4:3 ▁xxfld ▁1262 ▁elo ▁xxfld ▁1458 ▁250 ▁cd ▁/ ▁mâ 2 ▁xxfld ▁365 ▁16.2 m ▁colors , ▁24- bit ▁(16.7 m ▁colors ) ▁xxfld ▁175 ▁500:1 ▁xxfld ▁64 ▁touch ▁screen ▁xxfld ▁1519 ▁touchscreen ▁xxfld ▁1231 ▁desktop ▁xxfld ▁1363 ▁touch ▁screen ▁xxfld ▁663 ▁1024 ▁x ▁768 ▁xxfld ▁1540 ▁120 â ° ▁xxfld ▁298 ▁100 â ° ▁xxfld ▁442 ▁1024 ▁x ▁768 ▁xxfld ▁335 ▁intellitouch ▁1515 l ▁xxfld ▁995 ▁gray ▁xxfld ▁300 ▁pc , ▁mac ▁xxfld ▁581 ▁e 700813 ▁xxfld ▁921 ▁the ▁15- inch ▁gray ▁elo ▁touch ▁intellitouch ▁1515 l ▁offers ▁a ▁native ▁resolution ▁of ▁1024 ▁x ▁768 ▁at ▁75 ▁hz ▁with ▁xxfld ▁509 ▁elo ▁touch ▁xxfld ▁1196 ▁75 ▁hz ▁xxfld ▁403 ▁c - tick , ▁ce , ▁fcc , ▁ic , ▁tuv - gs , ▁ul , ▁vcci , ▁cul ▁xxfld ▁854 ▁22 ▁ms ▁xxfld ▁848 ▁15\" ▁xxfld ▁192 ▁31.5 ▁- ▁60.2 ▁khz ▁xxfld ▁350 ▁56.3 ▁- ▁75 ▁khz ▁xxfld ▁1094 ▁desktop ▁xxfld ▁914 ▁074114 9300 551 ▁xxfld ▁675 ▁vga ▁d - sub,▁xxbos ▁xxfld ▁1103 ▁elo ▁1515 l ▁15\" ▁touchscreen ▁4 ▁3 ▁14 ▁20 ▁igr ml j 9 313 ▁| ▁xxfld ▁1485 ▁4:3 ▁xxfld ▁34 ▁elo ▁xxfld ▁1458 ▁250 ▁nit ▁xxfld ▁310 ▁16.7 ▁million ▁colors ▁xxfld ▁1402 ▁new : ▁a ▁brand - new , ▁unused , ▁unopened , ▁undamaged ▁item ▁in ▁its ▁original ▁packaging ▁( where ▁packaging ▁is ▁app ▁xxfld ▁175 ▁500:1 ▁xxfld ▁28 ▁7411493 278 488 ▁xxfld ▁1465 ▁china ▁rohs , ▁mpr ▁ii ▁xxfld ▁755 ▁3 ▁year ▁xxfld ▁442 ▁1024 ▁x ▁768 ▁xxfld ▁854 ▁14 .20 ▁ms ▁xxfld ▁848 ▁15\" ▁xxfld ▁1105 ▁capacitive\n",
       "▁xxbos ▁xxfld ▁1103 ▁elo ▁1000 ▁series ▁1515 l ▁touch ▁screen ▁xxfld ▁1485 ▁4:3 ▁xxfld ▁34 ▁elo ▁xxfld ▁1458 ▁230 ▁nit ▁xxfld ▁1353 ▁dark ▁gray ▁xxfld ▁310 ▁16.2 ▁million ▁colors ▁xxfld ▁175 ▁450:1 ▁xxfld ▁54 ▁6 .90\" ▁xxfld ▁877 ▁china ▁rohs ▁xxfld ▁1042 ▁12 .20\" ▁xxfld ▁653 ▁220 ▁v ▁ac ▁xxfld ▁689 ▁6 65 533 ▁xxfld ▁155 ▁elo ▁touch ▁solutions , ▁inc ▁xxfld ▁1216 ▁v 213 94 ▁xxfld ▁442 ▁1024 ▁x ▁768 ▁xxfld ▁1660 ▁1515 l ▁xxfld ▁1503 ▁desk ▁mountable ▁xxfld ▁1400 ▁mac ; ▁sun ▁xxfld ▁564 ▁1000 ▁series ▁1515 l ▁touch ▁screen ▁monitor ▁xxfld ▁255 ▁1000 ▁xxfld ▁1024 ▁lcd ▁touchscreen ▁monitor ▁xxfld ▁854 ▁21.50 ▁ms ▁xxfld ▁609 ▁xga ▁xxfld ▁848 ▁15\" ▁xxfld ▁805 ▁anti - glare ▁xxfld ▁1645 ▁75 ▁hz ▁xxfld ▁1105 ▁surface ▁acoustic ▁wave ▁xxfld ▁1128 ▁3- year ▁limited ▁xxfld ▁168 ▁10.60 ▁lb ▁xxfld ▁662 ▁13 .80\"\n",
       "y: CategoryList\n",
       "1,1,1,1,1\n",
       "Path: .;\n",
       "\n",
       "Valid: LabelList (5558 items)\n",
       "x: DuoList\n",
       "▁xxbos ▁xxfld ▁1103 ▁elo ▁touchsystems ▁1515 l ▁- ▁xxfld ▁1485 ▁4:3 ▁xxfld ▁1108 ▁[' ul , ▁cul , ▁fcc , ▁ce , ▁semko ▁/ ▁demko , ▁vcci , ▁ices , ▁c ▁t ick , ▁mprii , ▁s - mark , ▁bsmi , ▁ccc , ▁kc , ▁china ▁rohs ', ▁' u ▁xxfld ▁1092 ▁[' grey ', ▁' grey '] ▁xxfld ▁923 ▁500:1 ▁xxfld ▁45 ▁350 ▁x ▁175 ▁x ▁310 ▁mm ▁xxfld ▁95 ▁200 ▁cd ▁/ ▁mâ 2 ▁xxfld ▁570 ▁38.1 ▁cm ▁(15\") ▁xxfld ▁1187 ▁1024 ▁x ▁768 ▁pixels ▁xxfld ▁1146 ▁lcd ▁xxfld ▁272 ▁304 ▁x ▁228 ▁mm ▁xxfld ▁976 ▁no ▁xxfld ▁1518 ▁31.5 ▁- ▁60.2 ▁khz ▁xxfld ▁653 ▁100 ▁- ▁240 v ▁xxfld ▁142 ▁['5 ▁xxrep ▁4 ▁0 ▁h ', ▁'5 ▁xxrep ▁4 ▁0 ▁h '] ▁xxfld ▁778 ▁['1024 ▁x ▁768', ▁'1024 ▁x ▁768'] ▁xxfld ▁1469 ▁16.7 m ▁xxfld ▁1455 ▁[' yes ', ▁' yes '] ▁xxfld ▁1319 ▁20 ▁- ▁80% ▁xxfld ▁893 ▁0 ▁- ▁40 ▁â ° c ▁xxfld ▁1320 ▁['4 45 ▁x ▁380 ▁x ▁260 ▁mm ', ▁'4 45 ▁x ▁380 ▁x ▁260 ▁mm '] ▁xxfld ▁394 ▁['7 ▁kg ', ▁'7 ▁kg '] ▁xxfld ▁584 ▁30 w ▁xxfld ▁854 ▁11.7 ▁ms ▁xxfld ▁807 ▁10 ▁- ▁90% ▁xxfld ▁1248\n",
       "▁xxbos ▁xxfld ▁1103 ▁elo ▁touch ▁intellitouch ▁1515 l ▁15\" ▁touch ▁screen ▁point ▁of ▁sale ▁pos ▁xxfld ▁858 ▁e 61 1558 ▁xxfld ▁1485 ▁4:3 ▁xxfld ▁1262 ▁elo ▁xxfld ▁1458 ▁250 ▁cd ▁/ ▁mâ 2 ▁xxfld ▁365 ▁16.2 m ▁colors , ▁24- bit ▁(16.7 m ▁colors ) ▁xxfld ▁175 ▁500:1 ▁xxfld ▁64 ▁touch ▁screen ▁xxfld ▁1519 ▁touchscreen ▁xxfld ▁1231 ▁desktop ▁xxfld ▁1363 ▁touch ▁screen ▁xxfld ▁663 ▁1024 ▁x ▁768 ▁xxfld ▁1540 ▁120 â ° ▁xxfld ▁298 ▁100 â ° ▁xxfld ▁442 ▁1024 ▁x ▁768 ▁xxfld ▁335 ▁intellitouch ▁1515 l ▁xxfld ▁995 ▁gray ▁xxfld ▁300 ▁pc , ▁mac ▁xxfld ▁581 ▁e 700813 ▁xxfld ▁921 ▁the ▁15- inch ▁gray ▁elo ▁touch ▁intellitouch ▁1515 l ▁offers ▁a ▁native ▁resolution ▁of ▁1024 ▁x ▁768 ▁at ▁75 ▁hz ▁with ▁xxfld ▁509 ▁elo ▁touch ▁xxfld ▁1196 ▁75 ▁hz ▁xxfld ▁403 ▁c - tick , ▁ce , ▁fcc , ▁ic , ▁tuv - gs , ▁ul , ▁vcci , ▁cul ▁xxfld ▁854 ▁22 ▁ms ▁xxfld ▁848 ▁15\" ▁xxfld ▁192 ▁31.5 ▁- ▁60.2 ▁khz ▁xxfld ▁350 ▁56.3 ▁- ▁75 ▁khz ▁xxfld ▁1094 ▁desktop ▁xxfld ▁914 ▁074114 9300 551 ▁xxfld ▁675 ▁vga ▁d - sub,▁xxbos ▁xxfld ▁1103 ▁elo ▁1515 l ▁15\" ▁touchscreen ▁4 ▁3 ▁14 ▁20 ▁igr ml j 9 313 ▁| ▁xxfld ▁1485 ▁4:3 ▁xxfld ▁34 ▁elo ▁xxfld ▁1458 ▁250 ▁nit ▁xxfld ▁310 ▁16.7 ▁million ▁colors ▁xxfld ▁1402 ▁new : ▁a ▁brand - new , ▁unused , ▁unopened , ▁undamaged ▁item ▁in ▁its ▁original ▁packaging ▁( where ▁packaging ▁is ▁app ▁xxfld ▁175 ▁500:1 ▁xxfld ▁28 ▁7411493 278 488 ▁xxfld ▁1465 ▁china ▁rohs , ▁mpr ▁ii ▁xxfld ▁755 ▁3 ▁year ▁xxfld ▁442 ▁1024 ▁x ▁768 ▁xxfld ▁854 ▁14 .20 ▁ms ▁xxfld ▁848 ▁15\" ▁xxfld ▁1105 ▁capacitive\n",
       "▁xxbos ▁xxfld ▁1103 ▁elo ▁touch ▁1515 l ▁15\" ▁- ▁- ▁. ▁xxfld ▁175 ▁400:1 ▁xxfld ▁64 ▁lcd ▁xxfld ▁663 ▁1024 ▁x ▁768 ▁xxfld ▁509 ▁elo ▁touch,▁xxbos ▁xxfld ▁1103 ▁dell ▁1703 fps ▁\" ▁tft ▁silver ▁bezel ▁+ ▁cables ▁grade ▁b ▁+ ▁(14 41 ) ▁| ▁| ▁| ▁| ▁| ▁| ▁| ▁| ▁| ▁| ▁xxfld ▁1402 ▁item ▁type :\n",
       "▁xxbos ▁xxfld ▁1103 ▁dell ▁1703 fps ▁\" ▁with ▁power ▁cables ▁825633788107 ▁| ▁xxfld ▁1262 ▁dell ▁xxfld ▁175 ▁600 ▁xxfld ▁64 ▁lcd ▁xxfld ▁623 ▁1280 ▁x ▁1024 ▁xxfld ▁335 ▁1703 fps ▁xxfld ▁581 ▁ebay _ dell 1703 fps 17 \" lcd monitor ▁xxfld ▁848 ▁17\" ▁xxfld ▁914 ▁825633788107,▁xxbos ▁xxfld ▁1103 ▁dell ▁1703 fps ▁\" ▁with ▁power ▁cables ▁825633788107 ▁| ▁xxfld ▁1262 ▁dell ▁xxfld ▁175 ▁600 ▁xxfld ▁64 ▁lcd ▁xxfld ▁623 ▁1280 ▁x ▁1024 ▁xxfld ▁335 ▁1703 fps ▁xxfld ▁581 ▁ebay _ dell 1703 fps 17 \" lcd monitor ▁xxfld ▁848 ▁17\" ▁xxfld ▁914 ▁825633788107\n",
       "▁xxbos ▁xxfld ▁1103 ▁dell ▁\" ▁1703 fps ▁\" ▁| ▁| ▁| ▁| ▁| ▁| ▁| ▁| ▁| ▁| ▁xxfld ▁1402 ▁item ▁type :,▁xxbos ▁xxfld ▁1103 ▁elo ▁touch ▁solutions ▁1919 l ▁18 ▁5\" ▁touchscreen ▁9 ▁5 ▁74114 9 31 64 156 ▁| ▁xxfld ▁1485 ▁16:9 ▁xxfld ▁34 ▁elo ▁touch ▁solutions ▁xxfld ▁659 ▁speaker ▁xxfld ▁1402 ▁new : ▁a ▁brand - new , ▁unused , ▁unopened , ▁undamaged ▁item ▁in ▁its ▁original ▁packaging ▁( where ▁packaging ▁is ▁app ▁xxfld ▁1042 ▁12 .60\" ▁xxfld ▁155 ▁elo ▁touch ▁solutions , ▁inc ▁xxfld ▁575 ▁e 7 6010 2 ▁xxfld ▁363 ▁www . elotouch . com ▁xxfld ▁3 ▁the ▁1919 l ▁is ▁a ▁wide - screen ▁display ▁that ▁is ▁eas i er ▁to ▁use ▁and ▁incorpor ate ▁into ▁more ▁environments ▁than ▁xxfld ▁529 ▁< ul >< li > 1919 l ▁touchscreen ▁lcd ▁monitor < ▁/ ▁li >< li > sta ▁xxfld ▁1164 ▁1919 l ▁xxfld ▁564 ▁1919 l ▁touchscreen ▁lcd ▁monitor ▁xxfld ▁1024 ▁lcd ▁touchscreen ▁monitor ▁xxfld ▁609 ▁wxga ▁xxfld ▁566 ▁yes ▁xxfld ▁554 ▁160 â ° ▁xxfld ▁792 ▁10.20 ▁lb\n",
       "▁xxbos ▁xxfld ▁1103 ▁elo ▁1919 l ▁19\" ▁desktop ▁touch ▁screen ▁et 1919 l ▁au wa ▁1 ▁gy ▁g ▁74114 9 31 64 156 ▁| ▁xxfld ▁1485 ▁16:9 ▁xxfld ▁1262 ▁elo ▁xxfld ▁1458 ▁250 ▁cd ▁/ ▁mâ 2 ▁xxfld ▁1402 ▁seller ▁refurbished : ▁an ▁item ▁that ▁has ▁been ▁restored ▁to ▁working ▁order ▁by ▁the ▁ebay ▁seller ▁or ▁a ▁third ▁pa ▁xxfld ▁175 ▁1000:1 ▁xxfld ▁64 ▁lcd ▁xxfld ▁1519 ▁built - in ▁speakers , ▁touchscreen ▁xxfld ▁623 ▁1680 ▁x ▁1050 ▁xxfld ▁335 ▁1919 l ▁xxfld ▁581 ▁et 1919 l - au wa -1- gy - g ▁xxfld ▁854 ▁5 ▁ms ▁xxfld ▁848 ▁19\" ▁xxfld ▁1094 ▁desktop ▁xxfld ▁675 ▁vga ▁d - sub\n",
       "y: CategoryList\n",
       "1,1,1,1,1\n",
       "Path: .;\n",
       "\n",
       "Test: None, model=er_net(\n",
       "  (encoder): MultiBatchEncoder(\n",
       "    (module): AWD_LSTM(\n",
       "      (encoder): Embedding(11592, 400, padding_idx=1)\n",
       "      (encoder_dp): EmbeddingDropout(\n",
       "        (emb): Embedding(11592, 400, padding_idx=1)\n",
       "      )\n",
       "      (rnns): ModuleList(\n",
       "        (0): QRNN(\n",
       "          (layers): ModuleList(\n",
       "            (0): QRNNLayer(\n",
       "              (linear): WeightDropout(\n",
       "                (module): Linear(in_features=800, out_features=4650, bias=True)\n",
       "              )\n",
       "            )\n",
       "          )\n",
       "        )\n",
       "        (1): QRNN(\n",
       "          (layers): ModuleList(\n",
       "            (0): QRNNLayer(\n",
       "              (linear): WeightDropout(\n",
       "                (module): Linear(in_features=1550, out_features=4650, bias=True)\n",
       "              )\n",
       "            )\n",
       "          )\n",
       "        )\n",
       "        (2): QRNN(\n",
       "          (layers): ModuleList(\n",
       "            (0): QRNNLayer(\n",
       "              (linear): WeightDropout(\n",
       "                (module): Linear(in_features=1550, out_features=4650, bias=True)\n",
       "              )\n",
       "            )\n",
       "          )\n",
       "        )\n",
       "        (3): QRNN(\n",
       "          (layers): ModuleList(\n",
       "            (0): QRNNLayer(\n",
       "              (linear): WeightDropout(\n",
       "                (module): Linear(in_features=1550, out_features=1200, bias=True)\n",
       "              )\n",
       "            )\n",
       "          )\n",
       "        )\n",
       "      )\n",
       "      (input_dp): RNNDropout()\n",
       "      (hidden_dps): ModuleList(\n",
       "        (0): RNNDropout()\n",
       "        (1): RNNDropout()\n",
       "        (2): RNNDropout()\n",
       "        (3): RNNDropout()\n",
       "      )\n",
       "    )\n",
       "  )\n",
       "  (distance): SimpleERDistance()\n",
       "  (head): ERHead(\n",
       "    (layers): Sequential(\n",
       "      (0): BatchNorm1d(4800, eps=1e-05, momentum=0.1, affine=True, track_running_stats=True)\n",
       "      (1): Dropout(p=0.4, inplace=False)\n",
       "      (2): Linear(in_features=4800, out_features=100, bias=True)\n",
       "      (3): ReLU(inplace=True)\n",
       "      (4): BatchNorm1d(100, eps=1e-05, momentum=0.1, affine=True, track_running_stats=True)\n",
       "      (5): Dropout(p=0.1, inplace=False)\n",
       "      (6): Linear(in_features=100, out_features=2, bias=True)\n",
       "    )\n",
       "  )\n",
       "), opt_func=functools.partial(<class 'torch.optim.adam.Adam'>, betas=(0.9, 0.99)), loss_func=FlattenedLoss of CrossEntropyLoss(), metrics=[<function accuracy at 0x7fca21efa0d0>], true_wd=True, bn_wd=True, wd=0.01, train_bn=True, path=PosixPath('drive/My Drive/ER'), model_dir='models', callback_fns=[functools.partial(<class 'fastai.basic_train.Recorder'>, add_time=True, silent=False)], callbacks=[DuoRNNTrainer\n",
       "learn: DuoRNNLearner(data=DuoDataBunch;\n",
       "\n",
       "Train: LabelList (105598 items)\n",
       "x: DuoList\n",
       "▁xxbos ▁xxfld ▁1103 ▁elo ▁1000 ▁series ▁1515 l ▁touch ▁screen ▁igrm v 213 94 ▁| ▁xxfld ▁858 ▁e 61 1558 ▁xxfld ▁1485 ▁4:3 ▁xxfld ▁1262 ▁elo ▁xxfld ▁1458 ▁250 ▁cd ▁/ ▁mâ 2 ▁xxfld ▁365 ▁16.2 m ▁colors , ▁24- bit ▁(16.7 m ▁colors ) ▁xxfld ▁310 ▁16.2 ▁million ▁colors ▁xxfld ▁1402 ▁new : ▁a ▁brand - new , ▁unused , ▁unopened , ▁undamaged ▁item ▁in ▁its ▁original ▁packaging ▁( where ▁packaging ▁is ▁app ▁xxfld ▁175 ▁500 ▁xxfld ▁64 ▁lcd , ▁touch ▁screen , ▁touch ▁screen ▁lcd , ▁touch ▁screen ▁lcd ▁touch ▁screen ▁lcd , ▁touch ▁screen ▁lcd ▁touch ▁sc ree ▁xxfld ▁1231 ▁desktop ▁xxfld ▁1465 ▁china ▁rohs ▁xxfld ▁1363 ▁touch ▁screen ▁xxfld ▁755 ▁3 ▁year ▁xxfld ▁1540 ▁120 â ° ▁xxfld ▁298 ▁100 â ° ▁xxfld ▁623 ▁1024 ▁x ▁768 ▁xxfld ▁442 ▁1024 ▁x ▁768 ▁xxfld ▁1086 ▁igrm v 213 94 ▁xxfld ▁335 ▁intellitouch ▁1515 l ▁xxfld ▁995 ▁gray ▁xxfld ▁300 ▁pc , ▁mac ▁xxfld ▁1503 ▁desk ▁mountable ▁xxfld ▁581 ▁e 700813 ▁xxfld ▁1068 ▁1000 ▁xxfld ▁921 ▁the ▁15- inch ▁gray ▁elo ▁touch ▁intellitouch ▁1515 l ▁offers ▁a ▁native ▁resolution ▁of ▁1024 ▁x ▁768 ▁at ▁75 ▁hz ▁with ▁xxfld ▁509 ▁elo ▁touch ▁xxfld ▁1024 ▁lcd ▁touchscreen ▁monitor ▁xxfld ▁1196\n",
       "▁xxbos ▁xxfld ▁1103 ▁elo ▁1515 l ▁15\" ▁touchscreen ▁4 ▁3 ▁14 ▁20 ▁igr ml j 9 313 ▁| ▁xxfld ▁1485 ▁4:3 ▁xxfld ▁34 ▁elo ▁xxfld ▁1458 ▁250 ▁nit ▁xxfld ▁310 ▁16.7 ▁million ▁colors ▁xxfld ▁1402 ▁new : ▁a ▁brand - new , ▁unused , ▁unopened , ▁undamaged ▁item ▁in ▁its ▁original ▁packaging ▁( where ▁packaging ▁is ▁app ▁xxfld ▁175 ▁500:1 ▁xxfld ▁28 ▁7411493 278 488 ▁xxfld ▁1465 ▁china ▁rohs , ▁mpr ▁ii ▁xxfld ▁755 ▁3 ▁year ▁xxfld ▁442 ▁1024 ▁x ▁768 ▁xxfld ▁854 ▁14 .20 ▁ms ▁xxfld ▁848 ▁15\" ▁xxfld ▁1105 ▁capacitive,▁xxbos ▁xxfld ▁1103 ▁elo ▁touch ▁1515 l ▁15\" ▁- ▁- ▁. ▁xxfld ▁175 ▁400:1 ▁xxfld ▁64 ▁lcd ▁xxfld ▁663 ▁1024 ▁x ▁768 ▁xxfld ▁509 ▁elo ▁touch\n",
       "▁xxbos ▁xxfld ▁1103 ▁elo ▁touch ▁intellitouch ▁1515 l ▁15\" ▁touch ▁screen ▁et 15 15 l ▁8 c wc ▁1 ▁gy ▁g ▁| ▁xxfld ▁858 ▁e 61 1558 ▁xxfld ▁1485 ▁4:3 ▁xxfld ▁1262 ▁elo ▁xxfld ▁365 ▁16.2 m ▁colors , ▁24- bit ▁(16.7 m ▁colors ) ▁xxfld ▁175 ▁500:1 ▁xxfld ▁64 ▁lcd , ▁touch ▁screen , ▁touch ▁screen ▁lcd , ▁touch ▁screen ▁lcd ▁touch ▁screen ▁lcd , ▁touch ▁screen ▁lcd ▁touch ▁sc ree ▁xxfld ▁1519 ▁touchscreen ▁xxfld ▁1231 ▁desktop ▁xxfld ▁1363 ▁touch ▁screen ▁xxfld ▁663 ▁1024 ▁x ▁768 ▁xxfld ▁1540 ▁120 â ° ▁xxfld ▁298 ▁100 â ° ▁xxfld ▁442 ▁1024 ▁x ▁768 ▁xxfld ▁335 ▁intellitouch ▁1515 l ▁xxfld ▁995 ▁gray ▁xxfld ▁300 ▁pc , ▁mac ▁xxfld ▁581 ▁e 700813 ▁xxfld ▁921 ▁the ▁15- inch ▁gray ▁elo ▁touch ▁intellitouch ▁1515 l ▁offers ▁a ▁native ▁resolution ▁of ▁1024 ▁x ▁768 ▁at ▁75 ▁hz ▁with ▁xxfld ▁509 ▁elo ▁touch ▁xxfld ▁1196 ▁75 ▁hz ▁xxfld ▁403 ▁c - tick , ▁ce , ▁fcc , ▁ic , ▁tuv - gs , ▁ul , ▁vcci , ▁cul ▁xxfld ▁854 ▁22 ▁ms ▁xxfld ▁848 ▁15\" ▁xxfld ▁192 ▁31.5 ▁- ▁60.2 ▁khz ▁xxfld ▁350 ▁56.3 ▁- ▁75 ▁khz ▁xxfld ▁1094 ▁desktop,▁xxbos ▁xxfld ▁1103 ▁elo ▁touch ▁1515 l ▁15\" ▁- ▁- ▁. ▁xxfld ▁175 ▁400:1 ▁xxfld ▁64 ▁lcd ▁xxfld ▁663 ▁1024 ▁x ▁768 ▁xxfld ▁509 ▁elo ▁touch\n",
       "▁xxbos ▁xxfld ▁1103 ▁elo ▁touch ▁intellitouch ▁1515 l ▁15\" ▁touch ▁screen ▁point ▁of ▁sale ▁pos ▁xxfld ▁858 ▁e 61 1558 ▁xxfld ▁1485 ▁4:3 ▁xxfld ▁1262 ▁elo ▁xxfld ▁1458 ▁250 ▁cd ▁/ ▁mâ 2 ▁xxfld ▁365 ▁16.2 m ▁colors , ▁24- bit ▁(16.7 m ▁colors ) ▁xxfld ▁175 ▁500:1 ▁xxfld ▁64 ▁touch ▁screen ▁xxfld ▁1519 ▁touchscreen ▁xxfld ▁1231 ▁desktop ▁xxfld ▁1363 ▁touch ▁screen ▁xxfld ▁663 ▁1024 ▁x ▁768 ▁xxfld ▁1540 ▁120 â ° ▁xxfld ▁298 ▁100 â ° ▁xxfld ▁442 ▁1024 ▁x ▁768 ▁xxfld ▁335 ▁intellitouch ▁1515 l ▁xxfld ▁995 ▁gray ▁xxfld ▁300 ▁pc , ▁mac ▁xxfld ▁581 ▁e 700813 ▁xxfld ▁921 ▁the ▁15- inch ▁gray ▁elo ▁touch ▁intellitouch ▁1515 l ▁offers ▁a ▁native ▁resolution ▁of ▁1024 ▁x ▁768 ▁at ▁75 ▁hz ▁with ▁xxfld ▁509 ▁elo ▁touch ▁xxfld ▁1196 ▁75 ▁hz ▁xxfld ▁403 ▁c - tick , ▁ce , ▁fcc , ▁ic , ▁tuv - gs , ▁ul , ▁vcci , ▁cul ▁xxfld ▁854 ▁22 ▁ms ▁xxfld ▁848 ▁15\" ▁xxfld ▁192 ▁31.5 ▁- ▁60.2 ▁khz ▁xxfld ▁350 ▁56.3 ▁- ▁75 ▁khz ▁xxfld ▁1094 ▁desktop ▁xxfld ▁914 ▁074114 9300 551 ▁xxfld ▁675 ▁vga ▁d - sub,▁xxbos ▁xxfld ▁1103 ▁elo ▁touch ▁intellitouch ▁1515 l ▁15\" ▁touch ▁screen ▁et 15 15 l ▁8 c wc ▁1 ▁gy ▁g ▁| ▁xxfld ▁858 ▁e 61 1558 ▁xxfld ▁1485 ▁4:3 ▁xxfld ▁1262 ▁elo ▁xxfld ▁365 ▁16.2 m ▁colors , ▁24- bit ▁(16.7 m ▁colors ) ▁xxfld ▁175 ▁500:1 ▁xxfld ▁64 ▁lcd , ▁touch ▁screen , ▁touch ▁screen ▁lcd , ▁touch ▁screen ▁lcd ▁touch ▁screen ▁lcd , ▁touch ▁screen ▁lcd ▁touch ▁sc ree ▁xxfld ▁1519 ▁touchscreen ▁xxfld ▁1231 ▁desktop ▁xxfld ▁1363 ▁touch ▁screen ▁xxfld ▁663 ▁1024 ▁x ▁768 ▁xxfld ▁1540 ▁120 â ° ▁xxfld ▁298 ▁100 â ° ▁xxfld ▁442 ▁1024 ▁x ▁768 ▁xxfld ▁335 ▁intellitouch ▁1515 l ▁xxfld ▁995 ▁gray ▁xxfld ▁300 ▁pc , ▁mac ▁xxfld ▁581 ▁e 700813 ▁xxfld ▁921 ▁the ▁15- inch ▁gray ▁elo ▁touch ▁intellitouch ▁1515 l ▁offers ▁a ▁native ▁resolution ▁of ▁1024 ▁x ▁768 ▁at ▁75 ▁hz ▁with ▁xxfld ▁509 ▁elo ▁touch ▁xxfld ▁1196 ▁75 ▁hz ▁xxfld ▁403 ▁c - tick , ▁ce , ▁fcc , ▁ic , ▁tuv - gs , ▁ul , ▁vcci , ▁cul ▁xxfld ▁854 ▁22 ▁ms ▁xxfld ▁848 ▁15\" ▁xxfld ▁192 ▁31.5 ▁- ▁60.2 ▁khz ▁xxfld ▁350 ▁56.3 ▁- ▁75 ▁khz ▁xxfld ▁1094 ▁desktop\n",
       "▁xxbos ▁xxfld ▁1103 ▁elo ▁touch ▁intellitouch ▁1515 l ▁15\" ▁touch ▁screen ▁point ▁of ▁sale ▁pos ▁xxfld ▁858 ▁e 61 1558 ▁xxfld ▁1485 ▁4:3 ▁xxfld ▁1262 ▁elo ▁xxfld ▁1458 ▁250 ▁cd ▁/ ▁mâ 2 ▁xxfld ▁365 ▁16.2 m ▁colors , ▁24- bit ▁(16.7 m ▁colors ) ▁xxfld ▁175 ▁500:1 ▁xxfld ▁64 ▁touch ▁screen ▁xxfld ▁1519 ▁touchscreen ▁xxfld ▁1231 ▁desktop ▁xxfld ▁1363 ▁touch ▁screen ▁xxfld ▁663 ▁1024 ▁x ▁768 ▁xxfld ▁1540 ▁120 â ° ▁xxfld ▁298 ▁100 â ° ▁xxfld ▁442 ▁1024 ▁x ▁768 ▁xxfld ▁335 ▁intellitouch ▁1515 l ▁xxfld ▁995 ▁gray ▁xxfld ▁300 ▁pc , ▁mac ▁xxfld ▁581 ▁e 700813 ▁xxfld ▁921 ▁the ▁15- inch ▁gray ▁elo ▁touch ▁intellitouch ▁1515 l ▁offers ▁a ▁native ▁resolution ▁of ▁1024 ▁x ▁768 ▁at ▁75 ▁hz ▁with ▁xxfld ▁509 ▁elo ▁touch ▁xxfld ▁1196 ▁75 ▁hz ▁xxfld ▁403 ▁c - tick , ▁ce , ▁fcc , ▁ic , ▁tuv - gs , ▁ul , ▁vcci , ▁cul ▁xxfld ▁854 ▁22 ▁ms ▁xxfld ▁848 ▁15\" ▁xxfld ▁192 ▁31.5 ▁- ▁60.2 ▁khz ▁xxfld ▁350 ▁56.3 ▁- ▁75 ▁khz ▁xxfld ▁1094 ▁desktop ▁xxfld ▁914 ▁074114 9300 551 ▁xxfld ▁675 ▁vga ▁d - sub,▁xxbos ▁xxfld ▁1103 ▁elo ▁1000 ▁series ▁1515 l ▁touch ▁screen ▁xxfld ▁1485 ▁4:3 ▁xxfld ▁34 ▁elo ▁xxfld ▁1458 ▁230 ▁nit ▁xxfld ▁1353 ▁dark ▁gray ▁xxfld ▁310 ▁16.2 ▁million ▁colors ▁xxfld ▁175 ▁450:1 ▁xxfld ▁54 ▁6 .90\" ▁xxfld ▁877 ▁china ▁rohs ▁xxfld ▁1042 ▁12 .20\" ▁xxfld ▁653 ▁220 ▁v ▁ac ▁xxfld ▁689 ▁6 65 533 ▁xxfld ▁155 ▁elo ▁touch ▁solutions , ▁inc ▁xxfld ▁1216 ▁v 213 94 ▁xxfld ▁442 ▁1024 ▁x ▁768 ▁xxfld ▁1660 ▁1515 l ▁xxfld ▁1503 ▁desk ▁mountable ▁xxfld ▁1400 ▁mac ; ▁sun ▁xxfld ▁564 ▁1000 ▁series ▁1515 l ▁touch ▁screen ▁monitor ▁xxfld ▁255 ▁1000 ▁xxfld ▁1024 ▁lcd ▁touchscreen ▁monitor ▁xxfld ▁854 ▁21.50 ▁ms ▁xxfld ▁609 ▁xga ▁xxfld ▁848 ▁15\" ▁xxfld ▁805 ▁anti - glare ▁xxfld ▁1645 ▁75 ▁hz ▁xxfld ▁1105 ▁surface ▁acoustic ▁wave ▁xxfld ▁1128 ▁3- year ▁limited ▁xxfld ▁168 ▁10.60 ▁lb ▁xxfld ▁662 ▁13 .80\"\n",
       "▁xxbos ▁xxfld ▁1103 ▁elo ▁1515 l ▁15\" ▁touchscreen ▁4 ▁3 ▁14 ▁20 ▁igr ml j 9 313 ▁| ▁xxfld ▁1485 ▁4:3 ▁xxfld ▁34 ▁elo ▁xxfld ▁1458 ▁250 ▁nit ▁xxfld ▁310 ▁16.7 ▁million ▁colors ▁xxfld ▁1402 ▁new : ▁a ▁brand - new , ▁unused , ▁unopened , ▁undamaged ▁item ▁in ▁its ▁original ▁packaging ▁( where ▁packaging ▁is ▁app ▁xxfld ▁175 ▁500:1 ▁xxfld ▁28 ▁7411493 278 488 ▁xxfld ▁1465 ▁china ▁rohs , ▁mpr ▁ii ▁xxfld ▁755 ▁3 ▁year ▁xxfld ▁442 ▁1024 ▁x ▁768 ▁xxfld ▁854 ▁14 .20 ▁ms ▁xxfld ▁848 ▁15\" ▁xxfld ▁1105 ▁capacitive\n",
       "y: CategoryList\n",
       "1,1,1,1,1\n",
       "Path: .;\n",
       "\n",
       "Valid: LabelList (5558 items)\n",
       "x: DuoList\n",
       "▁xxbos ▁xxfld ▁1103 ▁elo ▁touch ▁intellitouch ▁1515 l ▁15\" ▁touch ▁screen ▁point ▁of ▁sale ▁pos ▁xxfld ▁858 ▁e 61 1558 ▁xxfld ▁1485 ▁4:3 ▁xxfld ▁1262 ▁elo ▁xxfld ▁1458 ▁250 ▁cd ▁/ ▁mâ 2 ▁xxfld ▁365 ▁16.2 m ▁colors , ▁24- bit ▁(16.7 m ▁colors ) ▁xxfld ▁175 ▁500:1 ▁xxfld ▁64 ▁touch ▁screen ▁xxfld ▁1519 ▁touchscreen ▁xxfld ▁1231 ▁desktop ▁xxfld ▁1363 ▁touch ▁screen ▁xxfld ▁663 ▁1024 ▁x ▁768 ▁xxfld ▁1540 ▁120 â ° ▁xxfld ▁298 ▁100 â ° ▁xxfld ▁442 ▁1024 ▁x ▁768 ▁xxfld ▁335 ▁intellitouch ▁1515 l ▁xxfld ▁995 ▁gray ▁xxfld ▁300 ▁pc , ▁mac ▁xxfld ▁581 ▁e 700813 ▁xxfld ▁921 ▁the ▁15- inch ▁gray ▁elo ▁touch ▁intellitouch ▁1515 l ▁offers ▁a ▁native ▁resolution ▁of ▁1024 ▁x ▁768 ▁at ▁75 ▁hz ▁with ▁xxfld ▁509 ▁elo ▁touch ▁xxfld ▁1196 ▁75 ▁hz ▁xxfld ▁403 ▁c - tick , ▁ce , ▁fcc , ▁ic , ▁tuv - gs , ▁ul , ▁vcci , ▁cul ▁xxfld ▁854 ▁22 ▁ms ▁xxfld ▁848 ▁15\" ▁xxfld ▁192 ▁31.5 ▁- ▁60.2 ▁khz ▁xxfld ▁350 ▁56.3 ▁- ▁75 ▁khz ▁xxfld ▁1094 ▁desktop ▁xxfld ▁914 ▁074114 9300 551 ▁xxfld ▁675 ▁vga ▁d - sub\n",
       "▁xxbos ▁xxfld ▁1103 ▁elo ▁touchsystems ▁1515 l ▁- ▁xxfld ▁1485 ▁4:3 ▁xxfld ▁1108 ▁[' ul , ▁cul , ▁fcc , ▁ce , ▁semko ▁/ ▁demko , ▁vcci , ▁ices , ▁c ▁t ick , ▁mprii , ▁s - mark , ▁bsmi , ▁ccc , ▁kc , ▁china ▁rohs ', ▁' u ▁xxfld ▁1092 ▁[' grey ', ▁' grey '] ▁xxfld ▁923 ▁500:1 ▁xxfld ▁45 ▁350 ▁x ▁175 ▁x ▁310 ▁mm ▁xxfld ▁95 ▁200 ▁cd ▁/ ▁mâ 2 ▁xxfld ▁570 ▁38.1 ▁cm ▁(15\") ▁xxfld ▁1187 ▁1024 ▁x ▁768 ▁pixels ▁xxfld ▁1146 ▁lcd ▁xxfld ▁272 ▁304 ▁x ▁228 ▁mm ▁xxfld ▁976 ▁no ▁xxfld ▁1518 ▁31.5 ▁- ▁60.2 ▁khz ▁xxfld ▁653 ▁100 ▁- ▁240 v ▁xxfld ▁142 ▁['5 ▁xxrep ▁4 ▁0 ▁h ', ▁'5 ▁xxrep ▁4 ▁0 ▁h '] ▁xxfld ▁778 ▁['1024 ▁x ▁768', ▁'1024 ▁x ▁768'] ▁xxfld ▁1469 ▁16.7 m ▁xxfld ▁1455 ▁[' yes ', ▁' yes '] ▁xxfld ▁1319 ▁20 ▁- ▁80% ▁xxfld ▁893 ▁0 ▁- ▁40 ▁â ° c ▁xxfld ▁1320 ▁['4 45 ▁x ▁380 ▁x ▁260 ▁mm ', ▁'4 45 ▁x ▁380 ▁x ▁260 ▁mm '] ▁xxfld ▁394 ▁['7 ▁kg ', ▁'7 ▁kg '] ▁xxfld ▁584 ▁30 w ▁xxfld ▁854 ▁11.7 ▁ms ▁xxfld ▁807 ▁10 ▁- ▁90% ▁xxfld ▁1248,▁xxbos ▁xxfld ▁1103 ▁elo ▁1515 l ▁15\" ▁touchscreen ▁4 ▁3 ▁14 ▁20 ▁igr ml j 9 313 ▁| ▁xxfld ▁1485 ▁4:3 ▁xxfld ▁34 ▁elo ▁xxfld ▁1458 ▁250 ▁nit ▁xxfld ▁310 ▁16.7 ▁million ▁colors ▁xxfld ▁1402 ▁new : ▁a ▁brand - new , ▁unused , ▁unopened , ▁undamaged ▁item ▁in ▁its ▁original ▁packaging ▁( where ▁packaging ▁is ▁app ▁xxfld ▁175 ▁500:1 ▁xxfld ▁28 ▁7411493 278 488 ▁xxfld ▁1465 ▁china ▁rohs , ▁mpr ▁ii ▁xxfld ▁755 ▁3 ▁year ▁xxfld ▁442 ▁1024 ▁x ▁768 ▁xxfld ▁854 ▁14 .20 ▁ms ▁xxfld ▁848 ▁15\" ▁xxfld ▁1105 ▁capacitive\n",
       "▁xxbos ▁xxfld ▁1103 ▁elo ▁touch ▁1515 l ▁15\" ▁- ▁- ▁. ▁xxfld ▁175 ▁400:1 ▁xxfld ▁64 ▁lcd ▁xxfld ▁663 ▁1024 ▁x ▁768 ▁xxfld ▁509 ▁elo ▁touch,▁xxbos ▁xxfld ▁1103 ▁dell ▁1703 fps ▁\" ▁with ▁power ▁cables ▁825633788107 ▁| ▁xxfld ▁1262 ▁dell ▁xxfld ▁175 ▁600 ▁xxfld ▁64 ▁lcd ▁xxfld ▁623 ▁1280 ▁x ▁1024 ▁xxfld ▁335 ▁1703 fps ▁xxfld ▁581 ▁ebay _ dell 1703 fps 17 \" lcd monitor ▁xxfld ▁848 ▁17\" ▁xxfld ▁914 ▁825633788107\n",
       "▁xxbos ▁xxfld ▁1103 ▁dell ▁1703 fps ▁\" ▁tft ▁silver ▁bezel ▁+ ▁cables ▁grade ▁b ▁+ ▁(14 41 ) ▁| ▁| ▁| ▁| ▁| ▁| ▁| ▁| ▁| ▁| ▁xxfld ▁1402 ▁item ▁type :,▁xxbos ▁xxfld ▁1103 ▁dell ▁\" ▁1703 fps ▁\" ▁| ▁| ▁| ▁| ▁| ▁| ▁| ▁| ▁| ▁| ▁xxfld ▁1402 ▁item ▁type :\n",
       "▁xxbos ▁xxfld ▁1103 ▁dell ▁1703 fps ▁\" ▁with ▁power ▁cables ▁825633788107 ▁| ▁xxfld ▁1262 ▁dell ▁xxfld ▁175 ▁600 ▁xxfld ▁64 ▁lcd ▁xxfld ▁623 ▁1280 ▁x ▁1024 ▁xxfld ▁335 ▁1703 fps ▁xxfld ▁581 ▁ebay _ dell 1703 fps 17 \" lcd monitor ▁xxfld ▁848 ▁17\" ▁xxfld ▁914 ▁825633788107,▁xxbos ▁xxfld ▁1103 ▁elo ▁1919 l ▁19\" ▁desktop ▁touch ▁screen ▁et 1919 l ▁au wa ▁1 ▁gy ▁g ▁74114 9 31 64 156 ▁| ▁xxfld ▁1485 ▁16:9 ▁xxfld ▁1262 ▁elo ▁xxfld ▁1458 ▁250 ▁cd ▁/ ▁mâ 2 ▁xxfld ▁1402 ▁seller ▁refurbished : ▁an ▁item ▁that ▁has ▁been ▁restored ▁to ▁working ▁order ▁by ▁the ▁ebay ▁seller ▁or ▁a ▁third ▁pa ▁xxfld ▁175 ▁1000:1 ▁xxfld ▁64 ▁lcd ▁xxfld ▁1519 ▁built - in ▁speakers , ▁touchscreen ▁xxfld ▁623 ▁1680 ▁x ▁1050 ▁xxfld ▁335 ▁1919 l ▁xxfld ▁581 ▁et 1919 l - au wa -1- gy - g ▁xxfld ▁854 ▁5 ▁ms ▁xxfld ▁848 ▁19\" ▁xxfld ▁1094 ▁desktop ▁xxfld ▁675 ▁vga ▁d - sub\n",
       "▁xxbos ▁xxfld ▁1103 ▁elo ▁touch ▁solutions ▁1919 l ▁18 ▁5\" ▁touchscreen ▁9 ▁5 ▁74114 9 31 64 156 ▁| ▁xxfld ▁1485 ▁16:9 ▁xxfld ▁34 ▁elo ▁touch ▁solutions ▁xxfld ▁659 ▁speaker ▁xxfld ▁1402 ▁new : ▁a ▁brand - new , ▁unused , ▁unopened , ▁undamaged ▁item ▁in ▁its ▁original ▁packaging ▁( where ▁packaging ▁is ▁app ▁xxfld ▁1042 ▁12 .60\" ▁xxfld ▁155 ▁elo ▁touch ▁solutions , ▁inc ▁xxfld ▁575 ▁e 7 6010 2 ▁xxfld ▁363 ▁www . elotouch . com ▁xxfld ▁3 ▁the ▁1919 l ▁is ▁a ▁wide - screen ▁display ▁that ▁is ▁eas i er ▁to ▁use ▁and ▁incorpor ate ▁into ▁more ▁environments ▁than ▁xxfld ▁529 ▁< ul >< li > 1919 l ▁touchscreen ▁lcd ▁monitor < ▁/ ▁li >< li > sta ▁xxfld ▁1164 ▁1919 l ▁xxfld ▁564 ▁1919 l ▁touchscreen ▁lcd ▁monitor ▁xxfld ▁1024 ▁lcd ▁touchscreen ▁monitor ▁xxfld ▁609 ▁wxga ▁xxfld ▁566 ▁yes ▁xxfld ▁554 ▁160 â ° ▁xxfld ▁792 ▁10.20 ▁lb\n",
       "y: CategoryList\n",
       "1,1,1,1,1\n",
       "Path: .;\n",
       "\n",
       "Test: None, model=er_net(\n",
       "  (encoder): MultiBatchEncoder(\n",
       "    (module): AWD_LSTM(\n",
       "      (encoder): Embedding(11592, 400, padding_idx=1)\n",
       "      (encoder_dp): EmbeddingDropout(\n",
       "        (emb): Embedding(11592, 400, padding_idx=1)\n",
       "      )\n",
       "      (rnns): ModuleList(\n",
       "        (0): QRNN(\n",
       "          (layers): ModuleList(\n",
       "            (0): QRNNLayer(\n",
       "              (linear): WeightDropout(\n",
       "                (module): Linear(in_features=800, out_features=4650, bias=True)\n",
       "              )\n",
       "            )\n",
       "          )\n",
       "        )\n",
       "        (1): QRNN(\n",
       "          (layers): ModuleList(\n",
       "            (0): QRNNLayer(\n",
       "              (linear): WeightDropout(\n",
       "                (module): Linear(in_features=1550, out_features=4650, bias=True)\n",
       "              )\n",
       "            )\n",
       "          )\n",
       "        )\n",
       "        (2): QRNN(\n",
       "          (layers): ModuleList(\n",
       "            (0): QRNNLayer(\n",
       "              (linear): WeightDropout(\n",
       "                (module): Linear(in_features=1550, out_features=4650, bias=True)\n",
       "              )\n",
       "            )\n",
       "          )\n",
       "        )\n",
       "        (3): QRNN(\n",
       "          (layers): ModuleList(\n",
       "            (0): QRNNLayer(\n",
       "              (linear): WeightDropout(\n",
       "                (module): Linear(in_features=1550, out_features=1200, bias=True)\n",
       "              )\n",
       "            )\n",
       "          )\n",
       "        )\n",
       "      )\n",
       "      (input_dp): RNNDropout()\n",
       "      (hidden_dps): ModuleList(\n",
       "        (0): RNNDropout()\n",
       "        (1): RNNDropout()\n",
       "        (2): RNNDropout()\n",
       "        (3): RNNDropout()\n",
       "      )\n",
       "    )\n",
       "  )\n",
       "  (distance): SimpleERDistance()\n",
       "  (head): ERHead(\n",
       "    (layers): Sequential(\n",
       "      (0): BatchNorm1d(4800, eps=1e-05, momentum=0.1, affine=True, track_running_stats=True)\n",
       "      (1): Dropout(p=0.4, inplace=False)\n",
       "      (2): Linear(in_features=4800, out_features=100, bias=True)\n",
       "      (3): ReLU(inplace=True)\n",
       "      (4): BatchNorm1d(100, eps=1e-05, momentum=0.1, affine=True, track_running_stats=True)\n",
       "      (5): Dropout(p=0.1, inplace=False)\n",
       "      (6): Linear(in_features=100, out_features=2, bias=True)\n",
       "    )\n",
       "  )\n",
       "), opt_func=functools.partial(<class 'torch.optim.adam.Adam'>, betas=(0.9, 0.99)), loss_func=FlattenedLoss of CrossEntropyLoss(), metrics=[<function accuracy at 0x7fca21efa0d0>], true_wd=True, bn_wd=True, wd=0.01, train_bn=True, path=PosixPath('drive/My Drive/ER'), model_dir='models', callback_fns=[functools.partial(<class 'fastai.basic_train.Recorder'>, add_time=True, silent=False)], callbacks=[...], layer_groups=[Sequential(\n",
       "  (0): Embedding(11592, 400, padding_idx=1)\n",
       "  (1): EmbeddingDropout(\n",
       "    (emb): Embedding(11592, 400, padding_idx=1)\n",
       "  )\n",
       "), Sequential(\n",
       "  (0): QRNN(\n",
       "    (layers): ModuleList(\n",
       "      (0): QRNNLayer(\n",
       "        (linear): WeightDropout(\n",
       "          (module): Linear(in_features=800, out_features=4650, bias=True)\n",
       "        )\n",
       "      )\n",
       "    )\n",
       "  )\n",
       "  (1): RNNDropout()\n",
       "), Sequential(\n",
       "  (0): QRNN(\n",
       "    (layers): ModuleList(\n",
       "      (0): QRNNLayer(\n",
       "        (linear): WeightDropout(\n",
       "          (module): Linear(in_features=1550, out_features=4650, bias=True)\n",
       "        )\n",
       "      )\n",
       "    )\n",
       "  )\n",
       "  (1): RNNDropout()\n",
       "), Sequential(\n",
       "  (0): QRNN(\n",
       "    (layers): ModuleList(\n",
       "      (0): QRNNLayer(\n",
       "        (linear): WeightDropout(\n",
       "          (module): Linear(in_features=1550, out_features=4650, bias=True)\n",
       "        )\n",
       "      )\n",
       "    )\n",
       "  )\n",
       "  (1): RNNDropout()\n",
       "), Sequential(\n",
       "  (0): QRNN(\n",
       "    (layers): ModuleList(\n",
       "      (0): QRNNLayer(\n",
       "        (linear): WeightDropout(\n",
       "          (module): Linear(in_features=1550, out_features=1200, bias=True)\n",
       "        )\n",
       "      )\n",
       "    )\n",
       "  )\n",
       "  (1): RNNDropout()\n",
       "), Sequential(\n",
       "  (0): ERHead(\n",
       "    (layers): Sequential(\n",
       "      (0): BatchNorm1d(4800, eps=1e-05, momentum=0.1, affine=True, track_running_stats=True)\n",
       "      (1): Dropout(p=0.4, inplace=False)\n",
       "      (2): Linear(in_features=4800, out_features=100, bias=True)\n",
       "      (3): ReLU(inplace=True)\n",
       "      (4): BatchNorm1d(100, eps=1e-05, momentum=0.1, affine=True, track_running_stats=True)\n",
       "      (5): Dropout(p=0.1, inplace=False)\n",
       "      (6): Linear(in_features=100, out_features=2, bias=True)\n",
       "    )\n",
       "  )\n",
       ")], add_time=True, silent=False)\n",
       "alpha: 2.0\n",
       "beta: 1.0, MixedPrecision\n",
       "learn: DuoRNNLearner(data=DuoDataBunch;\n",
       "\n",
       "Train: LabelList (105598 items)\n",
       "x: DuoList\n",
       "▁xxbos ▁xxfld ▁1103 ▁elo ▁1000 ▁series ▁1515 l ▁touch ▁screen ▁igrm v 213 94 ▁| ▁xxfld ▁858 ▁e 61 1558 ▁xxfld ▁1485 ▁4:3 ▁xxfld ▁1262 ▁elo ▁xxfld ▁1458 ▁250 ▁cd ▁/ ▁mâ 2 ▁xxfld ▁365 ▁16.2 m ▁colors , ▁24- bit ▁(16.7 m ▁colors ) ▁xxfld ▁310 ▁16.2 ▁million ▁colors ▁xxfld ▁1402 ▁new : ▁a ▁brand - new , ▁unused , ▁unopened , ▁undamaged ▁item ▁in ▁its ▁original ▁packaging ▁( where ▁packaging ▁is ▁app ▁xxfld ▁175 ▁500 ▁xxfld ▁64 ▁lcd , ▁touch ▁screen , ▁touch ▁screen ▁lcd , ▁touch ▁screen ▁lcd ▁touch ▁screen ▁lcd , ▁touch ▁screen ▁lcd ▁touch ▁sc ree ▁xxfld ▁1231 ▁desktop ▁xxfld ▁1465 ▁china ▁rohs ▁xxfld ▁1363 ▁touch ▁screen ▁xxfld ▁755 ▁3 ▁year ▁xxfld ▁1540 ▁120 â ° ▁xxfld ▁298 ▁100 â ° ▁xxfld ▁623 ▁1024 ▁x ▁768 ▁xxfld ▁442 ▁1024 ▁x ▁768 ▁xxfld ▁1086 ▁igrm v 213 94 ▁xxfld ▁335 ▁intellitouch ▁1515 l ▁xxfld ▁995 ▁gray ▁xxfld ▁300 ▁pc , ▁mac ▁xxfld ▁1503 ▁desk ▁mountable ▁xxfld ▁581 ▁e 700813 ▁xxfld ▁1068 ▁1000 ▁xxfld ▁921 ▁the ▁15- inch ▁gray ▁elo ▁touch ▁intellitouch ▁1515 l ▁offers ▁a ▁native ▁resolution ▁of ▁1024 ▁x ▁768 ▁at ▁75 ▁hz ▁with ▁xxfld ▁509 ▁elo ▁touch ▁xxfld ▁1024 ▁lcd ▁touchscreen ▁monitor ▁xxfld ▁1196\n",
       "▁xxbos ▁xxfld ▁1103 ▁elo ▁1515 l ▁15\" ▁touchscreen ▁4 ▁3 ▁14 ▁20 ▁igr ml j 9 313 ▁| ▁xxfld ▁1485 ▁4:3 ▁xxfld ▁34 ▁elo ▁xxfld ▁1458 ▁250 ▁nit ▁xxfld ▁310 ▁16.7 ▁million ▁colors ▁xxfld ▁1402 ▁new : ▁a ▁brand - new , ▁unused , ▁unopened , ▁undamaged ▁item ▁in ▁its ▁original ▁packaging ▁( where ▁packaging ▁is ▁app ▁xxfld ▁175 ▁500:1 ▁xxfld ▁28 ▁7411493 278 488 ▁xxfld ▁1465 ▁china ▁rohs , ▁mpr ▁ii ▁xxfld ▁755 ▁3 ▁year ▁xxfld ▁442 ▁1024 ▁x ▁768 ▁xxfld ▁854 ▁14 .20 ▁ms ▁xxfld ▁848 ▁15\" ▁xxfld ▁1105 ▁capacitive,▁xxbos ▁xxfld ▁1103 ▁elo ▁touch ▁1515 l ▁15\" ▁- ▁- ▁. ▁xxfld ▁175 ▁400:1 ▁xxfld ▁64 ▁lcd ▁xxfld ▁663 ▁1024 ▁x ▁768 ▁xxfld ▁509 ▁elo ▁touch\n",
       "▁xxbos ▁xxfld ▁1103 ▁elo ▁touch ▁intellitouch ▁1515 l ▁15\" ▁touch ▁screen ▁et 15 15 l ▁8 c wc ▁1 ▁gy ▁g ▁| ▁xxfld ▁858 ▁e 61 1558 ▁xxfld ▁1485 ▁4:3 ▁xxfld ▁1262 ▁elo ▁xxfld ▁365 ▁16.2 m ▁colors , ▁24- bit ▁(16.7 m ▁colors ) ▁xxfld ▁175 ▁500:1 ▁xxfld ▁64 ▁lcd , ▁touch ▁screen , ▁touch ▁screen ▁lcd , ▁touch ▁screen ▁lcd ▁touch ▁screen ▁lcd , ▁touch ▁screen ▁lcd ▁touch ▁sc ree ▁xxfld ▁1519 ▁touchscreen ▁xxfld ▁1231 ▁desktop ▁xxfld ▁1363 ▁touch ▁screen ▁xxfld ▁663 ▁1024 ▁x ▁768 ▁xxfld ▁1540 ▁120 â ° ▁xxfld ▁298 ▁100 â ° ▁xxfld ▁442 ▁1024 ▁x ▁768 ▁xxfld ▁335 ▁intellitouch ▁1515 l ▁xxfld ▁995 ▁gray ▁xxfld ▁300 ▁pc , ▁mac ▁xxfld ▁581 ▁e 700813 ▁xxfld ▁921 ▁the ▁15- inch ▁gray ▁elo ▁touch ▁intellitouch ▁1515 l ▁offers ▁a ▁native ▁resolution ▁of ▁1024 ▁x ▁768 ▁at ▁75 ▁hz ▁with ▁xxfld ▁509 ▁elo ▁touch ▁xxfld ▁1196 ▁75 ▁hz ▁xxfld ▁403 ▁c - tick , ▁ce , ▁fcc , ▁ic , ▁tuv - gs , ▁ul , ▁vcci , ▁cul ▁xxfld ▁854 ▁22 ▁ms ▁xxfld ▁848 ▁15\" ▁xxfld ▁192 ▁31.5 ▁- ▁60.2 ▁khz ▁xxfld ▁350 ▁56.3 ▁- ▁75 ▁khz ▁xxfld ▁1094 ▁desktop,▁xxbos ▁xxfld ▁1103 ▁elo ▁touch ▁intellitouch ▁1515 l ▁15\" ▁touch ▁screen ▁point ▁of ▁sale ▁pos ▁xxfld ▁858 ▁e 61 1558 ▁xxfld ▁1485 ▁4:3 ▁xxfld ▁1262 ▁elo ▁xxfld ▁1458 ▁250 ▁cd ▁/ ▁mâ 2 ▁xxfld ▁365 ▁16.2 m ▁colors , ▁24- bit ▁(16.7 m ▁colors ) ▁xxfld ▁175 ▁500:1 ▁xxfld ▁64 ▁touch ▁screen ▁xxfld ▁1519 ▁touchscreen ▁xxfld ▁1231 ▁desktop ▁xxfld ▁1363 ▁touch ▁screen ▁xxfld ▁663 ▁1024 ▁x ▁768 ▁xxfld ▁1540 ▁120 â ° ▁xxfld ▁298 ▁100 â ° ▁xxfld ▁442 ▁1024 ▁x ▁768 ▁xxfld ▁335 ▁intellitouch ▁1515 l ▁xxfld ▁995 ▁gray ▁xxfld ▁300 ▁pc , ▁mac ▁xxfld ▁581 ▁e 700813 ▁xxfld ▁921 ▁the ▁15- inch ▁gray ▁elo ▁touch ▁intellitouch ▁1515 l ▁offers ▁a ▁native ▁resolution ▁of ▁1024 ▁x ▁768 ▁at ▁75 ▁hz ▁with ▁xxfld ▁509 ▁elo ▁touch ▁xxfld ▁1196 ▁75 ▁hz ▁xxfld ▁403 ▁c - tick , ▁ce , ▁fcc , ▁ic , ▁tuv - gs , ▁ul , ▁vcci , ▁cul ▁xxfld ▁854 ▁22 ▁ms ▁xxfld ▁848 ▁15\" ▁xxfld ▁192 ▁31.5 ▁- ▁60.2 ▁khz ▁xxfld ▁350 ▁56.3 ▁- ▁75 ▁khz ▁xxfld ▁1094 ▁desktop ▁xxfld ▁914 ▁074114 9300 551 ▁xxfld ▁675 ▁vga ▁d - sub\n",
       "▁xxbos ▁xxfld ▁1103 ▁elo ▁touch ▁1515 l ▁15\" ▁- ▁- ▁. ▁xxfld ▁175 ▁400:1 ▁xxfld ▁64 ▁lcd ▁xxfld ▁663 ▁1024 ▁x ▁768 ▁xxfld ▁509 ▁elo ▁touch,▁xxbos ▁xxfld ▁1103 ▁elo ▁touch ▁intellitouch ▁1515 l ▁15\" ▁touch ▁screen ▁et 15 15 l ▁8 c wc ▁1 ▁gy ▁g ▁| ▁xxfld ▁858 ▁e 61 1558 ▁xxfld ▁1485 ▁4:3 ▁xxfld ▁1262 ▁elo ▁xxfld ▁365 ▁16.2 m ▁colors , ▁24- bit ▁(16.7 m ▁colors ) ▁xxfld ▁175 ▁500:1 ▁xxfld ▁64 ▁lcd , ▁touch ▁screen , ▁touch ▁screen ▁lcd , ▁touch ▁screen ▁lcd ▁touch ▁screen ▁lcd , ▁touch ▁screen ▁lcd ▁touch ▁sc ree ▁xxfld ▁1519 ▁touchscreen ▁xxfld ▁1231 ▁desktop ▁xxfld ▁1363 ▁touch ▁screen ▁xxfld ▁663 ▁1024 ▁x ▁768 ▁xxfld ▁1540 ▁120 â ° ▁xxfld ▁298 ▁100 â ° ▁xxfld ▁442 ▁1024 ▁x ▁768 ▁xxfld ▁335 ▁intellitouch ▁1515 l ▁xxfld ▁995 ▁gray ▁xxfld ▁300 ▁pc , ▁mac ▁xxfld ▁581 ▁e 700813 ▁xxfld ▁921 ▁the ▁15- inch ▁gray ▁elo ▁touch ▁intellitouch ▁1515 l ▁offers ▁a ▁native ▁resolution ▁of ▁1024 ▁x ▁768 ▁at ▁75 ▁hz ▁with ▁xxfld ▁509 ▁elo ▁touch ▁xxfld ▁1196 ▁75 ▁hz ▁xxfld ▁403 ▁c - tick , ▁ce , ▁fcc , ▁ic , ▁tuv - gs , ▁ul , ▁vcci , ▁cul ▁xxfld ▁854 ▁22 ▁ms ▁xxfld ▁848 ▁15\" ▁xxfld ▁192 ▁31.5 ▁- ▁60.2 ▁khz ▁xxfld ▁350 ▁56.3 ▁- ▁75 ▁khz ▁xxfld ▁1094 ▁desktop\n",
       "▁xxbos ▁xxfld ▁1103 ▁elo ▁touch ▁intellitouch ▁1515 l ▁15\" ▁touch ▁screen ▁point ▁of ▁sale ▁pos ▁xxfld ▁858 ▁e 61 1558 ▁xxfld ▁1485 ▁4:3 ▁xxfld ▁1262 ▁elo ▁xxfld ▁1458 ▁250 ▁cd ▁/ ▁mâ 2 ▁xxfld ▁365 ▁16.2 m ▁colors , ▁24- bit ▁(16.7 m ▁colors ) ▁xxfld ▁175 ▁500:1 ▁xxfld ▁64 ▁touch ▁screen ▁xxfld ▁1519 ▁touchscreen ▁xxfld ▁1231 ▁desktop ▁xxfld ▁1363 ▁touch ▁screen ▁xxfld ▁663 ▁1024 ▁x ▁768 ▁xxfld ▁1540 ▁120 â ° ▁xxfld ▁298 ▁100 â ° ▁xxfld ▁442 ▁1024 ▁x ▁768 ▁xxfld ▁335 ▁intellitouch ▁1515 l ▁xxfld ▁995 ▁gray ▁xxfld ▁300 ▁pc , ▁mac ▁xxfld ▁581 ▁e 700813 ▁xxfld ▁921 ▁the ▁15- inch ▁gray ▁elo ▁touch ▁intellitouch ▁1515 l ▁offers ▁a ▁native ▁resolution ▁of ▁1024 ▁x ▁768 ▁at ▁75 ▁hz ▁with ▁xxfld ▁509 ▁elo ▁touch ▁xxfld ▁1196 ▁75 ▁hz ▁xxfld ▁403 ▁c - tick , ▁ce , ▁fcc , ▁ic , ▁tuv - gs , ▁ul , ▁vcci , ▁cul ▁xxfld ▁854 ▁22 ▁ms ▁xxfld ▁848 ▁15\" ▁xxfld ▁192 ▁31.5 ▁- ▁60.2 ▁khz ▁xxfld ▁350 ▁56.3 ▁- ▁75 ▁khz ▁xxfld ▁1094 ▁desktop ▁xxfld ▁914 ▁074114 9300 551 ▁xxfld ▁675 ▁vga ▁d - sub,▁xxbos ▁xxfld ▁1103 ▁elo ▁1000 ▁series ▁1515 l ▁touch ▁screen ▁xxfld ▁1485 ▁4:3 ▁xxfld ▁34 ▁elo ▁xxfld ▁1458 ▁230 ▁nit ▁xxfld ▁1353 ▁dark ▁gray ▁xxfld ▁310 ▁16.2 ▁million ▁colors ▁xxfld ▁175 ▁450:1 ▁xxfld ▁54 ▁6 .90\" ▁xxfld ▁877 ▁china ▁rohs ▁xxfld ▁1042 ▁12 .20\" ▁xxfld ▁653 ▁220 ▁v ▁ac ▁xxfld ▁689 ▁6 65 533 ▁xxfld ▁155 ▁elo ▁touch ▁solutions , ▁inc ▁xxfld ▁1216 ▁v 213 94 ▁xxfld ▁442 ▁1024 ▁x ▁768 ▁xxfld ▁1660 ▁1515 l ▁xxfld ▁1503 ▁desk ▁mountable ▁xxfld ▁1400 ▁mac ; ▁sun ▁xxfld ▁564 ▁1000 ▁series ▁1515 l ▁touch ▁screen ▁monitor ▁xxfld ▁255 ▁1000 ▁xxfld ▁1024 ▁lcd ▁touchscreen ▁monitor ▁xxfld ▁854 ▁21.50 ▁ms ▁xxfld ▁609 ▁xga ▁xxfld ▁848 ▁15\" ▁xxfld ▁805 ▁anti - glare ▁xxfld ▁1645 ▁75 ▁hz ▁xxfld ▁1105 ▁surface ▁acoustic ▁wave ▁xxfld ▁1128 ▁3- year ▁limited ▁xxfld ▁168 ▁10.60 ▁lb ▁xxfld ▁662 ▁13 .80\"\n",
       "▁xxbos ▁xxfld ▁1103 ▁elo ▁1515 l ▁15\" ▁touchscreen ▁4 ▁3 ▁14 ▁20 ▁igr ml j 9 313 ▁| ▁xxfld ▁1485 ▁4:3 ▁xxfld ▁34 ▁elo ▁xxfld ▁1458 ▁250 ▁nit ▁xxfld ▁310 ▁16.7 ▁million ▁colors ▁xxfld ▁1402 ▁new : ▁a ▁brand - new , ▁unused , ▁unopened , ▁undamaged ▁item ▁in ▁its ▁original ▁packaging ▁( where ▁packaging ▁is ▁app ▁xxfld ▁175 ▁500:1 ▁xxfld ▁28 ▁7411493 278 488 ▁xxfld ▁1465 ▁china ▁rohs , ▁mpr ▁ii ▁xxfld ▁755 ▁3 ▁year ▁xxfld ▁442 ▁1024 ▁x ▁768 ▁xxfld ▁854 ▁14 .20 ▁ms ▁xxfld ▁848 ▁15\" ▁xxfld ▁1105 ▁capacitive\n",
       "y: CategoryList\n",
       "1,1,1,1,1\n",
       "Path: .;\n",
       "\n",
       "Valid: LabelList (5558 items)\n",
       "x: DuoList\n",
       "▁xxbos ▁xxfld ▁1103 ▁elo ▁touchsystems ▁1515 l ▁- ▁xxfld ▁1485 ▁4:3 ▁xxfld ▁1108 ▁[' ul , ▁cul , ▁fcc , ▁ce , ▁semko ▁/ ▁demko , ▁vcci , ▁ices , ▁c ▁t ick , ▁mprii , ▁s - mark , ▁bsmi , ▁ccc , ▁kc , ▁china ▁rohs ', ▁' u ▁xxfld ▁1092 ▁[' grey ', ▁' grey '] ▁xxfld ▁923 ▁500:1 ▁xxfld ▁45 ▁350 ▁x ▁175 ▁x ▁310 ▁mm ▁xxfld ▁95 ▁200 ▁cd ▁/ ▁mâ 2 ▁xxfld ▁570 ▁38.1 ▁cm ▁(15\") ▁xxfld ▁1187 ▁1024 ▁x ▁768 ▁pixels ▁xxfld ▁1146 ▁lcd ▁xxfld ▁272 ▁304 ▁x ▁228 ▁mm ▁xxfld ▁976 ▁no ▁xxfld ▁1518 ▁31.5 ▁- ▁60.2 ▁khz ▁xxfld ▁653 ▁100 ▁- ▁240 v ▁xxfld ▁142 ▁['5 ▁xxrep ▁4 ▁0 ▁h ', ▁'5 ▁xxrep ▁4 ▁0 ▁h '] ▁xxfld ▁778 ▁['1024 ▁x ▁768', ▁'1024 ▁x ▁768'] ▁xxfld ▁1469 ▁16.7 m ▁xxfld ▁1455 ▁[' yes ', ▁' yes '] ▁xxfld ▁1319 ▁20 ▁- ▁80% ▁xxfld ▁893 ▁0 ▁- ▁40 ▁â ° c ▁xxfld ▁1320 ▁['4 45 ▁x ▁380 ▁x ▁260 ▁mm ', ▁'4 45 ▁x ▁380 ▁x ▁260 ▁mm '] ▁xxfld ▁394 ▁['7 ▁kg ', ▁'7 ▁kg '] ▁xxfld ▁584 ▁30 w ▁xxfld ▁854 ▁11.7 ▁ms ▁xxfld ▁807 ▁10 ▁- ▁90% ▁xxfld ▁1248\n",
       "▁xxbos ▁xxfld ▁1103 ▁elo ▁touch ▁intellitouch ▁1515 l ▁15\" ▁touch ▁screen ▁point ▁of ▁sale ▁pos ▁xxfld ▁858 ▁e 61 1558 ▁xxfld ▁1485 ▁4:3 ▁xxfld ▁1262 ▁elo ▁xxfld ▁1458 ▁250 ▁cd ▁/ ▁mâ 2 ▁xxfld ▁365 ▁16.2 m ▁colors , ▁24- bit ▁(16.7 m ▁colors ) ▁xxfld ▁175 ▁500:1 ▁xxfld ▁64 ▁touch ▁screen ▁xxfld ▁1519 ▁touchscreen ▁xxfld ▁1231 ▁desktop ▁xxfld ▁1363 ▁touch ▁screen ▁xxfld ▁663 ▁1024 ▁x ▁768 ▁xxfld ▁1540 ▁120 â ° ▁xxfld ▁298 ▁100 â ° ▁xxfld ▁442 ▁1024 ▁x ▁768 ▁xxfld ▁335 ▁intellitouch ▁1515 l ▁xxfld ▁995 ▁gray ▁xxfld ▁300 ▁pc , ▁mac ▁xxfld ▁581 ▁e 700813 ▁xxfld ▁921 ▁the ▁15- inch ▁gray ▁elo ▁touch ▁intellitouch ▁1515 l ▁offers ▁a ▁native ▁resolution ▁of ▁1024 ▁x ▁768 ▁at ▁75 ▁hz ▁with ▁xxfld ▁509 ▁elo ▁touch ▁xxfld ▁1196 ▁75 ▁hz ▁xxfld ▁403 ▁c - tick , ▁ce , ▁fcc , ▁ic , ▁tuv - gs , ▁ul , ▁vcci , ▁cul ▁xxfld ▁854 ▁22 ▁ms ▁xxfld ▁848 ▁15\" ▁xxfld ▁192 ▁31.5 ▁- ▁60.2 ▁khz ▁xxfld ▁350 ▁56.3 ▁- ▁75 ▁khz ▁xxfld ▁1094 ▁desktop ▁xxfld ▁914 ▁074114 9300 551 ▁xxfld ▁675 ▁vga ▁d - sub,▁xxbos ▁xxfld ▁1103 ▁elo ▁touch ▁1515 l ▁15\" ▁- ▁- ▁. ▁xxfld ▁175 ▁400:1 ▁xxfld ▁64 ▁lcd ▁xxfld ▁663 ▁1024 ▁x ▁768 ▁xxfld ▁509 ▁elo ▁touch\n",
       "▁xxbos ▁xxfld ▁1103 ▁elo ▁1515 l ▁15\" ▁touchscreen ▁4 ▁3 ▁14 ▁20 ▁igr ml j 9 313 ▁| ▁xxfld ▁1485 ▁4:3 ▁xxfld ▁34 ▁elo ▁xxfld ▁1458 ▁250 ▁nit ▁xxfld ▁310 ▁16.7 ▁million ▁colors ▁xxfld ▁1402 ▁new : ▁a ▁brand - new , ▁unused , ▁unopened , ▁undamaged ▁item ▁in ▁its ▁original ▁packaging ▁( where ▁packaging ▁is ▁app ▁xxfld ▁175 ▁500:1 ▁xxfld ▁28 ▁7411493 278 488 ▁xxfld ▁1465 ▁china ▁rohs , ▁mpr ▁ii ▁xxfld ▁755 ▁3 ▁year ▁xxfld ▁442 ▁1024 ▁x ▁768 ▁xxfld ▁854 ▁14 .20 ▁ms ▁xxfld ▁848 ▁15\" ▁xxfld ▁1105 ▁capacitive,▁xxbos ▁xxfld ▁1103 ▁dell ▁1703 fps ▁\" ▁tft ▁silver ▁bezel ▁+ ▁cables ▁grade ▁b ▁+ ▁(14 41 ) ▁| ▁| ▁| ▁| ▁| ▁| ▁| ▁| ▁| ▁| ▁xxfld ▁1402 ▁item ▁type :\n",
       "▁xxbos ▁xxfld ▁1103 ▁dell ▁1703 fps ▁\" ▁with ▁power ▁cables ▁825633788107 ▁| ▁xxfld ▁1262 ▁dell ▁xxfld ▁175 ▁600 ▁xxfld ▁64 ▁lcd ▁xxfld ▁623 ▁1280 ▁x ▁1024 ▁xxfld ▁335 ▁1703 fps ▁xxfld ▁581 ▁ebay _ dell 1703 fps 17 \" lcd monitor ▁xxfld ▁848 ▁17\" ▁xxfld ▁914 ▁825633788107,▁xxbos ▁xxfld ▁1103 ▁dell ▁1703 fps ▁\" ▁with ▁power ▁cables ▁825633788107 ▁| ▁xxfld ▁1262 ▁dell ▁xxfld ▁175 ▁600 ▁xxfld ▁64 ▁lcd ▁xxfld ▁623 ▁1280 ▁x ▁1024 ▁xxfld ▁335 ▁1703 fps ▁xxfld ▁581 ▁ebay _ dell 1703 fps 17 \" lcd monitor ▁xxfld ▁848 ▁17\" ▁xxfld ▁914 ▁825633788107\n",
       "▁xxbos ▁xxfld ▁1103 ▁dell ▁\" ▁1703 fps ▁\" ▁| ▁| ▁| ▁| ▁| ▁| ▁| ▁| ▁| ▁| ▁xxfld ▁1402 ▁item ▁type :,▁xxbos ▁xxfld ▁1103 ▁elo ▁touch ▁solutions ▁1919 l ▁18 ▁5\" ▁touchscreen ▁9 ▁5 ▁74114 9 31 64 156 ▁| ▁xxfld ▁1485 ▁16:9 ▁xxfld ▁34 ▁elo ▁touch ▁solutions ▁xxfld ▁659 ▁speaker ▁xxfld ▁1402 ▁new : ▁a ▁brand - new , ▁unused , ▁unopened , ▁undamaged ▁item ▁in ▁its ▁original ▁packaging ▁( where ▁packaging ▁is ▁app ▁xxfld ▁1042 ▁12 .60\" ▁xxfld ▁155 ▁elo ▁touch ▁solutions , ▁inc ▁xxfld ▁575 ▁e 7 6010 2 ▁xxfld ▁363 ▁www . elotouch . com ▁xxfld ▁3 ▁the ▁1919 l ▁is ▁a ▁wide - screen ▁display ▁that ▁is ▁eas i er ▁to ▁use ▁and ▁incorpor ate ▁into ▁more ▁environments ▁than ▁xxfld ▁529 ▁< ul >< li > 1919 l ▁touchscreen ▁lcd ▁monitor < ▁/ ▁li >< li > sta ▁xxfld ▁1164 ▁1919 l ▁xxfld ▁564 ▁1919 l ▁touchscreen ▁lcd ▁monitor ▁xxfld ▁1024 ▁lcd ▁touchscreen ▁monitor ▁xxfld ▁609 ▁wxga ▁xxfld ▁566 ▁yes ▁xxfld ▁554 ▁160 â ° ▁xxfld ▁792 ▁10.20 ▁lb\n",
       "▁xxbos ▁xxfld ▁1103 ▁elo ▁1919 l ▁19\" ▁desktop ▁touch ▁screen ▁et 1919 l ▁au wa ▁1 ▁gy ▁g ▁74114 9 31 64 156 ▁| ▁xxfld ▁1485 ▁16:9 ▁xxfld ▁1262 ▁elo ▁xxfld ▁1458 ▁250 ▁cd ▁/ ▁mâ 2 ▁xxfld ▁1402 ▁seller ▁refurbished : ▁an ▁item ▁that ▁has ▁been ▁restored ▁to ▁working ▁order ▁by ▁the ▁ebay ▁seller ▁or ▁a ▁third ▁pa ▁xxfld ▁175 ▁1000:1 ▁xxfld ▁64 ▁lcd ▁xxfld ▁1519 ▁built - in ▁speakers , ▁touchscreen ▁xxfld ▁623 ▁1680 ▁x ▁1050 ▁xxfld ▁335 ▁1919 l ▁xxfld ▁581 ▁et 1919 l - au wa -1- gy - g ▁xxfld ▁854 ▁5 ▁ms ▁xxfld ▁848 ▁19\" ▁xxfld ▁1094 ▁desktop ▁xxfld ▁675 ▁vga ▁d - sub\n",
       "y: CategoryList\n",
       "1,1,1,1,1\n",
       "Path: .;\n",
       "\n",
       "Test: None, model=er_net(\n",
       "  (encoder): MultiBatchEncoder(\n",
       "    (module): AWD_LSTM(\n",
       "      (encoder): Embedding(11592, 400, padding_idx=1)\n",
       "      (encoder_dp): EmbeddingDropout(\n",
       "        (emb): Embedding(11592, 400, padding_idx=1)\n",
       "      )\n",
       "      (rnns): ModuleList(\n",
       "        (0): QRNN(\n",
       "          (layers): ModuleList(\n",
       "            (0): QRNNLayer(\n",
       "              (linear): WeightDropout(\n",
       "                (module): Linear(in_features=800, out_features=4650, bias=True)\n",
       "              )\n",
       "            )\n",
       "          )\n",
       "        )\n",
       "        (1): QRNN(\n",
       "          (layers): ModuleList(\n",
       "            (0): QRNNLayer(\n",
       "              (linear): WeightDropout(\n",
       "                (module): Linear(in_features=1550, out_features=4650, bias=True)\n",
       "              )\n",
       "            )\n",
       "          )\n",
       "        )\n",
       "        (2): QRNN(\n",
       "          (layers): ModuleList(\n",
       "            (0): QRNNLayer(\n",
       "              (linear): WeightDropout(\n",
       "                (module): Linear(in_features=1550, out_features=4650, bias=True)\n",
       "              )\n",
       "            )\n",
       "          )\n",
       "        )\n",
       "        (3): QRNN(\n",
       "          (layers): ModuleList(\n",
       "            (0): QRNNLayer(\n",
       "              (linear): WeightDropout(\n",
       "                (module): Linear(in_features=1550, out_features=1200, bias=True)\n",
       "              )\n",
       "            )\n",
       "          )\n",
       "        )\n",
       "      )\n",
       "      (input_dp): RNNDropout()\n",
       "      (hidden_dps): ModuleList(\n",
       "        (0): RNNDropout()\n",
       "        (1): RNNDropout()\n",
       "        (2): RNNDropout()\n",
       "        (3): RNNDropout()\n",
       "      )\n",
       "    )\n",
       "  )\n",
       "  (distance): SimpleERDistance()\n",
       "  (head): ERHead(\n",
       "    (layers): Sequential(\n",
       "      (0): BatchNorm1d(4800, eps=1e-05, momentum=0.1, affine=True, track_running_stats=True)\n",
       "      (1): Dropout(p=0.4, inplace=False)\n",
       "      (2): Linear(in_features=4800, out_features=100, bias=True)\n",
       "      (3): ReLU(inplace=True)\n",
       "      (4): BatchNorm1d(100, eps=1e-05, momentum=0.1, affine=True, track_running_stats=True)\n",
       "      (5): Dropout(p=0.1, inplace=False)\n",
       "      (6): Linear(in_features=100, out_features=2, bias=True)\n",
       "    )\n",
       "  )\n",
       "), opt_func=functools.partial(<class 'torch.optim.adam.Adam'>, betas=(0.9, 0.99)), loss_func=FlattenedLoss of CrossEntropyLoss(), metrics=[<function accuracy at 0x7fca21efa0d0>], true_wd=True, bn_wd=True, wd=0.01, train_bn=True, path=PosixPath('drive/My Drive/ER'), model_dir='models', callback_fns=[functools.partial(<class 'fastai.basic_train.Recorder'>, add_time=True, silent=False)], callbacks=[...], layer_groups=[Sequential(\n",
       "  (0): Embedding(11592, 400, padding_idx=1)\n",
       "  (1): EmbeddingDropout(\n",
       "    (emb): Embedding(11592, 400, padding_idx=1)\n",
       "  )\n",
       "), Sequential(\n",
       "  (0): QRNN(\n",
       "    (layers): ModuleList(\n",
       "      (0): QRNNLayer(\n",
       "        (linear): WeightDropout(\n",
       "          (module): Linear(in_features=800, out_features=4650, bias=True)\n",
       "        )\n",
       "      )\n",
       "    )\n",
       "  )\n",
       "  (1): RNNDropout()\n",
       "), Sequential(\n",
       "  (0): QRNN(\n",
       "    (layers): ModuleList(\n",
       "      (0): QRNNLayer(\n",
       "        (linear): WeightDropout(\n",
       "          (module): Linear(in_features=1550, out_features=4650, bias=True)\n",
       "        )\n",
       "      )\n",
       "    )\n",
       "  )\n",
       "  (1): RNNDropout()\n",
       "), Sequential(\n",
       "  (0): QRNN(\n",
       "    (layers): ModuleList(\n",
       "      (0): QRNNLayer(\n",
       "        (linear): WeightDropout(\n",
       "          (module): Linear(in_features=1550, out_features=4650, bias=True)\n",
       "        )\n",
       "      )\n",
       "    )\n",
       "  )\n",
       "  (1): RNNDropout()\n",
       "), Sequential(\n",
       "  (0): QRNN(\n",
       "    (layers): ModuleList(\n",
       "      (0): QRNNLayer(\n",
       "        (linear): WeightDropout(\n",
       "          (module): Linear(in_features=1550, out_features=1200, bias=True)\n",
       "        )\n",
       "      )\n",
       "    )\n",
       "  )\n",
       "  (1): RNNDropout()\n",
       "), Sequential(\n",
       "  (0): ERHead(\n",
       "    (layers): Sequential(\n",
       "      (0): BatchNorm1d(4800, eps=1e-05, momentum=0.1, affine=True, track_running_stats=True)\n",
       "      (1): Dropout(p=0.4, inplace=False)\n",
       "      (2): Linear(in_features=4800, out_features=100, bias=True)\n",
       "      (3): ReLU(inplace=True)\n",
       "      (4): BatchNorm1d(100, eps=1e-05, momentum=0.1, affine=True, track_running_stats=True)\n",
       "      (5): Dropout(p=0.1, inplace=False)\n",
       "      (6): Linear(in_features=100, out_features=2, bias=True)\n",
       "    )\n",
       "  )\n",
       ")], add_time=True, silent=False)\n",
       "loss_scale: 32768.0\n",
       "max_noskip: 1000\n",
       "dynamic: True\n",
       "clip: None\n",
       "flat_master: False\n",
       "max_scale: 16777216\n",
       "loss_fp32: True], layer_groups=[Sequential(\n",
       "  (0): Embedding(11592, 400, padding_idx=1)\n",
       "  (1): EmbeddingDropout(\n",
       "    (emb): Embedding(11592, 400, padding_idx=1)\n",
       "  )\n",
       "), Sequential(\n",
       "  (0): QRNN(\n",
       "    (layers): ModuleList(\n",
       "      (0): QRNNLayer(\n",
       "        (linear): WeightDropout(\n",
       "          (module): Linear(in_features=800, out_features=4650, bias=True)\n",
       "        )\n",
       "      )\n",
       "    )\n",
       "  )\n",
       "  (1): RNNDropout()\n",
       "), Sequential(\n",
       "  (0): QRNN(\n",
       "    (layers): ModuleList(\n",
       "      (0): QRNNLayer(\n",
       "        (linear): WeightDropout(\n",
       "          (module): Linear(in_features=1550, out_features=4650, bias=True)\n",
       "        )\n",
       "      )\n",
       "    )\n",
       "  )\n",
       "  (1): RNNDropout()\n",
       "), Sequential(\n",
       "  (0): QRNN(\n",
       "    (layers): ModuleList(\n",
       "      (0): QRNNLayer(\n",
       "        (linear): WeightDropout(\n",
       "          (module): Linear(in_features=1550, out_features=4650, bias=True)\n",
       "        )\n",
       "      )\n",
       "    )\n",
       "  )\n",
       "  (1): RNNDropout()\n",
       "), Sequential(\n",
       "  (0): QRNN(\n",
       "    (layers): ModuleList(\n",
       "      (0): QRNNLayer(\n",
       "        (linear): WeightDropout(\n",
       "          (module): Linear(in_features=1550, out_features=1200, bias=True)\n",
       "        )\n",
       "      )\n",
       "    )\n",
       "  )\n",
       "  (1): RNNDropout()\n",
       "), Sequential(\n",
       "  (0): ERHead(\n",
       "    (layers): Sequential(\n",
       "      (0): BatchNorm1d(4800, eps=1e-05, momentum=0.1, affine=True, track_running_stats=True)\n",
       "      (1): Dropout(p=0.4, inplace=False)\n",
       "      (2): Linear(in_features=4800, out_features=100, bias=True)\n",
       "      (3): ReLU(inplace=True)\n",
       "      (4): BatchNorm1d(100, eps=1e-05, momentum=0.1, affine=True, track_running_stats=True)\n",
       "      (5): Dropout(p=0.1, inplace=False)\n",
       "      (6): Linear(in_features=100, out_features=2, bias=True)\n",
       "    )\n",
       "  )\n",
       ")], add_time=True, silent=False)"
      ]
     },
     "execution_count": 245,
     "metadata": {
      "tags": []
     },
     "output_type": "execute_result"
    }
   ],
   "source": [
    "learn.load(\"class1\")"
   ]
  },
  {
   "cell_type": "code",
   "execution_count": null,
   "metadata": {
    "id": "lGbDaXBAenQk"
   },
   "outputs": [],
   "source": [
    "#unfreeze to make the encoder wheights updatable too\n",
    "learn.unfreeze()"
   ]
  },
  {
   "cell_type": "code",
   "execution_count": null,
   "metadata": {
    "colab": {
     "base_uri": "https://localhost:8080/",
     "height": 143
    },
    "id": "IoQvqJC64wbH",
    "outputId": "3ca9b36c-d7b5-41d3-dbcd-ade09aa695b3"
   },
   "outputs": [
    {
     "data": {
      "text/html": [
       "<table border=\"1\" class=\"dataframe\">\n",
       "  <thead>\n",
       "    <tr style=\"text-align: left;\">\n",
       "      <th>epoch</th>\n",
       "      <th>train_loss</th>\n",
       "      <th>valid_loss</th>\n",
       "      <th>accuracy</th>\n",
       "      <th>time</th>\n",
       "    </tr>\n",
       "  </thead>\n",
       "  <tbody>\n",
       "    <tr>\n",
       "      <td>0</td>\n",
       "      <td>0.061912</td>\n",
       "      <td>0.048319</td>\n",
       "      <td>0.990644</td>\n",
       "      <td>07:30</td>\n",
       "    </tr>\n",
       "    <tr>\n",
       "      <td>1</td>\n",
       "      <td>0.051838</td>\n",
       "      <td>0.045834</td>\n",
       "      <td>0.990644</td>\n",
       "      <td>07:31</td>\n",
       "    </tr>\n",
       "    <tr>\n",
       "      <td>2</td>\n",
       "      <td>0.054422</td>\n",
       "      <td>0.045877</td>\n",
       "      <td>0.990644</td>\n",
       "      <td>07:33</td>\n",
       "    </tr>\n",
       "  </tbody>\n",
       "</table>"
      ],
      "text/plain": [
       "<IPython.core.display.HTML object>"
      ]
     },
     "metadata": {
      "tags": []
     },
     "output_type": "display_data"
    }
   ],
   "source": [
    "learn.fit_one_cycle(3, slice(1e-4, 1e-3))"
   ]
  },
  {
   "cell_type": "code",
   "execution_count": null,
   "metadata": {
    "id": "zfhihO4wgP-k"
   },
   "outputs": [],
   "source": [
    "learn.save(\"class3\")"
   ]
  },
  {
   "cell_type": "code",
   "execution_count": null,
   "metadata": {
    "colab": {
     "base_uri": "https://localhost:8080/",
     "height": 351
    },
    "id": "kTsT1IAvQpSI",
    "outputId": "4b3fbdd6-55c6-44cc-8da7-2fcc0c0b6794"
   },
   "outputs": [
    {
     "data": {
      "text/html": [
       "\n",
       "    <div>\n",
       "        <style>\n",
       "            /* Turns off some styling */\n",
       "            progress {\n",
       "                /* gets rid of default border in Firefox and Opera. */\n",
       "                border: none;\n",
       "                /* Needs to be in here for Safari polyfill so background images work as expected. */\n",
       "                background-size: auto;\n",
       "            }\n",
       "            .progress-bar-interrupted, .progress-bar-interrupted::-webkit-progress-bar {\n",
       "                background: #F44336;\n",
       "            }\n",
       "        </style>\n",
       "      <progress value='18' class='' max='87' style='width:300px; height:20px; vertical-align: middle;'></progress>\n",
       "      20.69% [18/87 00:25<01:39]\n",
       "    </div>\n",
       "    "
      ],
      "text/plain": [
       "<IPython.core.display.HTML object>"
      ]
     },
     "metadata": {
      "tags": []
     },
     "output_type": "display_data"
    },
    {
     "ename": "KeyboardInterrupt",
     "evalue": "ignored",
     "output_type": "error",
     "traceback": [
      "\u001b[0;31m---------------------------------------------------------------------------\u001b[0m",
      "\u001b[0;31mKeyboardInterrupt\u001b[0m                         Traceback (most recent call last)",
      "\u001b[0;32m<ipython-input-186-d7f5728aff06>\u001b[0m in \u001b[0;36m<module>\u001b[0;34m()\u001b[0m\n\u001b[1;32m      1\u001b[0m \u001b[0;31m#get preds will returns the output and real value for the validation set.\u001b[0m\u001b[0;34m\u001b[0m\u001b[0;34m\u001b[0m\u001b[0;34m\u001b[0m\u001b[0m\n\u001b[0;32m----> 2\u001b[0;31m \u001b[0mout\u001b[0m \u001b[0;34m=\u001b[0m \u001b[0mlearn\u001b[0m\u001b[0;34m.\u001b[0m\u001b[0mget_preds\u001b[0m\u001b[0;34m(\u001b[0m\u001b[0;34m)\u001b[0m\u001b[0;34m\u001b[0m\u001b[0;34m\u001b[0m\u001b[0m\n\u001b[0m",
      "\u001b[0;32m<ipython-input-171-e17066bcb001>\u001b[0m in \u001b[0;36mget_preds\u001b[0;34m(self, ds_type, activ, with_loss, n_batch, pbar, ordered)\u001b[0m\n\u001b[1;32m     45\u001b[0m         \u001b[0mself\u001b[0m\u001b[0;34m.\u001b[0m\u001b[0mmodel\u001b[0m\u001b[0;34m.\u001b[0m\u001b[0mreset\u001b[0m\u001b[0;34m(\u001b[0m\u001b[0;34m)\u001b[0m\u001b[0;34m\u001b[0m\u001b[0;34m\u001b[0m\u001b[0m\n\u001b[1;32m     46\u001b[0m         \u001b[0;32mif\u001b[0m \u001b[0mordered\u001b[0m\u001b[0;34m:\u001b[0m \u001b[0mnp\u001b[0m\u001b[0;34m.\u001b[0m\u001b[0mrandom\u001b[0m\u001b[0;34m.\u001b[0m\u001b[0mseed\u001b[0m\u001b[0;34m(\u001b[0m\u001b[0;36m42\u001b[0m\u001b[0;34m)\u001b[0m\u001b[0;34m\u001b[0m\u001b[0;34m\u001b[0m\u001b[0m\n\u001b[0;32m---> 47\u001b[0;31m         \u001b[0mpreds\u001b[0m \u001b[0;34m=\u001b[0m \u001b[0msuper\u001b[0m\u001b[0;34m(\u001b[0m\u001b[0;34m)\u001b[0m\u001b[0;34m.\u001b[0m\u001b[0mget_preds\u001b[0m\u001b[0;34m(\u001b[0m\u001b[0mds_type\u001b[0m\u001b[0;34m=\u001b[0m\u001b[0mds_type\u001b[0m\u001b[0;34m,\u001b[0m \u001b[0mactiv\u001b[0m\u001b[0;34m=\u001b[0m\u001b[0mactiv\u001b[0m\u001b[0;34m,\u001b[0m \u001b[0mwith_loss\u001b[0m\u001b[0;34m=\u001b[0m\u001b[0mwith_loss\u001b[0m\u001b[0;34m,\u001b[0m \u001b[0mn_batch\u001b[0m\u001b[0;34m=\u001b[0m\u001b[0mn_batch\u001b[0m\u001b[0;34m,\u001b[0m \u001b[0mpbar\u001b[0m\u001b[0;34m=\u001b[0m\u001b[0mpbar\u001b[0m\u001b[0;34m)\u001b[0m\u001b[0;34m\u001b[0m\u001b[0;34m\u001b[0m\u001b[0m\n\u001b[0m\u001b[1;32m     48\u001b[0m         \u001b[0;32mif\u001b[0m \u001b[0mordered\u001b[0m \u001b[0;32mand\u001b[0m \u001b[0mhasattr\u001b[0m\u001b[0;34m(\u001b[0m\u001b[0mself\u001b[0m\u001b[0;34m.\u001b[0m\u001b[0mdl\u001b[0m\u001b[0;34m(\u001b[0m\u001b[0mds_type\u001b[0m\u001b[0;34m)\u001b[0m\u001b[0;34m,\u001b[0m \u001b[0;34m'sampler'\u001b[0m\u001b[0;34m)\u001b[0m\u001b[0;34m:\u001b[0m\u001b[0;34m\u001b[0m\u001b[0;34m\u001b[0m\u001b[0m\n\u001b[1;32m     49\u001b[0m             \u001b[0mnp\u001b[0m\u001b[0;34m.\u001b[0m\u001b[0mrandom\u001b[0m\u001b[0;34m.\u001b[0m\u001b[0mseed\u001b[0m\u001b[0;34m(\u001b[0m\u001b[0;36m42\u001b[0m\u001b[0;34m)\u001b[0m\u001b[0;34m\u001b[0m\u001b[0;34m\u001b[0m\u001b[0m\n",
      "\u001b[0;32m/usr/local/lib/python3.6/dist-packages/fastai/basic_train.py\u001b[0m in \u001b[0;36mget_preds\u001b[0;34m(self, ds_type, activ, with_loss, n_batch, pbar)\u001b[0m\n\u001b[1;32m    339\u001b[0m         \u001b[0mcallbacks\u001b[0m \u001b[0;34m=\u001b[0m \u001b[0;34m[\u001b[0m\u001b[0mcb\u001b[0m\u001b[0;34m(\u001b[0m\u001b[0mself\u001b[0m\u001b[0;34m)\u001b[0m \u001b[0;32mfor\u001b[0m \u001b[0mcb\u001b[0m \u001b[0;32min\u001b[0m \u001b[0mself\u001b[0m\u001b[0;34m.\u001b[0m\u001b[0mcallback_fns\u001b[0m \u001b[0;34m+\u001b[0m \u001b[0mlistify\u001b[0m\u001b[0;34m(\u001b[0m\u001b[0mdefaults\u001b[0m\u001b[0;34m.\u001b[0m\u001b[0mextra_callback_fns\u001b[0m\u001b[0;34m)\u001b[0m\u001b[0;34m]\u001b[0m \u001b[0;34m+\u001b[0m \u001b[0mlistify\u001b[0m\u001b[0;34m(\u001b[0m\u001b[0mself\u001b[0m\u001b[0;34m.\u001b[0m\u001b[0mcallbacks\u001b[0m\u001b[0;34m)\u001b[0m\u001b[0;34m\u001b[0m\u001b[0;34m\u001b[0m\u001b[0m\n\u001b[1;32m    340\u001b[0m         return get_preds(self.model, self.dl(ds_type), cb_handler=CallbackHandler(callbacks),\n\u001b[0;32m--> 341\u001b[0;31m                          activ=activ, loss_func=lf, n_batch=n_batch, pbar=pbar)\n\u001b[0m\u001b[1;32m    342\u001b[0m \u001b[0;34m\u001b[0m\u001b[0m\n\u001b[1;32m    343\u001b[0m     def pred_batch(self, ds_type:DatasetType=DatasetType.Valid, batch:Tuple=None, reconstruct:bool=False,\n",
      "\u001b[0;32m/usr/local/lib/python3.6/dist-packages/fastai/basic_train.py\u001b[0m in \u001b[0;36mget_preds\u001b[0;34m(model, dl, pbar, cb_handler, activ, loss_func, n_batch)\u001b[0m\n\u001b[1;32m     42\u001b[0m     \u001b[0;34m\"Tuple of predictions and targets, and optional losses (if `loss_func`) using `dl`, max batches `n_batch`.\"\u001b[0m\u001b[0;34m\u001b[0m\u001b[0;34m\u001b[0m\u001b[0m\n\u001b[1;32m     43\u001b[0m     res = [to_float(torch.cat(o).cpu()) for o in\n\u001b[0;32m---> 44\u001b[0;31m            zip(*validate(model, dl, cb_handler=cb_handler, pbar=pbar, average=False, n_batch=n_batch))]\n\u001b[0m\u001b[1;32m     45\u001b[0m     \u001b[0;32mif\u001b[0m \u001b[0mloss_func\u001b[0m \u001b[0;32mis\u001b[0m \u001b[0;32mnot\u001b[0m \u001b[0;32mNone\u001b[0m\u001b[0;34m:\u001b[0m\u001b[0;34m\u001b[0m\u001b[0;34m\u001b[0m\u001b[0m\n\u001b[1;32m     46\u001b[0m         \u001b[0;32mwith\u001b[0m \u001b[0mNoneReduceOnCPU\u001b[0m\u001b[0;34m(\u001b[0m\u001b[0mloss_func\u001b[0m\u001b[0;34m)\u001b[0m \u001b[0;32mas\u001b[0m \u001b[0mlf\u001b[0m\u001b[0;34m:\u001b[0m \u001b[0mres\u001b[0m\u001b[0;34m.\u001b[0m\u001b[0mappend\u001b[0m\u001b[0;34m(\u001b[0m\u001b[0mlf\u001b[0m\u001b[0;34m(\u001b[0m\u001b[0mres\u001b[0m\u001b[0;34m[\u001b[0m\u001b[0;36m0\u001b[0m\u001b[0;34m]\u001b[0m\u001b[0;34m,\u001b[0m \u001b[0mres\u001b[0m\u001b[0;34m[\u001b[0m\u001b[0;36m1\u001b[0m\u001b[0;34m]\u001b[0m\u001b[0;34m)\u001b[0m\u001b[0;34m)\u001b[0m\u001b[0;34m\u001b[0m\u001b[0;34m\u001b[0m\u001b[0m\n",
      "\u001b[0;32m/usr/local/lib/python3.6/dist-packages/fastai/basic_train.py\u001b[0m in \u001b[0;36mvalidate\u001b[0;34m(model, dl, loss_func, cb_handler, pbar, average, n_batch)\u001b[0m\n\u001b[1;32m     57\u001b[0m         \u001b[0;32mfor\u001b[0m \u001b[0mxb\u001b[0m\u001b[0;34m,\u001b[0m\u001b[0myb\u001b[0m \u001b[0;32min\u001b[0m \u001b[0mprogress_bar\u001b[0m\u001b[0;34m(\u001b[0m\u001b[0mdl\u001b[0m\u001b[0;34m,\u001b[0m \u001b[0mparent\u001b[0m\u001b[0;34m=\u001b[0m\u001b[0mpbar\u001b[0m\u001b[0;34m,\u001b[0m \u001b[0mleave\u001b[0m\u001b[0;34m=\u001b[0m\u001b[0;34m(\u001b[0m\u001b[0mpbar\u001b[0m \u001b[0;32mis\u001b[0m \u001b[0;32mnot\u001b[0m \u001b[0;32mNone\u001b[0m\u001b[0;34m)\u001b[0m\u001b[0;34m)\u001b[0m\u001b[0;34m:\u001b[0m\u001b[0;34m\u001b[0m\u001b[0;34m\u001b[0m\u001b[0m\n\u001b[1;32m     58\u001b[0m             \u001b[0;32mif\u001b[0m \u001b[0mcb_handler\u001b[0m\u001b[0;34m:\u001b[0m \u001b[0mxb\u001b[0m\u001b[0;34m,\u001b[0m \u001b[0myb\u001b[0m \u001b[0;34m=\u001b[0m \u001b[0mcb_handler\u001b[0m\u001b[0;34m.\u001b[0m\u001b[0mon_batch_begin\u001b[0m\u001b[0;34m(\u001b[0m\u001b[0mxb\u001b[0m\u001b[0;34m,\u001b[0m \u001b[0myb\u001b[0m\u001b[0;34m,\u001b[0m \u001b[0mtrain\u001b[0m\u001b[0;34m=\u001b[0m\u001b[0;32mFalse\u001b[0m\u001b[0;34m)\u001b[0m\u001b[0;34m\u001b[0m\u001b[0;34m\u001b[0m\u001b[0m\n\u001b[0;32m---> 59\u001b[0;31m             \u001b[0mval_loss\u001b[0m \u001b[0;34m=\u001b[0m \u001b[0mloss_batch\u001b[0m\u001b[0;34m(\u001b[0m\u001b[0mmodel\u001b[0m\u001b[0;34m,\u001b[0m \u001b[0mxb\u001b[0m\u001b[0;34m,\u001b[0m \u001b[0myb\u001b[0m\u001b[0;34m,\u001b[0m \u001b[0mloss_func\u001b[0m\u001b[0;34m,\u001b[0m \u001b[0mcb_handler\u001b[0m\u001b[0;34m=\u001b[0m\u001b[0mcb_handler\u001b[0m\u001b[0;34m)\u001b[0m\u001b[0;34m\u001b[0m\u001b[0;34m\u001b[0m\u001b[0m\n\u001b[0m\u001b[1;32m     60\u001b[0m             \u001b[0mval_losses\u001b[0m\u001b[0;34m.\u001b[0m\u001b[0mappend\u001b[0m\u001b[0;34m(\u001b[0m\u001b[0mval_loss\u001b[0m\u001b[0;34m)\u001b[0m\u001b[0;34m\u001b[0m\u001b[0;34m\u001b[0m\u001b[0m\n\u001b[1;32m     61\u001b[0m             \u001b[0;32mif\u001b[0m \u001b[0;32mnot\u001b[0m \u001b[0mis_listy\u001b[0m\u001b[0;34m(\u001b[0m\u001b[0myb\u001b[0m\u001b[0;34m)\u001b[0m\u001b[0;34m:\u001b[0m \u001b[0myb\u001b[0m \u001b[0;34m=\u001b[0m \u001b[0;34m[\u001b[0m\u001b[0myb\u001b[0m\u001b[0;34m]\u001b[0m\u001b[0;34m\u001b[0m\u001b[0;34m\u001b[0m\u001b[0m\n",
      "\u001b[0;32m/usr/local/lib/python3.6/dist-packages/fastai/basic_train.py\u001b[0m in \u001b[0;36mloss_batch\u001b[0;34m(model, xb, yb, loss_func, opt, cb_handler)\u001b[0m\n\u001b[1;32m     27\u001b[0m     \u001b[0mout\u001b[0m \u001b[0;34m=\u001b[0m \u001b[0mcb_handler\u001b[0m\u001b[0;34m.\u001b[0m\u001b[0mon_loss_begin\u001b[0m\u001b[0;34m(\u001b[0m\u001b[0mout\u001b[0m\u001b[0;34m)\u001b[0m\u001b[0;34m\u001b[0m\u001b[0;34m\u001b[0m\u001b[0m\n\u001b[1;32m     28\u001b[0m \u001b[0;34m\u001b[0m\u001b[0m\n\u001b[0;32m---> 29\u001b[0;31m     \u001b[0;32mif\u001b[0m \u001b[0;32mnot\u001b[0m \u001b[0mloss_func\u001b[0m\u001b[0;34m:\u001b[0m \u001b[0;32mreturn\u001b[0m \u001b[0mto_detach\u001b[0m\u001b[0;34m(\u001b[0m\u001b[0mout\u001b[0m\u001b[0;34m)\u001b[0m\u001b[0;34m,\u001b[0m \u001b[0mto_detach\u001b[0m\u001b[0;34m(\u001b[0m\u001b[0myb\u001b[0m\u001b[0;34m[\u001b[0m\u001b[0;36m0\u001b[0m\u001b[0;34m]\u001b[0m\u001b[0;34m)\u001b[0m\u001b[0;34m\u001b[0m\u001b[0;34m\u001b[0m\u001b[0m\n\u001b[0m\u001b[1;32m     30\u001b[0m     \u001b[0mloss\u001b[0m \u001b[0;34m=\u001b[0m \u001b[0mloss_func\u001b[0m\u001b[0;34m(\u001b[0m\u001b[0mout\u001b[0m\u001b[0;34m,\u001b[0m \u001b[0;34m*\u001b[0m\u001b[0myb\u001b[0m\u001b[0;34m)\u001b[0m\u001b[0;34m\u001b[0m\u001b[0;34m\u001b[0m\u001b[0m\n\u001b[1;32m     31\u001b[0m \u001b[0;34m\u001b[0m\u001b[0m\n",
      "\u001b[0;32m/usr/local/lib/python3.6/dist-packages/fastai/torch_core.py\u001b[0m in \u001b[0;36mto_detach\u001b[0;34m(b, cpu)\u001b[0m\n\u001b[1;32m    100\u001b[0m         \u001b[0mx\u001b[0m \u001b[0;34m=\u001b[0m \u001b[0mx\u001b[0m\u001b[0;34m.\u001b[0m\u001b[0mdetach\u001b[0m\u001b[0;34m(\u001b[0m\u001b[0;34m)\u001b[0m\u001b[0;34m\u001b[0m\u001b[0;34m\u001b[0m\u001b[0m\n\u001b[1;32m    101\u001b[0m         \u001b[0;32mreturn\u001b[0m \u001b[0mx\u001b[0m\u001b[0;34m.\u001b[0m\u001b[0mcpu\u001b[0m\u001b[0;34m(\u001b[0m\u001b[0;34m)\u001b[0m \u001b[0;32mif\u001b[0m \u001b[0mcpu\u001b[0m \u001b[0;32melse\u001b[0m \u001b[0mx\u001b[0m\u001b[0;34m\u001b[0m\u001b[0;34m\u001b[0m\u001b[0m\n\u001b[0;32m--> 102\u001b[0;31m     \u001b[0;32mreturn\u001b[0m \u001b[0mrecurse\u001b[0m\u001b[0;34m(\u001b[0m\u001b[0m_inner\u001b[0m\u001b[0;34m,\u001b[0m \u001b[0mb\u001b[0m\u001b[0;34m,\u001b[0m \u001b[0mcpu\u001b[0m\u001b[0;34m=\u001b[0m\u001b[0mcpu\u001b[0m\u001b[0;34m)\u001b[0m\u001b[0;34m\u001b[0m\u001b[0;34m\u001b[0m\u001b[0m\n\u001b[0m\u001b[1;32m    103\u001b[0m \u001b[0;34m\u001b[0m\u001b[0m\n\u001b[1;32m    104\u001b[0m \u001b[0;32mdef\u001b[0m \u001b[0mto_data\u001b[0m\u001b[0;34m(\u001b[0m\u001b[0mb\u001b[0m\u001b[0;34m:\u001b[0m\u001b[0mItemsList\u001b[0m\u001b[0;34m)\u001b[0m\u001b[0;34m:\u001b[0m\u001b[0;34m\u001b[0m\u001b[0;34m\u001b[0m\u001b[0m\n",
      "\u001b[0;32m/usr/local/lib/python3.6/dist-packages/fastai/core.py\u001b[0m in \u001b[0;36mrecurse\u001b[0;34m(func, x, *args, **kwargs)\u001b[0m\n\u001b[1;32m     78\u001b[0m     \u001b[0;32mif\u001b[0m \u001b[0mis_listy\u001b[0m\u001b[0;34m(\u001b[0m\u001b[0mx\u001b[0m\u001b[0;34m)\u001b[0m\u001b[0;34m:\u001b[0m \u001b[0;32mreturn\u001b[0m \u001b[0;34m[\u001b[0m\u001b[0mrecurse\u001b[0m\u001b[0;34m(\u001b[0m\u001b[0mfunc\u001b[0m\u001b[0;34m,\u001b[0m \u001b[0mo\u001b[0m\u001b[0;34m,\u001b[0m \u001b[0;34m*\u001b[0m\u001b[0margs\u001b[0m\u001b[0;34m,\u001b[0m \u001b[0;34m**\u001b[0m\u001b[0mkwargs\u001b[0m\u001b[0;34m)\u001b[0m \u001b[0;32mfor\u001b[0m \u001b[0mo\u001b[0m \u001b[0;32min\u001b[0m \u001b[0mx\u001b[0m\u001b[0;34m]\u001b[0m\u001b[0;34m\u001b[0m\u001b[0;34m\u001b[0m\u001b[0m\n\u001b[1;32m     79\u001b[0m     \u001b[0;32mif\u001b[0m \u001b[0mis_dict\u001b[0m\u001b[0;34m(\u001b[0m\u001b[0mx\u001b[0m\u001b[0;34m)\u001b[0m\u001b[0;34m:\u001b[0m  \u001b[0;32mreturn\u001b[0m \u001b[0;34m{\u001b[0m\u001b[0mk\u001b[0m\u001b[0;34m:\u001b[0m \u001b[0mrecurse\u001b[0m\u001b[0;34m(\u001b[0m\u001b[0mfunc\u001b[0m\u001b[0;34m,\u001b[0m \u001b[0mv\u001b[0m\u001b[0;34m,\u001b[0m \u001b[0;34m*\u001b[0m\u001b[0margs\u001b[0m\u001b[0;34m,\u001b[0m \u001b[0;34m**\u001b[0m\u001b[0mkwargs\u001b[0m\u001b[0;34m)\u001b[0m \u001b[0;32mfor\u001b[0m \u001b[0mk\u001b[0m\u001b[0;34m,\u001b[0m\u001b[0mv\u001b[0m \u001b[0;32min\u001b[0m \u001b[0mx\u001b[0m\u001b[0;34m.\u001b[0m\u001b[0mitems\u001b[0m\u001b[0;34m(\u001b[0m\u001b[0;34m)\u001b[0m\u001b[0;34m}\u001b[0m\u001b[0;34m\u001b[0m\u001b[0;34m\u001b[0m\u001b[0m\n\u001b[0;32m---> 80\u001b[0;31m     \u001b[0;32mreturn\u001b[0m \u001b[0mfunc\u001b[0m\u001b[0;34m(\u001b[0m\u001b[0mx\u001b[0m\u001b[0;34m,\u001b[0m \u001b[0;34m*\u001b[0m\u001b[0margs\u001b[0m\u001b[0;34m,\u001b[0m \u001b[0;34m**\u001b[0m\u001b[0mkwargs\u001b[0m\u001b[0;34m)\u001b[0m\u001b[0;34m\u001b[0m\u001b[0;34m\u001b[0m\u001b[0m\n\u001b[0m\u001b[1;32m     81\u001b[0m \u001b[0;34m\u001b[0m\u001b[0m\n\u001b[1;32m     82\u001b[0m \u001b[0;32mdef\u001b[0m \u001b[0mfirst_el\u001b[0m\u001b[0;34m(\u001b[0m\u001b[0mx\u001b[0m\u001b[0;34m:\u001b[0m \u001b[0mAny\u001b[0m\u001b[0;34m)\u001b[0m\u001b[0;34m->\u001b[0m\u001b[0mAny\u001b[0m\u001b[0;34m:\u001b[0m\u001b[0;34m\u001b[0m\u001b[0;34m\u001b[0m\u001b[0m\n",
      "\u001b[0;32m/usr/local/lib/python3.6/dist-packages/fastai/torch_core.py\u001b[0m in \u001b[0;36m_inner\u001b[0;34m(x, cpu)\u001b[0m\n\u001b[1;32m     99\u001b[0m         \u001b[0;32mif\u001b[0m \u001b[0;32mnot\u001b[0m \u001b[0misinstance\u001b[0m\u001b[0;34m(\u001b[0m\u001b[0mx\u001b[0m\u001b[0;34m,\u001b[0m\u001b[0mTensor\u001b[0m\u001b[0;34m)\u001b[0m\u001b[0;34m:\u001b[0m \u001b[0;32mreturn\u001b[0m \u001b[0mx\u001b[0m\u001b[0;34m\u001b[0m\u001b[0;34m\u001b[0m\u001b[0m\n\u001b[1;32m    100\u001b[0m         \u001b[0mx\u001b[0m \u001b[0;34m=\u001b[0m \u001b[0mx\u001b[0m\u001b[0;34m.\u001b[0m\u001b[0mdetach\u001b[0m\u001b[0;34m(\u001b[0m\u001b[0;34m)\u001b[0m\u001b[0;34m\u001b[0m\u001b[0;34m\u001b[0m\u001b[0m\n\u001b[0;32m--> 101\u001b[0;31m         \u001b[0;32mreturn\u001b[0m \u001b[0mx\u001b[0m\u001b[0;34m.\u001b[0m\u001b[0mcpu\u001b[0m\u001b[0;34m(\u001b[0m\u001b[0;34m)\u001b[0m \u001b[0;32mif\u001b[0m \u001b[0mcpu\u001b[0m \u001b[0;32melse\u001b[0m \u001b[0mx\u001b[0m\u001b[0;34m\u001b[0m\u001b[0;34m\u001b[0m\u001b[0m\n\u001b[0m\u001b[1;32m    102\u001b[0m     \u001b[0;32mreturn\u001b[0m \u001b[0mrecurse\u001b[0m\u001b[0;34m(\u001b[0m\u001b[0m_inner\u001b[0m\u001b[0;34m,\u001b[0m \u001b[0mb\u001b[0m\u001b[0;34m,\u001b[0m \u001b[0mcpu\u001b[0m\u001b[0;34m=\u001b[0m\u001b[0mcpu\u001b[0m\u001b[0;34m)\u001b[0m\u001b[0;34m\u001b[0m\u001b[0;34m\u001b[0m\u001b[0m\n\u001b[1;32m    103\u001b[0m \u001b[0;34m\u001b[0m\u001b[0m\n",
      "\u001b[0;31mKeyboardInterrupt\u001b[0m: "
     ]
    }
   ],
   "source": [
    "#get preds will returns the output and real value for the validation set. \n",
    "out = learn.get_preds()"
   ]
  },
  {
   "cell_type": "code",
   "execution_count": null,
   "metadata": {
    "colab": {
     "base_uri": "https://localhost:8080/",
     "height": 146
    },
    "id": "onzWWKrxjkpS",
    "outputId": "16802d42-bd65-4da0-824c-803d626e7ab7"
   },
   "outputs": [
    {
     "data": {
      "text/plain": [
       "[tensor([[0.9731, 0.0269],\n",
       "         [0.9731, 0.0269],\n",
       "         [0.8950, 0.1050],\n",
       "         ...,\n",
       "         [0.9761, 0.0239],\n",
       "         [0.9757, 0.0243],\n",
       "         [0.9934, 0.0066]]), tensor([1, 1, 1,  ..., 0, 0, 0])]"
      ]
     },
     "execution_count": 331,
     "metadata": {
      "tags": []
     },
     "output_type": "execute_result"
    }
   ],
   "source": [
    "out"
   ]
  },
  {
   "cell_type": "code",
   "execution_count": null,
   "metadata": {
    "id": "R-ZUyjGRqErr"
   },
   "outputs": [],
   "source": [
    "import pickle"
   ]
  },
  {
   "cell_type": "code",
   "execution_count": null,
   "metadata": {
    "colab": {
     "base_uri": "https://localhost:8080/",
     "height": 54
    },
    "id": "5liloi8G8qtP",
    "outputId": "9bfca3dd-fd70-43d5-ec80-41cb996e35fd"
   },
   "outputs": [
    {
     "name": "stderr",
     "output_type": "stream",
     "text": [
      "/usr/local/lib/python3.6/dist-packages/torch/storage.py:34: FutureWarning: pickle support for Storage will be removed in 1.5. Use `torch.save` instead\n",
      "  warnings.warn(\"pickle support for Storage will be removed in 1.5. Use `torch.save` instead\", FutureWarning)\n"
     ]
    }
   ],
   "source": [
    "pickle.dump(out, open(work/\"out.pkl\", 'wb'))"
   ]
  },
  {
   "cell_type": "markdown",
   "metadata": {
    "id": "NCv73tgqmNP0"
   },
   "source": [
    "# checking the score"
   ]
  },
  {
   "cell_type": "code",
   "execution_count": null,
   "metadata": {
    "id": "We-nwpqwp-CC"
   },
   "outputs": [],
   "source": [
    "#load the output from the validatiooutn set\n",
    "out = pickle.load(open(work/\"out.pkl\",'rb'))"
   ]
  },
  {
   "cell_type": "code",
   "execution_count": null,
   "metadata": {
    "id": "JwzMFFebQvbj"
   },
   "outputs": [],
   "source": [
    "from sklearn.metrics import roc_curve,plot_roc_curve,auc, f1_score"
   ]
  },
  {
   "cell_type": "code",
   "execution_count": null,
   "metadata": {
    "id": "x6l8LpYrQ8rf"
   },
   "outputs": [],
   "source": [
    "#get the true label\n",
    "#and the score for the class 1. \n",
    "y_true = out[1]\n",
    "scores = out[0][:,1]"
   ]
  },
  {
   "cell_type": "code",
   "execution_count": null,
   "metadata": {
    "id": "sKtFrrz4RQCS"
   },
   "outputs": [],
   "source": [
    "#get some info on false/true postive rate.\n",
    "fpr, tpr, thresholds = roc_curve(y_true, scores,)"
   ]
  },
  {
   "cell_type": "code",
   "execution_count": null,
   "metadata": {
    "id": "JW3bEr0JRdaI"
   },
   "outputs": [],
   "source": [
    "import matplotlib.pyplot as plt"
   ]
  },
  {
   "cell_type": "code",
   "execution_count": null,
   "metadata": {
    "colab": {
     "base_uri": "https://localhost:8080/",
     "height": 295
    },
    "id": "nPgdktnvRlvg",
    "outputId": "8e68bdf3-71de-4c0c-92b2-385f7174673c"
   },
   "outputs": [
    {
     "data": {
      "image/png": "[encoded data removed]",
      "text/plain": [
       "<Figure size 432x288 with 1 Axes>"
      ]
     },
     "metadata": {
      "needs_background": "light",
      "tags": []
     },
     "output_type": "display_data"
    }
   ],
   "source": [
    "#plt.plot(fpr, tpr)\n",
    "eps=1e-9\n",
    "f1 = 2*(fpr*tpr)/(fpr+tpr+eps)\n",
    "plt.plot(thresholds,fpr, label=\"fpr\")\n",
    "plt.plot(thresholds, tpr, label=\"tpr\")\n",
    "plt.plot(thresholds, f1, label=\"f1\")\n",
    "plt.legend()\n",
    "plt.xlabel(\"threshold\")\n",
    "plt.ylabel(\"rate\")\n",
    "plt.title(\"rate\")\n",
    "plt.xlim((0,1))\n",
    "plt.show()"
   ]
  },
  {
   "cell_type": "code",
   "execution_count": null,
   "metadata": {
    "colab": {
     "base_uri": "https://localhost:8080/",
     "height": 282
    },
    "id": "j52jwHL6ACSP",
    "outputId": "7efe4900-bd11-480a-d337-f8aa80be1972"
   },
   "outputs": [
    {
     "data": {
      "text/plain": [
       "[<matplotlib.lines.Line2D at 0x7f00d29261d0>]"
      ]
     },
     "execution_count": 196,
     "metadata": {
      "tags": []
     },
     "output_type": "execute_result"
    },
    {
     "data": {
      "image/png": "[encoded data removed]",
      "text/plain": [
       "<Figure size 432x288 with 1 Axes>"
      ]
     },
     "metadata": {
      "needs_background": "light",
      "tags": []
     },
     "output_type": "display_data"
    }
   ],
   "source": [
    "plt.plot(fpr, tpr)"
   ]
  },
  {
   "cell_type": "code",
   "execution_count": null,
   "metadata": {
    "id": "yUjh53elSIDi"
   },
   "outputs": [],
   "source": [
    "#get the auc score.\n",
    "u = auc(fpr, tpr)"
   ]
  },
  {
   "cell_type": "code",
   "execution_count": null,
   "metadata": {
    "colab": {
     "base_uri": "https://localhost:8080/",
     "height": 34
    },
    "id": "cnqMfWNu_pq0",
    "outputId": "a0f70c05-cf00-4e3c-d475-7682a28e11ed"
   },
   "outputs": [
    {
     "data": {
      "text/plain": [
       "0.9106586520998071"
      ]
     },
     "execution_count": 198,
     "metadata": {
      "tags": []
     },
     "output_type": "execute_result"
    }
   ],
   "source": [
    "u"
   ]
  },
  {
   "cell_type": "code",
   "execution_count": null,
   "metadata": {
    "id": "5FFNSE1_AdHa"
   },
   "outputs": [],
   "source": [
    "from sklearn.metrics import f1_score"
   ]
  },
  {
   "cell_type": "code",
   "execution_count": null,
   "metadata": {
    "colab": {
     "base_uri": "https://localhost:8080/",
     "height": 34
    },
    "id": "v5ZrYntcBx6x",
    "outputId": "1ad1e872-7cec-43e3-cc1b-febdcf984fc1"
   },
   "outputs": [
    {
     "data": {
      "text/plain": [
       "array([0, 0, 0, 0, ..., 0, 0, 0, 0])"
      ]
     },
     "execution_count": 202,
     "metadata": {
      "tags": []
     },
     "output_type": "execute_result"
    }
   ],
   "source": [
    "(scores>0.2).numpy().astype(int)"
   ]
  },
  {
   "cell_type": "code",
   "execution_count": null,
   "metadata": {
    "id": "lYVMYKfvAhva"
   },
   "outputs": [],
   "source": [
    "f1 = [f1_score(y_true,(scores>t).numpy().astype(int) ) for t in np.linspace(0,1,200)]"
   ]
  },
  {
   "cell_type": "code",
   "execution_count": null,
   "metadata": {
    "colab": {
     "base_uri": "https://localhost:8080/",
     "height": 282
    },
    "id": "x7mJV_P2Ay7h",
    "outputId": "dee6558a-acb1-4eb5-db52-eb35db2eec7f"
   },
   "outputs": [
    {
     "data": {
      "text/plain": [
       "[<matplotlib.lines.Line2D at 0x7f00c77d8d68>]"
      ]
     },
     "execution_count": 224,
     "metadata": {
      "tags": []
     },
     "output_type": "execute_result"
    },
    {
     "data": {
      "image/png": "[encoded data removed]",
      "text/plain": [
       "<Figure size 432x288 with 1 Axes>"
      ]
     },
     "metadata": {
      "needs_background": "light",
      "tags": []
     },
     "output_type": "display_data"
    }
   ],
   "source": [
    "#plot the F1 score on the validation set, depending on the threshold we use for the score. \n",
    "#since the class are heavily imbalanced, it seemed natural to choose a threshold that is not at 0.5\n",
    "#but at 0.99 since we have  a 1 for 100 imbalance.\n",
    "plt.plot(np.linspace(0,1,200), f1)"
   ]
  },
  {
   "cell_type": "code",
   "execution_count": null,
   "metadata": {
    "id": "Deqpazd0cIqt"
   },
   "outputs": [],
   "source": []
  }
 ],
 "metadata": {
  "accelerator": "GPU",
  "colab": {
   "collapsed_sections": [
    "f5XXtDwzmYm5",
    "mYZV7VANuGr0",
    "NCv73tgqmNP0"
   ],
   "name": "Copie de final try ERDEEP this time with MutliFit and better pre-processing.ipynb",
   "provenance": [],
   "toc_visible": true
  },
  "kernelspec": {
   "display_name": "Python 3",
   "language": "python",
   "name": "python3"
  },
  "language_info": {
   "codemirror_mode": {
    "name": "ipython",
    "version": 3
   },
   "file_extension": ".py",
   "mimetype": "text/x-python",
   "name": "python",
   "nbconvert_exporter": "python",
   "pygments_lexer": "ipython3",
   "version": "3.7.3"
  }
 },
 "nbformat": 4,
 "nbformat_minor": 1
}
